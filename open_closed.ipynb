{
 "cells": [
  {
   "cell_type": "markdown",
   "metadata": {},
   "source": [
    "# Principio Abierto/Cerrado (Open/Closed Principle)\n",
    "\n",
    "## Introducción\n",
    "El principio abierto/cerrado (OCP) establece que las entidades de software (clases, módulos, funciones) deben estar abiertas para su extensión, pero cerradas para su modificación. Esto permite agregar nuevas funcionalidades sin alterar el código existente.\n",
    "\n",
    "## Objetivos\n",
    "- Comprender el principio abierto/cerrado y su impacto en la evolución del software.\n",
    "- Identificar ejemplos de violaciones y buenas implementaciones del OCP en Python.\n",
    "- Aplicar el OCP para facilitar la escalabilidad y el mantenimiento del código.\n",
    "\n",
    "## Ejemplo de la vida real\n",
    "Piensa en un enchufe múltiple: puedes conectar nuevos dispositivos (extensión) sin modificar el enchufe original (código base)."
   ]
  },
  {
   "cell_type": "markdown",
   "metadata": {},
   "source": [
    "# Principio de Abierto/Cerrado (Open/Closed Principle, OCP)\n",
    "\n",
    "## Introducción\n",
    "\n",
    "El Principio de Abierto/Cerrado (OCP) es uno de los cinco principios SOLID de diseño orientado a objetos. Fue introducido por Bertrand Meyer y establece que las entidades de software (clases, módulos, funciones, etc.) deben estar abiertas para la extensión, pero cerradas para la modificación."
   ]
  },
  {
   "cell_type": "markdown",
   "metadata": {},
   "source": [
    "## Explicación Detallada\n",
    "\n",
    "### Definición\n",
    "\n",
    "- **OCP**: Una entidad de software debe permitir su extensión sin necesidad de modificar su código fuente original.\n",
    "\n",
    "### Beneficios del OCP\n",
    "\n",
    "1. **Mantenibilidad**: Facilita la incorporación de nuevas funcionalidades sin alterar el código existente.\n",
    "\n",
    "2. **Reusabilidad**: Promueve la creación de componentes reutilizables y extensibles.\n",
    "\n",
    "3. **Estabilidad**: Minimiza el riesgo de introducir errores en el código existente al agregar nuevas funcionalidades."
   ]
  },
  {
   "cell_type": "markdown",
   "metadata": {},
   "source": [
    "## Ejemplos Explicados\n",
    "\n",
    "### Ejemplo Correcto\n",
    "\n",
    "Supongamos que estamos desarrollando una aplicación para calcular el área de diferentes formas geométricas. Aplicando el OCP, podríamos tener las siguientes clases:"
   ]
  },
  {
   "cell_type": "code",
   "execution_count": 1,
   "metadata": {},
   "outputs": [],
   "source": [
    "from abc import ABC, abstractmethod\n",
    "\n",
    "class Shape(ABC):\n",
    "    @abstractmethod\n",
    "    def area(self) -> float:\n",
    "        pass\n",
    "\n",
    "class Rectangle(Shape):\n",
    "    def __init__(self, width: float, height: float) -> None:\n",
    "        self.width: float = width\n",
    "        self.height: float = height\n",
    "\n",
    "    def area(self) -> float:\n",
    "        return self.width * self.height\n",
    "\n",
    "class Circle(Shape):\n",
    "    def __init__(self, radius: float) -> None:\n",
    "        self.radius = radius\n",
    "\n",
    "    def area(self) -> float:\n",
    "        return 3.14159 * (self.radius ** 2)"
   ]
  },
  {
   "cell_type": "code",
   "execution_count": 2,
   "metadata": {},
   "outputs": [
    {
     "name": "stdout",
     "output_type": "stream",
     "text": [
      "Área: 12\n",
      "Área: 78.53975\n"
     ]
    }
   ],
   "source": [
    "# Ejemplo de uso\n",
    "shapes: list[Shape] = [Rectangle(3, 4), Circle(5)]\n",
    "for shape in shapes:\n",
    "    print(f\"Área: {shape.area()}\")"
   ]
  },
  {
   "cell_type": "markdown",
   "metadata": {},
   "source": [
    "#### Análisis del Ejemplo Correcto\n",
    "\n",
    "- **Shape**: Es una clase abstracta que define el método `area`.\n",
    "\n",
    "- **Rectangle** y **Circle**: Son clases concretas que implementan el método `area`.\n",
    "\n",
    "Este diseño permite agregar nuevas formas geométricas sin modificar las clases existentes."
   ]
  },
  {
   "cell_type": "markdown",
   "metadata": {},
   "source": [
    "### Ejemplo de Violación del OCP\n",
    "\n",
    "Veamos un ejemplo donde se viola el OCP:"
   ]
  },
  {
   "cell_type": "code",
   "execution_count": 3,
   "metadata": {},
   "outputs": [],
   "source": [
    "class Shape:\n",
    "    def __init__(self, shape_type: str, width: float = 0, height: float = 0, radius: float = 0) -> None:\n",
    "        self.shape_type: str = shape_type\n",
    "        self.width: float = width\n",
    "        self.height: float = height\n",
    "        self.radius: float = radius\n",
    "\n",
    "    def area(self) -> float:\n",
    "        if self.shape_type == \"rectangle\":\n",
    "            return self.width * self.height\n",
    "        elif self.shape_type == \"circle\":\n",
    "            return 3.14159 * (self.radius ** 2)\n",
    "        else:\n",
    "            return 0"
   ]
  },
  {
   "cell_type": "code",
   "execution_count": 4,
   "metadata": {},
   "outputs": [
    {
     "name": "stdout",
     "output_type": "stream",
     "text": [
      "Área: 12\n",
      "Área: 78.53975\n"
     ]
    }
   ],
   "source": [
    "# Ejemplo de uso\n",
    "rectangle = Shape(shape_type=\"rectangle\", width=3, height=4)\n",
    "circle = Shape(shape_type=\"circle\", radius=5)\n",
    "shapes: list[Shape] = [rectangle, circle]\n",
    "for shape in shapes:\n",
    "    print(f\"Área: {shape.area()}\")"
   ]
  },
  {
   "cell_type": "markdown",
   "metadata": {},
   "source": [
    "\n",
    "\n",
    "#### Análisis del Ejemplo Incorrecto\n",
    "\n",
    "- **Shape**: Tiene múltiples responsabilidades y debe ser modificada cada vez que se agrega una nueva forma geométrica.\n",
    "- **Rectangle** y **Circle**: No se pueden agregar nuevas formas geométricas sin modificar la clase `Shape`.\n",
    "\n",
    "Este diseño viola el OCP porque cualquier cambio en las formas geométricas requiere modificar la clase `Shape`.\n"
   ]
  },
  {
   "cell_type": "markdown",
   "metadata": {},
   "source": [
    "## Conclusión\n",
    "\n",
    "1. **Extensibilidad**: El OCP facilita la extensión del software sin modificar el código existente.\n",
    "\n",
    "2. **Reducción de Errores**: Minimiza el riesgo de introducir errores al agregar nuevas funcionalidades.\n",
    "\n",
    "3. **Mantenibilidad**: Mejora la mantenibilidad del código al permitir la incorporación de nuevas características de manera aislada.\n",
    "\n",
    "Aplicar el OCP puede requerir una planificación cuidadosa y el uso de patrones de diseño adecuados, pero los beneficios en términos de estabilidad y extensibilidad del software son significativos."
   ]
  },
  {
   "cell_type": "markdown",
   "metadata": {},
   "source": []
  },
  {
   "cell_type": "code",
   "execution_count": 6,
   "metadata": {},
   "outputs": [
    {
     "name": "stdout",
     "output_type": "stream",
     "text": [
      "Student pays: $ 8000000.0\n",
      "VIP pays: $ 5000000.0\n"
     ]
    }
   ],
   "source": [
    "#With OCP (Good Design Using Polymorphism)\n",
    "\n",
    "#Base Strategy Interface\n",
    "class DiscountStrategy:\n",
    "    def apply(self, base_price):\n",
    "        return base_price\n",
    "    \n",
    "\n",
    "#Concrete Strategies\n",
    "class StudentDiscount(DiscountStrategy):\n",
    "    def apply(self, base_price):\n",
    "        return base_price * 0.8\n",
    "\n",
    "class SeniorDiscount(DiscountStrategy):\n",
    "    def apply(self, base_price):\n",
    "        return base_price * 0.7\n",
    "\n",
    "class VIPDiscount(DiscountStrategy):\n",
    "    def apply(self, base_price):\n",
    "        return base_price * 0.5\n",
    "    \n",
    "\n",
    "#Ticket Price Calculator\n",
    "class TicketPriceCalculator:\n",
    "    def __init__(self, strategy: DiscountStrategy):\n",
    "        self.strategy = strategy\n",
    "\n",
    "    def calculate(self, base_price):\n",
    "        return self.strategy.apply(base_price)\n",
    "    \n",
    "\n",
    "base_price = 10000000\n",
    "\n",
    "student_calc = TicketPriceCalculator(StudentDiscount())\n",
    "print(\"Student pays: $\",student_calc.calculate(base_price))\n",
    "\n",
    "vip_calc = TicketPriceCalculator(VIPDiscount())\n",
    "print(\"VIP pays: $\",vip_calc.calculate(base_price))"
   ]
  },
  {
   "cell_type": "code",
   "execution_count": 17,
   "metadata": {},
   "outputs": [
    {
     "name": "stdout",
     "output_type": "stream",
     "text": [
      "Total de calorias quemadas 150\n",
      "¡Genial! Caminaste 5.5 km hoy.\n",
      "Recuerda beber 2.0 litros de agua.\n"
     ]
    }
   ],
   "source": [
    "#Beneficios de caminar a diario\n",
    "\n",
    "\n",
    "#Clase base para beneficios\n",
    "class BeneficioCaminata:\n",
    "    def calcular(self, distancia_km):\n",
    "        pass\n",
    "\n",
    "\n",
    "# Beneficios específicos\n",
    "class CaloriasQuemadas(BeneficioCaminata):\n",
    "    def calcular(self, distancia_km):\n",
    "        return f\"Total de calorias quemadas {distancia_km * 50}\"\n",
    "\n",
    "class MotivacionPersonal(BeneficioCaminata):\n",
    "    def calcular(self, distancia_km):\n",
    "        return f\"¡Genial! Caminaste {distancia_km*1.1} km hoy.\"\n",
    "\n",
    "class RecordatorioHidratacion(BeneficioCaminata):\n",
    "    def calcular(self, distancia_km):\n",
    "        return f\"Recuerda beber {distancia_km * 0.5} litros de agua.\"\n",
    "    \n",
    "\n",
    "#Clase Caminata que usa la estrategia\n",
    "class Caminata:\n",
    "    def __init__(self, distancia_km, beneficio: BeneficioCaminata):\n",
    "        self.distancia_km = distancia_km\n",
    "        self.beneficio = beneficio\n",
    "\n",
    "    def mostrar_beneficio(self):\n",
    "        return self.beneficio.calcular(self.distancia_km)\n",
    "    \n",
    "\n",
    "caminata1 = Caminata(3, CaloriasQuemadas())\n",
    "print(caminata1.mostrar_beneficio())\n",
    "\n",
    "caminata2 = Caminata(5, MotivacionPersonal())\n",
    "print(caminata2.mostrar_beneficio())\n",
    "\n",
    "caminata3 = Caminata(4, RecordatorioHidratacion())\n",
    "print(caminata3.mostrar_beneficio())"
   ]
  },
  {
   "cell_type": "markdown",
   "metadata": {},
   "source": [
    "## Ejercicios prácticos y preguntas de reflexión\n",
    "\n",
    "1. **Extiende sin modificar**: Observa una función o clase que requiera cambios cada vez que se agrega un nuevo caso. ¿Cómo podrías aplicar el OCP para evitar modificar el código existente?\n",
    "2. **Refactoriza**: Implementa una solución usando herencia o composición para permitir la extensión de funcionalidades.\n",
    "3. **Pregunta de reflexión**: ¿Qué riesgos existen si modificamos código ya probado y en producción?\n",
    "\n",
    "## Autoevaluación\n",
    "- ¿Puedo agregar nuevas funcionalidades sin modificar el código base?\n",
    "- ¿Qué patrones de diseño ayudan a cumplir el OCP?\n",
    "\n",
    "## Referencias y recursos\n",
    "- [Open/Closed Principle – Wikipedia](https://en.wikipedia.org/wiki/Open%E2%80%93closed_principle)\n",
    "- [SOLID Principles en Python – Real Python](https://realpython.com/solid-principles-python/)\n",
    "- [Patrones de diseño y OCP – Refactoring Guru](https://refactoring.guru/es/design-patterns/open-closed-principle)"
   ]
  }
 ],
 "metadata": {
  "kernelspec": {
   "display_name": "Python 3",
   "language": "python",
   "name": "python3"
  },
  "language_info": {
   "codemirror_mode": {
    "name": "ipython",
    "version": 3
   },
   "file_extension": ".py",
   "mimetype": "text/x-python",
   "name": "python",
   "nbconvert_exporter": "python",
   "pygments_lexer": "ipython3",
   "version": "3.13.7"
  }
 },
 "nbformat": 4,
 "nbformat_minor": 2
}
