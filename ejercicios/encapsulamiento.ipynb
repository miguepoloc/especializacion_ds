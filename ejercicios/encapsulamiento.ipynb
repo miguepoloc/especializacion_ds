{
 "cells": [
  {
   "cell_type": "code",
   "execution_count": 3,
   "metadata": {},
   "outputs": [],
   "source": [
    "class Jugador:\n",
    "    def __init__(self, nombre):\n",
    "        self.nombre = nombre\n",
    "        self.__tareas_completadas = 0\n",
    "        self.__es_impostor = False\n",
    "        self.__vivo = True\n",
    "\n",
    "    def asignar_impostor(self):\n",
    "        self.__es_impostor = True\n",
    "\n",
    "    def completar_tarea(self):\n",
    "        if self.__vivo:\n",
    "            self.__tareas_completadas += 1\n",
    "            print(f\"{self.nombre} ha completado una tarea.\")\n",
    "        else:\n",
    "            print(f\"{self.nombre} no puede completar tareas porque está fuera del juego.\")\n",
    "\n",
    "    def ser_eliminado(self):\n",
    "        self.__vivo = False\n",
    "        print(f\"{self.nombre} ha sido eliminado.\")\n",
    "\n",
    "    def revivir(self):\n",
    "        self.__vivo = True\n",
    "        print(f\"{self.nombre} ha revivido.\")\n",
    "\n",
    "    def consultar_estado(self):\n",
    "        estado = \"vivo\" if self.__vivo else \"eliminado\"\n",
    "        rol = \"impostor\" if self.__es_impostor else \"tripulante\"\n",
    "        return f\"{self.nombre} es un {rol} y está {estado}.\"\n",
    "\n"
   ]
  },
  {
   "cell_type": "code",
   "execution_count": 4,
   "metadata": {},
   "outputs": [
    {
     "name": "stdout",
     "output_type": "stream",
     "text": [
      "Rojo es un tripulante y está vivo.\n",
      "Rojo ha completado una tarea.\n",
      "Rojo es un impostor y está vivo.\n",
      "Rojo ha sido eliminado.\n",
      "Rojo es un impostor y está eliminado.\n",
      "Rojo ha revivido.\n",
      "Rojo es un impostor y está vivo.\n"
     ]
    }
   ],
   "source": [
    "\n",
    "jugador1 = Jugador(\"Rojo\")\n",
    "print(jugador1.consultar_estado())\n",
    "jugador1.completar_tarea()\n",
    "jugador1.asignar_impostor()\n",
    "print(jugador1.consultar_estado())\n",
    "jugador1.ser_eliminado()\n",
    "print(jugador1.consultar_estado())\n",
    "jugador1.revivir()\n",
    "print(jugador1.consultar_estado())"
   ]
  },
  {
   "cell_type": "code",
   "execution_count": null,
   "metadata": {},
   "outputs": [],
   "source": []
  }
 ],
 "metadata": {
  "kernelspec": {
   "display_name": "Python 3",
   "language": "python",
   "name": "python3"
  },
  "language_info": {
   "codemirror_mode": {
    "name": "ipython",
    "version": 3
   },
   "file_extension": ".py",
   "mimetype": "text/x-python",
   "name": "python",
   "nbconvert_exporter": "python",
   "pygments_lexer": "ipython3",
   "version": "3.12.1"
  }
 },
 "nbformat": 4,
 "nbformat_minor": 2
}
