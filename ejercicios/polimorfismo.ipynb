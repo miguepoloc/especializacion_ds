{
 "cells": [
  {
   "cell_type": "code",
   "execution_count": 6,
   "metadata": {},
   "outputs": [],
   "source": [
    "from abc import ABC, abstractmethod\n",
    "\n",
    "class CarbonBasedLife(ABC):\n",
    "    def __init__(self, specie: str, lifespan: int) -> None:\n",
    "        self.specie: str = specie\n",
    "        self.lifespan: int = lifespan\n",
    "\n",
    "    @abstractmethod\n",
    "    def Breath(self) -> str:\n",
    "        pass\n",
    "\n",
    "    def Describe(self) -> str:\n",
    "        return f\" My {self.specie} is  and my rounds  {self.lifespan}\"\n",
    "\n",
    "    def Eat(self) -> bool:\n",
    "        pass"
   ]
  },
  {
   "cell_type": "code",
   "execution_count": 7,
   "metadata": {},
   "outputs": [],
   "source": [
    "class Human(CarbonBasedLife):\n",
    "    def Breath(self) -> str:\n",
    "        return \"I breathe in oxygen and exhale carbon dioxide.\"\n",
    "\n",
    "    def Eat(self) -> bool:\n",
    "        return True\n",
    "\n",
    "class Plant(CarbonBasedLife):\n",
    "    def Breath(self) -> str:\n",
    "        return \"I take in carbon dioxide and release oxygen through photosynthesis.\"\n",
    "\n",
    "    def Eat(self) -> bool:\n",
    "        return False\n",
    "\n",
    "class Fungi(CarbonBasedLife):\n",
    "    def Breath(self) -> str:\n",
    "        return \"I absorb oxygen and release carbon dioxide, decomposing organic matter.\"\n",
    "\n",
    "    def Eat(self) -> bool:\n",
    "        return False"
   ]
  },
  {
   "cell_type": "code",
   "execution_count": 8,
   "metadata": {},
   "outputs": [],
   "source": [
    "human = Human(\"Homo sapiens\", 80)\n",
    "plant = Plant(\"Oak Tree\", 100)\n",
    "fungi = Fungi(\"Mushroom\", 5)"
   ]
  },
  {
   "cell_type": "code",
   "execution_count": 9,
   "metadata": {},
   "outputs": [
    {
     "name": "stdout",
     "output_type": "stream",
     "text": [
      " My Homo sapiens is  and my rounds  80\n",
      "I breathe in oxygen and exhale carbon dioxide.\n",
      "Eats: True\n"
     ]
    }
   ],
   "source": [
    "print(human.Describe())\n",
    "print(human.Breath())\n",
    "print(\"Eats:\", human.Eat())\n"
   ]
  },
  {
   "cell_type": "code",
   "execution_count": 10,
   "metadata": {},
   "outputs": [
    {
     "name": "stdout",
     "output_type": "stream",
     "text": [
      " My Oak Tree is  and my rounds  100\n",
      "I take in carbon dioxide and release oxygen through photosynthesis.\n",
      "Eats: False\n"
     ]
    }
   ],
   "source": [
    "print(plant.Describe())\n",
    "print(plant.Breath())\n",
    "print(\"Eats:\", plant.Eat())"
   ]
  },
  {
   "cell_type": "code",
   "execution_count": 11,
   "metadata": {},
   "outputs": [
    {
     "name": "stdout",
     "output_type": "stream",
     "text": [
      " My Mushroom is  and my rounds  5\n",
      "I absorb oxygen and release carbon dioxide, decomposing organic matter.\n",
      "Eats: False\n"
     ]
    }
   ],
   "source": [
    "print(fungi.Describe())\n",
    "print(fungi.Breath())\n",
    "print(\"Eats:\", fungi.Eat())"
   ]
  }
 ],
 "metadata": {
  "kernelspec": {
   "display_name": "Python 3",
   "language": "python",
   "name": "python3"
  },
  "language_info": {
   "codemirror_mode": {
    "name": "ipython",
    "version": 3
   },
   "file_extension": ".py",
   "mimetype": "text/x-python",
   "name": "python",
   "nbconvert_exporter": "python",
   "pygments_lexer": "ipython3",
   "version": "3.12.1"
  }
 },
 "nbformat": 4,
 "nbformat_minor": 2
}
