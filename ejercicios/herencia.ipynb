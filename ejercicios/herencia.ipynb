{
 "cells": [
  {
   "cell_type": "code",
   "execution_count": 2,
   "metadata": {},
   "outputs": [
    {
     "name": "stdout",
     "output_type": "stream",
     "text": [
      "La fruta del diablo Mochi Mochi te otorga poderes de tipo Paramecia. Efecto: Mochi.\n",
      "La fruta del diablo Nika Nika no mi te otorga poderes de tipo Zoan. Permite transformarse en Dios del Sol Nika.\n",
      "La fruta del diablo Mera Mera no Mi te otorga poderes de tipo Logia. Controla el elemento fuego.\n"
     ]
    }
   ],
   "source": [
    "class FrutaDelDiablo:\n",
    "    def __init__(self, nombre: str, tipo: str) -> None:\n",
    "        self.nombre: str = nombre\n",
    "        self.tipo: str = tipo\n",
    "\n",
    "    def poder(self) -> str:\n",
    "        return f\"La fruta del diablo {self.nombre} te otorga poderes de tipo {self.tipo}.\"\n",
    "\n",
    "class FrutaParamecia(FrutaDelDiablo):\n",
    "    def __init__(self, nombre: str, efecto: str) -> None:\n",
    "        super().__init__(nombre, \"Paramecia\")\n",
    "        self.efecto: str = efecto\n",
    "\n",
    "    def poder(self) -> str:\n",
    "        return f\"{super().poder()} Efecto: {self.efecto}.\"\n",
    "\n",
    "class FrutaZoan(FrutaDelDiablo):\n",
    "    def __init__(self, nombre: str, animal: str) -> None:\n",
    "        super().__init__(nombre, \"Zoan\")\n",
    "        self.animal: str = animal\n",
    "\n",
    "    def poder(self) -> str:\n",
    "        return f\"{super().poder()} Permite transformarse en {self.animal}.\"\n",
    "\n",
    "class FrutaLogia(FrutaDelDiablo):\n",
    "    def __init__(self, nombre: str, elemento: str) -> None:\n",
    "        super().__init__(nombre, \"Logia\")\n",
    "        self.elemento: str = elemento\n",
    "\n",
    "    def poder(self) -> str:\n",
    "        return f\"{super().poder()} Controla el elemento {self.elemento}.\"\n",
    "\n",
    "\n",
    "fruta_mochi = FrutaParamecia(\"Mochi Mochi\", \"Mochi\")\n",
    "fruta_nika = FrutaZoan(\"Nika Nika no mi\", \"Dios del Sol Nika\")\n",
    "fruta_fuego = FrutaLogia(\"Mera Mera no Mi\", \"fuego\")\n",
    "\n",
    "print(fruta_mochi.poder())  #\n",
    "print(fruta_nika.poder())\n",
    "print(fruta_fuego.poder())  #\n",
    "\n"
   ]
  }
 ],
 "metadata": {
  "kernelspec": {
   "display_name": "Python 3",
   "language": "python",
   "name": "python3"
  },
  "language_info": {
   "codemirror_mode": {
    "name": "ipython",
    "version": 3
   },
   "file_extension": ".py",
   "mimetype": "text/x-python",
   "name": "python",
   "nbconvert_exporter": "python",
   "pygments_lexer": "ipython3",
   "version": "3.12.1"
  }
 },
 "nbformat": 4,
 "nbformat_minor": 2
}
