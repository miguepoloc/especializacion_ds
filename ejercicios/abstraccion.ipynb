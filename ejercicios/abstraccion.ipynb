{
 "cells": [
  {
   "cell_type": "code",
   "execution_count": 10,
   "metadata": {},
   "outputs": [],
   "source": [
    "class Pokemon :\n",
    "    def __init__(self, type: str, lvl: int) -> None:\n",
    "        self.lvl: int = lvl\n",
    "        self.type: str = type\n",
    "\n",
    "    def evolve(self) -> None:\n",
    "        if self.lvl >= 16:\n",
    "            print(f\"Your Pokemon will evolve shortly \")\n",
    "\n",
    "        else:\n",
    "\n",
    "             print(f\"Your Pokemon will not Evolve\")\n",
    "\n",
    "    def __str__(self) -> str:\n",
    "        return f\"{self.type} type\""
   ]
  },
  {
   "cell_type": "code",
   "execution_count": 11,
   "metadata": {},
   "outputs": [],
   "source": [
    "pikachu: Pokemon = Pokemon(type = \"Roca\" , lvl = 20)\n",
    "\n",
    "\n"
   ]
  },
  {
   "cell_type": "code",
   "execution_count": 14,
   "metadata": {},
   "outputs": [
    {
     "name": "stdout",
     "output_type": "stream",
     "text": [
      "Your Pokemon will evolve shortly \n",
      "Roca type\n"
     ]
    }
   ],
   "source": [
    "pikachu.evolve()\n",
    "print(pikachu)"
   ]
  }
 ],
 "metadata": {
  "kernelspec": {
   "display_name": "Python 3",
   "language": "python",
   "name": "python3"
  },
  "language_info": {
   "codemirror_mode": {
    "name": "ipython",
    "version": 3
   },
   "file_extension": ".py",
   "mimetype": "text/x-python",
   "name": "python",
   "nbconvert_exporter": "python",
   "pygments_lexer": "ipython3",
   "version": "3.12.1"
  }
 },
 "nbformat": 4,
 "nbformat_minor": 2
}
