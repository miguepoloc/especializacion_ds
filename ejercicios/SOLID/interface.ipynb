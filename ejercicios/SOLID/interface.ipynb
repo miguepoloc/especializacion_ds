{
 "cells": [
  {
   "cell_type": "code",
   "execution_count": 6,
   "metadata": {},
   "outputs": [],
   "source": [
    "from abc import ABC, abstractmethod\n",
    "\n",
    "class CarbonBasedLife(ABC):\n",
    "    def __init__(self, specie: str, lifespan: int) -> None:\n",
    "        self.specie: str = specie\n",
    "        self.lifespan: int = lifespan\n",
    "\n",
    "    @abstractmethod\n",
    "    def Breath(self) -> str:\n",
    "        pass\n",
    "\n",
    "    def Describe(self) -> str:\n",
    "        return f\" My {self.specie} is  and lifespan is about   {self.lifespan}\"\n",
    "\n",
    "    def Eat(self) -> bool:\n",
    "        pass"
   ]
  },
  {
   "cell_type": "code",
   "execution_count": 7,
   "metadata": {},
   "outputs": [],
   "source": [
    "class Human(CarbonBasedLife):\n",
    "    def Breath(self) -> str:\n",
    "        return \"I breathe in oxygen and exhale carbon dioxide.\"\n",
    "\n",
    "    def Eat(self) -> bool:\n",
    "        return True\n",
    "\n",
    "class Plant(CarbonBasedLife):\n",
    "    def Breath(self) -> str:\n",
    "        return \"I take in carbon dioxide and release oxygen through photosynthesis.\"\n",
    "\n",
    "    def Eat(self) -> bool:\n",
    "        return False\n",
    "\n",
    "class Fungi(CarbonBasedLife):\n",
    "    def Breath(self) -> str:\n",
    "        return \"I absorb oxygen and release carbon dioxide, decomposing organic matter.\"\n",
    "\n",
    "    def Eat(self) -> bool:\n",
    "        return False\n",
    "\n",
    "class Virus(CarbonBasedLife):\n",
    "    def Breath(self) -> str:\n",
    "        pass\n",
    "        # Los viruses no respiran\n",
    "\n",
    "    def Eat(self) -> bool:\n",
    "        pass\n",
    "        # Los viruses no comen"
   ]
  },
  {
   "cell_type": "code",
   "execution_count": 8,
   "metadata": {},
   "outputs": [],
   "source": [
    "human = Human(\"Homo sapiens\", 80)\n",
    "plant = Plant(\"Oak Tree\", 100)\n",
    "fungi = Fungi(\"Mushroom\", 5)\n",
    "covid = Virus(\"Covid\" , 40)"
   ]
  },
  {
   "cell_type": "code",
   "execution_count": 9,
   "metadata": {},
   "outputs": [
    {
     "name": "stdout",
     "output_type": "stream",
     "text": [
      "None\n",
      " My Covid is  and lifespan is about   40\n",
      "None\n"
     ]
    }
   ],
   "source": [
    "print(covid.Breath())\n",
    "print(covid.Describe())\n",
    "print(covid.Eat())"
   ]
  },
  {
   "cell_type": "code",
   "execution_count": 12,
   "metadata": {},
   "outputs": [],
   "source": [
    "from abc import ABC, abstractmethod\n",
    "\n",
    "class CarbonBasedLife(ABC):\n",
    "    def __init__(self, specie: str, lifespan: int) -> None:\n",
    "        self.specie: str = specie\n",
    "        self.lifespan: int = lifespan\n",
    "\n",
    "\n",
    "    def Describe(self) -> str:\n",
    "        return f\" My {self.specie} is  and my rounds  {self.lifespan}\"\n",
    "\n",
    "\n",
    "class Breath(ABC):\n",
    "    @abstractmethod\n",
    "    def breath(self) -> None:\n",
    "        pass\n",
    "\n",
    "class Eat (ABC):\n",
    "    @abstractmethod\n",
    "    def eat(self) -> None:\n",
    "        pass"
   ]
  },
  {
   "cell_type": "code",
   "execution_count": 18,
   "metadata": {},
   "outputs": [],
   "source": [
    "class Human(CarbonBasedLife,Breath,Eat):\n",
    "    def breath(self) -> str:\n",
    "        return \"I breathe in oxygen and exhale carbon dioxide.\"\n",
    "\n",
    "    def eat(self) -> bool:\n",
    "        return True\n",
    "\n",
    "    def Describe(self) -> str:\n",
    "        return f\" My {self.specie} is  and my rounds  {self.lifespan}\"\n",
    "\n",
    "class Plant(CarbonBasedLife,Breath,Eat):\n",
    "    def breath(self) -> str:\n",
    "        return \"I take in carbon dioxide and release oxygen through photosynthesis.\"\n",
    "\n",
    "    def eat(self) -> bool:\n",
    "        return False\n",
    "\n",
    "    def Describe(self) -> str:\n",
    "       return f\" My {self.specie} is  and my rounds  {self.lifespan}\"\n",
    "\n",
    "class Fungi(CarbonBasedLife,Breath,Eat):\n",
    "    def breath(self) -> str:\n",
    "        return \"I absorb oxygen and release carbon dioxide, decomposing organic matter.\"\n",
    "\n",
    "    def eat(self) -> bool:\n",
    "        return False\n",
    "\n",
    "    def Describe(self) -> str:\n",
    "        return f\" My {self.specie} is  and my rounds  {self.lifespan}\"\n",
    "\n",
    "class Virus(CarbonBasedLife):\n",
    "\n",
    "    def Describe(self) -> str:\n",
    "        return f\" The virus is  {self.specie} is  and the lifespan is about  {self.lifespan}\"\n",
    "\n",
    "\n"
   ]
  },
  {
   "cell_type": "code",
   "execution_count": 19,
   "metadata": {},
   "outputs": [],
   "source": [
    "human = Human(\"Homo sapiens\", 80)\n",
    "plant = Plant(\"Oak Tree\", 100)\n",
    "fungi = Fungi(\"Mushroom\", 5)\n",
    "covid = Virus(\"Covid\" , 40)"
   ]
  },
  {
   "cell_type": "code",
   "execution_count": 20,
   "metadata": {},
   "outputs": [
    {
     "name": "stdout",
     "output_type": "stream",
     "text": [
      " My Homo sapiens is  and my rounds  80\n",
      "I breathe in oxygen and exhale carbon dioxide.\n",
      "Eats: True\n",
      " My Oak Tree is  and my rounds  100\n",
      "I take in carbon dioxide and release oxygen through photosynthesis.\n",
      "Eats: False\n",
      " The virus is  Covid is  and the lifespan is about  40\n"
     ]
    }
   ],
   "source": [
    "print(human.Describe())\n",
    "print(human.breath())\n",
    "print(\"Eats:\", human.eat())\n",
    "print(plant.Describe())\n",
    "print(plant.breath())\n",
    "print(\"Eats:\", plant.eat())\n",
    "print(covid.Describe())\n"
   ]
  }
 ],
 "metadata": {
  "kernelspec": {
   "display_name": "Python 3",
   "language": "python",
   "name": "python3"
  },
  "language_info": {
   "codemirror_mode": {
    "name": "ipython",
    "version": 3
   },
   "file_extension": ".py",
   "mimetype": "text/x-python",
   "name": "python",
   "nbconvert_exporter": "python",
   "pygments_lexer": "ipython3",
   "version": "3.12.1"
  }
 },
 "nbformat": 4,
 "nbformat_minor": 2
}
