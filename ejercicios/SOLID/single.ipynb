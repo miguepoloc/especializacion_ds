{
 "cells": [
  {
   "cell_type": "code",
   "execution_count": 1,
   "metadata": {},
   "outputs": [],
   "source": [
    "class Pokemon:\n",
    "    def __init__(self, type: str, lvl: int) -> None:\n",
    "        self.lvl: int = lvl\n",
    "        self.type: str = type\n",
    "\n",
    "    def evolve(self) -> None:\n",
    "        if self.lvl >= 16:\n",
    "            print(\"Your Pokemon will evolve shortly.\")\n",
    "        else:\n",
    "            print(\"Your Pokemon will not evolve.\")\n",
    "\n",
    "    def gain_experience(self, points: int) -> None:\n",
    "\n",
    "        if points < 0:\n",
    "            print(\"Experience points must be positive.\")\n",
    "            return\n",
    "\n",
    "        self.lvl += points // 100\n",
    "        print(f\"Your Pokemon gained {points} experience points and is now level {self.lvl}.\")\n",
    "\n",
    "    def __str__(self) -> str:\n",
    "        return f\"The Pokemon type is {self.type} and its level is {self.lvl}.\"\n",
    "\n"
   ]
  },
  {
   "cell_type": "code",
   "execution_count": 2,
   "metadata": {},
   "outputs": [
    {
     "name": "stdout",
     "output_type": "stream",
     "text": [
      "The Pokemon type is Electric and its level is 15.\n",
      "Your Pokemon gained 250 experience points and is now level 17.\n",
      "Your Pokemon will evolve shortly.\n"
     ]
    }
   ],
   "source": [
    "\n",
    "pikachu = Pokemon(\"Electric\", 15)\n",
    "print(pikachu)\n",
    "pikachu.gain_experience(250)\n",
    "pikachu.evolve()\n"
   ]
  },
  {
   "cell_type": "code",
   "execution_count": 3,
   "metadata": {},
   "outputs": [],
   "source": [
    "class Pokemon:\n",
    "    def __init__(self, type: str, lvl: int) -> None:\n",
    "        self.lvl: int = lvl\n",
    "        self.type: str = type\n",
    "\n",
    "    def __str__(self) -> str:\n",
    "        return f\"The Pokemon type is {self.type} and its level is {self.lvl}.\"\n",
    "\n",
    "\n",
    "class Evolver:\n",
    "\n",
    "    def evolve(pokemon: Pokemon) -> None:\n",
    "        if pokemon.lvl >= 16:\n",
    "            print(\"Your Pokemon will evolve shortly.\")\n",
    "        else:\n",
    "            print(\"Your Pokemon will not evolve.\")\n",
    "\n",
    "\n",
    "class ExperienceManager:\n",
    "\n",
    "    def gain_experience(pokemon: Pokemon, points: int) -> None:\n",
    "        if points < 0:\n",
    "            print(\"Experience points must be positive.\")\n",
    "            return\n",
    "\n",
    "        pokemon.lvl += points // 100\n",
    "        print(f\"Your Pokemon gained {points} experience points and is now level {pokemon.lvl}.\")\n",
    "\n",
    "\n"
   ]
  },
  {
   "cell_type": "code",
   "execution_count": 4,
   "metadata": {},
   "outputs": [
    {
     "name": "stdout",
     "output_type": "stream",
     "text": [
      "The Pokemon type is Electric and its level is 15.\n",
      "Your Pokemon gained 250 experience points and is now level 17.\n",
      "Your Pokemon will evolve shortly.\n"
     ]
    }
   ],
   "source": [
    "\n",
    "pikachu = Pokemon(\"Electric\", 15)\n",
    "print(pikachu)\n",
    "ExperienceManager.gain_experience(pikachu, 250)  \n",
    "Evolver.evolve(pikachu)\n"
   ]
  }
 ],
 "metadata": {
  "kernelspec": {
   "display_name": "Python 3",
   "language": "python",
   "name": "python3"
  },
  "language_info": {
   "codemirror_mode": {
    "name": "ipython",
    "version": 3
   },
   "file_extension": ".py",
   "mimetype": "text/x-python",
   "name": "python",
   "nbconvert_exporter": "python",
   "pygments_lexer": "ipython3",
   "version": "3.12.1"
  }
 },
 "nbformat": 4,
 "nbformat_minor": 2
}
