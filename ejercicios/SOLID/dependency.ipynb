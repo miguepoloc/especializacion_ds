{
 "cells": [
  {
   "cell_type": "code",
   "execution_count": 3,
   "metadata": {},
   "outputs": [
    {
     "name": "stdout",
     "output_type": "stream",
     "text": [
      "El motor del kart está encendido.\n",
      "¡La carrera ha comenzado!\n"
     ]
    }
   ],
   "source": [
    "class Kart:\n",
    "    def start_engine(self):\n",
    "        print(\"El motor del kart está encendido.\")\n",
    "\n",
    "class RaceManager:\n",
    "    def __init__(self):\n",
    "        self.kart = Kart()\n",
    "\n",
    "    def start_race(self):\n",
    "        self.kart.start_engine()\n",
    "        print(\"¡La carrera ha comenzado!\")\n",
    "\n",
    "\n",
    "race_manager = RaceManager()\n",
    "race_manager.start_race()\n"
   ]
  },
  {
   "cell_type": "code",
   "execution_count": 4,
   "metadata": {},
   "outputs": [
    {
     "name": "stdout",
     "output_type": "stream",
     "text": [
      "El motor del kart está encendido.\n",
      "¡La carrera ha comenzado!\n",
      "El motor del hovercraft está encendido.\n",
      "¡La carrera ha comenzado!\n"
     ]
    }
   ],
   "source": [
    "from abc import ABC, abstractmethod\n",
    "\n",
    "class VehicleInterface(ABC):\n",
    "    @abstractmethod\n",
    "    def start_engine(self):\n",
    "        pass\n",
    "\n",
    "class Kart(VehicleInterface):\n",
    "    def start_engine(self):\n",
    "        print(\"El motor del kart está encendido.\")\n",
    "\n",
    "class Hovercraft(VehicleInterface):\n",
    "    def start_engine(self):\n",
    "        print(\"El motor del hovercraft está encendido.\")\n",
    "\n",
    "class RaceManager:\n",
    "    def __init__(self, vehicle: VehicleInterface):  #\n",
    "        self.vehicle = vehicle\n",
    "\n",
    "    def start_race(self):\n",
    "        self.vehicle.start_engine()\n",
    "        print(\"¡La carrera ha comenzado!\")\n",
    "\n",
    "\n",
    "kart = Kart()\n",
    "race_manager = RaceManager(kart)\n",
    "race_manager.start_race()\n",
    "\n",
    "\n",
    "hovercraft = Hovercraft()\n",
    "race_manager_hovercraft = RaceManager(hovercraft)\n",
    "race_manager_hovercraft.start_race()\n"
   ]
  }
 ],
 "metadata": {
  "kernelspec": {
   "display_name": "Python 3",
   "language": "python",
   "name": "python3"
  },
  "language_info": {
   "codemirror_mode": {
    "name": "ipython",
    "version": 3
   },
   "file_extension": ".py",
   "mimetype": "text/x-python",
   "name": "python",
   "nbconvert_exporter": "python",
   "pygments_lexer": "ipython3",
   "version": "3.12.1"
  }
 },
 "nbformat": 4,
 "nbformat_minor": 2
}
