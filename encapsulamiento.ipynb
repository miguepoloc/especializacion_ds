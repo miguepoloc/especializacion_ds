{
 "cells": [
  {
   "cell_type": "markdown",
   "metadata": {},
   "source": [
    "# Encapsulamiento en Programación Orientada a Objetos\n",
    "\n",
    "Bienvenido/a. En esta lección aprenderás el principio de encapsulamiento, esencial para proteger y organizar los datos en tus programas orientados a objetos.\n",
    "\n",
    "## Objetivos\n",
    "- Comprender qué es el encapsulamiento y su importancia en POO.\n",
    "- Aplicar el control de acceso a los atributos y métodos de una clase.\n",
    "- Relacionar el encapsulamiento con ejemplos de la vida real.\n",
    "\n",
    "---\n",
    "\n",
    "**Ejemplo de la vida real:** Piensa en una cuenta bancaria: solo puedes interactuar con ella a través de un cajero o una app, pero no puedes acceder directamente al sistema interno del banco. Eso es encapsulamiento."
   ]
  },
  {
   "cell_type": "markdown",
   "metadata": {},
   "source": [
    "# Encapsulamiento en Programación Orientada a Objetos\n",
    "\n",
    "El encapsulamiento es uno de los principios fundamentales de la Programación Orientada a Objetos. Se refiere a la agrupación de datos y los métodos que operan sobre esos datos dentro de una unidad o clase. Además, implica la restricción del acceso directo a algunos de los componentes del objeto.\n",
    "\n",
    "## Explicación\n",
    "El encapsulamiento permite:\n",
    "\n",
    "1. **Ocultar la implementación interna**: Los detalles de cómo se implementa una clase se mantienen ocultos del mundo exterior.\n",
    "\n",
    "2. **Control de acceso**: Se puede controlar cómo y qué partes del objeto son accesibles desde fuera de la clase.\n",
    "\n",
    "3. **Flexibilidad y mantenibilidad**: Permite cambiar la implementación interna sin afectar el código que usa la clase.\n",
    "\n",
    "4. **Integridad de datos**: Ayuda a mantener los datos en un estado consistente al restringir el acceso directo."
   ]
  },
  {
   "cell_type": "markdown",
   "metadata": {},
   "source": [
    "## Ejemplo práctico\n",
    "\n",
    "En este ejemplo:\n",
    "\n",
    "1. `CuentaBancaria` encapsula los datos (`__titular` y `__saldo`) y los métodos que operan sobre ellos.\n",
    "\n",
    "2. Los atributos `__titular` y `__saldo` son privados (indicado por el doble guion bajo).\n",
    "\n",
    "3. Se proporcionan métodos públicos (`depositar`, `retirar`, `obtener_saldo`, `obtener_titular`) para interactuar con los datos privados.\n",
    "\n",
    "4. Los métodos `depositar` y `retirar` incluyen lógica para mantener la integridad de los datos.\n",
    "\n",
    "5. El acceso directo a `__saldo` desde fuera de la clase resulta en un error."
   ]
  },
  {
   "cell_type": "code",
   "execution_count": 1,
   "metadata": {},
   "outputs": [],
   "source": [
    "class CuentaBancaria:\n",
    "    def __init__(self, titular: str, saldo_inicial: float) -> None:\n",
    "        self.__titular: str = titular\n",
    "        self.__saldo: float = saldo_inicial\n",
    "\n",
    "    def depositar(self, cantidad: float) -> bool:\n",
    "        if cantidad > 0:\n",
    "            self.__saldo += cantidad\n",
    "            return True\n",
    "        return False\n",
    "\n",
    "    def retirar(self, cantidad: float) -> bool:\n",
    "        if 0 < cantidad <= self.__saldo:\n",
    "            self.__saldo -= cantidad\n",
    "            return True\n",
    "        return False\n",
    "\n",
    "    def obtener_saldo(self) -> float:\n",
    "        return self.__saldo\n",
    "\n",
    "    def obtener_titular(self) -> str:\n",
    "        return self.__titular"
   ]
  },
  {
   "cell_type": "code",
   "execution_count": 3,
   "metadata": {},
   "outputs": [
    {
     "name": "stdout",
     "output_type": "stream",
     "text": [
      "Saldo inicial: 1000\n",
      "Saldo después del depósito: 1500\n",
      "Saldo después del retiro: 1300\n"
     ]
    }
   ],
   "source": [
    "cuenta = CuentaBancaria(titular=\"Juan Pérez\", saldo_inicial=1000)\n",
    "print(f\"Saldo inicial: {cuenta.obtener_saldo()}\")\n",
    "\n",
    "cuenta.depositar(500)\n",
    "print(f\"Saldo después del depósito: {cuenta.obtener_saldo()}\")\n",
    "\n",
    "cuenta.retirar(200)\n",
    "print(f\"Saldo después del retiro: {cuenta.obtener_saldo()}\")\n"
   ]
  },
  {
   "cell_type": "code",
   "execution_count": 4,
   "metadata": {},
   "outputs": [
    {
     "name": "stdout",
     "output_type": "stream",
     "text": [
      "Error: 'CuentaBancaria' object has no attribute '__saldo'\n",
      "1300\n",
      "Juan Pérez\n"
     ]
    }
   ],
   "source": [
    "# Intentando acceder directamente a los atributos privados\n",
    "try:\n",
    "    print(cuenta.__saldo)\n",
    "except AttributeError as e:\n",
    "    print(f\"Error: {e}\")\n",
    "\n",
    "# Accediendo a los atributos privados usando name mangling\n",
    "print(cuenta._CuentaBancaria__saldo)\n",
    "print(cuenta._CuentaBancaria__titular)"
   ]
  },
  {
   "cell_type": "markdown",
   "metadata": {},
   "source": [
    "## Ejercicios prácticos y preguntas de reflexión\n",
    "\n",
    "1. Crea una clase `CajaFuerte` con un atributo privado `__codigo` y métodos para guardar y extraer objetos solo si el código es correcto.\n",
    "2. Modifica la clase `CuentaBancaria` para agregar un método que permita cambiar el titular solo si se proporciona una contraseña correcta.\n",
    "3. ¿Por qué es importante restringir el acceso directo a los atributos de una clase?\n",
    "\n",
    "### Autoevaluación\n",
    "- ¿Qué ventajas aporta el encapsulamiento al desarrollo de software?\n",
    "- ¿Puedes dar un ejemplo de encapsulamiento en tu vida diaria?"
   ]
  },
  {
   "cell_type": "code",
   "execution_count": 4,
   "metadata": {},
   "outputs": [
    {
     "name": "stdout",
     "output_type": "stream",
     "text": [
      "1300\n",
      "Juan Pérez\n",
      "['_CuentaBancaria__saldo', '_CuentaBancaria__titular', '__class__', '__delattr__', '__dict__', '__dir__', '__doc__', '__eq__', '__format__', '__ge__', '__getattribute__', '__getstate__', '__gt__', '__hash__', '__init__', '__init_subclass__', '__le__', '__lt__', '__module__', '__ne__', '__new__', '__reduce__', '__reduce_ex__', '__repr__', '__setattr__', '__sizeof__', '__str__', '__subclasshook__', '__weakref__', 'depositar', 'obtener_saldo', 'obtener_titular', 'retirar']\n"
     ]
    }
   ],
   "source": [
    "# Accediendo a los atributos privados usando name mangling\n",
    "print(cuenta._CuentaBancaria__saldo)\n",
    "print(cuenta._CuentaBancaria__titular)\n",
    "\n",
    "# Listado de métodos y atributos de la clase\n",
    "print(dir(cuenta))"
   ]
  },
  {
   "cell_type": "markdown",
   "metadata": {},
   "source": [
    "## Características del encapsulamiento en Python\n",
    "\n",
    "Python utiliza una forma de encapsulamiento basada en convenciones, conocida como \"name mangling\":\n",
    "\n",
    "- Los atributos con doble guion bajo (`__`) al principio se \"manglan\" para dificultar el acceso desde fuera de la clase.\n",
    "\n",
    "- Esto no es una restricción estricta, sino una convención que dificulta el acceso accidental.\n",
    "\n",
    "- Se puede acceder a estos atributos usando `_NombreClase__atributo`, aunque no se recomienda."
   ]
  },
  {
   "cell_type": "markdown",
   "metadata": {},
   "source": [
    "## Beneficios del encapsulamiento en este ejemplo\n",
    "\n",
    "1. **Protección de datos**: El saldo no puede ser modificado directamente, solo a través de métodos controlados.\n",
    "\n",
    "2. **Validación de datos**: Los métodos `depositar` y `retirar` aseguran que las operaciones sean válidas.\n",
    "\n",
    "3. **Abstracción**: Los usuarios de la clase no necesitan conocer cómo se almacena o maneja internamente el saldo.\n",
    "\n",
    "4. **Flexibilidad**: La implementación interna puede cambiar sin afectar el código que usa la clase."
   ]
  },
  {
   "cell_type": "markdown",
   "metadata": {},
   "source": [
    "## Conclusión\n",
    "\n",
    "El encapsulamiento es una herramienta poderosa en la POO que permite crear código más robusto, mantenible y seguro. Ofrece varias ventajas:\n",
    "\n",
    "- **Seguridad de datos**: Protege los datos de accesos y modificaciones no autorizados.\n",
    "\n",
    "- **Modularidad**: Facilita el desarrollo y mantenimiento de código al separar la interfaz de la implementación.\n",
    "\n",
    "- **Flexibilidad**: Permite cambiar la implementación interna sin afectar el código externo.\n",
    "\n",
    "- **Abstracción**: Simplifica el uso de la clase al ocultar detalles innecesarios.\n",
    "\n",
    "Sin embargo, es importante recordar que en Python, el encapsulamiento es más una convención que una restricción estricta. Los desarrolladores deben respetar estas convenciones para aprovechar plenamente los beneficios del encapsulamiento.\n",
    "\n",
    "En el desarrollo de software moderno, el encapsulamiento se utiliza ampliamente para crear APIs limpias y robustas, mejorar la seguridad de los datos y facilitar el mantenimiento del código a largo plazo. Dominar el concepto de encapsulamiento es esencial para cualquier desarrollador que trabaje con programación orientada a objetos, ya que permite crear sistemas más organizados, seguros y fáciles de mantener."
   ]
  },
  {
   "cell_type": "markdown",
   "metadata": {},
   "source": [
    "## Ejercicios prácticos y preguntas de reflexión\n",
    "1. Crea una clase CajaFuerte con un atributo privado __codigo y métodos para guardar y extraer objetos solo si el código es correcto.\n",
    "2. Modifica la clase CuentaBancaria para agregar un método que permita cambiar el titular solo si se proporciona una contraseña correcta.\n",
    "3. ¿Por qué es importante restringir el acceso directo a los atributos de una clase?\n",
    "\n",
    "## Autoevaluación\n",
    "1. ¿Qué ventajas aporta el encapsulamiento al desarrollo de software?\n",
    "2. ¿Puedes dar un ejemplo de encapsulamiento en tu vida diaria?"
   ]
  },
  {
   "cell_type": "code",
   "execution_count": 5,
   "metadata": {},
   "outputs": [
    {
     "name": "stdout",
     "output_type": "stream",
     "text": [
      "Objeto 'Pasaporte' guardado correctamente.\n",
      "Código incorrecto. No se puede guardar el objeto.\n",
      "Contenido actual: ['Pasaporte']\n",
      "Objeto 'Pasaporte' extraído correctamente.\n",
      "Contenido actual: []\n"
     ]
    }
   ],
   "source": [
    "# Ejercicio 1\n",
    "\n",
    "\n",
    "class CajaFuerte:\n",
    "    def __init__(self, codigo: str) -> None:\n",
    "        self.__codigo = codigo  # Atributo privado\n",
    "        self.__contenido = []   # Lista para guardar objetos\n",
    "\n",
    "    def guardar_objeto(self, objeto: str, codigo: str) -> str:\n",
    "        if codigo == self.__codigo:\n",
    "            self.__contenido.append(objeto)\n",
    "            return f\"Objeto '{objeto}' guardado correctamente.\"\n",
    "        else:\n",
    "            return \"Código incorrecto. No se puede guardar el objeto.\"\n",
    "\n",
    "    def extraer_objeto(self, objeto: str, codigo: str) -> str:\n",
    "        if codigo == self.__codigo:\n",
    "            if objeto in self.__contenido:\n",
    "                self.__contenido.remove(objeto)\n",
    "                return f\"Objeto '{objeto}' extraído correctamente.\"\n",
    "            else:\n",
    "                return f\"El objeto '{objeto}' no está en la caja fuerte.\"\n",
    "        else:\n",
    "            return \"Código incorrecto. No se puede extraer el objeto.\"\n",
    "\n",
    "    def ver_contenido(self, codigo: str) -> str:\n",
    "        if codigo == self.__codigo:\n",
    "            return f\"Contenido actual: {self.__contenido}\"\n",
    "        else:\n",
    "            return \"Código incorrecto. No se puede ver el contenido.\"\n",
    "\n",
    "\n",
    "\n",
    "#\n",
    "caja = CajaFuerte(\"1234\")\n",
    "\n",
    "print(caja.guardar_objeto(\"Pasaporte\", \"1234\"))       # ✅ Código correcto\n",
    "print(caja.guardar_objeto(\"Joyas\", \"0000\"))           # ❌ Código incorrecto\n",
    "print(caja.ver_contenido(\"1234\"))                     # ✅ Ver contenido\n",
    "print(caja.extraer_objeto(\"Pasaporte\", \"1234\"))       # ✅ Extraer objeto\n",
    "print(caja.ver_contenido(\"1234\"))                     # ✅ Ver contenido actualizado\n"
   ]
  },
  {
   "cell_type": "code",
   "execution_count": 9,
   "metadata": {},
   "outputs": [
    {
     "name": "stdout",
     "output_type": "stream",
     "text": [
      "Temperatura actual: 22.5°C\n",
      "Clima óptimo para cultivo.\n",
      "Temperatura ajustada a 33.0°C\n",
      "Clima cálido, activar ventilación.\n",
      "Temperatura fuera del rango permitido (10°C - 35°C)\n"
     ]
    }
   ],
   "source": [
    "\n",
    "class ControlTemperatura:\n",
    "    def __init__(self, temperatura_inicial: float) -> None:\n",
    "        self.__temperatura = temperatura_inicial  # Atributo privado # ENCAPSULAMIENTO\n",
    "\n",
    "    def ajustar_temperatura(self, nueva_temp: float) -> str:\n",
    "        if 10.0 <= nueva_temp <= 35.0:\n",
    "            self.__temperatura = nueva_temp\n",
    "            return f\"Temperatura ajustada a {self.__temperatura}°C\"\n",
    "        else:\n",
    "            return \"Temperatura fuera del rango permitido (10°C - 35°C)\"\n",
    "\n",
    "    def obtener_temperatura(self) -> str:\n",
    "        return f\"Temperatura actual: {self.__temperatura}°C\"\n",
    "\n",
    "    def estado_clima(self) -> str:\n",
    "        if self.__temperatura < 15:\n",
    "            return \"Clima frío, activar calefacción.\"\n",
    "        elif self.__temperatura > 30:\n",
    "            return \"Clima cálido, activar ventilación.\"\n",
    "        else:\n",
    "            return \"Clima óptimo para cultivo.\"\n",
    "\n",
    "\n",
    "# encapsulamiento self.__temperatura = temperatura_inicial  # Atributo privado\n",
    "invernadero = ControlTemperatura(22.5)\n",
    "\n",
    "print(invernadero.obtener_temperatura())\n",
    "print(invernadero.estado_clima())\n",
    "print(invernadero.ajustar_temperatura(33.0))\n",
    "print(invernadero.estado_clima())\n",
    "print(invernadero.ajustar_temperatura(5.0))  # Fuera de rango\n"
   ]
  },
  {
   "cell_type": "code",
   "execution_count": 10,
   "metadata": {},
   "outputs": [
    {
     "name": "stdout",
     "output_type": "stream",
     "text": [
      "100\n"
     ]
    }
   ],
   "source": [
    "\n",
    "invernadero.__temperatura = 100  # No tiene efecto, crea un nuevo atributo\n",
    "print(invernadero.__temperatura)  # Error o acceso incorrecto\n"
   ]
  },
  {
   "cell_type": "code",
   "execution_count": 13,
   "metadata": {},
   "outputs": [
    {
     "name": "stdout",
     "output_type": "stream",
     "text": [
      "Titular actual: Juan Camilo\n",
      "Titular cambiado exitosamente a: Carlos Pérez\n",
      "Titular actual: Carlos Pérez\n",
      "Contraseña incorrecta. No se puede cambiar el titular.\n"
     ]
    }
   ],
   "source": [
    "# Ejercicio 2 - Modifica la clase CuentaBancaria para agregar un método que permita cambiar el titular solo si se proporciona una contraseña correcta.\n",
    "\n",
    "class CuentaBancaria:\n",
    "    def __init__(self, titular: str, saldo_inicial: float, contraseña: str) -> None:\n",
    "        self.__titular = titular\n",
    "        self.__saldo = saldo_inicial\n",
    "        self.__contraseña = contraseña  # Atributo privado\n",
    "\n",
    "    def depositar(self, monto: float) -> str:\n",
    "        if monto > 0:\n",
    "            self.__saldo += monto\n",
    "            return f\"Depósito exitoso. Nuevo saldo: ${self.__saldo:.2f}\"\n",
    "        else:\n",
    "            return \"El monto debe ser positivo.\"\n",
    "\n",
    "    def retirar(self, monto: float) -> str:\n",
    "        if monto <= self.__saldo:\n",
    "            self.__saldo -= monto\n",
    "            return f\"Retiro exitoso. Nuevo saldo: ${self.__saldo:.2f}\"\n",
    "        else:\n",
    "            return \"Fondos insuficientes.\"\n",
    "\n",
    "    def consultar_saldo(self) -> str:\n",
    "        return f\"Saldo actual: ${self.__saldo:.2f}\"\n",
    "\n",
    "    def consultar_titular(self) -> str:\n",
    "        return f\"Titular actual: {self.__titular}\"\n",
    "\n",
    "    def cambiar_titular(self, nuevo_titular: str, contraseña: str) -> str:\n",
    "        if contraseña == self.__contraseña:\n",
    "            self.__titular = nuevo_titular\n",
    "            return f\"Titular cambiado exitosamente a: {self.__titular}\"\n",
    "        else:\n",
    "            return \"Contraseña incorrecta. No se puede cambiar el titular.\"\n",
    "\n",
    "\n",
    "\n",
    "\n",
    "\n",
    "cuenta = CuentaBancaria(\"Juan Camilo\", 1000.0, \"clave123\")\n",
    "\n",
    "print(cuenta.consultar_titular())\n",
    "print(cuenta.cambiar_titular(\"Carlos Pérez\", \"clave123\"))  # ✅ Contraseña correcta\n",
    "print(cuenta.consultar_titular())\n",
    "print(cuenta.cambiar_titular(\"Ana Gómez\", \"claveIncorrecta\"))  # ❌ Contraseña inc\n"
   ]
  },
  {
   "cell_type": "markdown",
   "metadata": {},
   "source": [
    "# Ejercicio 3\n",
    "\n",
    "1. Protección de datos\n",
    "Evita que el estado interno del objeto sea modificado de forma accidental o malintencionada desde fuera de la clase.\n",
    "\n",
    "Ejemplo: Si tienes un atributo saldo en una cuenta bancaria, no quieres que cualquier parte del programa lo cambie sin control.\n",
    "\n",
    "2. Control de acceso\n",
    "Permite definir reglas y validaciones antes de modificar un atributo.\n",
    "\n",
    "Ejemplo: Solo permitir cambiar el titular si se proporciona la contraseña correcta, como hicimos en tu clase CuentaBancaria.\n",
    "\n",
    "3. Mejora la mantenibilidad\n",
    "Si en el futuro necesitas cambiar cómo se calcula o almacena un atributo, puedes hacerlo sin afectar el resto del código que usa la clase.\n",
    "\n",
    "4. Encapsula la lógica\n",
    "Agrupa los datos y su comportamiento en un solo lugar, lo que hace que el código sea más limpio y fácil de entender.\n",
    "\n",
    "🧪 5. Facilita la depuración\n",
    "Al tener métodos controlados para acceder o modificar atributos, es más fácil rastrear errores o comportamientos inesperados.\n",
    "\n"
   ]
  },
  {
   "cell_type": "code",
   "execution_count": 16,
   "metadata": {},
   "outputs": [
    {
     "name": "stdout",
     "output_type": "stream",
     "text": [
      "30\n",
      "35\n",
      "Edad inválida\n",
      "35\n"
     ]
    }
   ],
   "source": [
    "\n",
    "class Persona:\n",
    "    def __init__(self, nombre: str, edad: int):\n",
    "        self.__edad = edad  # Atributo privado\n",
    "\n",
    "    def set_edad(self, nueva_edad: int):\n",
    "        if nueva_edad >= 0:\n",
    "            self.__edad = nueva_edad\n",
    "        else:\n",
    "            print(\"Edad inválida\")\n",
    "\n",
    "    def get_edad(self):\n",
    "        return self.__edad\n",
    "    \n",
    "\n",
    "'''Aquí, el atributo __edad está protegido y solo puede cambiarse si la nueva edad es válida.'''\n",
    "\n",
    "\n",
    "\n",
    "persona = Persona(\"Juan\", 30)\n",
    "\n",
    "print(persona.get_edad())         # Accede a la edad actual\n",
    "persona.set_edad(35)              # Cambia la edad a un valor válido\n",
    "print(persona.get_edad())         # Verifica el cambio\n",
    "persona.set_edad(-5)              # Intenta asignar una edad inválida\n",
    "print(persona.get_edad())         # Verifica que no cambió\n"
   ]
  },
  {
   "cell_type": "markdown",
   "metadata": {},
   "source": [
    "## Ventajas del Encapsulamiento\n",
    "\n",
    "1. Protección de datos\n",
    "Evita que los atributos internos de una clase sean modificados directamente desde fuera, lo que reduce errores y mejora la seguridad.\n",
    "\n",
    "Ejemplo: Evitar que el saldo de una cuenta bancaria sea alterado sin validación.\n",
    "\n",
    "2. Control sobre el acceso\n",
    "Permite definir reglas para leer o modificar atributos mediante métodos (getters y setters), asegurando que los datos se mantengan consistentes.\n",
    "\n",
    "Ejemplo: Validar que la edad de una persona no sea negativa antes de asignarla.\n",
    "\n",
    "3. Facilita el mantenimiento\n",
    "Si necesitas cambiar cómo se calcula o almacena un atributo, puedes hacerlo dentro de la clase sin afectar el resto del código que la usa.\n",
    "\n",
    "Ejemplo: Cambiar el formato de una fecha sin modificar todas las partes del programa que la usan.\n",
    "\n",
    "4. Mejora la reutilización\n",
    "Las clases bien encapsuladas son más modulares y reutilizables en otros proyectos o contextos.\n",
    "\n",
    "5. Reduce el acoplamiento\n",
    "Al ocultar los detalles internos, se evita que otras partes del programa dependan directamente de la implementación, lo que facilita cambios futuros.\n",
    "\n",
    "6. Fomenta buenas prácticas de diseño\n",
    "El encapsulamiento promueve el uso de interfaces claras y bien definidas, lo que mejora la legibilidad y la colaboración entre desarrolladores.\n",
    "\n",
    "\n"
   ]
  },
  {
   "cell_type": "code",
   "execution_count": 34,
   "metadata": {},
   "outputs": [],
   "source": [
    "# Sin Encapsulamiento\n",
    "\n",
    "class Persona:\n",
    "    def __init__(self, nombre, edad):\n",
    "        self.nombre = nombre\n",
    "        self.edad = edad  # acceso directo\n",
    "\n",
    "\n",
    "persona = Persona(\"Juan\", 30)\n",
    "persona.edad = -5  # ❌ edad inválida\n"
   ]
  },
  {
   "cell_type": "code",
   "execution_count": 24,
   "metadata": {},
   "outputs": [
    {
     "name": "stdout",
     "output_type": "stream",
     "text": [
      "Edad inválida\n",
      "30\n"
     ]
    }
   ],
   "source": [
    "# Con Encapsulamiento\n",
    "\n",
    "\n",
    "class Persona:\n",
    "    def __init__(self, nombre, edad):\n",
    "        self.nombre = nombre\n",
    "        self.__edad = edad  # atributo privado\n",
    "\n",
    "    def set_edad(self, nueva_edad):\n",
    "        if nueva_edad >= 0:\n",
    "            self.__edad = nueva_edad\n",
    "        else:\n",
    "            print(\"Edad inválida\")\n",
    "\n",
    "    def get_edad(self):\n",
    "        return self.__edad\n",
    "\n",
    "\n",
    "\n",
    "\n",
    "persona = Persona(\"Juan\", 30)\n",
    "persona.set_edad(-5)  # ❌ Edad inválida\n",
    "print(persona.get_edad())  # ✅ Sigue siendo 30\n"
   ]
  },
  {
   "cell_type": "markdown",
   "metadata": {},
   "source": [
    "## Referencias y recursos\n",
    "- [Documentación oficial de Python: clases y encapsulamiento](https://docs.python.org/es/3/tutorial/classes.html)\n",
    "- [Encapsulamiento en Python - W3Schools](https://www.w3schools.com/python/python_classes.asp)\n",
    "- [Visualizador de objetos Python Tutor](https://pythontutor.com/)"
   ]
  }
 ],
 "metadata": {
  "kernelspec": {
   "display_name": "Python 3",
   "language": "python",
   "name": "python3"
  },
  "language_info": {
   "codemirror_mode": {
    "name": "ipython",
    "version": 3
   },
   "file_extension": ".py",
   "mimetype": "text/x-python",
   "name": "python",
   "nbconvert_exporter": "python",
   "pygments_lexer": "ipython3",
   "version": "3.13.7"
  }
 },
 "nbformat": 4,
 "nbformat_minor": 2
}
