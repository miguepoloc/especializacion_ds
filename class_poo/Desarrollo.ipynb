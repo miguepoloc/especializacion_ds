{
 "cells": [
  {
   "cell_type": "markdown",
   "metadata": {},
   "source": [
    "# Desarrollo de todas las actividades"
   ]
  },
  {
   "cell_type": "markdown",
   "metadata": {},
   "source": [
    "## Definicion de Clases\n",
    "\n",
    "### Desarrollo"
   ]
  },
  {
   "cell_type": "code",
   "execution_count": 1,
   "metadata": {},
   "outputs": [],
   "source": [
    "## Punto 1\n",
    "\n",
    "class CuentaBancaria:\n",
    "  def __init__(self, nombre_titular: str, nombre_banco: str):\n",
    "    self.nombre = nombre_titular\n",
    "    self.banco = nombre_banco\n",
    "\n",
    "  # Metodo\n",
    "  def mostrar_informacion(self):\n",
    "    print(f\"Información de la Cuenta:\")\n",
    "    print(f\"  -> Titular: {self.nombre}\")\n",
    "    print(f\"  -> Banco: {self.banco}\")\n"
   ]
  },
  {
   "cell_type": "code",
   "execution_count": 2,
   "metadata": {},
   "outputs": [
    {
     "name": "stdout",
     "output_type": "stream",
     "text": [
      "Creando una cuenta de ahorros...\n",
      "Información de la Cuenta:\n",
      "  -> Titular: Cristian Avila\n",
      "  -> Banco: Bancolombia\n",
      "\n",
      "Creando una cuenta corriente...\n",
      "Información de la Cuenta:\n",
      "  -> Titular: Maria Isabel\n",
      "  -> Banco: Nu bank\n"
     ]
    }
   ],
   "source": [
    "# Le pasamos los valores para los atributos que definimos en __init__.\n",
    "print(\"Creando una cuenta de ahorros...\")\n",
    "mi_cuenta_ahorros = CuentaBancaria(nombre_titular=\"Cristian Avila\", nombre_banco=\"Bancolombia\")\n",
    "\n",
    "# Uso del metodo.\n",
    "mi_cuenta_ahorros.mostrar_informacion()\n",
    "\n",
    "print(\"\\nCreando una cuenta corriente...\")\n",
    "mi_cuenta_corriente = CuentaBancaria(nombre_titular=\"Maria Isabel\", nombre_banco=\"Nu bank\")\n",
    "mi_cuenta_corriente.mostrar_informacion()"
   ]
  },
  {
   "cell_type": "code",
   "execution_count": 3,
   "metadata": {},
   "outputs": [],
   "source": [
    "## Punto 2\n",
    "class Ingresos:\n",
    "\n",
    "  def __init__(self):\n",
    "    self.montos = []\n",
    "    print(\"Objeto de Ingresos creado. ¡Listo para registrar montos!\")\n",
    "\n",
    "  def agregar_ingreso(self, monto: float):\n",
    "    if monto > 0:\n",
    "      self.montos.append(monto)\n",
    "      print(f\"  -> Ingreso de ${monto:,.2f} agregado.\")\n",
    "    else:\n",
    "      print(\"  -> Error: El monto del ingreso debe ser positivo.\")\n",
    "\n",
    "  # NUEVO MÉTODO\n",
    "  def calcular_promedio(self):\n",
    "    total_ingresos = sum(self.montos)\n",
    "    cantidad_ingresos = len(self.montos)\n",
    "\n",
    "    if cantidad_ingresos == 0:\n",
    "      print(\"Aún no hay ingresos registrados para calcular un promedio.\")\n",
    "      return 0\n",
    "\n",
    "    # Calculamos el promedio\n",
    "    promedio = total_ingresos / cantidad_ingresos\n",
    "    return promedio\n"
   ]
  },
  {
   "cell_type": "code",
   "execution_count": 4,
   "metadata": {},
   "outputs": [
    {
     "name": "stdout",
     "output_type": "stream",
     "text": [
      "Objeto de Ingresos creado. ¡Listo para registrar montos!\n",
      "\n",
      "Registrando los ingresos del mes...\n",
      "  -> Ingreso de $2,500,000.00 agregado.\n",
      "  -> Ingreso de $300,000.00 agregado.\n",
      "  -> Ingreso de $150,000.00 agregado.\n",
      "\n",
      "Calculando el promedio...\n",
      "\n",
      "El promedio de los ingresos registrados es: $983,333.33\n"
     ]
    }
   ],
   "source": [
    "# 2. EJEMPLO DE USO\n",
    "\n",
    "mis_ingresos_mensuales = Ingresos()\n",
    "\n",
    "print(\"\\nRegistrando los ingresos del mes...\")\n",
    "mis_ingresos_mensuales.agregar_ingreso(2500000) # Salario\n",
    "mis_ingresos_mensuales.agregar_ingreso(300000)  # Proyecto freelance\n",
    "mis_ingresos_mensuales.agregar_ingreso(150000)  # Venta de un artículo\n",
    "\n",
    "print(\"\\nCalculando el promedio...\")\n",
    "promedio_obtenido = mis_ingresos_mensuales.calcular_promedio()\n",
    "\n",
    "print(f\"\\nEl promedio de los ingresos registrados es: ${promedio_obtenido:,.2f}\")"
   ]
  },
  {
   "cell_type": "markdown",
   "metadata": {},
   "source": [
    "3. Diferencia entre Atributo de Clase y de Instancia\n",
    "Un atributo de instancia es una variable que pertenece a un objeto específico. Cada objeto o \"instancia\" de la clase tiene su propia copia de ese atributo.\n",
    "Un atributo de clase es una variable que pertenece a la clase misma. Todos los objetos creados a partir de esa clase comparten el mismo atributo.\n",
    "\n",
    "4. Ejemplo de Clase en la Vida Real\n",
    "Usarías una clase en Python para modelar una Factura de Servicios Públicos (como la luz o el agua).\n",
    "- Clase: Factura\n",
    "- Atributos de instancia: empresa (ej. \"Enel\"), monto_a_pagar, fecha_vencimiento, numero_referencia.\n",
    "- Métodos: pagar_factura(), que cambiaría un atributo esta_pagada de False a True, o verificar_vencimiento(), que te diría si la factura ya se pasó de la fecha de pago."
   ]
  },
  {
   "cell_type": "markdown",
   "metadata": {},
   "source": [
    "## Abstracción\n",
    "\n",
    "### Desarrollo\n",
    "\n",
    "https://editor.plantuml.com/uml/RP0n3i9030JxIFc3Eq3y81K5BM-85fz19pddo75e47yd8Ia2elJCxXO-3G6FiTEwsj4vu-xeG3qSf21M348N2-FCAe6wcj6mHVIiAw8ZTN16GqFuUbiIjGrWK_ElG9YtKbXAocbANirqKO-foJaXjU0OeGtb4ejQykBjfxu_B1GzxlXbB2eEtpDAp6EVbLNUNCeVzQghqpG__UCD\n",
    "\n",
    "![Abstracion.png](https://img.plantuml.biz/plantuml/png/RP0n3i9030JxIFc3Eq3y81K5BM-85fz19pddo75e47yd8Ia2elJCxXO-3G6FiTEwsj4vu-xeG3qSf21M348N2-FCAe6wcj6mHVIiAw8ZTN16GqFuUbiIjGrWK_ElG9YtKbXAocbANirqKO-foJaXjU0OeGtb4ejQykBjfxu_B1GzxlXbB2eEtpDAp6EVbLNUNCeVzQghqpG__UCD)"
   ]
  },
  {
   "cell_type": "code",
   "execution_count": 1,
   "metadata": {},
   "outputs": [],
   "source": [
    "# Punto 1\n",
    "class Moto:\n",
    "    # 1. El constructor solo necesita la marca y el modelo\n",
    "    def __init__(self, marca, modelo, año, precio):\n",
    "        self.marca = marca\n",
    "        self.modelo = modelo\n",
    "        self.año = año\n",
    "        self.precio = precio\n",
    "        self.encendido = False\n",
    "\n",
    "    # 2. Un método para encender\n",
    "    def encender(self):\n",
    "        self.encendido = True\n",
    "        print(f\"¡La {self.marca} {self.modelo} se ha encendido!\")\n",
    "\n",
    "    # 3. Un método para apagar\n",
    "    def apagar(self):\n",
    "        self.encendido = False\n",
    "        print(f\"La {self.marca} {self.modelo} se ha apagado.\")\n",
    "\n",
    "    # 4. Un método para ver el estado actual\n",
    "    def mostrar_estado(self):\n",
    "        if self.encendido:\n",
    "            estado_actual = \"Encendida\"\n",
    "        else:\n",
    "            estado_actual = \"Apagada\"\n",
    "\n",
    "        print(f\"-> Moto: {self.marca} {self.modelo} | Año: {self.año} | Precio: {self.precio} | Estado: {estado_actual}\")"
   ]
  },
  {
   "cell_type": "code",
   "execution_count": 2,
   "metadata": {},
   "outputs": [
    {
     "name": "stdout",
     "output_type": "stream",
     "text": [
      "-> Moto: Bajaj Pulsar NS200 | Año: 2025 | Precio: 15.000.000 | Estado: Apagada\n",
      "¡La Bajaj Pulsar NS200 se ha encendido!\n",
      "-> Moto: Bajaj Pulsar NS200 | Año: 2025 | Precio: 15.000.000 | Estado: Encendida\n",
      "La Bajaj Pulsar NS200 se ha apagado.\n",
      "-> Moto: Bajaj Pulsar NS200 | Año: 2025 | Precio: 15.000.000 | Estado: Apagada\n"
     ]
    }
   ],
   "source": [
    "# --- Ejemplo de Uso ---\n",
    "mi_moto = Moto(\"Bajaj\", \"Pulsar NS200\", \"2025\", \"15.000.000\")\n",
    "\n",
    "# Estado inicial\n",
    "mi_moto.mostrar_estado()\n",
    "\n",
    "# Encendemos la moto\n",
    "mi_moto.encender()\n",
    "mi_moto.mostrar_estado()\n",
    "\n",
    "# La volvemos a apagar\n",
    "mi_moto.apagar()\n",
    "mi_moto.mostrar_estado()\n",
    "\n"
   ]
  },
  {
   "cell_type": "markdown",
   "metadata": {},
   "source": [
    "## Interfaces\n",
    "\n",
    "### Desarrollo\n",
    "\n",
    "https://editor.plantuml.com/lPAnJiCm48PtItc7KvSMeVG1Cg1Ai7HWOUWQ7USBM3hxYkDq2F10p3n2NmodYKI3ChFPz_ydV_UVTst2c3elXLd30pSkE7Bdxm2MGH3s8N5ii2-C6q_4i3_mgwDEz56JHjUZLNWl3C0jS20EbcFj1sbpCrRnY2_ujqOi735k24Do5cq5-OL9R2A71UcpCCkKzu8jmrl7uFnHs7D8EAUdx6XX02P7mbcUY3r6mWhQ5AUxMXQzAf2AnfaXJr6FWpgRdS-gCagdt4a3S8sKEfGBzo2jonBy-IkfrNP2dkBieIp_CRed5hm4LysoMFt6jfh1BQowCDUTs-t7tR9hbwV9t-e7\n",
    "\n",
    "![Interfaces.png](https://img.plantuml.biz/plantuml/png/lPAnJiCm48PtItc7KvSMeVG1Cg1Ai7HWOUWQ7USBM3hxYkDq2F10p3n2NmodYKI3ChFPz_ydV_UVTst2c3elXLd30pSkE7Bdxm2MGH3s8N5ii2-C6q_4i3_mgwDEz56JHjUZLNWl3C0jS20EbcFj1sbpCrRnY2_ujqOi735k24Do5cq5-OL9R2A71UcpCCkKzu8jmrl7uFnHs7D8EAUdx6XX02P7mbcUY3r6mWhQ5AUxMXQzAf2AnfaXJr6FWpgRdS-gCagdt4a3S8sKEfGBzo2jonBy-IkfrNP2dkBieIp_CRed5hm4LysoMFt6jfh1BQowCDUTs-t7tR9hbwV9t-e7)"
   ]
  },
  {
   "cell_type": "markdown",
   "metadata": {},
   "source": [
    "## Herencias\n",
    "\n",
    "### Desarrollo\n",
    "\n",
    "https://editor.plantuml.com/VLBBJiD03Bn7oZ_urYAK7wWu5BL2FN10_41bRTp6QBCRsPiBZw_Y4_Wnl4ceKeYupjYpC-FTQa99VUlBOWLxnhDWYr0J74WeE4ReK11sFOM42WySq50IrBB8ArLLmPvE7DZnrsV8czx6FIh14zP2UQ8id04wgS1RMG3SGkBKUvGDQ98HKVHrtC39HqmZKbCNbStYkeqX_N0t8ocKM9QfDfeeod5GN1luyOzT7Vqg7FWbwb_3zqqKYHVRg7ZaaAmVlVAAdMTdRqxSvTMvr4wevdJHyjnoegCRqIir8VJyQd8kjftWSlvffCDp_3qm2_nC7Xt7O0ddXnrohk0HROTSWnQWp-V9dLWDpL16WtcKl7q3EsPPJ2UyUpVTUJjBp1Gs6zbIgEsJVGC0\n",
    "\n",
    "![Herencias.png](https://img.plantuml.biz/plantuml/png/VLBBJiD03Bn7oZ_urYAK7wWu5BL2FN10_41bRTp6QBCRsPiBZw_Y4_Wnl4ceKeYupjYpC-FTQa99VUlBOWLxnhDWYr0J74WeE4ReK11sFOM42WySq50IrBB8ArLLmPvE7DZnrsV8czx6FIh14zP2UQ8id04wgS1RMG3SGkBKUvGDQ98HKVHrtC39HqmZKbCNbStYkeqX_N0t8ocKM9QfDfeeod5GN1luyOzT7Vqg7FWbwb_3zqqKYHVRg7ZaaAmVlVAAdMTdRqxSvTMvr4wevdJHyjnoegCRqIir8VJyQd8kjftWSlvffCDp_3qm2_nC7Xt7O0ddXnrohk0HROTSWnQWp-V9dLWDpL16WtcKl7q3EsPPJ2UyUpVTUJjBp1Gs6zbIgEsJVGC0)"
   ]
  },
  {
   "cell_type": "code",
   "execution_count": null,
   "metadata": {},
   "outputs": [],
   "source": [
    "class Cuenta:\n",
    "    def __init__(self, titular: str, saldo_inicial: float):\n",
    "        self.titular = titular\n",
    "        self.saldo = saldo_inicial\n",
    "        print(f\"Cuenta base creada para {self.titular} con saldo de ${self.saldo:,.2f}\")\n",
    "\n",
    "    def depositar(self, monto: float):\n",
    "        self.saldo += monto\n",
    "        print(f\"Depósito de ${monto:,.2f} realizado. Nuevo saldo: ${self.saldo:,.2f}\")\n",
    "\n",
    "    def retirar(self, monto: float):\n",
    "        if self.saldo >= monto:\n",
    "            self.saldo -= monto\n",
    "            print(f\"Retiro de ${monto:,.2f} realizado. Nuevo saldo: ${self.saldo:,.2f}\")\n",
    "        else:\n",
    "            print(\"Error: Fondos insuficientes.\")\n",
    "\n",
    "    def mostrar_saldo(self):\n",
    "        print(f\"-> El saldo actual de la cuenta de {self.titular} es: ${self.saldo:,.2f}\")\n",
    "\n",
    "\n",
    "# 2. CLASES HIJO\n",
    "\n",
    "class CuentaAhorro(Cuenta):\n",
    "    def __init__(self, titular: str, saldo_inicial: float, tasa_interes: float):\n",
    "        super().__init__(titular, saldo_inicial)\n",
    "        self.tasa_interes = tasa_interes # Atributo propio\n",
    "        print(\"-> Es una cuenta de Ahorros.\")\n",
    "\n",
    "    # MÉTODO NUEVO Y ESPECÍFICO\n",
    "    def aplicar_interes(self):\n",
    "        intereses = self.saldo * self.tasa_interes\n",
    "        print(f\"Aplicando {self.tasa_interes:.2%} de interés...\")\n",
    "        self.depositar(intereses)\n",
    "\n",
    "class CuentaCredito(Cuenta):\n",
    "    def __init__(self, titular: str, limite_credito: float):\n",
    "        super().__init__(titular, 0)\n",
    "        self.limite_credito = limite_credito # Atributo propio\n",
    "        print(\"-> Es una cuenta de Crédito.\")\n",
    "\n",
    "    # MÉTODOS NUEVOS Y ESPECÍFICOS\n",
    "    def realizar_compra(self, monto: float):\n",
    "        if self.saldo + monto <= self.limite_credito:\n",
    "            self.saldo += monto\n",
    "            print(f\"Compra de ${monto:,.2f} aprobada. Deuda actual: ${self.saldo:,.2f}\")\n",
    "        else:\n",
    "            print(\"Error: La compra excede el límite de crédito.\")\n",
    "\n",
    "    # Aquí un depósito es un PAGO a la deuda\n",
    "    def realizar_pago(self, monto: float):\n",
    "        self.saldo -= monto\n",
    "        print(f\"Pago de ${monto:,.2f} realizado. Nueva deuda: ${self.saldo:,.2f}\")\n"
   ]
  },
  {
   "cell_type": "code",
   "execution_count": 3,
   "metadata": {},
   "outputs": [
    {
     "name": "stdout",
     "output_type": "stream",
     "text": [
      "--- Creando una cuenta de ahorros ---\n",
      "Cuenta base creada para Maria Isabel con saldo de $500,000.00\n",
      "-> Es una cuenta de Ahorros.\n",
      "Depósito de $100,000.00 realizado. Nuevo saldo: $600,000.00\n",
      "Aplicando 5.00% de interés...\n",
      "Depósito de $30,000.00 realizado. Nuevo saldo: $630,000.00\n",
      "-> El saldo actual de la cuenta de Maria Isabel es: $630,000.00\n",
      "\n",
      "--- Creando una cuenta de crédito ---\n",
      "Cuenta base creada para Cristian Avila con saldo de $0.00\n",
      "-> Es una cuenta de Crédito.\n",
      "Compra de $800,000.00 aprobada. Deuda actual: $800,000.00\n",
      "Error: La compra excede el límite de crédito.\n",
      "Pago de $400,000.00 realizado. Nueva deuda: $400,000.00\n",
      "-> El saldo actual de la cuenta de Cristian Avila es: $400,000.00\n"
     ]
    }
   ],
   "source": [
    "# 3. EJEMPLO DE USO\n",
    "\n",
    "print(\"--- Creando una cuenta de ahorros ---\")\n",
    "mi_cuenta_ahorro = CuentaAhorro(titular=\"Maria Isabel\", saldo_inicial=500000, tasa_interes=0.05)\n",
    "mi_cuenta_ahorro.depositar(100000)\n",
    "mi_cuenta_ahorro.aplicar_interes() # Usamos el método propio del hijo\n",
    "mi_cuenta_ahorro.mostrar_saldo()\n",
    "\n",
    "print(\"\\n--- Creando una cuenta de crédito ---\")\n",
    "mi_tarjeta_credito = CuentaCredito(titular=\"Cristian Avila\", limite_credito=2000000)\n",
    "mi_tarjeta_credito.realizar_compra(800000) # Usamos el método propio del hijo\n",
    "mi_tarjeta_credito.realizar_compra(1500000) # Esta fallará\n",
    "mi_tarjeta_credito.realizar_pago(400000)\n",
    "mi_tarjeta_credito.mostrar_saldo() # Muestra la deuda actual"
   ]
  },
  {
   "cell_type": "markdown",
   "metadata": {},
   "source": [
    "## Encapsulamiento\n",
    "\n",
    "### Desarrollo\n",
    "\n",
    "https://editor.plantuml.com/VP11QWCn34Nt0xx3tsL2o0Mo2gKznw2CrK4WMrFBpgRqGBr2jxbOFAIKTjET-Bp_zVbdhrHgIng67Pw5baA9i58XA65MSiQJg7BbBisMmNccrPjI4ixLmX263VDVs7iOW1rU54kJRXcFUqYECXFU6eCLL8jSMZMmOorofMYRvuXfSj9e9xogKTsqdooN9HiYmrklE1x-PAevqkspMko7zv_hxUkYCfjl_aD7by9EPOgIkTYOh7V__h9_80jjM_m3NBayserT-0Z3cNFiozq1\n",
    "\n",
    "![Encapsulamiento.png](https://img.plantuml.biz/plantuml/png/VP11QWCn34Nt0xx3tsL2o0Mo2gKznw2CrK4WMrFBpgRqGBr2jxbOFAIKTjET-Bp_zVbdhrHgIng67Pw5baA9i58XA65MSiQJg7BbBisMmNccrPjI4ixLmX263VDVs7iOW1rU54kJRXcFUqYECXFU6eCLL8jSMZMmOorofMYRvuXfSj9e9xogKTsqdooN9HiYmrklE1x-PAevqkspMko7zv_hxUkYCfjl_aD7by9EPOgIkTYOh7V__h9_80jjM_m3NBayserT-0Z3cNFiozq1)"
   ]
  },
  {
   "cell_type": "code",
   "execution_count": null,
   "metadata": {},
   "outputs": [],
   "source": [
    "class Billetera:\n",
    "    def __init__(self, saldo_inicial: float):\n",
    "        self.__saldo = saldo_inicial\n",
    "        print(f\"Billetera creada con un saldo de ${self.__saldo:,.2f}\")\n",
    "\n",
    "    def ingresar_dinero(self, monto: float):\n",
    "        if monto > 0:\n",
    "            self.__saldo += monto\n",
    "            print(f\"Ingresaste ${monto:,.2f}.\")\n",
    "        else:\n",
    "            print(\"El monto a ingresar debe ser positivo.\")\n",
    "\n",
    "    def gastar_dinero(self, monto: float):\n",
    "        if 0 < monto <= self.__saldo:\n",
    "            self.__saldo -= monto\n",
    "            print(f\"Gastaste ${monto:,.2f}.\")\n",
    "        else:\n",
    "            print(\"No es posible realizar ese gasto (monto inválido o fondos insuficientes).\")\n",
    "\n",
    "    def ver_saldo(self):\n",
    "        print(f\"-> Saldo actual en la billetera: ${self.__saldo:,.2f}\")"
   ]
  },
  {
   "cell_type": "code",
   "execution_count": 9,
   "metadata": {},
   "outputs": [
    {
     "name": "stdout",
     "output_type": "stream",
     "text": [
      "Billetera creada con un saldo de $50,000.00\n",
      "-> Saldo actual en la billetera: $50,000.00\n",
      "\n",
      "--- Interacción Correcta ---\n",
      "Ingresaste $20,000.00.\n",
      "Gastaste $15,000.00.\n",
      "-> Saldo actual en la billetera: $55,000.00\n",
      "\n",
      "--- Intentando Interacción Incorrecta ---\n",
      "Intentando acceder a 'mi_billetera.__saldo'...\n",
      "\n",
      "Comprobando el saldo final...\n",
      "-> Saldo actual en la billetera: $55,000.00\n"
     ]
    }
   ],
   "source": [
    "# --- Ejemplo de Uso ---\n",
    "\n",
    "# Creamos el objeto\n",
    "mi_billetera = Billetera(50000)\n",
    "mi_billetera.ver_saldo()\n",
    "\n",
    "# 1. Usamos los métodos públicos\n",
    "print(\"\\n--- Interacción Correcta ---\")\n",
    "mi_billetera.ingresar_dinero(20000)\n",
    "mi_billetera.gastar_dinero(15000)\n",
    "mi_billetera.ver_saldo()\n",
    "\n",
    "# 2. Intentamos acceder directamente - Aquí falla\n",
    "print(\"\\n--- Intentando Interacción Incorrecta ---\")\n",
    "print(\"Intentando acceder a 'mi_billetera.__saldo'...\")\n",
    "\n",
    "try:\n",
    "    # Esta línea ahora causará un error porque __saldo está \"oculto\"\n",
    "    mi_billetera.__saldo = 1000000\n",
    "except AttributeError as e:\n",
    "    print(f\"¡FALLÓ! Error: {e}\")\n",
    "\n",
    "print(\"\\nComprobando el saldo final...\")\n",
    "mi_billetera.ver_saldo()"
   ]
  },
  {
   "cell_type": "markdown",
   "metadata": {},
   "source": [
    "## Polimorfismo\n",
    "\n",
    "### Desarrollo\n",
    "\n",
    "https://editor.plantuml.com/bLDBJiD03Dr7oXsiRYYgsWDKB8eQf2v0GeWBE1cdTJMVC3DbKteWrXoX5yEJD5KZGGNBs7uVFqyM8QAFEwFpx0OAnhL7Ww08dfrcutpDmJXeq2CyKNJAXRQ9QvTd2JATJg6WcYrNVFoogQaHbXf3cbAUuBuCqMCLCSqco2CAdyPIA4TuQew0hU8AuMr7O1q8kjcH8WkL9_JWogseYpPx4Yf3DbBI8h4FLLARvLbFrXR2oMz1oIpiymnW0cGuE3y76Ko5rWnQ5x5pl-yf3fT-XAtJ2B3XhHFTKeonQJGb8s9FR12OusSId2NY2w86r-Z7njdevb1hX_7sh3yHhb1vBjcF--hXIh2XIpR0Idp8XxCIJvHo6sstzYjwoGgNdXJ7y-A_ksZr1j22olyY7sev2x__5TIjzq9QSdUMsZUr8a-suejdCanz8ts5RH2NbyspmPtlFeHu6C6LYMxJdmRwXPBR1LabVyWt\n",
    "\n",
    "![Polimorfismo.png](https://img.plantuml.biz/plantuml/png/bLDBJiD03Dr7oXsiRYYgsWDKB8eQf2v0GeWBE1cdTJMVC3DbKteWrXoX5yEJD5KZGGNBs7uVFqyM8QAFEwFpx0OAnhL7Ww08dfrcutpDmJXeq2CyKNJAXRQ9QvTd2JATJg6WcYrNVFoogQaHbXf3cbAUuBuCqMCLCSqco2CAdyPIA4TuQew0hU8AuMr7O1q8kjcH8WkL9_JWogseYpPx4Yf3DbBI8h4FLLARvLbFrXR2oMz1oIpiymnW0cGuE3y76Ko5rWnQ5x5pl-yf3fT-XAtJ2B3XhHFTKeonQJGb8s9FR12OusSId2NY2w86r-Z7njdevb1hX_7sh3yHhb1vBjcF--hXIh2XIpR0Idp8XxCIJvHo6sstzYjwoGgNdXJ7y-A_ksZr1j22olyY7sev2x__5TIjzq9QSdUMsZUr8a-suejdCanz8ts5RH2NbyspmPtlFeHu6C6LYMxJdmRwXPBR1LabVyWt)"
   ]
  },
  {
   "cell_type": "code",
   "execution_count": null,
   "metadata": {},
   "outputs": [],
   "source": [
    "from abc import ABC, abstractmethod\n",
    "\n",
    "# 1. CLASE PADRE ABSTRACTA\n",
    "class MetodoDePago(ABC):\n",
    "    def __init__(self, emisor: str) -> None:\n",
    "        self.emisor: str = emisor\n",
    "\n",
    "    @abstractmethod\n",
    "    def pagar(self, monto: float) -> str:\n",
    "        pass\n",
    "\n",
    "    def describir(self) -> str:\n",
    "        return f\"Método: {self.__class__.__name__}, Emisor: {self.emisor}\"\n",
    "\n",
    "# 2. CLASES HIJO CONCRETAS\n",
    "class TarjetaCredito(MetodoDePago):\n",
    "    def pagar(self, monto: float) -> str:\n",
    "        # Lógica específica para tarjetas de crédito\n",
    "        return f\"Pago de ${monto:,.2f} realizado con crédito. Se afecta el cupo disponible.\"\n",
    "\n",
    "class TarjetaDebito(MetodoDePago):\n",
    "    def pagar(self, monto: float) -> str:\n",
    "        # Lógica específica para tarjetas de débito\n",
    "        return f\"Pago de ${monto:,.2f} descontado directamente del saldo de la cuenta.\"\n",
    "\n",
    "class Efectivo(MetodoDePago):\n",
    "    def pagar(self, monto: float) -> str:\n",
    "        # Lógica específica para efectivo\n",
    "        return f\"Pago de ${monto:,.2f} entregado en efectivo.\"\n",
    "\n",
    "# 3. FUNCIÓN GENÉRICA\n",
    "def procesar_compra(metodo: MetodoDePago, monto_compra: float) -> None:\n",
    "    print(f\"Procesando compra con: {metodo.describir()}\")\n",
    "    resultado_pago = metodo.pagar(monto=monto_compra)\n",
    "    print(f\"-> Resultado: {resultado_pago}\")\n",
    "    print(\"-\" * 30)"
   ]
  },
  {
   "cell_type": "code",
   "execution_count": 17,
   "metadata": {},
   "outputs": [
    {
     "name": "stdout",
     "output_type": "stream",
     "text": [
      "Procesando compra con: Método: TarjetaCredito, Emisor: Bancolombia Visa\n",
      "-> Resultado: Pago de $150,000.00 realizado con crédito. Se afecta el cupo disponible.\n",
      "------------------------------\n",
      "Procesando compra con: Método: TarjetaDebito, Emisor: Nu Mastercard\n",
      "-> Resultado: Pago de $150,000.00 descontado directamente del saldo de la cuenta.\n",
      "------------------------------\n",
      "Procesando compra con: Método: Efectivo, Emisor: Moneda local\n",
      "-> Resultado: Pago de $150,000.00 entregado en efectivo.\n",
      "------------------------------\n"
     ]
    }
   ],
   "source": [
    "# 4. EJEMPLO DE USO\n",
    "# Creamos objetos de diferentes clases\n",
    "credito_bancolombia = TarjetaCredito(emisor=\"Bancolombia Visa\")\n",
    "nu_mastercard = TarjetaDebito(emisor=\"Nu Mastercard\")\n",
    "efectivo = Efectivo(emisor=\"Moneda local\")\n",
    "\n",
    "# Creamos una lista con todos los métodos de pago (objetos de diferentes tipos)\n",
    "metodos_de_pago = [credito_bancolombia, nu_mastercard, efectivo]\n",
    "\n",
    "for metodo in metodos_de_pago:\n",
    "    procesar_compra(metodo=metodo, monto_compra=150000)"
   ]
  }
 ],
 "metadata": {
  "kernelspec": {
   "display_name": "venv",
   "language": "python",
   "name": "python3"
  },
  "language_info": {
   "codemirror_mode": {
    "name": "ipython",
    "version": 3
   },
   "file_extension": ".py",
   "mimetype": "text/x-python",
   "name": "python",
   "nbconvert_exporter": "python",
   "pygments_lexer": "ipython3",
   "version": "3.13.7"
  }
 },
 "nbformat": 4,
 "nbformat_minor": 2
}
