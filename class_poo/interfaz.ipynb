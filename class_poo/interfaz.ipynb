{
 "cells": [
  {
   "cell_type": "markdown",
   "metadata": {},
   "source": [
    "# Interfaces en Programación Orientada a Objetos\n",
    "\n",
    "Bienvenido/a. En esta lección aprenderás el concepto de interfaces, fundamentales para el diseño de sistemas modulares y extensibles en POO.\n",
    "\n",
    "## Objetivos\n",
    "- Comprender qué es una interfaz y su importancia en POO.\n",
    "- Implementar interfaces en Python usando clases abstractas.\n",
    "- Aplicar interfaces en ejemplos de la vida real.\n",
    "\n",
    "---\n",
    "\n",
    "**Ejemplo de la vida real:** Piensa en un control remoto: no te importa cómo funciona internamente, solo necesitas saber qué botones puedes presionar y qué hacen. Eso es una interfaz."
   ]
  },
  {
   "cell_type": "markdown",
   "metadata": {},
   "source": [
    "# Interfaces en Programación Orientada a Objetos\n",
    "\n",
    "Las interfaces son un concepto fundamental en la Programación Orientada a Objetos (POO) que define un contrato para las clases. Aunque Python no tiene un soporte nativo para interfaces como otros lenguajes, se pueden simular usando clases abstractas.\n",
    "\n",
    "# Las interfaces definen el qué y no el cómo\n",
    "\n",
    "## ¿Qué es una interfaz?\n",
    "\n",
    "Una interfaz es un contrato que define un conjunto de métodos que una clase debe implementar. Es decir, una interfaz define el comportamiento de un objeto sin centrarse en los detalles de cómo se implementa.\n",
    "\n",
    "## Tipos de interfaces en Python\n",
    "\n",
    "1. **Interfaces informales**: Se definen como una clase que no implementa los métodos.\n",
    "2. **Interfaces formales**: Se definen como una clase abstracta que implementa los métodos.\n",
    "\n",
    "\n",
    "## Explicación\n",
    "\n",
    "Una interfaz:\n",
    "\n",
    "1. Define un conjunto de métodos que una clase debe implementar.\n",
    "\n",
    "2. Proporciona un nivel de abstracción, permitiendo tratar objetos de diferentes clases de manera uniforme.\n",
    "\n",
    "3. Facilita el diseño de sistemas modulares y extensibles.\n",
    "\n",
    "4. Mejora la mantenibilidad del código al establecer contratos claros entre componentes."
   ]
  },
  {
   "cell_type": "markdown",
   "metadata": {},
   "source": [
    "## Ejemplos prácticos\n",
    "\n",
    "### Ejemplo 1: Interfaz sin ABC\n",
    "\n",
    "En este ejemplo:\n",
    "\n",
    "1. `InterfazAnimal` define los métodos que las clases hijas deben implementar.\n",
    "\n",
    "2. `Perro` y `Gato` implementan los métodos de la interfaz.\n",
    "\n",
    "3. `interactuar_con_animal` puede trabajar con cualquier objeto que implemente la interfaz."
   ]
  },
  {
   "cell_type": "markdown",
   "metadata": {},
   "source": [
    "@startuml\n",
    "interface InterfazAnimal {\n",
    "    + hacer_sonido(): str\n",
    "    + moverse(): str\n",
    "}\n",
    "\n",
    "class Perro {\n",
    "}\n",
    "\n",
    "class Gato {\n",
    "}\n",
    "\n",
    "InterfazAnimal <|.. Perro\n",
    "InterfazAnimal <|.. Gato\n",
    "@enduml"
   ]
  },
  {
   "attachments": {
    "image.png": {
     "image/png": "[encoded data removed]"
    }
   },
   "cell_type": "markdown",
   "metadata": {},
   "source": [
    "https://editor.plantuml.com/uml/SoWkIImgAStDuShCAqajIajCJbNmXB2g7FCoSnDp5Agv5810Mo43A5SKNvoVbvcIhw5ffL1SKWILoSqlIoqgJeK9rd9n9USa5XSh1AGM5UK3zSC5t1DBe7mqEsngzFGWoh7AWFHnEQJcfG0T2W00\n",
    "![image.png](attachment:image.png)"
   ]
  },
  {
   "cell_type": "code",
   "execution_count": 1,
   "metadata": {},
   "outputs": [],
   "source": [
    "class InterfazAnimal:\n",
    "    def hacer_sonido(self) -> str:\n",
    "        raise NotImplementedError(\"Subclass must implement abstract method\")\n",
    "\n",
    "    def moverse(self) -> str:\n",
    "        raise NotImplementedError(\"Subclass must implement abstract method\")\n",
    "\n",
    "class Perro(InterfazAnimal):\n",
    "    def hacer_sonido(self) -> str:\n",
    "        return \"Guau!\"\n",
    "\n",
    "    def moverse(self) -> str:\n",
    "        return \"El perro corre\"\n",
    "\n",
    "class Gato(InterfazAnimal):\n",
    "    def hacer_sonido(self) -> str:\n",
    "        return \"Miau!\"\n"
   ]
  },
  {
   "cell_type": "code",
   "execution_count": 2,
   "metadata": {},
   "outputs": [
    {
     "name": "stdout",
     "output_type": "stream",
     "text": [
      "Guau!\n",
      "El perro corre\n"
     ]
    }
   ],
   "source": [
    "def interactuar_con_animal(animal: InterfazAnimal) -> None:\n",
    "    print(animal.hacer_sonido())\n",
    "    print(animal.moverse())\n",
    "\n",
    "perro: Perro = Perro()\n",
    "\n",
    "interactuar_con_animal(animal=perro)"
   ]
  },
  {
   "cell_type": "code",
   "execution_count": 3,
   "metadata": {},
   "outputs": [
    {
     "name": "stdout",
     "output_type": "stream",
     "text": [
      "Miau!\n"
     ]
    },
    {
     "ename": "NotImplementedError",
     "evalue": "Subclass must implement abstract method",
     "output_type": "error",
     "traceback": [
      "\u001b[31m---------------------------------------------------------------------------\u001b[39m",
      "\u001b[31mNotImplementedError\u001b[39m                       Traceback (most recent call last)",
      "\u001b[36mCell\u001b[39m\u001b[36m \u001b[39m\u001b[32mIn[3]\u001b[39m\u001b[32m, line 2\u001b[39m\n\u001b[32m      1\u001b[39m gato: Gato = Gato()\n\u001b[32m----> \u001b[39m\u001b[32m2\u001b[39m \u001b[43minteractuar_con_animal\u001b[49m\u001b[43m(\u001b[49m\u001b[43manimal\u001b[49m\u001b[43m=\u001b[49m\u001b[43mgato\u001b[49m\u001b[43m)\u001b[49m\n",
      "\u001b[36mCell\u001b[39m\u001b[36m \u001b[39m\u001b[32mIn[2]\u001b[39m\u001b[32m, line 3\u001b[39m, in \u001b[36minteractuar_con_animal\u001b[39m\u001b[34m(animal)\u001b[39m\n\u001b[32m      1\u001b[39m \u001b[38;5;28;01mdef\u001b[39;00m\u001b[38;5;250m \u001b[39m\u001b[34minteractuar_con_animal\u001b[39m(animal: InterfazAnimal) -> \u001b[38;5;28;01mNone\u001b[39;00m:\n\u001b[32m      2\u001b[39m     \u001b[38;5;28mprint\u001b[39m(animal.hacer_sonido())\n\u001b[32m----> \u001b[39m\u001b[32m3\u001b[39m     \u001b[38;5;28mprint\u001b[39m(\u001b[43manimal\u001b[49m\u001b[43m.\u001b[49m\u001b[43mmoverse\u001b[49m\u001b[43m(\u001b[49m\u001b[43m)\u001b[49m)\n",
      "\u001b[36mCell\u001b[39m\u001b[36m \u001b[39m\u001b[32mIn[1]\u001b[39m\u001b[32m, line 6\u001b[39m, in \u001b[36mInterfazAnimal.moverse\u001b[39m\u001b[34m(self)\u001b[39m\n\u001b[32m      5\u001b[39m \u001b[38;5;28;01mdef\u001b[39;00m\u001b[38;5;250m \u001b[39m\u001b[34mmoverse\u001b[39m(\u001b[38;5;28mself\u001b[39m) -> \u001b[38;5;28mstr\u001b[39m:\n\u001b[32m----> \u001b[39m\u001b[32m6\u001b[39m     \u001b[38;5;28;01mraise\u001b[39;00m \u001b[38;5;167;01mNotImplementedError\u001b[39;00m(\u001b[33m\"\u001b[39m\u001b[33mSubclass must implement abstract method\u001b[39m\u001b[33m\"\u001b[39m)\n",
      "\u001b[31mNotImplementedError\u001b[39m: Subclass must implement abstract method"
     ]
    }
   ],
   "source": [
    "gato: Gato = Gato()\n",
    "interactuar_con_animal(animal=gato)"
   ]
  },
  {
   "cell_type": "markdown",
   "metadata": {},
   "source": [
    "### Ejemplo 2: Interfaz con ABC\n",
    "\n",
    "En este ejemplo:\n",
    "\n",
    "1. `InterfazVehiculo` usa `ABC` y `@abstractmethod` para definir una interfaz más estricta.\n",
    "\n",
    "2. `Carro` y `Bicicleta` implementan correctamente la interfaz.\n",
    "\n",
    "3. `VehiculoIncompleto` no implementa todos los métodos, lo que resulta en un error al instanciar."
   ]
  },
  {
   "cell_type": "markdown",
   "metadata": {},
   "source": [
    "@startuml\n",
    "interface InterfazVehiculo {\n",
    "    + acelerar(): str\n",
    "    + frenar(): str\n",
    "}\n",
    "\n",
    "class Carro {\n",
    "}\n",
    "\n",
    "class Bicicleta {\n",
    "}\n",
    "\n",
    "InterfazVehiculo <|.. Carro\n",
    "InterfazVehiculo <|.. Bicicleta\n",
    "@enduml"
   ]
  },
  {
   "attachments": {
    "image.png": {
     "image/png": "[encoded data removed]"
    }
   },
   "cell_type": "markdown",
   "metadata": {},
   "source": [
    "https://editor.plantuml.com/uml/SoWkIImgAStDuShCAqajIajCJbNmXB2gmb8pCfDBS_8LghaKW41R0IYPargKMAIXQQLGN5845KqhIir3YDLoSINd91ONApWd5XM1jC85d3AJCvDpKaiI8O8OjjZKwEb1TE6GWnl0vP2Qbm9qCm00\n",
    "\n",
    "![image.png](attachment:image.png)"
   ]
  },
  {
   "cell_type": "code",
   "execution_count": 1,
   "metadata": {},
   "outputs": [],
   "source": [
    "from abc import ABC, abstractmethod\n",
    "\n",
    "class InterfazVehiculo(ABC):\n",
    "    @abstractmethod\n",
    "    def acelerar(self) -> str:\n",
    "        pass\n",
    "\n",
    "    @abstractmethod\n",
    "    def frenar(self) -> str:\n",
    "        pass\n",
    "\n",
    "class Carro(InterfazVehiculo):\n",
    "    def acelerar(self) -> str:\n",
    "        return \"El carro acelera\"\n",
    "\n",
    "    def frenar(self) -> str:\n",
    "        return \"El carro frena\"\n",
    "\n",
    "class Bicicleta(InterfazVehiculo):\n",
    "    def acelerar(self) -> str:\n",
    "        return \"La bicicleta pedalea más rápido\"\n",
    "\n",
    "    def frenar(self) -> str:\n",
    "        return \"La bicicleta frena\""
   ]
  },
  {
   "cell_type": "code",
   "execution_count": 2,
   "metadata": {},
   "outputs": [
    {
     "name": "stdout",
     "output_type": "stream",
     "text": [
      "El carro acelera\n",
      "El carro frena\n",
      "La bicicleta pedalea más rápido\n",
      "La bicicleta frena\n"
     ]
    }
   ],
   "source": [
    "def probar_vehiculo(vehiculo: InterfazVehiculo) -> None:\n",
    "    print(vehiculo.acelerar())\n",
    "    print(vehiculo.frenar())\n",
    "\n",
    "carro: Carro = Carro()\n",
    "bicicleta: Bicicleta = Bicicleta()\n",
    "\n",
    "probar_vehiculo(vehiculo=carro)\n",
    "probar_vehiculo(vehiculo=bicicleta)"
   ]
  },
  {
   "cell_type": "code",
   "execution_count": 3,
   "metadata": {},
   "outputs": [
    {
     "name": "stdout",
     "output_type": "stream",
     "text": [
      "Error: Can't instantiate abstract class VehiculoIncompleto without an implementation for abstract method 'frenar'\n"
     ]
    }
   ],
   "source": [
    "# Esto causará un error\n",
    "class VehiculoIncompleto(InterfazVehiculo):\n",
    "    def acelerar(self) -> str:\n",
    "        return \"Acelerando\"\n",
    "    # No se implementa el método frenar()\n",
    "\n",
    "try:\n",
    "    vehiculo_incompleto = VehiculoIncompleto()\n",
    "except TypeError as e:\n",
    "    print(f\"Error: {e}\")"
   ]
  },
  {
   "cell_type": "markdown",
   "metadata": {},
   "source": [
    "## Ejercicios prácticos y preguntas de reflexión\n",
    "\n",
    "1. Crea una interfaz `Vehiculo` con métodos `acelerar` y `frenar`, e implementa dos clases: `Bicicleta` y `Automovil`.\n",
    "2. Modifica el ejemplo de animales para agregar una clase `Pajaro` que implemente la interfaz.\n",
    "3. ¿Por qué es útil definir interfaces en el desarrollo de software?\n",
    "\n",
    "### Autoevaluación\n",
    "- ¿Qué ventajas aporta el uso de interfaces?\n",
    "- ¿Puedes dar un ejemplo de interfaz en tu vida diaria?"
   ]
  },
  {
   "cell_type": "markdown",
   "metadata": {},
   "source": [
    "## Por qué usar interfaces\n",
    "\n",
    "1. **Abstracción**: Permiten trabajar con conceptos de alto nivel sin preocuparse por los detalles de implementación.\n",
    "\n",
    "2. **Polimorfismo**: Facilitan el tratamiento uniforme de objetos de diferentes clases.\n",
    "\n",
    "3. **Diseño modular**: Ayudan a crear sistemas más flexibles y fáciles de extender.\n",
    "\n",
    "4. **Contratos claros**: Establecen expectativas claras sobre el comportamiento de las clases."
   ]
  },
  {
   "cell_type": "markdown",
   "metadata": {},
   "source": [
    "## Conclusión\n",
    "\n",
    "Las interfaces en Python, ya sea mediante clases abstractas simples o usando el módulo `abc`, son una herramienta poderosa en la POO:\n",
    "\n",
    "- Proporcionan una forma de definir contratos para las clases.\n",
    "\n",
    "- Mejoran la estructura y el diseño del código.\n",
    "\n",
    "- Facilitan la creación de sistemas extensibles y mantenibles.\n",
    "\n",
    "- Promueven buenas prácticas de programación como el principio de sustitución de Liskov.\n",
    "\n",
    "Aunque Python no tiene interfaces nativas, las técnicas mostradas permiten lograr resultados similares. El uso de `ABC` y `@abstractmethod` ofrece un enfoque más robusto y cercano a las interfaces tradicionales, mientras que las interfaces sin ABC proporcionan una solución más flexible pero menos estricta.\n",
    "\n",
    "En el desarrollo de software moderno, las interfaces son cruciales para crear sistemas bien estructurados y fáciles de mantener. Son especialmente útiles en proyectos grandes o en el desarrollo de bibliotecas y frameworks donde la claridad y la consistencia son esenciales."
   ]
  },
  {
   "cell_type": "markdown",
   "metadata": {},
   "source": [
    "## Referencias y recursos\n",
    "- [Documentación oficial de Python: clases abstractas](https://docs.python.org/es/3/library/abc.html)\n",
    "- [Interfaces en Python - W3Schools](https://www.w3schools.com/python/python_classes.asp)\n",
    "- [Visualizador de objetos Python Tutor](https://pythontutor.com/)"
   ]
  },
  {
   "attachments": {
    "image-2.png": {
     "image/png": "[encoded data removed]"
    }
   },
   "cell_type": "markdown",
   "metadata": {},
   "source": [
    "## EJERCICIO INTERFAZ\n",
    "https://editor.plantuml.com/uml/TP312eCm38RlVOeU7GCVG7OGnYvZ364mTerj9vNOI5k7m_dkg-8s1vfBIFulVqXIvy7wfaAcZLVs3aBnFHb725Sj5HqRLP3Z7UCXjhni2h2ZK8v2j4cuytQk7bg1ZTEFPT6Sj54GaS6G4vuJuHzLa_MGQzGIPAHSDfQuH5hbBGcgQl3wCp01FMC2mJb-7euoadZNJvqCuNdnOOJChtdBgHqgjd3vxXN7NvzLO6QxoWnR64k3p_3kDm00\n",
    "\n",
    "![image-2.png](attachment:image-2.png)"
   ]
  },
  {
   "cell_type": "code",
   "execution_count": 14,
   "metadata": {},
   "outputs": [
    {
     "data": {
      "text/plain": [
       "'la consola es portable'"
      ]
     },
     "execution_count": 14,
     "metadata": {},
     "output_type": "execute_result"
    }
   ],
   "source": [
    "from abc import ABC, abstractmethod\n",
    "\n",
    "class InterfazConsolaVideoJuegos(ABC):\n",
    "    @abstractmethod\n",
    "    def jugarVideoJuegos(self) -> str:\n",
    "        pass\n",
    "\n",
    "    @abstractmethod\n",
    "    def jugarExclusivos(self) -> str:\n",
    "        pass\n",
    "\n",
    "    @abstractmethod\n",
    "    def jugarEnLinea(self, online:bool) -> str:\n",
    "        pass\n",
    "\n",
    "    @abstractmethod\n",
    "    def portabilidad(self, esPortable:bool) -> str:\n",
    "        pass\n",
    "\n",
    "    @abstractmethod\n",
    "    def retrocompatibilidad() -> str:\n",
    "        pass\n",
    "\n",
    "class Nintendo(InterfazConsolaVideoJuegos):\n",
    "    def jugarVideoJuegos():\n",
    "        return \"Permite jugar la lista de videojuegos creados para nintendo\"\n",
    "\n",
    "    def jugarExclusivos():\n",
    "        return \"Tiene juegos exclusivos de Nintendo\"\n",
    "\n",
    "    def jugarEnLinea(online: bool):\n",
    "        if(online):\n",
    "            return \"es posible jugar en linea\"\n",
    "        else:\n",
    "            return \"No tiene la opcion de jugar en linea\"\n",
    "\n",
    "    def portabilidad(esPortable: bool):\n",
    "        esPortable = esPortable\n",
    "\n",
    "        if(esPortable):\n",
    "            return \"la consola es portable\"\n",
    "        else:\n",
    "            return \"la consola no es portable\"\n",
    "\n",
    "    def retrocompatibilidad():\n",
    "        return \"no es retrocompatible\"\n",
    "\n",
    "class PlayStation(InterfazConsolaVideoJuegos):\n",
    "    def jugarVideoJuegos():\n",
    "        return \"Permite jugar la lista de videojuegos creados para play station\"\n",
    "\n",
    "    def jugarExclusivos():\n",
    "        return \"Tiene juegos exclusivos de play station\"\n",
    "\n",
    "    def jugarEnLinea(online: bool):\n",
    "        if(online):\n",
    "            return \"es posible jugar en linea\"\n",
    "        else:\n",
    "            return \"No tiene la opcion de jugar en linea\"\n",
    "\n",
    "    def portabilidad(esPortable: bool):\n",
    "\n",
    "        if(esPortable):\n",
    "            return \"la consola es portable\"\n",
    "        else:\n",
    "            return \"la consola no es portable\"\n",
    "\n",
    "    def retrocompatibilidad():\n",
    "        return \"no es retrocompatible\"\n",
    "\n",
    "class Xbox(InterfazConsolaVideoJuegos):\n",
    "    def jugarVideoJuegos():\n",
    "        return \"Permite jugar la lista de videojuegos creados para xbox\"\n",
    "\n",
    "    def jugarExclusivos():\n",
    "        return \"Tiene juegos exclusivos de xbox\"\n",
    "\n",
    "    def jugarEnLinea(online: bool):\n",
    "        if(online):\n",
    "            return \"es posible jugar en linea\"\n",
    "        else:\n",
    "            return \"No tiene la opcion de jugar en linea\"\n",
    "\n",
    "    def portabilidad(esPortable: bool):\n",
    "        esPortable\n",
    "\n",
    "        if(esPortable):\n",
    "            return \"la consola es portable\"\n",
    "        else:\n",
    "            return \"la consola no es portable\"\n",
    "\n",
    "    def retrocompatibilidad():\n",
    "        return \"no es retrocompatible\"\n",
    "\n",
    "nintendo: Nintendo = Nintendo\n",
    "nintendo.portabilidad(esPortable=True)\n"
   ]
  }
 ],
 "metadata": {
  "kernelspec": {
   "display_name": "Python 3",
   "language": "python",
   "name": "python3"
  },
  "language_info": {
   "codemirror_mode": {
    "name": "ipython",
    "version": 3
   },
   "file_extension": ".py",
   "mimetype": "text/x-python",
   "name": "python",
   "nbconvert_exporter": "python",
   "pygments_lexer": "ipython3",
   "version": "3.11.9"
  }
 },
 "nbformat": 4,
 "nbformat_minor": 2
}
