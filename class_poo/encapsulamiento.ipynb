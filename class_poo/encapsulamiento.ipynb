{
 "cells": [
  {
   "cell_type": "markdown",
   "metadata": {},
   "source": [
    "# Encapsulamiento en Programación Orientada a Objetos\n",
    "\n",
    "Bienvenido/a. En esta lección aprenderás el principio de encapsulamiento, esencial para proteger y organizar los datos en tus programas orientados a objetos.\n",
    "\n",
    "## Objetivos\n",
    "- Comprender qué es el encapsulamiento y su importancia en POO.\n",
    "- Aplicar el control de acceso a los atributos y métodos de una clase.\n",
    "- Relacionar el encapsulamiento con ejemplos de la vida real.\n",
    "\n",
    "---\n",
    "\n",
    "**Ejemplo de la vida real:** Piensa en una cuenta bancaria: solo puedes interactuar con ella a través de un cajero o una app, pero no puedes acceder directamente al sistema interno del banco. Eso es encapsulamiento."
   ]
  },
  {
   "cell_type": "markdown",
   "metadata": {},
   "source": [
    "# Encapsulamiento en Programación Orientada a Objetos\n",
    "\n",
    "El encapsulamiento es uno de los principios fundamentales de la Programación Orientada a Objetos. Se refiere a la agrupación de datos y los métodos que operan sobre esos datos dentro de una unidad o clase. Además, implica la restricción del acceso directo a algunos de los componentes del objeto.\n",
    "\n",
    "## Explicación\n",
    "El encapsulamiento permite:\n",
    "\n",
    "1. **Ocultar la implementación interna**: Los detalles de cómo se implementa una clase se mantienen ocultos del mundo exterior.\n",
    "\n",
    "2. **Control de acceso**: Se puede controlar cómo y qué partes del objeto son accesibles desde fuera de la clase.\n",
    "\n",
    "3. **Flexibilidad y mantenibilidad**: Permite cambiar la implementación interna sin afectar el código que usa la clase.\n",
    "\n",
    "4. **Integridad de datos**: Ayuda a mantener los datos en un estado consistente al restringir el acceso directo."
   ]
  },
  {
   "cell_type": "markdown",
   "metadata": {},
   "source": [
    "## Ejemplo práctico\n",
    "\n",
    "En este ejemplo:\n",
    "\n",
    "1. `CuentaBancaria` encapsula los datos (`__titular` y `__saldo`) y los métodos que operan sobre ellos.\n",
    "\n",
    "2. Los atributos `__titular` y `__saldo` son privados (indicado por el doble guion bajo).\n",
    "\n",
    "3. Se proporcionan métodos públicos (`depositar`, `retirar`, `obtener_saldo`, `obtener_titular`) para interactuar con los datos privados.\n",
    "\n",
    "4. Los métodos `depositar` y `retirar` incluyen lógica para mantener la integridad de los datos.\n",
    "\n",
    "5. El acceso directo a `__saldo` desde fuera de la clase resulta en un error."
   ]
  },
  {
   "cell_type": "code",
   "execution_count": null,
   "metadata": {},
   "outputs": [],
   "source": [
    "class CuentaBancaria:\n",
    "    def __init__(self, titular: str, saldo_inicial: float, contraseña: str) -> None:\n",
    "        self.__titular: str = titular\n",
    "        self.__saldo: float = saldo_inicial\n",
    "        self.__contrasena: str = contraseña \n",
    "\n",
    "    def depositar(self, cantidad: float) -> bool:\n",
    "        if cantidad > 0:\n",
    "            self.__saldo += cantidad\n",
    "            return True\n",
    "        return False\n",
    "\n",
    "    def retirar(self, cantidad: float) -> bool:\n",
    "        if 0 < cantidad <= self.__saldo:\n",
    "            self.__saldo -= cantidad\n",
    "            return True\n",
    "        return False\n",
    "\n",
    "    def obtener_saldo(self) -> float:\n",
    "        return self.__saldo\n",
    "\n",
    "    def obtener_titular(self) -> str:\n",
    "        return self.__titular\n",
    "    \n",
    "    def cambiar_titular(self, nuevo_titular: str, contrasena: str) -> str:\n",
    "        if contrasena == self.__contrasena:\n",
    "            self.__titular = nuevo_titular\n",
    "            return f\"Titular cambiado a {nuevo_titular}.\"\n",
    "        else:\n",
    "            return \"Contraseña incorrecta. No se pudo cambiar el titular.\""
   ]
  },
  {
   "cell_type": "code",
   "execution_count": 2,
   "metadata": {},
   "outputs": [
    {
     "name": "stdout",
     "output_type": "stream",
     "text": [
      "Saldo inicial: 1000\n",
      "Saldo después del depósito: 1500\n",
      "Saldo después del retiro: 1300\n"
     ]
    }
   ],
   "source": [
    "cuenta = CuentaBancaria(titular=\"Juan Pérez\", saldo_inicial=1000)\n",
    "print(f\"Saldo inicial: {cuenta.obtener_saldo()}\")\n",
    "\n",
    "cuenta.depositar(500)\n",
    "print(f\"Saldo después del depósito: {cuenta.obtener_saldo()}\")\n",
    "\n",
    "cuenta.retirar(200)\n",
    "print(f\"Saldo después del retiro: {cuenta.obtener_saldo()}\")\n"
   ]
  },
  {
   "cell_type": "code",
   "execution_count": 3,
   "metadata": {},
   "outputs": [
    {
     "name": "stdout",
     "output_type": "stream",
     "text": [
      "Error: 'CuentaBancaria' object has no attribute '__saldo'\n",
      "1300\n",
      "Juan Pérez\n"
     ]
    }
   ],
   "source": [
    "# Intentando acceder directamente a los atributos privados\n",
    "try:\n",
    "    print(cuenta.__saldo)\n",
    "except AttributeError as e:\n",
    "    print(f\"Error: {e}\")\n",
    "\n",
    "# Accediendo a los atributos privados usando name mangling\n",
    "print(cuenta._CuentaBancaria__saldo)\n",
    "print(cuenta._CuentaBancaria__titular)"
   ]
  },
  {
   "cell_type": "markdown",
   "metadata": {},
   "source": [
    "## Ejercicios prácticos y preguntas de reflexión\n",
    "\n",
    "1. Crea una clase `CajaFuerte` con un atributo privado `__codigo` y métodos para guardar y extraer objetos solo si el código es correcto.\n",
    "2. Modifica la clase `CuentaBancaria` para agregar un método que permita cambiar el titular solo si se proporciona una contraseña correcta.\n",
    "3. ¿Por qué es importante restringir el acceso directo a los atributos de una clase?\n",
    "\n",
    "### Autoevaluación\n",
    "- ¿Qué ventajas aporta el encapsulamiento al desarrollo de software?\n",
    "- ¿Puedes dar un ejemplo de encapsulamiento en tu vida diaria?"
   ]
  },
  {
   "cell_type": "code",
   "execution_count": null,
   "metadata": {},
   "outputs": [],
   "source": [
    "class CajaFuerte:\n",
    "    def __init__(self, codigo: str) -> None:\n",
    "        self.__codigo = codigo   \n",
    "        self.__contenido = [] \n",
    "\n",
    "def guardar(self, objeto: str, codigo: str)-> str:\n",
    "    if codigo == self.__codigo:\n",
    "        self.__contenido.append(objeto) \n",
    "        return f\"Objeto '{objeto}' guardado en la caja fuerte.\"\n",
    "    else:\n",
    "        return \"Código incorrecto. No se pudo guardar el objeto.\"   \n",
    "\n",
    "def extraer(self, objeto: str, codigo: str)-> str:\n",
    "    if codigo == self.__codigo:\n",
    "        if objeto in self.__contenido:\n",
    "            self.__contenido.remove(objeto)\n",
    "            return f\"Objeto '{objeto}' extraído de la caja fuerte.\"\n",
    "        else:\n",
    "            return f\"El objeto '{objeto}' no está en la caja fuerte.\"\n",
    "    else:\n",
    "        return \"Código incorrecto. No se pudo guardar el objeto.\" "
   ]
  },
  {
   "cell_type": "markdown",
   "metadata": {},
   "source": [
    "Es importante no dejar que cualquiera cambie directamente los datos de una clase porque así evitamos errores, mantenemos la información segura y nos aseguramos de que solo se pueda modificar de la forma correcta."
   ]
  },
  {
   "cell_type": "code",
   "execution_count": 4,
   "metadata": {},
   "outputs": [
    {
     "name": "stdout",
     "output_type": "stream",
     "text": [
      "1300\n",
      "Juan Pérez\n",
      "['_CuentaBancaria__saldo', '_CuentaBancaria__titular', '__class__', '__delattr__', '__dict__', '__dir__', '__doc__', '__eq__', '__firstlineno__', '__format__', '__ge__', '__getattribute__', '__getstate__', '__gt__', '__hash__', '__init__', '__init_subclass__', '__le__', '__lt__', '__module__', '__ne__', '__new__', '__reduce__', '__reduce_ex__', '__repr__', '__setattr__', '__sizeof__', '__static_attributes__', '__str__', '__subclasshook__', '__weakref__', 'depositar', 'obtener_saldo', 'obtener_titular', 'retirar']\n"
     ]
    }
   ],
   "source": [
    "# Accediendo a los atributos privados usando name mangling\n",
    "print(cuenta._CuentaBancaria__saldo)\n",
    "print(cuenta._CuentaBancaria__titular)\n",
    "\n",
    "# Listado de métodos y atributos de la clase\n",
    "print(dir(cuenta))"
   ]
  },
  {
   "cell_type": "markdown",
   "metadata": {},
   "source": [
    "## Características del encapsulamiento en Python\n",
    "\n",
    "Python utiliza una forma de encapsulamiento basada en convenciones, conocida como \"name mangling\":\n",
    "\n",
    "- Los atributos con doble guion bajo (`__`) al principio se \"manglan\" para dificultar el acceso desde fuera de la clase.\n",
    "\n",
    "- Esto no es una restricción estricta, sino una convención que dificulta el acceso accidental.\n",
    "\n",
    "- Se puede acceder a estos atributos usando `_NombreClase__atributo`, aunque no se recomienda."
   ]
  },
  {
   "cell_type": "markdown",
   "metadata": {},
   "source": [
    "## Beneficios del encapsulamiento en este ejemplo\n",
    "\n",
    "1. **Protección de datos**: El saldo no puede ser modificado directamente, solo a través de métodos controlados.\n",
    "\n",
    "2. **Validación de datos**: Los métodos `depositar` y `retirar` aseguran que las operaciones sean válidas.\n",
    "\n",
    "3. **Abstracción**: Los usuarios de la clase no necesitan conocer cómo se almacena o maneja internamente el saldo.\n",
    "\n",
    "4. **Flexibilidad**: La implementación interna puede cambiar sin afectar el código que usa la clase."
   ]
  },
  {
   "cell_type": "markdown",
   "metadata": {},
   "source": [
    "## Conclusión\n",
    "\n",
    "El encapsulamiento es una herramienta poderosa en la POO que permite crear código más robusto, mantenible y seguro. Ofrece varias ventajas:\n",
    "\n",
    "- **Seguridad de datos**: Protege los datos de accesos y modificaciones no autorizados.\n",
    "\n",
    "- **Modularidad**: Facilita el desarrollo y mantenimiento de código al separar la interfaz de la implementación.\n",
    "\n",
    "- **Flexibilidad**: Permite cambiar la implementación interna sin afectar el código externo.\n",
    "\n",
    "- **Abstracción**: Simplifica el uso de la clase al ocultar detalles innecesarios.\n",
    "\n",
    "Sin embargo, es importante recordar que en Python, el encapsulamiento es más una convención que una restricción estricta. Los desarrolladores deben respetar estas convenciones para aprovechar plenamente los beneficios del encapsulamiento.\n",
    "\n",
    "En el desarrollo de software moderno, el encapsulamiento se utiliza ampliamente para crear APIs limpias y robustas, mejorar la seguridad de los datos y facilitar el mantenimiento del código a largo plazo. Dominar el concepto de encapsulamiento es esencial para cualquier desarrollador que trabaje con programación orientada a objetos, ya que permite crear sistemas más organizados, seguros y fáciles de mantener."
   ]
  },
  {
   "cell_type": "markdown",
   "metadata": {},
   "source": [
    "## Referencias y recursos\n",
    "- [Documentación oficial de Python: clases y encapsulamiento](https://docs.python.org/es/3/tutorial/classes.html)\n",
    "- [Encapsulamiento en Python - W3Schools](https://www.w3schools.com/python/python_classes.asp)\n",
    "- [Visualizador de objetos Python Tutor](https://pythontutor.com/)"
   ]
  }
 ],
 "metadata": {
  "kernelspec": {
   "display_name": "venv",
   "language": "python",
   "name": "python3"
  },
  "language_info": {
   "codemirror_mode": {
    "name": "ipython",
    "version": 3
   },
   "file_extension": ".py",
   "mimetype": "text/x-python",
   "name": "python",
   "nbconvert_exporter": "python",
   "pygments_lexer": "ipython3",
   "version": "3.13.1"
  }
 },
 "nbformat": 4,
 "nbformat_minor": 2
}
