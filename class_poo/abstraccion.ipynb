{
 "cells": [
  {
   "cell_type": "markdown",
   "metadata": {},
   "source": [
    "# Abstracción en Programación Orientada a Objetos\n",
    "\n",
    "Bienvenido/a. En esta lección aprenderás el concepto de abstracción, clave para modelar sistemas complejos de forma sencilla y efectiva en POO.\n",
    "\n",
    "## Objetivos\n",
    "- Comprender qué es la abstracción y su importancia en POO.\n",
    "- Identificar cómo aplicar la abstracción en el diseño de clases.\n",
    "- Relacionar la abstracción con ejemplos de la vida real.\n",
    "\n",
    "---\n",
    "\n",
    "**Ejemplo de la vida real:** Cuando conduces un carro, solo te interesa el volante, los pedales y el tablero. No necesitas saber cómo funciona el motor internamente: eso es abstracción."
   ]
  },
  {
   "cell_type": "markdown",
   "metadata": {},
   "source": [
    "# Abstracción en Programación Orientada a Objetos\n",
    "\n",
    "La abstracción es un concepto fundamental en la Programación Orientada a Objetos (POO) que permite simplificar sistemas complejos al modelar clases apropiadas para el problema en cuestión, centrándose en los detalles importantes y ocultando la complejidad innecesaria.\n",
    "\n",
    "## Explicación\n",
    "La abstracción permite:\n",
    "\n",
    "1. **Simplificar la realidad**: Representar objetos del mundo real de manera simplificada en el código.\n",
    "\n",
    "2. **Ocultar detalles de implementación**: Exponer sólo la interfaz necesaria y ocultar los detalles internos de la implementación.\n",
    "\n",
    "3. **Mejorar la mantenibilidad**: Facilitar cambios en la implementación sin afectar el código que usa la abstracción.\n",
    "\n",
    "4. **Promover la reutilización**: Crear componentes más genéricos y reutilizables."
   ]
  },
  {
   "cell_type": "markdown",
   "metadata": {},
   "source": [
    "## Ejemplos prácticos\n",
    "\n",
    "### Ejemplo 1: Simulación de vuelo\n",
    "\n",
    "En este ejemplo, la clase `AirPlane` es una abstracción de un avión real. Observemos cómo se aplica la abstracción:\n",
    "\n",
    "1. **Atributos relevantes**: Se han seleccionado solo los atributos más importantes para la simulación (velocidad, altitud, ángulos de rotación).\n",
    "\n",
    "2. **Método simplificado**: El método `fly()` es una representación simplificada del vuelo real.\n",
    "\n",
    "3. **Representación en cadena**: El método `__str__()` proporciona una representación concisa del estado del avión."
   ]
  },
  {
   "cell_type": "code",
   "execution_count": null,
   "metadata": {
    "vscode": {
     "languageId": "plaintext"
    }
   },
   "outputs": [],
   "source": [
    "@startuml\n",
    "' Ejemplo 1: AirPlane (simulación de vuelo)\n",
    "class AirPlane {\n",
    "    + speed: int\n",
    "    + altitude: int\n",
    "    + roll_angle: int\n",
    "    + pitch_angle: int\n",
    "    + yaw_angle: int\n",
    "    + fly()\n",
    "}\n",
    "@enduml\n",
    "https://editor.plantuml.com/uml/PSuz3i8m38RXtQVmHYicravbOES6o4eC63a_IXnGXJWLH-1YT402r6zyz0tlM8sAjQ2mmjs5GzQ4cm6tKlPAaR6h4fgIazSpecUyDjRKWrEgzVkw0yvROytCVa29zW5I4skUVwqarGF5a_vf5dFd9KzqM-9Hfww71umS_Pp-1W00"
   ]
  },
  {
   "attachments": {
    "image.png": {
     "image/png": "[encoded data removed]"
    }
   },
   "cell_type": "markdown",
   "metadata": {},
   "source": [
    "![image.png](attachment:image.png)"
   ]
  },
  {
   "cell_type": "code",
   "execution_count": 1,
   "metadata": {},
   "outputs": [],
   "source": [
    "class AirPlane:\n",
    "    def __init__(self, speed: int, altitude: int, roll_angle: int, pitch_angle: int, yaw_angle: int) -> None:\n",
    "        self.speed: int = speed\n",
    "        self.altitude: int = altitude\n",
    "        self.roll_angle: int = roll_angle\n",
    "        self.pitch_angle: int = pitch_angle\n",
    "        self.yaw_angle: int = yaw_angle\n",
    "\n",
    "    def fly(self) -> None:\n",
    "        print(f\"Airplane is flying at {self.speed} km/h\")\n",
    "\n",
    "    def __str__(self) -> str:\n",
    "        return f\"{self.speed} km/h, {self.altitude} m, {self.roll_angle}°, {self.pitch_angle}°, {self.yaw_angle}°\""
   ]
  },
  {
   "cell_type": "code",
   "execution_count": 2,
   "metadata": {},
   "outputs": [
    {
     "name": "stdout",
     "output_type": "stream",
     "text": [
      "900 km/h, 10000 m, 0°, 0°, 0°\n",
      "Airplane is flying at 900 km/h\n"
     ]
    }
   ],
   "source": [
    "air_plane = AirPlane(speed=900, altitude=10000, roll_angle=0, pitch_angle=0, yaw_angle=0)\n",
    "print(air_plane)\n",
    "air_plane.fly()"
   ]
  },
  {
   "cell_type": "markdown",
   "metadata": {},
   "source": [
    "\n",
    "### Ejemplo 2: Reserva de vuelo\n",
    "\n",
    "En este segundo ejemplo, la clase `AirPlane` es una abstracción centrada en la reserva de asientos. Veamos cómo se aplica la abstracción:\n",
    "\n",
    "1. **Atributos simplificados**: Solo se consideran el número de asientos y si es VIP.\n",
    "\n",
    "2. **Métodos específicos**: Se incluyen métodos relevantes para la reserva (`reserve_seat`, `validate_seat`, `get_price`).\n",
    "\n",
    "3. **Encapsulación**: La validación de asientos está encapsulada en un método separado.\n",
    "\n",
    "4. **Lógica de precios simplificada**: Se usa una lógica simple para determinar el precio basado en el número de asiento."
   ]
  },
  {
   "cell_type": "code",
   "execution_count": null,
   "metadata": {
    "vscode": {
     "languageId": "plaintext"
    }
   },
   "outputs": [],
   "source": [
    "@startuml\n",
    "' Ejemplo 2: AirPlane (reserva de vuelo)\n",
    "class AirPlaneReserva {\n",
    "    + seats: int\n",
    "    + is_vip: bool\n",
    "    + reserve_seat(seat_number)\n",
    "    + validate_seat(seat_number)\n",
    "    + get_price(seat_number)\n",
    "}\n",
    "@enduml\n",
    "https://editor.plantuml.com/uml/TO-x3i8m34NtV8KtMh4nPYe3E-878hUna97pK9ncGVmxhOYG6BY3XtkEBDr9AvQw1Z47k3meP4bmid3cSXMC14CXfT8GF45RIT9e5a7Lht7h_6bWon6KiAe5ZhKNhAvnjZ2d9Btw_2ItkyD-N5p3J6NilA6mn_fVk5DrkV12l_1b9ef-6_C6"
   ]
  },
  {
   "attachments": {
    "image.png": {
     "image/png": "[encoded data removed]"
    }
   },
   "cell_type": "markdown",
   "metadata": {},
   "source": [
    "![image.png](attachment:image.png)"
   ]
  },
  {
   "cell_type": "code",
   "execution_count": 3,
   "metadata": {},
   "outputs": [],
   "source": [
    "class AirPlane:\n",
    "    def __init__(self, seats: int, is_vip: bool) -> None:\n",
    "        self.seats: int = seats\n",
    "        self.is_vip: bool = is_vip\n",
    "\n",
    "    def reserve_seat(self, seat_number: int) -> None:\n",
    "        if not self.validate_seat(seat_number):\n",
    "            print(f\"Seat number {seat_number} is not valid\")\n",
    "            return\n",
    "        print(f\"Seat number {seat_number} is reserved\")\n",
    "\n",
    "    def validate_seat(self, seat_number: int) -> bool:\n",
    "        return seat_number <= self.seats\n",
    "\n",
    "    def get_price(self, seat_number: int) -> float:\n",
    "        if 0 < seat_number <= self.seats // 2:\n",
    "            return 100.0\n",
    "        return 200.0\n",
    "\n",
    "    def __str__(self) -> str:\n",
    "        return f\"{self.seats} seats\""
   ]
  },
  {
   "cell_type": "code",
   "execution_count": 4,
   "metadata": {},
   "outputs": [
    {
     "name": "stdout",
     "output_type": "stream",
     "text": [
      "150 seats\n",
      "Seat number 10 is reserved\n",
      "200.0\n",
      "Seat number 200 is not valid\n"
     ]
    }
   ],
   "source": [
    "air_plane = AirPlane(seats=150, is_vip=False)\n",
    "print(air_plane)\n",
    "air_plane.reserve_seat(seat_number=10)\n",
    "print(air_plane.get_price(seat_number=120))\n",
    "air_plane.reserve_seat(seat_number=200)"
   ]
  },
  {
   "cell_type": "markdown",
   "metadata": {},
   "source": [
    "## Ejercicios prácticos y preguntas de reflexión\n",
    "\n",
    "1. Piensa en otro objeto del mundo real (por ejemplo, un teléfono móvil). ¿Qué atributos y métodos incluirías en su clase para aplicar la abstracción?"
   ]
  },
  {
   "cell_type": "code",
   "execution_count": null,
   "metadata": {},
   "outputs": [],
   "source": [
    "class Telefono:\n",
    "  def __init__(self, marca: str, modelo: str, capacidad_bateria: int, almacenamiento: int) -> None:\n",
    "    self.marca: str = marca\n",
    "    self.modelo: str = modelo\n",
    "    self.capacidad_bateria: int = capacidad_bateria  # en mAh\n",
    "    self.almacenamiento: int = almacenamiento  # en GB\n",
    "\n",
    "  def hacer_llamada(self, numero: str) -> None:\n",
    "    print(f\"Llamando al número {numero}...\")\n",
    "\n",
    "  def enviar_mensaje(self, numero: str, mensaje: str) -> None:\n",
    "    print(f\"Enviando mensaje a {numero}: {mensaje}\")\n",
    "\n",
    "  def navegar_internet(self, url: str) -> None:\n",
    "    print(f\"Navegando a {url}...\")"
   ]
  },
  {
   "cell_type": "markdown",
   "metadata": {},
   "source": [
    "@startuml\n",
    "class Telefono {\n",
    "    + marca: str\n",
    "    + modelo: str\n",
    "    + capacidad_bateria: int\n",
    "    + almacenamiento: int\n",
    "    + hacer_llamada(numero: str) -> None\n",
    "    + enviar_mensaje(numero: str, mensaje: str) -> None\n",
    "    + navegar_internet(url: str) -> None\n",
    "}\n",
    "@enduml"
   ]
  },
  {
   "attachments": {
    "image.png": {
     "image/png": "[encoded data removed]"
    }
   },
   "cell_type": "markdown",
   "metadata": {},
   "source": [
    "![image.png](attachment:image.png)"
   ]
  },
  {
   "cell_type": "markdown",
   "metadata": {},
   "source": [
    "2. Modifica la clase `AirPlane` para agregar un método que simule el aterrizaje."
   ]
  },
  {
   "cell_type": "code",
   "execution_count": null,
   "metadata": {},
   "outputs": [],
   "source": [
    "class AirPlane:\n",
    "    def __init__(self, speed: int, altitude: int, roll_angle: int, pitch_angle: int, yaw_angle: int) -> None:\n",
    "        self.speed: int = speed\n",
    "        self.altitude: int = altitude\n",
    "        self.roll_angle: int = roll_angle\n",
    "        self.pitch_angle: int = pitch_angle\n",
    "        self.yaw_angle: int = yaw_angle\n",
    "\n",
    "    def fly(self) -> None:\n",
    "        print(f\"Airplane is flying at {self.speed} km/h\")\n",
    "\n",
    "    # Nuevo método implementado\n",
    "    def land(self) -> None:\n",
    "        print(\"Airplane is landing...\")\n",
    "\n",
    "    def __str__(self) -> str:\n",
    "        return f\"{self.speed} km/h, {self.altitude} m, {self.roll_angle}°, {self.pitch_angle}°, {self.yaw_angle}°\""
   ]
  },
  {
   "cell_type": "raw",
   "metadata": {
    "vscode": {
     "languageId": "raw"
    }
   },
   "source": [
    "@startuml\n",
    "class AirPlane {\n",
    "    + speed: int\n",
    "    + altitude: int\n",
    "    + roll_angle: int\n",
    "    + pitch_angle: int\n",
    "    + yaw_angle: int\n",
    "    + fly()\n",
    "    + land()\n",
    "}\n",
    "@enduml"
   ]
  },
  {
   "attachments": {
    "image.png": {
     "image/png": "[encoded data removed]"
    }
   },
   "cell_type": "markdown",
   "metadata": {},
   "source": [
    "![image.png](attachment:image.png)"
   ]
  },
  {
   "cell_type": "markdown",
   "metadata": {},
   "source": [
    "3. ¿Por qué es útil ocultar detalles de implementación en una clase?\n",
    "\n",
    "Ocultar detalles de implementación en una clase es útil por varias razones:\n",
    "1. **Abstracción**: Permite a los usuarios interactuar con la clase a un nivel más alto sin preocuparse por los detalles internos. Esto simplifica el uso de la clase y mejora la legibilidad del código.\n",
    "2. **Encapsulamiento**: Al ocultar los detalles de implementación, se protege el estado interno de la clase y se previene el acceso no autorizado o la modificación de sus atributos. Esto ayuda a mantener la integridad de los datos.\n",
    "3. **Facilidad de mantenimiento**: Si los detalles de implementación cambian, solo es necesario modificar la clase en un lugar, en lugar de actualizar todas las partes del código que interactúan con ella. Esto reduce el riesgo de introducir errores.\n",
    "4. **Reutilización**: Las clases bien diseñadas y encapsuladas son más fáciles de reutilizar en diferentes contextos, ya que su funcionamiento interno está oculto y se puede cambiar sin afectar a los usuarios de la clase."
   ]
  },
  {
   "cell_type": "markdown",
   "metadata": {},
   "source": [
    "### Autoevaluación\n",
    "- ¿Qué ventajas aporta la abstracción al desarrollo de software?\n",
    "\n",
    "La abstracción aporta varias ventajas al desarrollo de software:\n",
    "1. **Simplificación**: Permite a los desarrolladores centrarse en los aspectos esenciales de un problema sin distraerse con detalles innecesarios.\n",
    "2. **Mejora de la legibilidad**: El código abstraído es más fácil de leer y entender, lo que facilita la colaboración entre desarrolladores.\n",
    "3. **Reducción de la complejidad**: Al ocultar los detalles de implementación, se reduce la complejidad del sistema, lo que facilita su diseño y mantenimiento.\n",
    "4. **Facilidad de mantenimiento**: Los cambios en la implementación interna de una clase no afectan a los usuarios de la clase, lo que permite realizar modificaciones sin temor a romper la funcionalidad existente."
   ]
  },
  {
   "cell_type": "markdown",
   "metadata": {},
   "source": [
    "- ¿Puedes dar un ejemplo de abstracción en tu vida diaria?\n",
    "\n",
    "Un ejemplo de abstracción en la vida diaria es el uso de un automóvil.\n",
    "Cuando conduces un automóvil, no necesitas entender cómo funciona el motor, la transmisión o los sistemas eléctricos. Solo necesitas saber cómo usar los controles básicos, como el volante, los pedales y las luces. El automóvil abstrae todos los detalles técnicos y te permite concentrarte en la tarea de conducir."
   ]
  },
  {
   "cell_type": "markdown",
   "metadata": {},
   "source": [
    "## Conclusión\n",
    "\n",
    "La abstracción en POO nos permite modelar sistemas complejos de manera más manejable. En los ejemplos de `AirPlane`, vemos cómo podemos representar diferentes aspectos de un avión (su vuelo y su sistema de reservas) de forma simplificada, centrándose en los detalles relevantes para cada caso de uso.\n",
    "\n",
    "Esta capacidad de abstraer conceptos complejos en modelos más simples y manejables es fundamental en el desarrollo de software. Permite a los desarrolladores crear sistemas más organizados, flexibles y fáciles de mantener. Además, facilita la comunicación entre diferentes partes del sistema y entre los miembros del equipo de desarrollo.\n",
    "\n",
    "En el mundo real del desarrollo de software, la abstracción nos ayuda a crear APIs limpias, frameworks flexibles y sistemas que pueden evolucionar con el tiempo sin necesidad de reescribir grandes porciones de código. Es una habilidad esencial para cualquier desarrollador de software que busque crear soluciones elegantes y duraderas."
   ]
  },
  {
   "cell_type": "markdown",
   "metadata": {},
   "source": [
    "## Referencias y recursos\n",
    "- [Documentación oficial de Python: clases y abstracción](https://docs.python.org/es/3/tutorial/classes.html)\n",
    "- [POO en Python - Abstracción (W3Schools)](https://www.w3schools.com/python/python_classes.asp)\n",
    "- [Visualizador de objetos Python Tutor](https://pythontutor.com/)"
   ]
  }
 ],
 "metadata": {
  "kernelspec": {
   "display_name": ".venv (3.12.7)",
   "language": "python",
   "name": "python3"
  },
  "language_info": {
   "codemirror_mode": {
    "name": "ipython",
    "version": 3
   },
   "file_extension": ".py",
   "mimetype": "text/x-python",
   "name": "python",
   "nbconvert_exporter": "python",
   "pygments_lexer": "ipython3",
   "version": "3.12.7"
  }
 },
 "nbformat": 4,
 "nbformat_minor": 2
}
