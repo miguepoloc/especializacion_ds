{
 "cells": [
  {
   "cell_type": "markdown",
   "metadata": {},
   "source": [
    "# Polimorfismo en Programación Orientada a Objetos\n",
    "\n",
    "Bienvenido/a. En esta lección aprenderás el principio de polimorfismo, clave para la flexibilidad y reutilización del código en POO.\n",
    "\n",
    "## Objetivos\n",
    "- Comprender qué es el polimorfismo y su importancia en POO.\n",
    "- Implementar polimorfismo en Python usando clases y métodos.\n",
    "- Aplicar polimorfismo en ejemplos de la vida real.\n",
    "\n",
    "---\n",
    "\n",
    "**Ejemplo de la vida real:** Piensa en la función \"encender\" de diferentes dispositivos: puedes encender una lámpara, un televisor o un computador, pero la acción se realiza de manera diferente en cada uno. Eso es polimorfismo."
   ]
  },
  {
   "cell_type": "markdown",
   "metadata": {},
   "source": [
    "# Polimorfismo en Programación Orientada a Objetos\n",
    "\n",
    "El polimorfismo es uno de los pilares fundamentales de la Programación Orientada a Objetos (POO). La palabra \"polimorfismo\" proviene del griego y significa \"muchas formas\". En el contexto de la programación, se refiere a la capacidad de objetos de diferentes clases de responder al mismo mensaje o método de diferentes maneras. En otras palabras, objetos de diferentes clases pueden ser accedidos utilizando el mismo interfaz, mostrando un comportamiento distinto (tomando diferentes formas) según cómo sean accedidos.\n",
    "\n",
    "## Explicación\n",
    "\n",
    "El polimorfismo permite:\n",
    "\n",
    "1. **Flexibilidad**: Tratar objetos de diferentes clases de manera uniforme.\n",
    "\n",
    "2. **Extensibilidad**: Añadir nuevas clases sin modificar el código existente.\n",
    "\n",
    "3. **Abstracción**: Trabajar con conceptos de alto nivel sin preocuparse por los detalles de implementación.\n",
    "\n",
    "4. **Reutilización de código**: Escribir funciones que pueden operar sobre objetos de múltiples clases."
   ]
  },
  {
   "cell_type": "markdown",
   "metadata": {},
   "source": [
    "@startuml\n",
    "abstract class Vehiculo {\n",
    "    + marca: str\n",
    "    + modelo: str\n",
    "    + _mover()_: str\n",
    "    + describir(): str\n",
    "}\n",
    "\n",
    "class Carro {\n",
    "    + mover(): str\n",
    "}\n",
    "\n",
    "class Avion {\n",
    "    + mover(): str\n",
    "}\n",
    "\n",
    "class Barco {\n",
    "    + mover(): str\n",
    "}\n",
    "\n",
    "Vehiculo <|-- Carro\n",
    "Vehiculo <|-- Avion\n",
    "Vehiculo <|-- Barco\n",
    "@enduml"
   ]
  },
  {
   "attachments": {
    "image.png": {
     "image/png": "[encoded data removed]"
    }
   },
   "cell_type": "markdown",
   "metadata": {},
   "source": [
    "https://editor.plantuml.com/uml/SoWkIImgAStDuKfCAYufIamkKKZEIImkLWXBpSXCBit9LwZcKW02RONSnABaH2i5e2AOG7vAQau-iaXyRdvPQf66PZooO4fgSN9HPb8cK1mYNCl51R72ER6e2CbyY5uqDOvbcVbv1DGu0Ls6snouHsngT7KXTgA9WUr04mERoUMGcfS231i0\n",
    "![image.png](attachment:image.png)"
   ]
  },
  {
   "cell_type": "code",
   "execution_count": 1,
   "metadata": {},
   "outputs": [],
   "source": [
    "from abc import ABC, abstractmethod\n",
    "\n",
    "class Vehiculo(ABC):\n",
    "    def __init__(self, marca: str, modelo: str) -> None:\n",
    "        self.marca: str = marca\n",
    "        self.modelo: str = modelo\n",
    "\n",
    "    @abstractmethod\n",
    "    def mover(self) -> str:\n",
    "        pass\n",
    "\n",
    "    def describir(self) -> str:\n",
    "        return f\"{self.marca} {self.modelo}\""
   ]
  },
  {
   "cell_type": "code",
   "execution_count": 2,
   "metadata": {},
   "outputs": [],
   "source": [
    "class Carro(Vehiculo):\n",
    "    def mover(self) -> str:\n",
    "        return \"El carro está conduciendo por la carretera\"\n",
    "\n",
    "class Avion(Vehiculo):\n",
    "    def mover(self) -> str:\n",
    "        return \"El avión está volando por el cielo\"\n",
    "\n",
    "class Barco(Vehiculo):\n",
    "    def mover(self) -> str:\n",
    "        return \"El barco está navegando por el mar\""
   ]
  },
  {
   "cell_type": "code",
   "execution_count": 3,
   "metadata": {},
   "outputs": [],
   "source": [
    "def iniciar_viaje(vehiculo: Vehiculo) -> None:\n",
    "    print(f\"Iniciando viaje en {vehiculo.describir()}:\")\n",
    "    print(vehiculo.mover())\n",
    "    print()"
   ]
  },
  {
   "cell_type": "code",
   "execution_count": 4,
   "metadata": {},
   "outputs": [
    {
     "name": "stdout",
     "output_type": "stream",
     "text": [
      "Iniciando viaje en Toyota Corolla:\n",
      "El carro está conduciendo por la carretera\n",
      "\n",
      "Iniciando viaje en Boeing 747:\n",
      "El avión está volando por el cielo\n",
      "\n",
      "Iniciando viaje en Royal Caribbean Oasis of the Seas:\n",
      "El barco está navegando por el mar\n",
      "\n"
     ]
    }
   ],
   "source": [
    "carro: Carro = Carro(marca=\"Toyota\", modelo=\"Corolla\")\n",
    "avion: Avion = Avion(marca=\"Boeing\", modelo=\"747\")\n",
    "barco: Barco = Barco(marca=\"Royal Caribbean\", modelo=\"Oasis of the Seas\")\n",
    "\n",
    "for vehiculo in [carro, avion, barco]:\n",
    "    iniciar_viaje(vehiculo=vehiculo)"
   ]
  },
  {
   "cell_type": "markdown",
   "metadata": {},
   "source": [
    "También se puede decir que el tipo de la variable `auto` es `Vehiculo`, pero el comportamiento es el de la clase `Carro`, ya que se llama al método `mover` de la clase `Carro`, y se puede acceder a los atributos de la clase `Carro`, debido a la herencia."
   ]
  },
  {
   "cell_type": "code",
   "execution_count": 5,
   "metadata": {},
   "outputs": [
    {
     "name": "stdout",
     "output_type": "stream",
     "text": [
      "Iniciando viaje en Suzuki Swift:\n",
      "El carro está conduciendo por la carretera\n",
      "\n"
     ]
    }
   ],
   "source": [
    "auto: Vehiculo = Carro(marca=\"Suzuki\", modelo=\"Swift\")\n",
    "iniciar_viaje(vehiculo=auto)"
   ]
  },
  {
   "cell_type": "markdown",
   "metadata": {},
   "source": [
    "## Beneficios del polimorfismo en este ejemplo\n",
    "\n",
    "1. **Extensibilidad**: Podemos añadir nuevos tipos de vehículos (por ejemplo, `Tren`) sin modificar `iniciar_viaje()`.\n",
    "\n",
    "2. **Flexibilidad**: El mismo código funciona con diferentes tipos de vehículos.\n",
    "\n",
    "3. **Abstracción**: `iniciar_viaje()` trabaja con la abstracción de `Vehiculo`, no con implementaciones específicas.\n",
    "\n",
    "4. **Mantenibilidad**: Los cambios en la implementación de `mover()` para un tipo de vehículo no afectan a los demás."
   ]
  },
  {
   "cell_type": "markdown",
   "metadata": {},
   "source": [
    "## Conclusión\n",
    "\n",
    "El polimorfismo es una herramienta poderosa en la POO que permite crear código más flexible, extensible y mantenible. Permite tratar objetos de diferentes clases de manera uniforme, siempre que compartan una interfaz común.\n",
    "\n",
    "En el desarrollo de software del mundo real, el polimorfismo se utiliza ampliamente para:\n",
    "\n",
    "- Crear frameworks y bibliotecas flexibles.\n",
    "\n",
    "- Implementar patrones de diseño como Strategy, Observer, y Command.\n",
    "\n",
    "- Desarrollar sistemas que puedan adaptarse fácilmente a nuevos requisitos.\n",
    "\n",
    "- Escribir código que sea más fácil de probar y mantener.\n",
    "\n",
    "El polimorfismo, junto con la herencia y la encapsulación, forma la base de la programación orientada a objetos moderna. Dominar estos conceptos es esencial para cualquier desarrollador que busque crear sistemas robustos y adaptables."
   ]
  },
  {
   "cell_type": "markdown",
   "metadata": {},
   "source": [
    "## Ejercicios prácticos y preguntas de reflexión\n",
    "\n",
    "1. Crea una función que reciba una lista de objetos `Vehiculo` y llame al método `mover` de cada uno. Prueba con instancias de `Carro`, `Avion` y `Barco`.\n",
    "2. Agrega una nueva clase `Bicicleta` que herede de `Vehiculo` e implemente el método `mover`.\n",
    "3. ¿Por qué es útil el polimorfismo en el desarrollo de software?\n",
    "\n",
    "### Autoevaluación\n",
    "- ¿Qué ventajas aporta el polimorfismo al desarrollo de software?\n",
    "- ¿Puedes dar un ejemplo de polimorfismo en tu vida diaria?"
   ]
  },
  {
   "cell_type": "markdown",
   "metadata": {},
   "source": [
    "## Referencias y recursos\n",
    "- [Documentación oficial de Python: polimorfismo](https://docs.python.org/es/3/tutorial/classes.html#inheritance)\n",
    "- [Polimorfismo en Python - W3Schools](https://www.w3schools.com/python/python_polymorphism.asp)\n",
    "- [Visualizador de objetos Python Tutor](https://pythontutor.com/)"
   ]
  },
  {
   "attachments": {
    "image.png": {
     "image/png": "[encoded data removed]"
    }
   },
   "cell_type": "markdown",
   "metadata": {},
   "source": [
    "##Ejercicio Polimorfismo\n",
    "\n",
    "https://editor.plantuml.com/uml/SoWkIImgAStDuKhEIImkLd1Fp4qjKgZcKW02ROMy_DoaebIlqjJqV2k5uf8Yg71ySdvUSNvEeeOcLoqNLADVPbv9QbvAFbmlDaK1EOcLG0jBClFpSAY3s6zJewkBh1XP66OH5vS3a0Av7000\n",
    "\n",
    "![image.png](attachment:image.png)"
   ]
  },
  {
   "cell_type": "code",
   "execution_count": 11,
   "metadata": {},
   "outputs": [],
   "source": [
    "from abc import ABC, abstractmethod\n",
    "\n",
    "class Gamer(ABC):\n",
    "    def __init__(self, nombre: str) -> None:\n",
    "        self.nombre: str = nombre\n",
    "\n",
    "    @abstractmethod\n",
    "    def consola(self) -> str:\n",
    "        pass\n",
    "\n",
    "class Nintendo(Gamer):\n",
    "    def consola(self) -> None:\n",
    "        print(f\"estas jugando {self.nombre} en Nintendo\")\n",
    "\n",
    "class Playstation(Gamer):\n",
    "    def consola(self) -> None:\n",
    "        print(f\"estas jugando {self.nombre} en playstation\")"
   ]
  },
  {
   "cell_type": "code",
   "execution_count": 12,
   "metadata": {},
   "outputs": [
    {
     "name": "stdout",
     "output_type": "stream",
     "text": [
      "estas jugando mario en Nintendo\n",
      "estas jugando Resident Evil en playstation\n"
     ]
    }
   ],
   "source": [
    "\n",
    "nintendo: Nintendo = Nintendo(\"mario\")\n",
    "nintendo.consola()\n",
    "\n",
    "play: Playstation = Playstation(\"Resident Evil\")\n",
    "play.consola()"
   ]
  }
 ],
 "metadata": {
  "kernelspec": {
   "display_name": "Python 3",
   "language": "python",
   "name": "python3"
  },
  "language_info": {
   "codemirror_mode": {
    "name": "ipython",
    "version": 3
   },
   "file_extension": ".py",
   "mimetype": "text/x-python",
   "name": "python",
   "nbconvert_exporter": "python",
   "pygments_lexer": "ipython3",
   "version": "3.11.9"
  }
 },
 "nbformat": 4,
 "nbformat_minor": 2
}
