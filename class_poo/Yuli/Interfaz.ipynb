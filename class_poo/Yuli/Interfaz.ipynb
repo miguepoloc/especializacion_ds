{
 "cells": [
  {
   "cell_type": "markdown",
   "metadata": {},
   "source": [
    "# Interfaz"
   ]
  },
  {
   "cell_type": "code",
   "execution_count": 22,
   "metadata": {},
   "outputs": [],
   "source": [
    "from abc import ABC, abstractmethod\n",
    "\n",
    "\n",
    "class Telefonos(ABC):\n",
    "    @abstractmethod\n",
    "    def Encender(self) -> None:\n",
    "        pass\n",
    "\n",
    "    @abstractmethod\n",
    "    def Apagar(self) -> None:\n",
    "        pass\n",
    "\n",
    "    @abstractmethod\n",
    "    def Reiniciar(self) -> None:\n",
    "        pass\n",
    "\n",
    "    @abstractmethod\n",
    "    def Formatear(self) -> None:\n",
    "        pass"
   ]
  },
  {
   "cell_type": "markdown",
   "metadata": {},
   "source": [
    "#### Clase 1"
   ]
  },
  {
   "cell_type": "code",
   "execution_count": 23,
   "metadata": {},
   "outputs": [],
   "source": [
    "class Xiaomi(Telefonos):\n",
    "    def Encender(self) -> None:\n",
    "        print(\"Encendido correctamente\")\n",
    "\n",
    "    def Apagar(self) -> None:\n",
    "        print(\"Apagando\")\n",
    "\n",
    "    def Reiniciar(self) -> None:\n",
    "        print(\"Reinciando dispositivo\")\n",
    "\n",
    "    def Formatear(self) -> None:\n",
    "        print(\"Seguro que desea formatear?\")"
   ]
  },
  {
   "cell_type": "code",
   "execution_count": 24,
   "metadata": {},
   "outputs": [
    {
     "name": "stdout",
     "output_type": "stream",
     "text": [
      "Encendido correctamente\n"
     ]
    }
   ],
   "source": [
    "Telefono = Xiaomi()\n",
    "Telefono.Encender()"
   ]
  },
  {
   "cell_type": "markdown",
   "metadata": {},
   "source": [
    "### Clase 2"
   ]
  },
  {
   "cell_type": "code",
   "execution_count": 25,
   "metadata": {},
   "outputs": [],
   "source": [
    "class Motorola(Telefonos):\n",
    "    def Encender(self) -> None:\n",
    "        print(\"Encendido correctamente\")\n",
    "\n",
    "    def Apagar(self) -> None:\n",
    "        print(\"Apagando\")\n",
    "\n",
    "    def Reiniciar(self) -> None:\n",
    "        print(\"Reinciando dispositivo\")\n",
    "\n",
    "    def Formatear(self) -> None:\n",
    "        print(\"Seguro que desea formatear?\")"
   ]
  },
  {
   "cell_type": "code",
   "execution_count": 26,
   "metadata": {},
   "outputs": [
    {
     "name": "stdout",
     "output_type": "stream",
     "text": [
      "Seguro que desea formatear?\n"
     ]
    }
   ],
   "source": [
    "Telefono = Motorola()\n",
    "Telefono.Formatear()"
   ]
  }
 ],
 "metadata": {
  "kernelspec": {
   "display_name": "Python 3",
   "language": "python",
   "name": "python3"
  },
  "language_info": {
   "codemirror_mode": {
    "name": "ipython",
    "version": 3
   },
   "file_extension": ".py",
   "mimetype": "text/x-python",
   "name": "python",
   "nbconvert_exporter": "python",
   "pygments_lexer": "ipython3",
   "version": "3.12.3"
  }
 },
 "nbformat": 4,
 "nbformat_minor": 2
}
