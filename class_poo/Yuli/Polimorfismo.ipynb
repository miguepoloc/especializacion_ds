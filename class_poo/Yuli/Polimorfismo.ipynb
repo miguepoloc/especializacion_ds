{
 "cells": [
  {
   "cell_type": "markdown",
   "metadata": {},
   "source": [
    "# Polimorfismo"
   ]
  },
  {
   "cell_type": "code",
   "execution_count": 1,
   "metadata": {},
   "outputs": [],
   "source": [
    "class Maquillaje:\n",
    "    def Pintar(self):\n",
    "        pass\n",
    "\n",
    "\n",
    "class Rimel(Maquillaje):\n",
    "    def Pintar(self):\n",
    "        print(\"Pintar pestañas!\")\n",
    "\n",
    "\n",
    "class Sombra(Maquillaje):\n",
    "    def Pintar(self):\n",
    "        print(\"Pintar ojos!\")"
   ]
  },
  {
   "cell_type": "code",
   "execution_count": 2,
   "metadata": {},
   "outputs": [
    {
     "name": "stdout",
     "output_type": "stream",
     "text": [
      "Pintar pestañas!\n",
      "Pintar ojos!\n"
     ]
    }
   ],
   "source": [
    "for maquillaje in Rimel(), Sombra():\n",
    "    maquillaje.Pintar()"
   ]
  }
 ],
 "metadata": {
  "kernelspec": {
   "display_name": "Python 3",
   "language": "python",
   "name": "python3"
  },
  "language_info": {
   "codemirror_mode": {
    "name": "ipython",
    "version": 3
   },
   "file_extension": ".py",
   "mimetype": "text/x-python",
   "name": "python",
   "nbconvert_exporter": "python",
   "pygments_lexer": "ipython3",
   "version": "3.12.3"
  }
 },
 "nbformat": 4,
 "nbformat_minor": 2
}
