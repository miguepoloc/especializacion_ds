{
 "cells": [
  {
   "cell_type": "markdown",
   "metadata": {},
   "source": [
    "# Encapsulamiento"
   ]
  },
  {
   "cell_type": "code",
   "execution_count": 3,
   "metadata": {},
   "outputs": [
    {
     "name": "stdout",
     "output_type": "stream",
     "text": [
      " Depósito realizado. Nuevo saldo: $1500.00\n",
      " Retiro realizado. Nuevo saldo: $700.00\n",
      " ¡Saldo insuficiente! \n"
     ]
    }
   ],
   "source": [
    "class CajeroAutomatico:\n",
    "    def __init__(self, saldo_inicial: float, numero_cuenta: str) -> None:\n",
    "        self.saldo_inicial = saldo_inicial\n",
    "        self.__saldo_actual = saldo_inicial\n",
    "        self.numero_cuenta = numero_cuenta\n",
    "\n",
    "    def depositar(self, monto: float) -> None:\n",
    "        self.__saldo_actual += monto\n",
    "        print(f\" Depósito realizado. Nuevo saldo: ${self.__saldo_actual:.2f}\")\n",
    "\n",
    "    def __verificar_saldo_suficiente(self, monto_retirar: float) -> bool:\n",
    "        return self.__saldo_actual >= monto_retirar\n",
    "\n",
    "    def retirar(self, monto_retirar: float) -> None:\n",
    "        if self.__verificar_saldo_suficiente(monto_retirar):\n",
    "            self.__saldo_actual -= monto_retirar\n",
    "            print(f\" Retiro realizado. Nuevo saldo: ${self.__saldo_actual:.2f}\")\n",
    "        else:\n",
    "            print(\" ¡Saldo insuficiente! \")\n",
    "\n",
    "# Creamos una instancia del cajero automático\n",
    "cajero = CajeroAutomatico(1000.00, \"123456-7890\")\n",
    "\n",
    "# Métodos públicos accesibles desde el exterior\n",
    "cajero.depositar(500.00)\n",
    "cajero.retirar(800.00)\n",
    "cajero.retirar(1500.00)\n",
    "\n",
    "# Intento de acceder al método privado (error)\n",
    "# cajero.__verificar_saldo_suficiente(100.00)"
   ]
  }
 ],
 "metadata": {
  "kernelspec": {
   "display_name": "Python 3",
   "language": "python",
   "name": "python3"
  },
  "language_info": {
   "codemirror_mode": {
    "name": "ipython",
    "version": 3
   },
   "file_extension": ".py",
   "mimetype": "text/x-python",
   "name": "python",
   "nbconvert_exporter": "python",
   "pygments_lexer": "ipython3",
   "version": "3.12.3"
  }
 },
 "nbformat": 4,
 "nbformat_minor": 2
}
