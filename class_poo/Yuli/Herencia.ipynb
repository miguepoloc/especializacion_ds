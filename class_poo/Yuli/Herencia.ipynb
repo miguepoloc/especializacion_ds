{
 "cells": [
  {
   "cell_type": "markdown",
   "metadata": {},
   "source": [
    "# Herencia"
   ]
  },
  {
   "cell_type": "markdown",
   "metadata": {},
   "source": [
    "### Superclase"
   ]
  },
  {
   "cell_type": "code",
   "execution_count": 56,
   "metadata": {},
   "outputs": [],
   "source": [
    "class Maquillaje:\n",
    "    def __init__(self, marca: str, color: str) -> None:\n",
    "        self.marca = marca\n",
    "        self.color = color\n",
    "\n",
    "    def Pintar(self) -> None:\n",
    "        print(f\"Aplicando maquillaje {self.color} de la marca {self.marca}\")\n",
    "   \n",
    "    def Mostrar_informacion(self) -> None:\n",
    "        print(f\"Soy un producto de la Marca: {self.marca}\")\n",
    "        print(f\"Mi color es: {self.color}\")\n",
    "  "
   ]
  },
  {
   "cell_type": "markdown",
   "metadata": {},
   "source": [
    "### Herencia multiple"
   ]
  },
  {
   "cell_type": "code",
   "execution_count": 71,
   "metadata": {},
   "outputs": [],
   "source": [
    "class Rimel(Maquillaje):    \n",
    "    def __init__(self, marca: str, color: str, tipo: str) -> None:\n",
    "        super().__init__(marca, color) \n",
    "        self.tipo = tipo\n",
    "\n",
    "    def Pintar(self) -> None:\n",
    "        print(f\"Pintar pestañas con {self.tipo} de{self.marca} en tono {self.color}!\")\n",
    "\n",
    "class Labial(Maquillaje):\n",
    "    def __init__(self, marca: str, color: str, acabado: str) -> None:\n",
    "        super().__init__(marca, color)\n",
    "        self.acabado = acabado\n",
    "\n",
    "    def Pintar(self) -> None:\n",
    "        print(f\"Pintar labios con {self.acabado} {self.marca} {self.color}\")\n",
    "\n",
    "    def ActivarColorConPh(self) -> None:\n",
    "        print(f\"El color de {self.marca} {self.color} se activa según el pH de tus labios!\")"
   ]
  },
  {
   "cell_type": "code",
   "execution_count": 72,
   "metadata": {},
   "outputs": [
    {
     "name": "stdout",
     "output_type": "stream",
     "text": [
      "Pintar pestañas con A prueba de agua deMaybeline en tono Negro!\n",
      "Pintar labios con Brillante Rubby Rose Rosado\n",
      "El color de Rubby Rose Rosado se activa según el pH de tus labios!\n"
     ]
    }
   ],
   "source": [
    "Pestañina = Rimel('Maybeline', 'Negro', 'A prueba de agua')\n",
    "Pestañina.Pintar()\n",
    "\n",
    "Gloss = Labial('Rubby Rose', 'Rosado','Brillante')\n",
    "Gloss.Pintar()\n",
    "Gloss.ActivarColorConPh()\n"
   ]
  }
 ],
 "metadata": {
  "kernelspec": {
   "display_name": "Python 3",
   "language": "python",
   "name": "python3"
  },
  "language_info": {
   "codemirror_mode": {
    "name": "ipython",
    "version": 3
   },
   "file_extension": ".py",
   "mimetype": "text/x-python",
   "name": "python",
   "nbconvert_exporter": "python",
   "pygments_lexer": "ipython3",
   "version": "3.12.3"
  }
 },
 "nbformat": 4,
 "nbformat_minor": 2
}
