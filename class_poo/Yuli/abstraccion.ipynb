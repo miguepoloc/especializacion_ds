{
 "cells": [
  {
   "cell_type": "markdown",
   "metadata": {},
   "source": [
    "# Simulación de reserva"
   ]
  },
  {
   "cell_type": "code",
   "execution_count": 29,
   "metadata": {},
   "outputs": [],
   "source": [
    "class HotelCentral:\n",
    "    def __init__(self, habitaciones: int, capacidad_total: int, pisos_edificio: int) -> None:\n",
    "        self.habitaciones = habitaciones\n",
    "        \n",
    "        self.capacidad_total = capacidad_total\n",
    "        self.pisos_edificio = pisos_edificio\n",
    " \n",
    "    def Reservar(self):\n",
    "        print(f\"El hotel cuenta con {self.habitaciones} disponibles\" )"
   ]
  },
  {
   "cell_type": "code",
   "execution_count": 30,
   "metadata": {},
   "outputs": [
    {
     "name": "stdout",
     "output_type": "stream",
     "text": [
      "El hotel cuenta con 100 disponibles\n"
     ]
    }
   ],
   "source": [
    "Hotel = HotelCentral(habitaciones= 100, capacidad_total= 500, pisos_edificio=10)\n",
    "Hotel.Reservar()"
   ]
  },
  {
   "cell_type": "markdown",
   "metadata": {},
   "source": [
    "# Hospedaje de Usuario"
   ]
  },
  {
   "cell_type": "code",
   "execution_count": 49,
   "metadata": {},
   "outputs": [],
   "source": [
    "class HotelCentral:\n",
    "    def __init__(self, habitacion: int, nombre: str, precio: int, capacidad : int, ubicacion: str) -> None:\n",
    "        self.habitacion = habitacion\n",
    "        self.nombre = nombre\n",
    "        self.precio = precio\n",
    "        self.capacidad = capacidad\n",
    "        self.ubicacion = ubicacion\n",
    "    def Hospedar(self):\n",
    "        print(f\"El hotel a hospedar es {self.nombre} \")"
   ]
  },
  {
   "cell_type": "code",
   "execution_count": 53,
   "metadata": {},
   "outputs": [
    {
     "name": "stdout",
     "output_type": "stream",
     "text": [
      "<__main__.HotelCentral object at 0x0000023F47DF1BE0>\n",
      "El hotel a hospedar es Yuli \n"
     ]
    }
   ],
   "source": [
    "Hotel = HotelCentral(habitacion=10, nombre=\"Yuli\", precio=10000, capacidad=500, ubicacion=\"Santa Marta\")\n",
    "Hotel.Hospedar()"
   ]
  }
 ],
 "metadata": {
  "kernelspec": {
   "display_name": "Python 3",
   "language": "python",
   "name": "python3"
  },
  "language_info": {
   "codemirror_mode": {
    "name": "ipython",
    "version": 3
   },
   "file_extension": ".py",
   "mimetype": "text/x-python",
   "name": "python",
   "nbconvert_exporter": "python",
   "pygments_lexer": "ipython3",
   "version": "3.12.3"
  }
 },
 "nbformat": 4,
 "nbformat_minor": 2
}
