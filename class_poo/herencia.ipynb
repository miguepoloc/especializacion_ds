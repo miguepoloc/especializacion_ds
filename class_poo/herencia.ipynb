{
 "cells": [
  {
   "cell_type": "markdown",
   "metadata": {},
   "source": [
    "# Herencia en Programación Orientada a Objetos\n",
    "\n",
    "La herencia es uno de los conceptos fundamentales de la Programación Orientada a Objetos (POO). Permite crear nuevas clases basadas en clases existentes, heredando sus atributos y métodos. Esto promueve la reutilización de código y la creación de jerarquías de clases."
   ]
  },
  {
   "cell_type": "markdown",
   "metadata": {},
   "source": [
    "## Explicación\n",
    "\n",
    "La herencia permite:\n",
    "\n",
    "1. **Reutilización de código**: Evita la duplicación al compartir funcionalidades comunes.\n",
    "\n",
    "2. **Extensibilidad**: Facilita la creación de clases especializadas a partir de clases más generales.\n",
    "\n",
    "3. **Jerarquías de clases**: Organiza el código en estructuras lógicas y relacionadas.\n",
    "\n",
    "4. **Polimorfismo**: Permite tratar objetos de clases derivadas como objetos de la clase base."
   ]
  },
  {
   "cell_type": "markdown",
   "metadata": {},
   "source": [
    "## Ejemplos prácticos\n",
    "\n",
    "### Ejemplo 1: Herencia básica y uso de `super()`\n",
    "\n",
    "Veamos un ejemplo de herencia utilizando el concepto de vehículos:\n",
    "\n",
    "## Explicación del código\n",
    "\n",
    "1. **Clase base `Vehiculo`**: Define atributos y métodos comunes a todos los vehículos.\n",
    "\n",
    "2. **Clase derivada `Carro`**: Hereda de `Vehiculo` y añade un atributo específico (`num_puertas`).\n",
    "\n",
    "3. **Clase derivada `Motocicleta`**: Hereda de `Vehiculo`, añade un atributo (`tipo`) y un método específico (`hacer_caballito`).\n",
    "\n",
    "4. **Uso de `super()`**: En las clases derivadas, se usa para llamar al constructor de la clase base.\n",
    "\n",
    "5. **Sobrescritura de métodos**: `Carro` sobrescribe `obtener_info()` para incluir información adicional.\n",
    "\n",
    "6. **Polimorfismo**: El bucle for trata tanto a `Carro` como a `Motocicleta` como `Vehiculo`."
   ]
  },
  {
   "cell_type": "code",
   "execution_count": 13,
   "metadata": {},
   "outputs": [],
   "source": [
    "class Vehiculo:\n",
    "    def __init__(self, marca: str, modelo: str, year: int) -> None:\n",
    "        self.marca: str = marca\n",
    "        self.modelo: str = modelo\n",
    "        self.year: int = year\n",
    "        self._velocidad: int = 0\n",
    "\n",
    "    def acelerar(self, incremento: int) -> None:\n",
    "        self._velocidad += incremento\n",
    "\n",
    "    def frenar(self, decremento: int) -> None:\n",
    "        self._velocidad = max(0, self._velocidad - decremento)\n",
    "\n",
    "    def obtener_info(self) -> str:\n",
    "        return f\"{self.marca} {self.modelo} ({self.year}), Velocidad: {self._velocidad} km/h\"\n",
    "\n",
    "class Carro(Vehiculo):\n",
    "    def obtener_info(self) -> str:\n",
    "        return super().obtener_info() + \"de 4 puertas\"\n",
    "\n",
    "class Motocicleta(Vehiculo):\n",
    "    def __init__(self, marca: str, modelo: str, year: int, tipo: str):\n",
    "        super().__init__(marca=marca, modelo=modelo, year=year)\n",
    "        \n",
    "        self.tipo: str = tipo\n",
    "\n",
    "    def hacer_caballito(self) -> None:\n",
    "        if self._velocidad > 0:\n",
    "            print(f\"{self.marca} {self.modelo} está haciendo un caballito!\")\n",
    "        else:\n",
    "            print(\"La motocicleta necesita estar en movimiento para hacer un caballito.\")\n"
   ]
  },
  {
   "cell_type": "code",
   "execution_count": 14,
   "metadata": {},
   "outputs": [
    {
     "name": "stdout",
     "output_type": "stream",
     "text": [
      "Toyota Corolla (2022), Velocidad: 50 km/hde 4 puertas\n",
      "Honda CBR (2021), Velocidad: 50 km/h\n",
      "Honda CBR está haciendo un caballito!\n"
     ]
    }
   ],
   "source": [
    "carro: Carro = Carro(marca=\"Toyota\", modelo=\"Corolla\", year=2022)\n",
    "moto: Motocicleta = Motocicleta(marca=\"Honda\", modelo=\"CBR\", year=2021, tipo=\"Deportiva\")\n",
    "\n",
    "vehiculos: list[Vehiculo] = [carro, moto]\n",
    "\n",
    "for v in vehiculos:\n",
    "    v.acelerar(incremento=50)\n",
    "    print(v.obtener_info())\n",
    "\n",
    "moto.hacer_caballito()"
   ]
  },
  {
   "cell_type": "markdown",
   "metadata": {},
   "source": [
    "## Beneficios de la herencia en este ejemplo\n",
    "\n",
    "1. **Reutilización de código**: Las clases derivadas heredan funcionalidades comunes de `Vehiculo`.\n",
    "\n",
    "2. **Extensibilidad**: Podemos añadir fácilmente nuevos tipos de vehículos (por ejemplo, `Camion`) sin duplicar código.\n",
    "\n",
    "3. **Especialización**: Cada clase derivada puede añadir atributos y métodos específicos.\n",
    "\n",
    "4. **Polimorfismo**: Podemos tratar diferentes tipos de vehículos de manera uniforme."
   ]
  },
  {
   "cell_type": "markdown",
   "metadata": {},
   "source": [
    "### Ejemplo 2: Herencia básica y uso de `super()`\n",
    "\n",
    "En este ejemplo:\n",
    "\n",
    "1. `Animal` es la clase base que define atributos y métodos comunes.\n",
    "\n",
    "2. `Perro` hereda de `Animal` y añade un atributo adicional (`color`).\n",
    "\n",
    "3. `super().__init__()` se usa para llamar al constructor de la clase base.\n",
    "\n",
    "4. `Perro` añade un nuevo método `ladrar()`.\n",
    "\n",
    "Se usa `super()` para llamar al constructor de la clase base y inicializar los atributos heredados, por ejemplo, que acá la clase padre `Animal` tiene los atributos `especie` y `edad`, y en la clase hija `Perro` se añade el atributo `color`."
   ]
  },
  {
   "cell_type": "code",
   "execution_count": 15,
   "metadata": {},
   "outputs": [],
   "source": [
    "class Animal:\n",
    "    def __init__(self, especie: str, edad: int) -> None:\n",
    "        self.especie: str = especie\n",
    "        self.edad: int = edad\n",
    "\n",
    "    def describeme(self) -> None:\n",
    "        print(f\"Soy un Animal del tipo {type(self).__name__}\")\n",
    "\n",
    "class Perro(Animal):\n",
    "    def __init__(self, especie: str, edad: int, color: str) -> None:\n",
    "        super().__init__(especie=especie, edad=edad)\n",
    "        self.color: str = color\n",
    "\n",
    "    def ladrar(self) -> None:\n",
    "        print(\"Guau!\")\n",
    "\n",
    "class Vaca(Animal):\n",
    "    pass"
   ]
  },
  {
   "cell_type": "code",
   "execution_count": 4,
   "metadata": {},
   "outputs": [
    {
     "name": "stdout",
     "output_type": "stream",
     "text": [
      "Soy un Animal del tipo Perro\n",
      "Guau!\n",
      "Especie: Canino, Edad: 5, Color: Marrón\n",
      "Soy un Animal del tipo Vaca\n",
      "Especie: Bovino, Edad: 10\n"
     ]
    }
   ],
   "source": [
    "mi_perro = Perro(especie=\"Canino\", edad=5, color=\"Marrón\")\n",
    "mi_perro.describeme()\n",
    "mi_perro.ladrar()\n",
    "print(f\"Especie: {mi_perro.especie}, Edad: {mi_perro.edad}, Color: {mi_perro.color}\")\n",
    "\n",
    "mi_vaca = Vaca(especie=\"Bovino\", edad=10)\n",
    "mi_vaca.describeme()\n",
    "print(f\"Especie: {mi_vaca.especie}, Edad: {mi_vaca.edad}\")"
   ]
  },
  {
   "cell_type": "markdown",
   "metadata": {},
   "source": [
    "### Ejemplo 2: Extensión y modificación de métodos\n",
    "\n",
    "Este ejemplo muestra:\n",
    "\n",
    "1. Sobrescritura de métodos: `Perro` y `Pez` modifican `hablar()` y `moverse()`.\n",
    "\n",
    "2. Extensión de métodos: `Perro.moverse()` llama al método de la clase base y añade funcionalidad.\n",
    "3. Extensión de métodos: `Ave` no modifica el método de la clase base."
   ]
  },
  {
   "cell_type": "code",
   "execution_count": 5,
   "metadata": {},
   "outputs": [],
   "source": [
    "class Animal:\n",
    "    def hablar(self) -> None:\n",
    "        print(\"El animal hace un sonido\")\n",
    "\n",
    "    def moverse(self) -> None:\n",
    "        print(\"El animal se mueve\")\n",
    "\n",
    "class Perro(Animal):\n",
    "    def hablar(self) -> None:\n",
    "        print(\"El perro ladra\")\n",
    "\n",
    "    def moverse(self) -> None:\n",
    "        super().moverse()\n",
    "        print(\"El perro corre\")\n",
    "\n",
    "class Pez(Animal):\n",
    "    def hablar(self) -> None:\n",
    "        print(\"El pez no hace sonidos\")\n",
    "\n",
    "    def moverse(self) -> None:\n",
    "        print(\"El pez nada\")\n",
    "\n",
    "class Ave(Animal):\n",
    "    pass\n"
   ]
  },
  {
   "cell_type": "code",
   "execution_count": 9,
   "metadata": {},
   "outputs": [
    {
     "name": "stdout",
     "output_type": "stream",
     "text": [
      "El animal hace un sonido\n",
      "El animal se mueve\n",
      "\n",
      "El perro ladra\n",
      "El animal se mueve\n",
      "El perro corre\n",
      "\n",
      "El pez no hace sonidos\n",
      "El pez nada\n",
      "\n"
     ]
    }
   ],
   "source": [
    "list_animal: list[Animal] = [Animal(), Perro(), Pez(), Ave()]\n",
    "\n",
    "for animal in list_animal:\n",
    "    animal.hablar()\n",
    "    animal.moverse()\n",
    "    print()"
   ]
  },
  {
   "cell_type": "markdown",
   "metadata": {},
   "source": [
    "### Ejemplo 3: Herencia múltiple\n",
    "\n",
    "Este ejemplo ilustra:\n",
    "\n",
    "1. Herencia múltiple: `Anfibio` hereda de `Vehiculo`, `Volador` y `Acuatico`.\n",
    "\n",
    "2. Uso de `super()` en herencia múltiple.\n",
    "\n",
    "3. Combinación de funcionalidades de múltiples clases base."
   ]
  },
  {
   "cell_type": "code",
   "execution_count": 10,
   "metadata": {},
   "outputs": [],
   "source": [
    "class Vehiculo:\n",
    "    def __init__(self, velocidad_maxima: int) -> None:\n",
    "        self.velocidad_maxima: int = velocidad_maxima\n",
    "\n",
    "    def describir(self) -> None:\n",
    "        print(f\"Vehículo con velocidad máxima de {self.velocidad_maxima} km/h\")\n",
    "\n",
    "class Volador:\n",
    "    def volar(self) -> None:\n",
    "        print(\"Estoy volando\")\n",
    "\n",
    "class Acuatico:\n",
    "    def nadar(self) -> None:\n",
    "        print(\"Estoy nadando\")\n",
    "\n",
    "class Anfibio(Vehiculo, Volador, Acuatico):\n",
    "    def __init__(self, velocidad_maxima: int) -> None:\n",
    "        super().__init__(velocidad_maxima)\n",
    "\n",
    "    def describir(self) -> None:\n",
    "        super().describir()\n",
    "        print(\"Soy un vehículo anfibio\")"
   ]
  },
  {
   "cell_type": "code",
   "execution_count": 12,
   "metadata": {},
   "outputs": [
    {
     "name": "stdout",
     "output_type": "stream",
     "text": [
      "Vehículo con velocidad máxima de 200 km/h\n",
      "Soy un vehículo anfibio\n",
      "Estoy volando\n",
      "Estoy nadando\n"
     ]
    }
   ],
   "source": [
    "anfibio = Anfibio(velocidad_maxima=200)\n",
    "anfibio.describir()\n",
    "anfibio.volar()\n",
    "anfibio.nadar()"
   ]
  },
  {
   "cell_type": "markdown",
   "metadata": {},
   "source": [
    "### Ejemplo 4: No sobrescribir el método `super()` cuando se añaden atributos en la clase hija\n",
    "\n",
    "Este ejemplo ilustra:\n",
    "\n",
    "1. `Animal` es la clase base que define atributos comunes (`nombre` y `edad`) y un método `describir()`.\n",
    "\n",
    "2. `Perro` hereda de `Animal` y añade un atributo adicional (`raza`).\n",
    "\n",
    "3. El constructor de `Perro` no llama a `super().__init__()`, lo que puede llevar a errores.\n",
    "\n",
    "4. `Perro` sobrescribe el método `describir()`, pero asume que los atributos `nombre` y `edad` existen."
   ]
  },
  {
   "cell_type": "code",
   "execution_count": 24,
   "metadata": {},
   "outputs": [],
   "source": [
    "class Animal:\n",
    "    def __init__(self, nombre: str, edad: int) -> None:\n",
    "        self.nombre: str = nombre\n",
    "        self.edad: int = edad\n",
    "\n",
    "    def describir(self) -> str:\n",
    "        return f\"{self.nombre} tiene {self.edad} años\"\n",
    "\n",
    "class Perro(Animal):\n",
    "    def __init__(self, nombre: str, edad: int, raza: str) -> None:\n",
    "        self.raza: str = raza\n",
    "        # Nota: No se llama a super().__init__()\n",
    "\n",
    "    def describir(self) -> str:\n",
    "        return f\"{self.nombre} es un {self.raza} de {self.edad} años\"\n"
   ]
  },
  {
   "cell_type": "code",
   "execution_count": 25,
   "metadata": {},
   "outputs": [
    {
     "name": "stdout",
     "output_type": "stream",
     "text": [
      "Error: 'Perro' object has no attribute 'nombre'\n"
     ]
    }
   ],
   "source": [
    "try:\n",
    "    mi_perro = Perro(nombre=\"Fido\", edad=5, raza=\"Labrador\")\n",
    "    print(mi_perro.describir())\n",
    "except AttributeError as e:\n",
    "    print(f\"Error: {e}\")\n"
   ]
  },
  {
   "cell_type": "markdown",
   "metadata": {},
   "source": [
    "- Al no llamar a `super().__init__()` en el constructor de `Perro`, los atributos `nombre` y `edad` no se inicializan.\n",
    "\n",
    "- El método `describir()` de `Perro` intenta acceder a `self.nombre` y `self.edad`, que no existen.\n",
    "\n",
    "Para corregir este error, deberíamos modificar el constructor de `Perro` así:"
   ]
  },
  {
   "cell_type": "code",
   "execution_count": 26,
   "metadata": {},
   "outputs": [],
   "source": [
    "class Perro(Animal):\n",
    "    def __init__(self, nombre: str, edad: int, raza: str) -> None:\n",
    "        super().__init__(nombre=nombre, edad=edad)\n",
    "        self.raza: str = raza"
   ]
  },
  {
   "cell_type": "code",
   "execution_count": 27,
   "metadata": {},
   "outputs": [
    {
     "name": "stdout",
     "output_type": "stream",
     "text": [
      "Fido tiene 5 años\n"
     ]
    }
   ],
   "source": [
    "mi_perro = Perro(nombre=\"Fido\", edad=5, raza=\"Labrador\")\n",
    "print(mi_perro.describir())"
   ]
  },
  {
   "cell_type": "markdown",
   "metadata": {},
   "source": [
    "### Ejemplo 5: Herencia múltiple y resolución de conflictos\n",
    "\n",
    "Python permite la herencia múltiple. Cuando varias clases base tienen un atributo o método con el mismo nombre, Python usa el orden de resolución de métodos (MRO) para determinar cuál usar.\n",
    "\n",
    "Este ejemplo ilustra:\n",
    "\n",
    "1. `C` hereda `x` de `A`, mientras que `D` hereda `x` de `B`, debido al orden en que se declaran las clases base.\n",
    "\n",
    "\n",
    "2. La clase `C` hereda de `A` y `B`, por lo que `C` tiene acceso a los atributos y métodos de ambas clases.\n",
    "\n",
    "3. Sin embargo, cuando se accede a `x` desde una instancia de `C`, se usa el valor de `x` de la primera clase base declarada en la jerarquía de herencia.\n",
    "\n",
    "4. El método `__mro__` muestra el orden de resolución de métodos para una clase."
   ]
  },
  {
   "cell_type": "code",
   "execution_count": 28,
   "metadata": {},
   "outputs": [],
   "source": [
    "class A:\n",
    "    x: str = \"A\"\n",
    "\n",
    "class B:\n",
    "    x: str = \"B\"\n",
    "\n",
    "class C(A, B):\n",
    "    pass\n",
    "\n",
    "class D(B, A):\n",
    "    pass"
   ]
  },
  {
   "cell_type": "code",
   "execution_count": 29,
   "metadata": {},
   "outputs": [
    {
     "name": "stdout",
     "output_type": "stream",
     "text": [
      "A\n",
      "B\n",
      "(<class '__main__.C'>, <class '__main__.A'>, <class '__main__.B'>, <class 'object'>)\n",
      "(<class '__main__.D'>, <class '__main__.B'>, <class '__main__.A'>, <class 'object'>)\n"
     ]
    }
   ],
   "source": [
    "\n",
    "print(C.x)  # Output: A\n",
    "print(D.x)  # Output: B\n",
    "\n",
    "print(C.__mro__)  # Muestra el orden de resolución de métodos para C\n",
    "print(D.__mro__)  # Muestra el orden de resolución de métodos para D"
   ]
  },
  {
   "cell_type": "markdown",
   "metadata": {},
   "source": [
    "### Ejemplo 6: Interfaces y métodos abstractos\n",
    "\n",
    "Python no tiene un concepto formal de interfaces, pero se pueden simular usando clases abstractas. Sin embargo, a diferencia de algunos otros lenguajes, Python no requiere que sobrescribas los métodos abstractos a menos que uses el módulo `abc` (Abstract Base Classes).\n",
    "\n",
    "Este ejemplo ilustra:\n",
    "\n",
    "1. `InterfazAnimal` define un método abstracto `hacer_sonido()`.\n",
    "\n",
    "2. `Perro` implementa correctamente la interfaz.\n",
    "\n",
    "3. `GatoIncompleto` no implementa el método abstracto, lo que resulta en un error al intentar instanciarla."
   ]
  },
  {
   "cell_type": "code",
   "execution_count": 30,
   "metadata": {},
   "outputs": [],
   "source": [
    "from abc import ABC, abstractmethod\n",
    "\n",
    "class InterfazAnimal(ABC):\n",
    "    @abstractmethod\n",
    "    def hacer_sonido(self) -> str:\n",
    "        pass\n",
    "\n",
    "class Perro(InterfazAnimal):\n",
    "    def hacer_sonido(self) -> str:\n",
    "        return \"Guau!\"\n",
    "\n",
    "class GatoIncompleto(InterfazAnimal):\n",
    "    pass  # No implementa hacer_sonido"
   ]
  },
  {
   "cell_type": "code",
   "execution_count": 31,
   "metadata": {},
   "outputs": [
    {
     "name": "stdout",
     "output_type": "stream",
     "text": [
      "Guau!\n"
     ]
    }
   ],
   "source": [
    "mi_perro = Perro()\n",
    "print(mi_perro.hacer_sonido())  # Output: Guau!"
   ]
  },
  {
   "cell_type": "code",
   "execution_count": 32,
   "metadata": {},
   "outputs": [
    {
     "name": "stdout",
     "output_type": "stream",
     "text": [
      "Error: Can't instantiate abstract class GatoIncompleto with abstract method hacer_sonido\n"
     ]
    }
   ],
   "source": [
    "try:\n",
    "    mi_gato = GatoIncompleto()\n",
    "except TypeError as e:\n",
    "    print(f\"Error: {e}\")  # Output: Error: Can't instantiate abstract class GatoIncompleto with abstract method hacer_sonido"
   ]
  },
  {
   "cell_type": "markdown",
   "metadata": {},
   "source": [
    "## Explicación de conceptos clave\n",
    "\n",
    "1. **Uso de `super()`**: \n",
    "\n",
    "   - Permite llamar a métodos de la clase base.\n",
    "\n",
    "   - Útil para extender funcionalidad sin duplicar código.\n",
    "\n",
    "   - En herencia múltiple, sigue el orden de resolución de métodos (MRO).\n",
    "\n",
    "2. **Extensión y modificación de métodos**:\n",
    "\n",
    "   - Sobrescritura: Redefinir completamente un método de la clase base.\n",
    "\n",
    "   - Extensión: Añadir funcionalidad adicional al método de la clase base.\n",
    "\n",
    "3. **Herencia múltiple**:\n",
    "\n",
    "   - Permite heredar de varias clases base.\n",
    "\n",
    "   - Proporciona mayor flexibilidad pero puede aumentar la complejidad.\n",
    "\n",
    "   - Requiere cuidado para evitar conflictos entre métodos de diferentes clases base."
   ]
  },
  {
   "cell_type": "markdown",
   "metadata": {},
   "source": [
    "## Conclusión\n",
    "\n",
    "La herencia es una herramienta poderosa en la POO que permite crear jerarquías de clases flexibles y reutilizables. Ofrece varias ventajas:\n",
    "\n",
    "- **Reutilización de código**: Reduce la duplicación y promueve la consistencia.\n",
    "\n",
    "- **Extensibilidad**: Facilita la adición de nuevas funcionalidades y tipos de objetos.\n",
    "\n",
    "- **Organización**: Ayuda a estructurar el código de manera lógica y jerárquica.\n",
    "\n",
    "- **Polimorfismo**: Permite tratar objetos de clases derivadas de manera uniforme.\n",
    "\n",
    "- **Herencia sin sobrescritura**: Permite reutilizar código de la clase base sin modificaciones, lo cual es útil cuando la funcionalidad base es suficiente.\n",
    "\n",
    "- **Herencia múltiple**: Ofrece flexibilidad pero requiere cuidado para evitar conflictos. El MRO de Python proporciona una forma predecible de resolver estos conflictos.\n",
    "\n",
    "- **Interfaces en Python**: Aunque Python no tiene interfaces formales, las clases abstractas con `abc` pueden simular este comportamiento, forzando la implementación de métodos en las clases hijas.\n",
    "\n",
    "- **Flexibilidad de Python**: Sin `abc`, Python permite una implementación más flexible de \"interfaces\", lo que puede ser útil en ciertos escenarios pero también puede llevar a errores si no se manejan correctamente.\n",
    "\n",
    "Sin embargo, es importante usar la herencia con cuidado:\n",
    "\n",
    "- La herencia profunda puede llevar a jerarquías complejas y difíciles de mantener.\n",
    "\n",
    "- En algunos casos, la composición puede ser una alternativa más flexible que la herencia.\n",
    "\n",
    "- Es crucial diseñar cuidadosamente las jerarquías de clases para evitar problemas de diseño a largo plazo.\n",
    "\n",
    "- La herencia es una herramienta poderosa, pero no debe ser utilizada indiscriminadamente.\n",
    "\n",
    "- Las interfaces en Python no son estrictamente interfaces como en otros lenguajes, pero proporcionan una forma de definir contratos que las clases deben cumplir.\n",
    "\n",
    "En el desarrollo de software moderno, la herencia se utiliza ampliamente en frameworks, bibliotecas y aplicaciones para crear código modular, extensible y mantenible. Dominar los conceptos de herencia es esencial para cualquier desarrollador que trabaje con programación orientada a objetos, ya que permite crear sistemas más flexibles y adaptables a cambios futuros."
   ]
  }
 ],
 "metadata": {
  "kernelspec": {
   "display_name": ".venv",
   "language": "python",
   "name": "python3"
  },
  "language_info": {
   "codemirror_mode": {
    "name": "ipython",
    "version": 3
   },
   "file_extension": ".py",
   "mimetype": "text/x-python",
   "name": "python",
   "nbconvert_exporter": "python",
   "pygments_lexer": "ipython3",
   "version": "3.11.7"
  }
 },
 "nbformat": 4,
 "nbformat_minor": 2
}
