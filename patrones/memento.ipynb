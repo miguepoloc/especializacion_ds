{
 "cells": [
  {
   "cell_type": "code",
   "execution_count": 4,
   "metadata": {},
   "outputs": [],
   "source": [
    "from typing import List, Optional\n",
    "\n",
    "class CheckPoint:\n",
    "\n",
    "    def __init__(self, health: int, mana: int, level: int) -> None:\n",
    "        self.health: int = health\n",
    "        self.mana: int = mana\n",
    "        self.level: int = level\n",
    "\n",
    "\n",
    "class Character:\n",
    "\n",
    "    def __init__(self, name: str) -> None:\n",
    "        self.name: str = name\n",
    "        self.health: int = 100\n",
    "        self.mana: int = 50\n",
    "        self.level: int = 1\n",
    "\n",
    "    def take_damage(self, amount: int) -> None:\n",
    "        self.health -= amount\n",
    "        print(f\"{self.name} ha recibido {amount} de daño. Salud actual: {self.health}\")\n",
    "\n",
    "    def cast_spell(self, cost: int) -> None:\n",
    "        self.mana -= cost\n",
    "        print(f\"{self.name} ha lanzado un hechizo. Maná restante: {self.mana}\")\n",
    "\n",
    "    def level_up(self) -> None:\n",
    "        self.level += 1\n",
    "        print(f\"{self.name} ha subido de nivel! Nivel actual: {self.level}\")\n",
    "\n",
    "    def save_state(self) -> CheckPoint:\n",
    "        return CheckPoint(self.health, self.mana, self.level)\n",
    "\n",
    "    def restore_state(self, checkpoint: CheckPoint) -> None:\n",
    "        self.health = checkpoint.health\n",
    "        self.mana = checkpoint.mana\n",
    "        self.level = checkpoint.level\n",
    "        print(f\"{self.name} ha sido restaurado a su estado anterior: Salud: {self.health}, Maná: {self.mana}, Nivel: {self.level}\")\n"
   ]
  },
  {
   "cell_type": "code",
   "execution_count": 5,
   "metadata": {},
   "outputs": [],
   "source": [
    "\n",
    "\n",
    "class Game:\n",
    "    def __init__(self) -> None:\n",
    "        self.saved_states: List[CheckPoint] = []\n",
    "\n",
    "    def save_character(self, character: Character) -> None:\n",
    "        checkpoint = character.save_state()\n",
    "        self.saved_states.append(checkpoint)\n",
    "        print(f\"Estado guardado: Salud: {checkpoint.health}, Maná: {checkpoint.mana}, Nivel: {checkpoint.level}\")\n",
    "\n",
    "    def restore_character(self, character: Character, index: int) -> None:\n",
    "        if 0 <= index < len(self.saved_states):\n",
    "            checkpoint = self.saved_states[index]\n",
    "            character.restore_state(checkpoint)\n",
    "        else:\n",
    "            print(\"Índice de estado guardado no válido.\")"
   ]
  },
  {
   "cell_type": "code",
   "execution_count": 6,
   "metadata": {},
   "outputs": [
    {
     "name": "stdout",
     "output_type": "stream",
     "text": [
      "Estado guardado: Salud: 100, Maná: 50, Nivel: 1\n",
      "Gandalf ha recibido 30 de daño. Salud actual: 70\n",
      "Estado guardado: Salud: 70, Maná: 50, Nivel: 1\n",
      "Gandalf ha lanzado un hechizo. Maná restante: 30\n",
      "Estado guardado: Salud: 70, Maná: 30, Nivel: 1\n",
      "Gandalf ha subido de nivel! Nivel actual: 2\n",
      "Estado guardado: Salud: 70, Maná: 30, Nivel: 2\n",
      "Gandalf ha sido restaurado a su estado anterior: Salud: 70, Maná: 50, Nivel: 1\n",
      "Gandalf ha sido restaurado a su estado anterior: Salud: 100, Maná: 50, Nivel: 1\n"
     ]
    }
   ],
   "source": [
    "\n",
    "if __name__ == \"__main__\":\n",
    "    character = Character(\"Gandalf\")\n",
    "    game = Game()\n",
    "\n",
    "    game.save_character(character)\n",
    "\n",
    "    character.take_damage(30)\n",
    "    game.save_character(character)\n",
    "\n",
    "    character.cast_spell(20)\n",
    "    game.save_character(character)\n",
    "\n",
    "    character.level_up()\n",
    "    game.save_character(character)\n",
    "\n",
    "\n",
    "    game.restore_character(character, 1)\n",
    "\n",
    "    game.restore_character(character, 0)"
   ]
  }
 ],
 "metadata": {
  "kernelspec": {
   "display_name": "Python 3",
   "language": "python",
   "name": "python3"
  },
  "language_info": {
   "codemirror_mode": {
    "name": "ipython",
    "version": 3
   },
   "file_extension": ".py",
   "mimetype": "text/x-python",
   "name": "python",
   "nbconvert_exporter": "python",
   "pygments_lexer": "ipython3",
   "version": "3.12.1"
  }
 },
 "nbformat": 4,
 "nbformat_minor": 2
}
