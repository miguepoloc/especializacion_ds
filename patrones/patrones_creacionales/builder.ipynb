{
 "cells": [
  {
   "cell_type": "markdown",
   "id": "53e1ab14",
   "metadata": {},
   "source": [
    "# Patrón Creacional: Builder\n",
    "\n",
    "## Introducción\n",
    "El patrón Builder permite construir objetos complejos paso a paso, permitiendo diferentes representaciones usando el mismo proceso de construcción. Es ideal cuando un objeto requiere muchos pasos de configuración o tiene muchas variantes.\n",
    "\n",
    "## Objetivos\n",
    "- Comprender el propósito y la implementación del patrón Builder.\n",
    "- Identificar cuándo es útil y cuándo evitarlo.\n",
    "- Comparar la solución con y sin el patrón.\n",
    "\n",
    "## Ejemplo de la vida real\n",
    "**Contexto: App de Banco**\n",
    "Imagina que un banco permite a los clientes personalizar su cuenta (tipo de tarjeta, límites, servicios adicionales). El patrón Builder permite construir la cuenta paso a paso según las opciones del cliente, sin crear constructores enormes o múltiples subclases.\n",
    "\n",
    "**¿Dónde se usa en proyectos reales?**\n",
    "En la construcción de objetos complejos como configuraciones de cuentas bancarias, generación de reportes, construcción de interfaces gráficas, etc."
   ]
  },
  {
   "cell_type": "markdown",
   "id": "42f30065",
   "metadata": {},
   "source": [
    "## Sin patrón Builder (forma errónea)\n",
    "El código cliente debe conocer todos los detalles de construcción. Esto puede llevar a constructores con muchos parámetros y código difícil de mantener."
   ]
  },
  {
   "cell_type": "code",
   "execution_count": null,
   "id": "744a0aa5",
   "metadata": {},
   "outputs": [],
   "source": [
    "class Sandwich:\n",
    "    def __init__(self, pan, carne, vegetales):\n",
    "        self.pan = pan\n",
    "        self.carne = carne\n",
    "        self.vegetales = vegetales\n",
    "    def mostrar(self):\n",
    "        print(f'Sandwich de {self.pan}, {self.carne}, {self.vegetales}')\n",
    "\n",
    "sandwich = Sandwich('blanco', 'pollo', 'lechuga')\n",
    "sandwich.mostrar()"
   ]
  },
  {
   "cell_type": "markdown",
   "id": "96bb4c86",
   "metadata": {},
   "source": [
    "## Con patrón Builder (forma correcta)\n",
    "El cliente utiliza un objeto builder para construir el producto paso a paso, sin preocuparse por los detalles internos. Esto facilita la personalización y el mantenimiento."
   ]
  },
  {
   "cell_type": "code",
   "execution_count": null,
   "id": "427c5e28",
   "metadata": {},
   "outputs": [],
   "source": [
    "class SandwichBuilder:\n",
    "    def __init__(self):\n",
    "        self.pan = None\n",
    "        self.carne = None\n",
    "        self.vegetales = None\n",
    "    def set_pan(self, pan):\n",
    "        self.pan = pan\n",
    "        return self\n",
    "    def set_carne(self, carne):\n",
    "        self.carne = carne\n",
    "        return self\n",
    "    def set_vegetales(self, vegetales):\n",
    "        self.vegetales = vegetales\n",
    "        return self\n",
    "    def build(self):\n",
    "        return Sandwich(self.pan, self.carne, self.vegetales)\n",
    "\n",
    "builder = SandwichBuilder()\n",
    "sandwich = builder.set_pan('integral').set_carne('jamón').set_vegetales('tomate').build()\n",
    "sandwich.mostrar()"
   ]
  },
  {
   "cell_type": "markdown",
   "id": "f04c1256",
   "metadata": {},
   "source": [
    "## UML del patrón Builder\n",
    "```plantuml\n",
    "@startuml\n",
    "class Sandwich {\n",
    "    + __init__(pan, carne, vegetales)\n",
    "    + mostrar()\n",
    "}\n",
    "class SandwichBuilder {\n",
    "    + set_pan(pan)\n",
    "    + set_carne(carne)\n",
    "    + set_vegetales(vegetales)\n",
    "    + build()\n",
    "}\n",
    "SandwichBuilder ..> Sandwich\n",
    "@enduml\n",
    "```"
   ]
  },
  {
   "cell_type": "markdown",
   "id": "188a6d25",
   "metadata": {},
   "source": [
    "## Actividad\n",
    "Crea tu propio Builder para construir un objeto complejo, como una pizza o un computador.\n",
    "\n",
    "---\n",
    "\n",
    "## Explicación de conceptos clave\n",
    "- **Separación de construcción y representación:** El Builder separa la lógica de construcción de la representación final del objeto.\n",
    "- **Flexibilidad:** Permite crear diferentes representaciones del mismo objeto usando el mismo proceso de construcción.\n",
    "- **Aplicación en la vida real:** Útil en sistemas donde los objetos tienen muchas opciones de configuración, como cuentas bancarias, reportes o interfaces.\n",
    "\n",
    "## Conclusión\n",
    "El patrón Builder es ideal para construir objetos complejos de manera controlada y flexible. Facilita la personalización y el mantenimiento, y es ampliamente usado en sistemas bancarios, generación de documentos y aplicaciones con configuraciones avanzadas."
   ]
  }
 ],
 "metadata": {
  "language_info": {
   "name": "python"
  }
 },
 "nbformat": 4,
 "nbformat_minor": 5
}
