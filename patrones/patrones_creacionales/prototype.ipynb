{
 "cells": [
  {
   "cell_type": "markdown",
   "id": "164d4e79",
   "metadata": {},
   "source": [
    "# Patrón Creacional: Prototype\n",
    "\n",
    "## Introducción\n",
    "El patrón Prototype permite copiar objetos existentes sin que el código dependa de sus clases. Es útil cuando la creación de un objeto es costosa o compleja, o cuando se necesita clonar objetos configurados previamente.\n",
    "\n",
    "## Objetivos\n",
    "- Comprender el propósito y la implementación del patrón Prototype.\n",
    "- Identificar cuándo es útil y cuándo evitarlo.\n",
    "- Comparar la solución con y sin el patrón.\n",
    "\n",
    "## Ejemplo de la vida real\n",
    "**Contexto: App de Banco**\n",
    "Supón que un banco tiene plantillas de contratos o productos financieros. Cuando un cliente solicita un producto, el sistema clona la plantilla y la personaliza. El patrón Prototype permite clonar objetos configurados sin depender de su clase concreta.\n",
    "\n",
    "**¿Dónde se usa en proyectos reales?**\n",
    "En sistemas de gestión de documentos, generación de contratos, creación de usuarios a partir de plantillas, etc."
   ]
  },
  {
   "cell_type": "markdown",
   "id": "db386995",
   "metadata": {},
   "source": [
    "## Sin patrón Prototype (forma errónea)\n",
    "El código cliente debe crear manualmente nuevos objetos y copiar sus atributos. Esto puede ser propenso a errores y difícil de mantener si el objeto tiene muchos atributos."
   ]
  },
  {
   "cell_type": "code",
   "execution_count": null,
   "id": "d66b2a5e",
   "metadata": {},
   "outputs": [],
   "source": [
    "class Documento:\n",
    "    def __init__(self, texto):\n",
    "        self.texto = texto\n",
    "\n",
    "doc1 = Documento('original')\n",
    "doc2 = Documento(doc1.texto)\n",
    "print(doc2.texto)"
   ]
  },
  {
   "cell_type": "markdown",
   "id": "6b073693",
   "metadata": {},
   "source": [
    "## Con patrón Prototype (forma correcta)\n",
    "El cliente puede clonar objetos existentes fácilmente, sin preocuparse por los detalles internos de la clase. Esto facilita la reutilización y la personalización."
   ]
  },
  {
   "cell_type": "code",
   "execution_count": null,
   "id": "922cd2dc",
   "metadata": {},
   "outputs": [],
   "source": [
    "import copy\n",
    "class Documento:\n",
    "    def __init__(self, texto):\n",
    "        self.texto = texto\n",
    "    def clonar(self):\n",
    "        return copy.deepcopy(self)\n",
    "\n",
    "doc1 = Documento('original')\n",
    "doc2 = doc1.clonar()\n",
    "print(doc2.texto)"
   ]
  },
  {
   "cell_type": "markdown",
   "id": "73b0c745",
   "metadata": {},
   "source": [
    "## UML del patrón Prototype\n",
    "```plantuml\n",
    "@startuml\n",
    "class Documento {\n",
    "    + __init__(texto)\n",
    "    + clonar()\n",
    "}\n",
    "@enduml\n",
    "```"
   ]
  },
  {
   "cell_type": "markdown",
   "id": "cf108df7",
   "metadata": {},
   "source": [
    "## Actividad\n",
    "Crea tu propio Prototype para clonar objetos de una clase personalizada (por ejemplo, usuario, producto, etc.).\n",
    "\n",
    "---\n",
    "\n",
    "## Explicación de conceptos clave\n",
    "- **Clonación eficiente:** Prototype permite clonar objetos complejos sin depender de su clase concreta.\n",
    "- **Desacoplamiento:** El cliente no necesita conocer los detalles de la clase para crear copias.\n",
    "- **Aplicación en la vida real:** Útil en sistemas donde se reutilizan plantillas, contratos o configuraciones.\n",
    "\n",
    "## Conclusión\n",
    "El patrón Prototype es ideal para sistemas donde la creación de objetos es costosa o compleja, o cuando se requiere clonar objetos configurados. Facilita la reutilización y la personalización, y es común en aplicaciones bancarias, gestión de documentos y sistemas de plantillas."
   ]
  }
 ],
 "metadata": {
  "language_info": {
   "name": "python"
  }
 },
 "nbformat": 4,
 "nbformat_minor": 5
}
