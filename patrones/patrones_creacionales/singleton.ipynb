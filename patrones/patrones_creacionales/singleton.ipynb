{
 "cells": [
  {
   "cell_type": "markdown",
   "id": "be2abef9",
   "metadata": {},
   "source": [
    "# Patrón Creacional: Singleton\n",
    "\n",
    "## Introducción\n",
    "El patrón Singleton garantiza que una clase tenga una única instancia y proporciona un punto de acceso global a ella. Es útil cuando se necesita un único objeto para coordinar acciones en todo el sistema (por ejemplo, una conexión a base de datos o un registro de logs).\n",
    "\n",
    "## Objetivos\n",
    "- Comprender el propósito y la implementación del patrón Singleton.\n",
    "- Identificar cuándo es útil y cuándo evitarlo.\n",
    "- Comparar la solución con y sin el patrón.\n",
    "\n",
    "## Ejemplo de la vida real\n",
    "**Contexto: App de Estación Meteorológica**\n",
    "Supón que una app meteorológica necesita un único objeto para acceder a la configuración global de la estación (ubicación, unidades, etc.). El Singleton asegura que solo exista una instancia de la configuración en toda la aplicación.\n",
    "\n",
    "**¿Dónde se usa en proyectos reales?**\n",
    "En sistemas de configuración global, gestión de conexiones a base de datos, registro de logs, controladores de hardware, etc."
   ]
  },
  {
   "cell_type": "markdown",
   "id": "3b6edfde",
   "metadata": {},
   "source": [
    "### Sin patrón Singleton (forma errónea)\n",
    "Cada vez que se crea un Logger, se obtiene una nueva instancia, lo que puede causar inconsistencias y problemas de sincronización."
   ]
  },
  {
   "cell_type": "code",
   "execution_count": null,
   "id": "a80c51ba",
   "metadata": {},
   "outputs": [],
   "source": [
    "class Logger:\n",
    "    def log(self, msg):\n",
    "        print(f'LOG: {msg}')\n",
    "\n",
    "logger1 = Logger()\n",
    "logger2 = Logger()\n",
    "print(logger1 is logger2)  # False"
   ]
  },
  {
   "cell_type": "markdown",
   "id": "914189c2",
   "metadata": {},
   "source": [
    "### Con patrón Singleton (forma correcta)\n",
    "El cliente siempre obtiene la misma instancia, asegurando consistencia y acceso global."
   ]
  },
  {
   "cell_type": "code",
   "execution_count": null,
   "id": "5bdf745e",
   "metadata": {},
   "outputs": [],
   "source": [
    "class SingletonLogger:\n",
    "    _instance = None\n",
    "    def __new__(cls):\n",
    "        if cls._instance is None:\n",
    "            cls._instance = super().__new__(cls)\n",
    "        return cls._instance\n",
    "    def log(self, msg):\n",
    "        print(f'SINGLETON LOG: {msg}')\n",
    "\n",
    "logger1 = SingletonLogger()\n",
    "logger2 = SingletonLogger()\n",
    "print(logger1 is logger2)  # True"
   ]
  },
  {
   "cell_type": "markdown",
   "id": "1bdbd82e",
   "metadata": {},
   "source": [
    "## UML del patrón Singleton\n",
    "```plantuml\n",
    "@startuml\n",
    "class SingletonLogger {\n",
    "    - _instance: SingletonLogger\n",
    "    + __new__()\n",
    "    + log(msg)\n",
    "}\n",
    "@enduml\n",
    "```"
   ]
  },
  {
   "cell_type": "markdown",
   "id": "697e3fd4",
   "metadata": {},
   "source": [
    "## Actividad\n",
    "Implementa tu propio Singleton para una clase de configuración global.\n",
    "\n",
    "---\n",
    "\n",
    "## Explicación de conceptos clave\n",
    "- **Instancia única:** Singleton asegura que solo exista una instancia de la clase en todo el sistema.\n",
    "- **Acceso global:** Permite acceder a la instancia desde cualquier parte de la aplicación.\n",
    "- **Aplicación en la vida real:** Útil en sistemas de configuración, registro de logs, controladores de hardware, etc.\n",
    "\n",
    "## Conclusión\n",
    "El patrón Singleton es fundamental cuando se requiere una única instancia de una clase para coordinar acciones globales. Es común en aplicaciones meteorológicas, sistemas de configuración y gestión de recursos compartidos. Debe usarse con precaución para evitar problemas de pruebas y acoplamiento excesivo."
   ]
  }
 ],
 "metadata": {
  "language_info": {
   "name": "python"
  }
 },
 "nbformat": 4,
 "nbformat_minor": 5
}
