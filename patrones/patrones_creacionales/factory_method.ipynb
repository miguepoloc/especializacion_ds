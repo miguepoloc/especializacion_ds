{
 "cells": [
  {
   "cell_type": "markdown",
   "id": "f09a6bd5",
   "metadata": {},
   "source": [
    "# Patrón Creacional: Factory Method\n",
    "\n",
    "## Introducción\n",
    "El patrón Factory Method proporciona una interfaz para la creación de objetos en una superclase, pero permite a las subclases alterar el tipo de objetos que se crearán. Es muy útil cuando el sistema debe delegar la creación de objetos a subclases, permitiendo mayor flexibilidad y escalabilidad.\n",
    "\n",
    "## Objetivos\n",
    "- Comprender el propósito y la implementación del patrón Factory Method.\n",
    "- Identificar cuándo es útil y cuándo evitarlo.\n",
    "- Comparar la solución con y sin el patrón.\n",
    "\n",
    "## Ejemplo de la vida real\n",
    "**Contexto: App de Banco**\n",
    "En una aplicación bancaria, el sistema puede necesitar crear diferentes tipos de cuentas (Ahorros, Corriente, Nómina) dependiendo del cliente. El Factory Method permite que cada tipo de cuenta se cree a través de una subclase especializada, facilitando la extensión y el mantenimiento del sistema.\n",
    "\n",
    "**¿Dónde se usa en proyectos reales?**\n",
    "En sistemas de pagos, creación de usuarios, procesamiento de documentos, sistemas de notificaciones, etc. Por ejemplo, en una app bancaria, la lógica para crear una cuenta de ahorros o una cuenta corriente puede variar y el Factory Method permite encapsular esa lógica en subclases."
   ]
  },
  {
   "cell_type": "markdown",
   "id": "d025393c",
   "metadata": {},
   "source": [
    "## Sin patrón Factory Method (forma errónea)\n",
    "El código cliente debe conocer las clases concretas que va a instanciar. Esto hace que el sistema sea rígido y difícil de mantener si se agregan nuevos tipos de cuentas."
   ]
  },
  {
   "cell_type": "code",
   "execution_count": null,
   "id": "1ea8f86a",
   "metadata": {},
   "outputs": [],
   "source": [
    "class Transporte:\n",
    "    def entregar(self):\n",
    "        pass\n",
    "\n",
    "class Camion(Transporte):\n",
    "    def entregar(self):\n",
    "        print('Entrega por camión')\n",
    "\n",
    "class Barco(Transporte):\n",
    "    def entregar(self):\n",
    "        print('Entrega por barco')\n",
    "\n",
    "# El cliente decide qué clase instanciar\n",
    "transporte = Camion()\n",
    "transporte.entregar()"
   ]
  },
  {
   "cell_type": "markdown",
   "id": "9f8e36ca",
   "metadata": {},
   "source": [
    "## Con patrón Factory Method (forma correcta)\n",
    "El cliente solo interactúa con la interfaz general y no necesita saber los detalles de cada tipo de cuenta. Esto facilita la extensión y el mantenimiento."
   ]
  },
  {
   "cell_type": "code",
   "execution_count": null,
   "id": "4a2285d1",
   "metadata": {},
   "outputs": [],
   "source": [
    "class Logistica:\n",
    "    def crear_transporte(self):\n",
    "        raise NotImplementedError\n",
    "    def plan_entrega(self):\n",
    "        transporte = self.crear_transporte()\n",
    "        transporte.entregar()\n",
    "\n",
    "class LogisticaCamion(Logistica):\n",
    "    def crear_transporte(self):\n",
    "        return Camion()\n",
    "\n",
    "class LogisticaBarco(Logistica):\n",
    "    def crear_transporte(self):\n",
    "        return Barco()\n",
    "\n",
    "logistica = LogisticaBarco()\n",
    "logistica.plan_entrega()"
   ]
  },
  {
   "cell_type": "markdown",
   "id": "7c61dcfd",
   "metadata": {},
   "source": [
    "## UML del patrón Factory Method\n",
    "```plantuml\n",
    "@startuml\n",
    "abstract class Logistica {\n",
    "    + crear_transporte()\n",
    "    + plan_entrega()\n",
    "}\n",
    "class LogisticaCamion\n",
    "class LogisticaBarco\n",
    "Logistica <|-- LogisticaCamion\n",
    "Logistica <|-- LogisticaBarco\n",
    "Logistica ..> Transporte\n",
    "abstract class Transporte {\n",
    "    + entregar()\n",
    "}\n",
    "class Camion\n",
    "class Barco\n",
    "Transporte <|-- Camion\n",
    "Transporte <|-- Barco\n",
    "@enduml\n",
    "```"
   ]
  },
  {
   "cell_type": "markdown",
   "id": "93ca7900",
   "metadata": {},
   "source": [
    "## Actividad\n",
    "Crea tu propio Factory Method para una aplicación de notificaciones (Email, SMS, Push).\n",
    "\n",
    "---\n",
    "\n",
    "## Explicación de conceptos clave\n",
    "- **Desacoplamiento:** El Factory Method desacopla la lógica de creación de objetos del código cliente, permitiendo que el sistema sea más flexible y extensible.\n",
    "- **Extensibilidad:** Si se necesita agregar un nuevo tipo de producto, solo se crea una nueva subclase sin modificar el código existente.\n",
    "- **Aplicación en la vida real:** Muy útil en sistemas donde la creación de objetos depende de condiciones dinámicas o de la configuración del usuario.\n",
    "\n",
    "## Conclusión\n",
    "El patrón Factory Method es fundamental para construir sistemas escalables y mantenibles. Permite delegar la creación de objetos a subclases, facilitando la extensión y el mantenimiento del código. Es especialmente útil en aplicaciones bancarias, sistemas de pagos, y cualquier sistema donde la variedad de productos o servicios pueda crecer con el tiempo."
   ]
  }
 ],
 "metadata": {
  "language_info": {
   "name": "python"
  }
 },
 "nbformat": 4,
 "nbformat_minor": 5
}
