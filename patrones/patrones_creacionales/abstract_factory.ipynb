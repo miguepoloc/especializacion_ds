{
 "cells": [
  {
   "cell_type": "markdown",
   "id": "a45300df",
   "metadata": {},
   "source": [
    "# Patrón Creacional: Abstract Factory\n",
    "\n",
    "## Introducción\n",
    "El patrón Abstract Factory permite producir familias de objetos relacionados sin especificar sus clases concretas. Es ideal cuando un sistema debe ser independiente de cómo se crean, componen y representan sus productos.\n",
    "\n",
    "## Objetivos\n",
    "- Comprender el propósito y la implementación del patrón Abstract Factory.\n",
    "- Identificar cuándo es útil y cuándo evitarlo.\n",
    "- Comparar la solución con y sin el patrón.\n",
    "\n",
    "## Ejemplo de la vida real\n",
    "**Contexto: App de Banco**\n",
    "Supón que tu banco ofrece productos para clientes personales y empresariales. Cada tipo de cliente necesita una familia de productos: tarjetas, cuentas y préstamos. Abstract Factory permite crear familias de productos consistentes para cada tipo de cliente sin acoplar el código a las clases concretas.\n",
    "\n",
    "**¿Dónde se usa en proyectos reales?**\n",
    "En sistemas de interfaces gráficas (diferentes temas visuales), aplicaciones bancarias (productos para distintos segmentos), sistemas de gestión de dispositivos, etc."
   ]
  },
  {
   "cell_type": "markdown",
   "id": "16e49d4c",
   "metadata": {},
   "source": [
    "## Sin patrón Abstract Factory (forma errónea)\n",
    "El código cliente debe conocer las clases concretas de cada producto. Esto hace difícil cambiar la familia de productos o agregar nuevas variantes."
   ]
  },
  {
   "cell_type": "code",
   "execution_count": null,
   "id": "b4896069",
   "metadata": {},
   "outputs": [],
   "source": [
    "class SillaModerna:\n",
    "    def sentarse(self):\n",
    "        print('Sentado en silla moderna')\n",
    "\n",
    "class SillaVictoriana:\n",
    "    def sentarse(self):\n",
    "        print('Sentado en silla victoriana')\n",
    "\n",
    "silla = SillaModerna()\n",
    "silla.sentarse()"
   ]
  },
  {
   "cell_type": "markdown",
   "id": "5fb897f0",
   "metadata": {},
   "source": [
    "## Con patrón Abstract Factory (forma correcta)\n",
    "El cliente solo interactúa con la fábrica abstracta y no necesita saber los detalles de cada producto. Esto facilita la extensión y el mantenimiento."
   ]
  },
  {
   "cell_type": "code",
   "execution_count": null,
   "id": "9d84c79a",
   "metadata": {},
   "outputs": [],
   "source": [
    "class MueblesFactory:\n",
    "    def crear_silla(self):\n",
    "        raise NotImplementedError\n",
    "\n",
    "class ModernaFactory(MueblesFactory):\n",
    "    def crear_silla(self):\n",
    "        return SillaModerna()\n",
    "\n",
    "class VictorianaFactory(MueblesFactory):\n",
    "    def crear_silla(self):\n",
    "        return SillaVictoriana()\n",
    "\n",
    "factory = VictorianaFactory()\n",
    "silla = factory.crear_silla()\n",
    "silla.sentarse()"
   ]
  },
  {
   "cell_type": "markdown",
   "id": "7eb41731",
   "metadata": {},
   "source": [
    "## UML del patrón Abstract Factory\n",
    "```plantuml\n",
    "@startuml\n",
    "abstract class MueblesFactory {\n",
    "    + crear_silla()\n",
    "}\n",
    "class ModernaFactory\n",
    "class VictorianaFactory\n",
    "MueblesFactory <|-- ModernaFactory\n",
    "MueblesFactory <|-- VictorianaFactory\n",
    "class SillaModerna\n",
    "class SillaVictoriana\n",
    "ModernaFactory ..> SillaModerna\n",
    "VictorianaFactory ..> SillaVictoriana\n",
    "@enduml\n",
    "```"
   ]
  },
  {
   "cell_type": "markdown",
   "id": "77cfe503",
   "metadata": {},
   "source": [
    "## Actividad\n",
    "Crea tu propia Abstract Factory para una familia de productos tecnológicos (por ejemplo, Laptop y Smartphone de diferentes marcas).\n",
    "\n",
    "---\n",
    "\n",
    "## Explicación de conceptos clave\n",
    "- **Consistencia:** Abstract Factory asegura que los productos de una familia sean compatibles entre sí.\n",
    "- **Desacoplamiento:** El cliente no depende de las clases concretas de los productos.\n",
    "- **Escalabilidad:** Es fácil agregar nuevas familias de productos sin modificar el código cliente.\n",
    "\n",
    "## Conclusión\n",
    "El patrón Abstract Factory es esencial cuando necesitas crear familias de objetos relacionados y garantizar su compatibilidad. Es muy útil en aplicaciones bancarias, sistemas de interfaces gráficas y cualquier sistema donde la variedad de productos pueda crecer o cambiar según el contexto del usuario."
   ]
  }
 ],
 "metadata": {
  "language_info": {
   "name": "python"
  }
 },
 "nbformat": 4,
 "nbformat_minor": 5
}
