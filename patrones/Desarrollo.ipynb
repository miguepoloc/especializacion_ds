{
 "cells": [
  {
   "cell_type": "markdown",
   "metadata": {},
   "source": [
    "# PATRONES DE DISEÑO - DESARROLLO"
   ]
  },
  {
   "cell_type": "markdown",
   "metadata": {},
   "source": [
    "# Patron Strategy\n",
    "\n",
    "https://editor.plantuml.com/dPB13e8m38RlI_OEFQ867i1uG0a7duBKKNJ9PCasJiYxkpb3X8Y9dBgq_R-rVvfRXyPrTyKPPx9rP1eK1ALr1XrT9HQeHAVqEPJ8GiyPm0vwl8GEuGOGhmOqYKLLwpqqIgFRl2DdGm0BXTR257MyQMFqI5oBAJn5ad-l07LUXoTi1Hg9KP_2foncQ3IZYd1VNZ9eEaCbOvPiCfjWqU338yk-E_MVQFGb_3RRT9kcFnRWBAUszYVn1000\n",
    "\n",
    "![Strategy.png](https://img.plantuml.biz/plantuml/png/dPB13e8m38RlI_OEFQ867i1uG0a7duBKKNJ9PCasJiYxkpb3X8Y9dBgq_R-rVvfRXyPrTyKPPx9rP1eK1ALr1XrT9HQeHAVqEPJ8GiyPm0vwl8GEuGOGhmOqYKLLwpqqIgFRl2DdGm0BXTR257MyQMFqI5oBAJn5ad-l07LUXoTi1Hg9KP_2foncQ3IZYd1VNZ9eEaCbOvPiCfjWqU338yk-E_MVQFGb_3RRT9kcFnRWBAUszYVn1000)\n",
    "\n",
    "## Ejemplo Antes de Aplicar el Patrón Strategy"
   ]
  },
  {
   "cell_type": "code",
   "execution_count": null,
   "metadata": {},
   "outputs": [],
   "source": [
    "class CuentaBancaria:\n",
    "    def __init__(self, saldo: float, tipo_cuenta: str):\n",
    "        self.saldo = saldo\n",
    "        self.tipo_cuenta = tipo_cuenta\n",
    "\n",
    "    def calcular_intereses(self) -> float:\n",
    "        if self.tipo_cuenta == \"ahorros\":\n",
    "            return round(self.saldo * 0.015, 2)\n",
    "        elif self.tipo_cuenta == \"corriente\":\n",
    "            return round(self.saldo * 0.002, 2)\n",
    "        return 0"
   ]
  },
  {
   "cell_type": "markdown",
   "metadata": {},
   "source": [
    "## Ejemplo Después de Aplicar el Patrón Strategy"
   ]
  },
  {
   "cell_type": "code",
   "execution_count": null,
   "metadata": {},
   "outputs": [],
   "source": [
    "from abc import ABC, abstractmethod\n",
    "\n",
    "class EstrategiaCalculoInteres(ABC):\n",
    "    @abstractmethod\n",
    "    def calcular(self, saldo: float) -> float:\n",
    "        pass"
   ]
  },
  {
   "cell_type": "code",
   "execution_count": 3,
   "metadata": {},
   "outputs": [],
   "source": [
    "class CalculoInteresAhorros(EstrategiaCalculoInteres):\n",
    "    def calcular(self, saldo: float) -> float:\n",
    "        return round(saldo * 0.015, 2) # Tasa del 1.5%\n",
    "\n",
    "class CalculoInteresCorriente(EstrategiaCalculoInteres):\n",
    "    def calcular(self, saldo: float) -> float:\n",
    "        return round(saldo * 0.002, 2) # Tasa del 0.2%"
   ]
  },
  {
   "cell_type": "code",
   "execution_count": null,
   "metadata": {},
   "outputs": [],
   "source": [
    "class CuentaBancaria:\n",
    "    def __init__(self, saldo: float, estrategia: EstrategiaCalculoInteres):\n",
    "        self.saldo = saldo\n",
    "        self.estrategia_calculo = estrategia\n",
    "\n",
    "    def calcular_intereses(self) -> float:\n",
    "        return self.estrategia_calculo.calcular(self.saldo)"
   ]
  },
  {
   "cell_type": "code",
   "execution_count": 6,
   "metadata": {},
   "outputs": [
    {
     "name": "stdout",
     "output_type": "stream",
     "text": [
      "Intereses de la cuenta de ahorros: $75.0\n",
      "Intereses de la cuenta corriente: $20.0\n"
     ]
    }
   ],
   "source": [
    "estrategia_ahorros = CalculoInteresAhorros()\n",
    "estrategia_corriente = CalculoInteresCorriente()\n",
    "\n",
    "cuenta_ahorros = CuentaBancaria(saldo=5000, estrategia=estrategia_ahorros)\n",
    "cuenta_corriente = CuentaBancaria(saldo=10000, estrategia=estrategia_corriente)\n",
    "\n",
    "print(f\"Intereses de la cuenta de ahorros: ${cuenta_ahorros.calcular_intereses()}\")\n",
    "print(f\"Intereses de la cuenta corriente: ${cuenta_corriente.calcular_intereses()}\")"
   ]
  }
 ],
 "metadata": {
  "kernelspec": {
   "display_name": "venv",
   "language": "python",
   "name": "python3"
  },
  "language_info": {
   "codemirror_mode": {
    "name": "ipython",
    "version": 3
   },
   "file_extension": ".py",
   "mimetype": "text/x-python",
   "name": "python",
   "nbconvert_exporter": "python",
   "pygments_lexer": "ipython3",
   "version": "3.13.7"
  }
 },
 "nbformat": 4,
 "nbformat_minor": 2
}
