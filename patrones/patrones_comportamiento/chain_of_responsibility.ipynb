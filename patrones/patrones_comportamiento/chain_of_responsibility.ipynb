{
 "cells": [
  {
   "cell_type": "markdown",
   "id": "482de5b8",
   "metadata": {},
   "source": [
    "# Patrón de Comportamiento: Chain of Responsibility\n",
    "\n",
    "## Introducción\n",
    "El patrón Chain of Responsibility permite pasar una petición a lo largo de una cadena de manejadores hasta que uno de ellos la procese.\n",
    "\n",
    "## Objetivos\n",
    "- Comprender cómo desacoplar el emisor de la petición de su receptor.\n",
    "- Identificar cuándo es útil el patrón Chain of Responsibility.\n",
    "- Comparar la solución con y sin el patrón.\n",
    "\n",
    "## Ejemplo de la vida real\n",
    "**Contexto: Sistema de soporte técnico**\n",
    "Una solicitud de soporte puede ser atendida por diferentes niveles (primer nivel, segundo nivel, etc.) hasta que alguien la resuelva.\n",
    "\n",
    "**¿Dónde se usa en proyectos reales?**\n",
    "En sistemas de soporte, validación de formularios, procesamiento de eventos, etc."
   ]
  },
  {
   "cell_type": "markdown",
   "id": "7069563c",
   "metadata": {},
   "source": [
    "## Sin patrón Chain of Responsibility (forma errónea)\n",
    "El cliente debe conocer y consultar cada manejador manualmente."
   ]
  },
  {
   "cell_type": "code",
   "execution_count": null,
   "id": "354a3de3",
   "metadata": {},
   "outputs": [],
   "source": [
    "def soporte_tecnico(solicitud):\n",
    "    if solicitud == 'básica':\n",
    "        print('Resuelta por primer nivel')\n",
    "    elif solicitud == 'avanzada':\n",
    "        print('Resuelta por segundo nivel')\n",
    "    else:\n",
    "        print('No resuelta')\n",
    "\n",
    "soporte_tecnico('básica')\n",
    "soporte_tecnico('avanzada')\n",
    "soporte_tecnico('especial')"
   ]
  },
  {
   "cell_type": "markdown",
   "id": "c3ca9717",
   "metadata": {},
   "source": [
    "## Con patrón Chain of Responsibility (forma correcta)\n",
    "Cada manejador decide si procesa la petición o la pasa al siguiente."
   ]
  },
  {
   "cell_type": "code",
   "execution_count": null,
   "id": "ad2d24fb",
   "metadata": {},
   "outputs": [],
   "source": [
    "class Manejador:\n",
    "    def __init__(self, siguiente=None):\n",
    "        self.siguiente = siguiente\n",
    "    def manejar(self, solicitud):\n",
    "        if self.siguiente:\n",
    "            self.siguiente.manejar(solicitud)\n",
    "\n",
    "class PrimerNivel(Manejador):\n",
    "    def manejar(self, solicitud):\n",
    "        if solicitud == 'básica':\n",
    "            print('Resuelta por primer nivel')\n",
    "        else:\n",
    "            super().manejar(solicitud)\n",
    "\n",
    "class SegundoNivel(Manejador):\n",
    "    def manejar(self, solicitud):\n",
    "        if solicitud == 'avanzada':\n",
    "            print('Resuelta por segundo nivel')\n",
    "        else:\n",
    "            super().manejar(solicitud)\n",
    "\n",
    "class SinSolucion(Manejador):\n",
    "    def manejar(self, solicitud):\n",
    "        print('No resuelta')\n",
    "\n",
    "cadena = PrimerNivel(SegundoNivel(SinSolucion()))\n",
    "cadena.manejar('básica')\n",
    "cadena.manejar('avanzada')\n",
    "cadena.manejar('especial')"
   ]
  },
  {
   "cell_type": "markdown",
   "id": "ff467af2",
   "metadata": {},
   "source": [
    "## UML del patrón Chain of Responsibility\n",
    "```plantuml\n",
    "@startuml\n",
    "class Manejador {\n",
    "    + manejar(solicitud)\n",
    "}\n",
    "Manejador <|-- PrimerNivel\n",
    "Manejador <|-- SegundoNivel\n",
    "Manejador <|-- SinSolucion\n",
    "PrimerNivel --> Manejador\n",
    "SegundoNivel --> Manejador\n",
    "SinSolucion --> Manejador\n",
    "@enduml\n",
    "```"
   ]
  },
  {
   "cell_type": "markdown",
   "id": "73531d21",
   "metadata": {},
   "source": [
    "## Actividad\n",
    "Crea una cadena de validadores para un formulario web donde cada validador revise un campo diferente.\n",
    "\n",
    "---\n",
    "## Explicación de conceptos clave\n",
    "- **Desacoplamiento:** El emisor no necesita conocer el receptor final.\n",
    "- **Flexibilidad:** Se pueden agregar o quitar manejadores fácilmente.\n",
    "- **Aplicación en la vida real:** Útil en sistemas de soporte, validación y procesamiento de eventos.\n",
    "\n",
    "## Conclusión\n",
    "El patrón Chain of Responsibility es ideal para sistemas donde varias entidades pueden manejar una petición."
   ]
  }
 ],
 "metadata": {
  "language_info": {
   "name": "python"
  }
 },
 "nbformat": 4,
 "nbformat_minor": 5
}
