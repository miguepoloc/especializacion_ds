{
 "cells": [
  {
   "cell_type": "markdown",
   "id": "8b6d2f91",
   "metadata": {},
   "source": [
    "# Patrón de Comportamiento: State\n",
    "\n",
    "## Introducción\n",
    "El patrón State permite que un objeto altere su comportamiento cuando su estado interno cambia, pareciendo que cambia su clase.\n",
    "\n",
    "## Objetivos\n",
    "- Comprender cómo encapsular comportamientos dependientes del estado.\n",
    "- Identificar cuándo es útil el patrón State.\n",
    "- Comparar la solución con y sin el patrón.\n",
    "\n",
    "## Ejemplo de la vida real\n",
    "**Contexto: Cajero automático (ATM)**\n",
    "Un cajero automático cambia su comportamiento según el estado: sin tarjeta, con tarjeta, con PIN correcto, sin fondos, etc.\n",
    "\n",
    "**¿Dónde se usa en proyectos reales?**\n",
    "En máquinas de estados, juegos, sistemas de workflow, etc."
   ]
  },
  {
   "cell_type": "markdown",
   "id": "98a349d9",
   "metadata": {},
   "source": [
    "## Sin patrón State (forma errónea)\n",
    "El comportamiento se controla con múltiples condicionales."
   ]
  },
  {
   "cell_type": "code",
   "execution_count": null,
   "id": "999a5ef8",
   "metadata": {},
   "outputs": [],
   "source": [
    "class Cajero:\n",
    "    def __init__(self):\n",
    "        self.estado = 'sin_tarjeta'\n",
    "    def insertar_tarjeta(self):\n",
    "        if self.estado == 'sin_tarjeta':\n",
    "            print('Tarjeta insertada')\n",
    "            self.estado = 'con_tarjeta'\n",
    "        else:\n",
    "            print('Operación no permitida')"
   ]
  },
  {
   "cell_type": "markdown",
   "id": "0b402b4c",
   "metadata": {},
   "source": [
    "## Con patrón State (forma correcta)\n",
    "Cada estado se implementa como una clase separada."
   ]
  },
  {
   "cell_type": "code",
   "execution_count": null,
   "id": "497ad1cf",
   "metadata": {},
   "outputs": [],
   "source": [
    "class Estado:\n",
    "    def insertar_tarjeta(self, cajero):\n",
    "        pass\n",
    "\n",
    "class SinTarjeta(Estado):\n",
    "    def insertar_tarjeta(self, cajero):\n",
    "        print('Tarjeta insertada')\n",
    "        cajero.estado = ConTarjeta()\n",
    "\n",
    "class ConTarjeta(Estado):\n",
    "    def insertar_tarjeta(self, cajero):\n",
    "        print('Ya hay una tarjeta insertada')\n",
    "\n",
    "class Cajero:\n",
    "    def __init__(self):\n",
    "        self.estado = SinTarjeta()\n",
    "    def insertar_tarjeta(self):\n",
    "        self.estado.insertar_tarjeta(self)\n",
    "\n",
    "cajero = Cajero()\n",
    "cajero.insertar_tarjeta()\n",
    "cajero.insertar_tarjeta()"
   ]
  },
  {
   "cell_type": "markdown",
   "id": "8f93789c",
   "metadata": {},
   "source": [
    "## UML del patrón State\n",
    "```plantuml\n",
    "@startuml\n",
    "class Cajero {\n",
    "    + insertar_tarjeta()\n",
    "}\n",
    "class Estado {\n",
    "    + insertar_tarjeta(cajero)\n",
    "}\n",
    "Estado <|-- SinTarjeta\n",
    "Estado <|-- ConTarjeta\n",
    "Cajero --> Estado\n",
    "@enduml\n",
    "```"
   ]
  },
  {
   "cell_type": "markdown",
   "id": "4e7791d9",
   "metadata": {},
   "source": [
    "## Actividad\n",
    "Crea un sistema de semáforo donde el comportamiento cambie según el estado (rojo, amarillo, verde).\n",
    "\n",
    "---\n",
    "## Explicación de conceptos clave\n",
    "- **Encapsulamiento de estados:** Cada estado es una clase diferente.\n",
    "- **Eliminación de condicionales:** El comportamiento depende del estado actual.\n",
    "- **Aplicación en la vida real:** Útil en máquinas de estados, juegos y sistemas de workflow.\n",
    "\n",
    "## Conclusión\n",
    "El patrón State es ideal para sistemas donde el comportamiento depende del estado interno del objeto."
   ]
  }
 ],
 "metadata": {
  "language_info": {
   "name": "python"
  }
 },
 "nbformat": 4,
 "nbformat_minor": 5
}
