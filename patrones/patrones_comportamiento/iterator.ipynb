{
 "cells": [
  {
   "cell_type": "markdown",
   "id": "d54c5b96",
   "metadata": {},
   "source": [
    "# Patrón de Comportamiento: Iterator\n",
    "\n",
    "## Introducción\n",
    "El patrón Iterator proporciona una forma de acceder secuencialmente a los elementos de un objeto agregado sin exponer su representación interna.\n",
    "\n",
    "## Objetivos\n",
    "- Comprender cómo recorrer colecciones sin exponer su estructura interna.\n",
    "- Identificar cuándo es útil el patrón Iterator.\n",
    "- Comparar la solución con y sin el patrón.\n",
    "\n",
    "## Ejemplo de la vida real\n",
    "**Contexto: Reproductor de música**\n",
    "Un reproductor de música recorre listas de canciones, permitiendo avanzar, retroceder o repetir sin exponer la estructura interna de la lista.\n",
    "\n",
    "**¿Dónde se usa en proyectos reales?**\n",
    "En colecciones, bases de datos, sistemas de archivos, etc."
   ]
  },
  {
   "cell_type": "markdown",
   "id": "11ee6cee",
   "metadata": {},
   "source": [
    "## Sin patrón Iterator (forma errónea)\n",
    "El cliente accede directamente a la estructura interna de la colección."
   ]
  },
  {
   "cell_type": "code",
   "execution_count": null,
   "id": "dae29f9c",
   "metadata": {},
   "outputs": [],
   "source": [
    "class Playlist:\n",
    "    def __init__(self, canciones):\n",
    "        self.canciones = canciones\n",
    "\n",
    "playlist = Playlist(['A', 'B', 'C'])\n",
    "for i in range(len(playlist.canciones)):\n",
    "    print(playlist.canciones[i])"
   ]
  },
  {
   "cell_type": "markdown",
   "id": "07d203ac",
   "metadata": {},
   "source": [
    "## Con patrón Iterator (forma correcta)\n",
    "El cliente usa un iterador para recorrer la colección."
   ]
  },
  {
   "cell_type": "code",
   "execution_count": null,
   "id": "046712eb",
   "metadata": {},
   "outputs": [],
   "source": [
    "class IteradorPlaylist:\n",
    "    def __init__(self, playlist):\n",
    "        self._playlist = playlist\n",
    "        self._indice = 0\n",
    "    def __next__(self):\n",
    "        if self._indice < len(self._playlist.canciones):\n",
    "            cancion = self._playlist.canciones[self._indice]\n",
    "            self._indice += 1\n",
    "            return cancion\n",
    "        else:\n",
    "            raise StopIteration\n",
    "    def __iter__(self):\n",
    "        return self\n",
    "\n",
    "class Playlist:\n",
    "    def __init__(self, canciones):\n",
    "        self.canciones = canciones\n",
    "    def __iter__(self):\n",
    "        return IteradorPlaylist(self)\n",
    "\n",
    "playlist = Playlist(['A', 'B', 'C'])\n",
    "for cancion in playlist:\n",
    "    print(cancion)"
   ]
  },
  {
   "cell_type": "markdown",
   "id": "f1a240e7",
   "metadata": {},
   "source": [
    "## UML del patrón Iterator\n",
    "```plantuml\n",
    "@startuml\n",
    "class Playlist {\n",
    "    + __iter__()\n",
    "}\n",
    "class IteradorPlaylist {\n",
    "    + __next__()\n",
    "    + __iter__()\n",
    "}\n",
    "Playlist --> IteradorPlaylist\n",
    "@enduml\n",
    "```"
   ]
  },
  {
   "cell_type": "markdown",
   "id": "6bf870f3",
   "metadata": {},
   "source": [
    "## Actividad\n",
    "Crea un iterador para recorrer los asientos de un avión, permitiendo avanzar y retroceder.\n",
    "\n",
    "---\n",
    "## Explicación de conceptos clave\n",
    "- **Abstracción de recorrido:** El cliente no conoce la estructura interna.\n",
    "- **Flexibilidad:** Se pueden crear diferentes tipos de iteradores.\n",
    "- **Aplicación en la vida real:** Útil en colecciones, bases de datos y sistemas de archivos.\n",
    "\n",
    "## Conclusión\n",
    "El patrón Iterator es ideal para recorrer colecciones de manera flexible y segura."
   ]
  }
 ],
 "metadata": {
  "language_info": {
   "name": "python"
  }
 },
 "nbformat": 4,
 "nbformat_minor": 5
}
