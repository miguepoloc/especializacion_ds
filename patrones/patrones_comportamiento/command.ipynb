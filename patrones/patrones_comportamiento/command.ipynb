{
 "cells": [
  {
   "cell_type": "markdown",
   "id": "212a6e0e",
   "metadata": {},
   "source": [
    "# Patrón de Comportamiento: Command\n",
    "\n",
    "## Introducción\n",
    "El patrón Command encapsula una petición como un objeto, permitiendo parametrizar clientes con diferentes peticiones, encolar o registrar peticiones y soportar operaciones deshacer.\n",
    "\n",
    "## Objetivos\n",
    "- Comprender cómo encapsular acciones como objetos.\n",
    "- Identificar cuándo es útil el patrón Command.\n",
    "- Comparar la solución con y sin el patrón.\n",
    "\n",
    "## Ejemplo de la vida real\n",
    "**Contexto: Control remoto de dispositivos inteligentes**\n",
    "Un control remoto puede ejecutar diferentes comandos (encender luz, abrir puerta, etc.) y registrar un historial para deshacer acciones.\n",
    "\n",
    "**¿Dónde se usa en proyectos reales?**\n",
    "En sistemas de menús, controles remotos, editores con deshacer/rehacer, etc."
   ]
  },
  {
   "cell_type": "markdown",
   "id": "f3b29157",
   "metadata": {},
   "source": [
    "## Sin patrón Command (forma errónea)\n",
    "El cliente debe conocer y ejecutar cada acción directamente."
   ]
  },
  {
   "cell_type": "code",
   "execution_count": null,
   "id": "ece6e4b2",
   "metadata": {},
   "outputs": [],
   "source": [
    "class Luz:\n",
    "    def encender(self):\n",
    "        print('Luz encendida')\n",
    "    def apagar(self):\n",
    "        print('Luz apagada')\n",
    "\n",
    "luz = Luz()\n",
    "luz.encender()\n",
    "luz.apagar()"
   ]
  },
  {
   "cell_type": "markdown",
   "id": "08b77c0c",
   "metadata": {},
   "source": [
    "## Con patrón Command (forma correcta)\n",
    "Las acciones se encapsulan como comandos y el cliente puede ejecutarlas o deshacerlas."
   ]
  },
  {
   "cell_type": "code",
   "execution_count": null,
   "id": "6b1319d9",
   "metadata": {},
   "outputs": [],
   "source": [
    "class Command:\n",
    "    def ejecutar(self):\n",
    "        pass\n",
    "    def deshacer(self):\n",
    "        pass\n",
    "\n",
    "class EncenderLuz(Command):\n",
    "    def __init__(self, luz):\n",
    "        self.luz = luz\n",
    "    def ejecutar(self):\n",
    "        self.luz.encender()\n",
    "    def deshacer(self):\n",
    "        self.luz.apagar()\n",
    "\n",
    "class ControlRemoto:\n",
    "    def __init__(self):\n",
    "        self.historial = []\n",
    "    def ejecutar_comando(self, comando):\n",
    "        comando.ejecutar()\n",
    "        self.historial.append(comando)\n",
    "    def deshacer_ultimo(self):\n",
    "        if self.historial:\n",
    "            self.historial.pop().deshacer()\n",
    "\n",
    "luz = Luz()\n",
    "control = ControlRemoto()\n",
    "cmd = EncenderLuz(luz)\n",
    "control.ejecutar_comando(cmd)\n",
    "control.deshacer_ultimo()"
   ]
  },
  {
   "cell_type": "markdown",
   "id": "ad39a2ad",
   "metadata": {},
   "source": [
    "## UML del patrón Command\n",
    "```plantuml\n",
    "@startuml\n",
    "interface Command {\n",
    "    + ejecutar()\n",
    "    + deshacer()\n",
    "}\n",
    "class EncenderLuz {\n",
    "    + ejecutar()\n",
    "    + deshacer()\n",
    "}\n",
    "class Luz {\n",
    "    + encender()\n",
    "    + apagar()\n",
    "}\n",
    "class ControlRemoto {\n",
    "    + ejecutar_comando(comando)\n",
    "    + deshacer_ultimo()\n",
    "}\n",
    "EncenderLuz --> Luz\n",
    "ControlRemoto --> Command\n",
    "@enduml\n",
    "```"
   ]
  },
  {
   "cell_type": "markdown",
   "id": "18130175",
   "metadata": {},
   "source": [
    "## Actividad\n",
    "Crea comandos para abrir/cerrar una puerta y agrégalos al control remoto. Implementa la función de deshacer.\n",
    "\n",
    "---\n",
    "## Explicación de conceptos clave\n",
    "- **Encapsulamiento de acciones:** Permite parametrizar y registrar acciones.\n",
    "- **Deshacer/rehacer:** Facilita la implementación de historial de acciones.\n",
    "- **Aplicación en la vida real:** Útil en controles remotos, menús y editores.\n",
    "\n",
    "## Conclusión\n",
    "El patrón Command es ideal para sistemas que requieren registrar, deshacer o parametrizar acciones."
   ]
  }
 ],
 "metadata": {
  "language_info": {
   "name": "python"
  }
 },
 "nbformat": 4,
 "nbformat_minor": 5
}
