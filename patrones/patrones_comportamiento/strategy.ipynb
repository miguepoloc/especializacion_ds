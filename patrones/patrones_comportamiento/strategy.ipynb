{
 "cells": [
  {
   "cell_type": "markdown",
   "id": "bf29ec83",
   "metadata": {},
   "source": [
    "# Patrón de Comportamiento: Strategy\n",
    "\n",
    "## Introducción\n",
    "El patrón Strategy permite definir una familia de algoritmos, encapsular cada uno y hacerlos intercambiables. El algoritmo puede variar independientemente de los clientes que lo usan.\n",
    "\n",
    "## Objetivos\n",
    "- Comprender cómo encapsular algoritmos intercambiables.\n",
    "- Identificar cuándo es útil el patrón Strategy.\n",
    "- Comparar la solución con y sin el patrón.\n",
    "\n",
    "## Ejemplo de la vida real\n",
    "**Contexto: Cálculo de comisiones en una app de delivery**\n",
    "Una app de delivery puede tener diferentes estrategias para calcular la comisión de un pedido según el tipo de usuario o promoción.\n",
    "\n",
    "**¿Dónde se usa en proyectos reales?**\n",
    "En sistemas de pago, motores de recomendación, procesamiento de datos, etc."
   ]
  },
  {
   "cell_type": "markdown",
   "id": "973ea372",
   "metadata": {},
   "source": [
    "## Sin patrón Strategy (forma errónea)\n",
    "El algoritmo está fijo y no se puede cambiar fácilmente."
   ]
  },
  {
   "cell_type": "code",
   "execution_count": null,
   "id": "3e449413",
   "metadata": {},
   "outputs": [],
   "source": [
    "class Pedido:\n",
    "    def __init__(self, monto):\n",
    "        self.monto = monto\n",
    "    def calcular_comision(self):\n",
    "        return self.monto * 0.1"
   ]
  },
  {
   "cell_type": "markdown",
   "id": "218b14f7",
   "metadata": {},
   "source": [
    "## Con patrón Strategy (forma correcta)\n",
    "El algoritmo se puede cambiar en tiempo de ejecución."
   ]
  },
  {
   "cell_type": "code",
   "execution_count": null,
   "id": "b3ba00e3",
   "metadata": {},
   "outputs": [],
   "source": [
    "class EstrategiaComision:\n",
    "    def calcular(self, monto):\n",
    "        pass\n",
    "\n",
    "class ComisionNormal(EstrategiaComision):\n",
    "    def calcular(self, monto):\n",
    "        return monto * 0.1\n",
    "\n",
    "class ComisionPremium(EstrategiaComision):\n",
    "    def calcular(self, monto):\n",
    "        return monto * 0.05\n",
    "\n",
    "class Pedido:\n",
    "    def __init__(self, monto, estrategia):\n",
    "        self.monto = monto\n",
    "        self.estrategia = estrategia\n",
    "    def calcular_comision(self):\n",
    "        return self.estrategia.calcular(self.monto)\n",
    "\n",
    "pedido = Pedido(100, ComisionNormal())\n",
    "print(pedido.calcular_comision())\n",
    "pedido.estrategia = ComisionPremium()\n",
    "print(pedido.calcular_comision())"
   ]
  },
  {
   "cell_type": "markdown",
   "id": "0138ea35",
   "metadata": {},
   "source": [
    "## UML del patrón Strategy\n",
    "```plantuml\n",
    "@startuml\n",
    "class Pedido {\n",
    "    + calcular_comision()\n",
    "}\n",
    "interface EstrategiaComision {\n",
    "    + calcular(monto)\n",
    "}\n",
    "EstrategiaComision <|.. ComisionNormal\n",
    "EstrategiaComision <|.. ComisionPremium\n",
    "Pedido --> EstrategiaComision\n",
    "@enduml\n",
    "```"
   ]
  },
  {
   "cell_type": "markdown",
   "id": "0c796e88",
   "metadata": {},
   "source": [
    "## Actividad\n",
    "Crea un sistema de cálculo de descuentos donde puedas cambiar la estrategia de descuento en tiempo de ejecución.\n",
    "\n",
    "---\n",
    "## Explicación de conceptos clave\n",
    "- **Encapsulamiento de algoritmos:** Permite cambiar el comportamiento sin modificar el cliente.\n",
    "- **Flexibilidad:** Se pueden agregar nuevas estrategias fácilmente.\n",
    "- **Aplicación en la vida real:** Útil en sistemas de pago, recomendación y procesamiento de datos.\n",
    "\n",
    "## Conclusión\n",
    "El patrón Strategy es ideal para sistemas que requieren cambiar algoritmos de manera flexible y escalable."
   ]
  }
 ],
 "metadata": {
  "language_info": {
   "name": "python"
  }
 },
 "nbformat": 4,
 "nbformat_minor": 5
}
