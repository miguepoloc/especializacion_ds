{
 "cells": [
  {
   "cell_type": "markdown",
   "id": "8c9666d2",
   "metadata": {},
   "source": [
    "# Patrón de Comportamiento: Observer (Observador)\n",
    "\n",
    "## Introducción\n",
    "El patrón Observer define una dependencia uno-a-muchos entre objetos, de modo que cuando uno cambia de estado, todos sus dependientes son notificados automáticamente.\n",
    "\n",
    "## Objetivos\n",
    "- Comprender cómo desacoplar emisores y receptores de eventos.\n",
    "- Implementar el patrón Observer en Python.\n",
    "- Comparar la solución con y sin el patrón.\n",
    "\n",
    "## Ejemplo práctico\n",
    "Supón que tienes un sistema de noticias donde varios usuarios quieren ser notificados cuando hay una nueva noticia."
   ]
  },
  {
   "cell_type": "markdown",
   "id": "39219cdf",
   "metadata": {},
   "source": [
    "### Sin patrón Observer (forma errónea)"
   ]
  },
  {
   "cell_type": "code",
   "execution_count": null,
   "id": "696e83ad",
   "metadata": {},
   "outputs": [],
   "source": [
    "class Notificador:\n",
    "    def __init__(self):\n",
    "        self.usuarios = []\n",
    "    def nueva_noticia(self, noticia):\n",
    "        for usuario in self.usuarios:\n",
    "            usuario.recibir(noticia)\n",
    "\n",
    "# Esto acopla Notificador y Usuario fuertemente"
   ]
  },
  {
   "cell_type": "markdown",
   "id": "5de9bc61",
   "metadata": {},
   "source": [
    "### Con patrón Observer (forma correcta)"
   ]
  },
  {
   "cell_type": "code",
   "execution_count": null,
   "id": "9609a5cd",
   "metadata": {},
   "outputs": [],
   "source": [
    "class Observer:\n",
    "    def update(self, noticia):\n",
    "        pass\n",
    "\n",
    "class Usuario(Observer):\n",
    "    def __init__(self, nombre):\n",
    "        self.nombre = nombre\n",
    "    def update(self, noticia):\n",
    "        print(f'{self.nombre} recibió: {noticia}')\n",
    "\n",
    "class Notificador:\n",
    "    def __init__(self):\n",
    "        self.observers = []\n",
    "    def suscribir(self, observer):\n",
    "        self.observers.append(observer)\n",
    "    def nueva_noticia(self, noticia):\n",
    "        for observer in self.observers:\n",
    "            observer.update(noticia)\n",
    "\n",
    "notificador = Notificador()\n",
    "usuario1 = Usuario('Ana')\n",
    "usuario2 = Usuario('Luis')\n",
    "notificador.suscribir(usuario1)\n",
    "notificador.suscribir(usuario2)\n",
    "notificador.nueva_noticia('¡Nueva noticia!')"
   ]
  },
  {
   "cell_type": "markdown",
   "id": "f24bd725",
   "metadata": {},
   "source": [
    "## UML del patrón Observer\n",
    "```plantuml\n",
    "@startuml\n",
    "interface Observer {\n",
    "    + update(noticia)\n",
    "}\n",
    "class Usuario {\n",
    "    + update(noticia)\n",
    "}\n",
    "Observer <|.. Usuario\n",
    "class Notificador {\n",
    "    - observers: list\n",
    "    + suscribir(observer)\n",
    "    + nueva_noticia(noticia)\n",
    "}\n",
    "Usuario <.. Notificador : notifica\n",
    "@enduml\n",
    "```"
   ]
  },
  {
   "cell_type": "markdown",
   "id": "f6d354a7",
   "metadata": {},
   "source": [
    "## Actividad\n",
    "Crea tu propio sistema Observer para notificar cambios en el stock de productos en una tienda."
   ]
  }
 ],
 "metadata": {
  "language_info": {
   "name": "python"
  }
 },
 "nbformat": 4,
 "nbformat_minor": 5
}
