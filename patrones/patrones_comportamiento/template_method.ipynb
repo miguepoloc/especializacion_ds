{
 "cells": [
  {
   "cell_type": "markdown",
   "id": "617c02f3",
   "metadata": {},
   "source": [
    "# Patrón de Comportamiento: Template Method\n",
    "\n",
    "## Introducción\n",
    "El patrón Template Method define el esqueleto de un algoritmo en una operación, dejando algunos pasos a las subclases.\n",
    "\n",
    "## Objetivos\n",
    "- Comprender cómo definir algoritmos con pasos personalizables.\n",
    "- Identificar cuándo es útil el patrón Template Method.\n",
    "- Comparar la solución con y sin el patrón.\n",
    "\n",
    "## Ejemplo de la vida real\n",
    "**Contexto: Proceso de compra online**\n",
    "El proceso de compra puede tener pasos comunes (selección, pago, envío), pero cada tienda puede personalizar algunos pasos.\n",
    "\n",
    "**¿Dónde se usa en proyectos reales?**\n",
    "En frameworks, procesamiento de datos, sistemas de workflow, etc."
   ]
  },
  {
   "cell_type": "markdown",
   "id": "fd7f15fa",
   "metadata": {},
   "source": [
    "## Sin patrón Template Method (forma errónea)\n",
    "El algoritmo está completamente definido en una sola clase, dificultando la personalización."
   ]
  },
  {
   "cell_type": "code",
   "execution_count": null,
   "id": "5940df33",
   "metadata": {},
   "outputs": [],
   "source": [
    "class CompraOnline:\n",
    "    def comprar(self):\n",
    "        self.seleccionar()\n",
    "        self.pagar()\n",
    "        self.enviar()\n",
    "    def seleccionar(self):\n",
    "        print('Seleccionando producto')\n",
    "    def pagar(self):\n",
    "        print('Pagando')\n",
    "    def enviar(self):\n",
    "        print('Enviando producto')"
   ]
  },
  {
   "cell_type": "markdown",
   "id": "9771bf40",
   "metadata": {},
   "source": [
    "## Con patrón Template Method (forma correcta)\n",
    "Algunos pasos se dejan a las subclases para personalización."
   ]
  },
  {
   "cell_type": "code",
   "execution_count": 2,
   "id": "4d359f45",
   "metadata": {},
   "outputs": [
    {
     "name": "stdout",
     "output_type": "stream",
     "text": [
      "Seleccionando en Tienda A\n",
      "Pagando\n",
      "Enviando producto\n",
      "Seleccionando en Tienda B\n",
      "Pagando\n",
      "Enviando producto\n"
     ]
    }
   ],
   "source": [
    "import abc\n",
    "\n",
    "class CompraOnline(abc.ABC):\n",
    "    def comprar(self):\n",
    "        self.seleccionar()\n",
    "        self.pagar()\n",
    "        self.enviar()\n",
    "\n",
    "    @abc.abstractmethod\n",
    "    def seleccionar(self):...\n",
    "\n",
    "    def pagar(self):\n",
    "        print('Pagando')\n",
    "\n",
    "    def enviar(self):\n",
    "        print('Enviando producto')\n",
    "\n",
    "class CompraTiendaA(CompraOnline):\n",
    "    def seleccionar(self):\n",
    "        print('Seleccionando en Tienda A')\n",
    "\n",
    "class CompraTiendaB(CompraOnline):\n",
    "    def seleccionar(self):\n",
    "        print('Seleccionando en Tienda B')\n",
    "\n",
    "compra_a = CompraTiendaA()\n",
    "compra_a.comprar()\n",
    "\n",
    "compra_b = CompraTiendaB()\n",
    "compra_b.comprar()"
   ]
  },
  {
   "cell_type": "markdown",
   "id": "14f3f8a8",
   "metadata": {},
   "source": [
    "## UML del patrón Template Method\n",
    "```plantuml\n",
    "@startuml\n",
    "class CompraOnline {\n",
    "    + comprar()\n",
    "    + seleccionar()\n",
    "    + pagar()\n",
    "    + enviar()\n",
    "}\n",
    "CompraOnline <|-- CompraTiendaA\n",
    "CompraOnline <|-- CompraTiendaB\n",
    "@enduml\n",
    "```"
   ]
  },
  {
   "cell_type": "markdown",
   "id": "28398506",
   "metadata": {},
   "source": [
    "## Actividad\n",
    "Crea una plantilla para el proceso de registro de usuarios, permitiendo personalizar el paso de verificación.\n",
    "\n",
    "---\n",
    "## Explicación de conceptos clave\n",
    "- **Algoritmo flexible:** Permite personalizar pasos específicos.\n",
    "- **Reutilización:** El esqueleto del algoritmo se reutiliza.\n",
    "- **Aplicación en la vida real:** Útil en frameworks, procesamiento de datos y sistemas de workflow.\n",
    "\n",
    "## Conclusión\n",
    "El patrón Template Method es ideal para definir algoritmos con pasos personalizables y reutilizables."
   ]
  }
 ],
 "metadata": {
  "kernelspec": {
   "display_name": ".venv (3.12.7)",
   "language": "python",
   "name": "python3"
  },
  "language_info": {
   "codemirror_mode": {
    "name": "ipython",
    "version": 3
   },
   "file_extension": ".py",
   "mimetype": "text/x-python",
   "name": "python",
   "nbconvert_exporter": "python",
   "pygments_lexer": "ipython3",
   "version": "3.12.7"
  }
 },
 "nbformat": 4,
 "nbformat_minor": 5
}
