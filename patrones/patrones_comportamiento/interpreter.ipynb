{
 "cells": [
  {
   "cell_type": "markdown",
   "id": "53a2e808",
   "metadata": {},
   "source": [
    "# Patrón de Comportamiento: Interpreter\n",
    "\n",
    "## Introducción\n",
    "El patrón Interpreter define una representación para la gramática de un lenguaje y un intérprete que usa esa representación para interpretar oraciones del lenguaje.\n",
    "\n",
    "## Objetivos\n",
    "- Comprender cómo interpretar expresiones de un lenguaje.\n",
    "- Identificar cuándo es útil el patrón Interpreter.\n",
    "- Comparar la solución con y sin el patrón.\n",
    "\n",
    "## Ejemplo de la vida real\n",
    "**Contexto: Calculadora de expresiones matemáticas**\n",
    "Una calculadora puede interpretar y evaluar expresiones como '2 + 3 * 4'.\n",
    "\n",
    "**¿Dónde se usa en proyectos reales?**\n",
    "En compiladores, motores de reglas, procesamiento de expresiones, etc."
   ]
  },
  {
   "cell_type": "markdown",
   "id": "d0945737",
   "metadata": {},
   "source": [
    "## Sin patrón Interpreter (forma errónea)\n",
    "Las expresiones se evalúan con código procedural y condicionales."
   ]
  },
  {
   "cell_type": "code",
   "execution_count": null,
   "id": "c442e47d",
   "metadata": {},
   "outputs": [],
   "source": [
    "def evaluar(expr):\n",
    "    return eval(expr)\n",
    "\n",
    "print(evaluar('2 + 3 * 4'))"
   ]
  },
  {
   "cell_type": "markdown",
   "id": "ccc95959",
   "metadata": {},
   "source": [
    "## Con patrón Interpreter (forma correcta)\n",
    "Cada tipo de expresión se representa como una clase."
   ]
  },
  {
   "cell_type": "code",
   "execution_count": null,
   "id": "d64f8dd7",
   "metadata": {},
   "outputs": [],
   "source": [
    "class Expresion:\n",
    "    def interpretar(self):\n",
    "        pass\n",
    "\n",
    "class Numero(Expresion):\n",
    "    def __init__(self, valor):\n",
    "        self.valor = valor\n",
    "    def interpretar(self):\n",
    "        return self.valor\n",
    "\n",
    "class Suma(Expresion):\n",
    "    def __init__(self, izquierda, derecha):\n",
    "        self.izquierda = izquierda\n",
    "        self.derecha = derecha\n",
    "    def interpretar(self):\n",
    "        return self.izquierda.interpretar() + self.derecha.interpretar()\n",
    "\n",
    "class Multiplicacion(Expresion):\n",
    "    def __init__(self, izquierda, derecha):\n",
    "        self.izquierda = izquierda\n",
    "        self.derecha = derecha\n",
    "    def interpretar(self):\n",
    "        return self.izquierda.interpretar() * self.derecha.interpretar()\n",
    "\n",
    "expr = Suma(Numero(2), Multiplicacion(Numero(3), Numero(4)))\n",
    "print(expr.interpretar())"
   ]
  },
  {
   "cell_type": "markdown",
   "id": "f50b8b93",
   "metadata": {},
   "source": [
    "## UML del patrón Interpreter\n",
    "```plantuml\n",
    "@startuml\n",
    "interface Expresion {\n",
    "    + interpretar()\n",
    "}\n",
    "class Numero {\n",
    "    + interpretar()\n",
    "}\n",
    "class Suma {\n",
    "    + interpretar()\n",
    "}\n",
    "class Multiplicacion {\n",
    "    + interpretar()\n",
    "}\n",
    "Expresion <|.. Numero\n",
    "Expresion <|.. Suma\n",
    "Expresion <|.. Multiplicacion\n",
    "@enduml\n",
    "```"
   ]
  },
  {
   "cell_type": "markdown",
   "id": "2b2a22f4",
   "metadata": {},
   "source": [
    "## Actividad\n",
    "Crea un intérprete para evaluar expresiones lógicas como 'True AND False'.\n",
    "\n",
    "---\n",
    "## Explicación de conceptos clave\n",
    "- **Gramática:** Cada regla se representa como una clase.\n",
    "- **Extensibilidad:** Se pueden agregar nuevas reglas fácilmente.\n",
    "- **Aplicación en la vida real:** Útil en compiladores, motores de reglas y procesamiento de expresiones.\n",
    "\n",
    "## Conclusión\n",
    "El patrón Interpreter es ideal para procesar lenguajes y expresiones de manera flexible y extensible."
   ]
  }
 ],
 "metadata": {
  "language_info": {
   "name": "python"
  }
 },
 "nbformat": 4,
 "nbformat_minor": 5
}
