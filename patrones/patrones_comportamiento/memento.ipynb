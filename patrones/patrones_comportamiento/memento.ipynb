{
 "cells": [
  {
   "cell_type": "markdown",
   "id": "67e8e01a",
   "metadata": {},
   "source": [
    "# Patrón de Comportamiento: Memento\n",
    "\n",
    "## Introducción\n",
    "El patrón Memento permite capturar y restaurar el estado interno de un objeto sin violar su encapsulamiento.\n",
    "\n",
    "## Objetivos\n",
    "- Comprender cómo guardar y restaurar el estado de un objeto.\n",
    "- Identificar cuándo es útil el patrón Memento.\n",
    "- Comparar la solución con y sin el patrón.\n",
    "\n",
    "## Ejemplo de la vida real\n",
    "**Contexto: Editor de texto con deshacer/rehacer**\n",
    "Un editor de texto puede guardar el estado del documento para permitir deshacer y rehacer cambios.\n",
    "\n",
    "**¿Dónde se usa en proyectos reales?**\n",
    "En editores, juegos, sistemas de configuración, etc."
   ]
  },
  {
   "cell_type": "markdown",
   "id": "08021b9d",
   "metadata": {},
   "source": [
    "## Sin patrón Memento (forma errónea)\n",
    "El estado se guarda manualmente, exponiendo detalles internos."
   ]
  },
  {
   "cell_type": "code",
   "execution_count": null,
   "id": "f71387c5",
   "metadata": {},
   "outputs": [],
   "source": [
    "class Documento:\n",
    "    def __init__(self):\n",
    "        self.texto = ''\n",
    "    def escribir(self, txt):\n",
    "        self.texto += txt\n",
    "    def mostrar(self):\n",
    "        print(self.texto)\n",
    "    def guardar_estado(self):\n",
    "        return self.texto\n",
    "    def restaurar_estado(self, estado):\n",
    "        self.texto = estado\n",
    "\n",
    "doc = Documento()\n",
    "doc.escribir('Hola')\n",
    "estado = doc.guardar_estado()\n",
    "doc.escribir(' Mundo')\n",
    "doc.restaurar_estado(estado)\n",
    "doc.mostrar()"
   ]
  },
  {
   "cell_type": "markdown",
   "id": "c2fd800b",
   "metadata": {},
   "source": [
    "## Con patrón Memento (forma correcta)\n",
    "El estado se encapsula en un objeto memento."
   ]
  },
  {
   "cell_type": "code",
   "execution_count": null,
   "id": "dff8be47",
   "metadata": {},
   "outputs": [],
   "source": [
    "class Memento:\n",
    "    def __init__(self, estado):\n",
    "        self._estado = estado\n",
    "    def get_estado(self):\n",
    "        return self._estado\n",
    "\n",
    "class Documento:\n",
    "    def __init__(self):\n",
    "        self.texto = ''\n",
    "    def escribir(self, txt):\n",
    "        self.texto += txt\n",
    "    def mostrar(self):\n",
    "        print(self.texto)\n",
    "    def crear_memento(self):\n",
    "        return Memento(self.texto)\n",
    "    def restaurar(self, memento):\n",
    "        self.texto = memento.get_estado()\n",
    "\n",
    "class Historial:\n",
    "    def __init__(self):\n",
    "        self.mementos = []\n",
    "    def guardar(self, memento):\n",
    "        self.mementos.append(memento)\n",
    "    def deshacer(self):\n",
    "        if self.mementos:\n",
    "            return self.mementos.pop()\n",
    "\n",
    "doc = Documento()\n",
    "hist = Historial()\n",
    "doc.escribir('Hola')\n",
    "hist.guardar(doc.crear_memento())\n",
    "doc.escribir(' Mundo')\n",
    "doc.mostrar()\n",
    "doc.restaurar(hist.deshacer())\n",
    "doc.mostrar()"
   ]
  },
  {
   "cell_type": "markdown",
   "id": "9af50751",
   "metadata": {},
   "source": [
    "## UML del patrón Memento\n",
    "```plantuml\n",
    "@startuml\n",
    "class Documento {\n",
    "    + escribir(txt)\n",
    "    + mostrar()\n",
    "    + crear_memento()\n",
    "    + restaurar(memento)\n",
    "}\n",
    "class Memento {\n",
    "    + get_estado()\n",
    "}\n",
    "class Historial {\n",
    "    + guardar(memento)\n",
    "    + deshacer()\n",
    "}\n",
    "Documento --> Memento\n",
    "Historial --> Memento\n",
    "@enduml\n",
    "```"
   ]
  },
  {
   "cell_type": "markdown",
   "id": "85cb2fa7",
   "metadata": {},
   "source": [
    "## Actividad\n",
    "Crea un sistema de juego donde puedas guardar y restaurar el estado del jugador usando Memento.\n",
    "\n",
    "---\n",
    "## Explicación de conceptos clave\n",
    "- **Encapsulamiento:** El estado se guarda sin exponer detalles internos.\n",
    "- **Deshacer/rehacer:** Permite restaurar estados previos fácilmente.\n",
    "- **Aplicación en la vida real:** Útil en editores, juegos y sistemas de configuración.\n",
    "\n",
    "## Conclusión\n",
    "El patrón Memento es ideal para guardar y restaurar el estado de objetos de manera segura y encapsulada."
   ]
  }
 ],
 "metadata": {
  "language_info": {
   "name": "python"
  }
 },
 "nbformat": 4,
 "nbformat_minor": 5
}
