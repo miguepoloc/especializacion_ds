{
 "cells": [
  {
   "cell_type": "markdown",
   "id": "6aafd1a6",
   "metadata": {},
   "source": [
    "# Patrón de Comportamiento: Visitor\n",
    "\n",
    "## Introducción\n",
    "El patrón Visitor permite definir nuevas operaciones sobre una estructura de objetos sin cambiar las clases de los objetos sobre los que opera.\n",
    "\n",
    "## Objetivos\n",
    "- Comprender cómo separar algoritmos de las estructuras de datos.\n",
    "- Identificar cuándo es útil el patrón Visitor.\n",
    "- Comparar la solución con y sin el patrón.\n",
    "\n",
    "## Ejemplo de la vida real\n",
    "**Contexto: Sistema de impuestos para diferentes productos**\n",
    "Un sistema de facturación puede aplicar diferentes impuestos a productos sin modificar las clases de producto.\n",
    "\n",
    "**¿Dónde se usa en proyectos reales?**\n",
    "En compiladores, sistemas de facturación, procesamiento de árboles, etc."
   ]
  },
  {
   "cell_type": "markdown",
   "id": "df3c0f3b",
   "metadata": {},
   "source": [
    "## Sin patrón Visitor (forma errónea)\n",
    "Las operaciones se implementan dentro de las clases de los objetos, dificultando la extensión."
   ]
  },
  {
   "cell_type": "code",
   "execution_count": null,
   "id": "e8ede81e",
   "metadata": {},
   "outputs": [],
   "source": [
    "class Producto:\n",
    "    def __init__(self, nombre, precio):\n",
    "        self.nombre = nombre\n",
    "        self.precio = precio\n",
    "    def calcular_impuesto(self):\n",
    "        return self.precio * 0.16"
   ]
  },
  {
   "cell_type": "markdown",
   "id": "5800579d",
   "metadata": {},
   "source": [
    "## Con patrón Visitor (forma correcta)\n",
    "Las operaciones se implementan en visitantes separados."
   ]
  },
  {
   "cell_type": "code",
   "execution_count": null,
   "id": "688bd524",
   "metadata": {},
   "outputs": [],
   "source": [
    "class Visitor:\n",
    "    def visitar(self, producto):\n",
    "        pass\n",
    "\n",
    "class ImpuestoNormal(Visitor):\n",
    "    def visitar(self, producto):\n",
    "        return producto.precio * 0.16\n",
    "\n",
    "class ImpuestoReducido(Visitor):\n",
    "    def visitar(self, producto):\n",
    "        return producto.precio * 0.08\n",
    "\n",
    "class Producto:\n",
    "    def __init__(self, nombre, precio):\n",
    "        self.nombre = nombre\n",
    "        self.precio = precio\n",
    "    def aceptar(self, visitor):\n",
    "        return visitor.visitar(self)\n",
    "\n",
    "prod = Producto('Libro', 100)\n",
    "print(prod.aceptar(ImpuestoNormal()))\n",
    "print(prod.aceptar(ImpuestoReducido()))"
   ]
  },
  {
   "cell_type": "markdown",
   "id": "ac2fff34",
   "metadata": {},
   "source": [
    "## UML del patrón Visitor\n",
    "```plantuml\n",
    "@startuml\n",
    "class Producto {\n",
    "    + aceptar(visitor)\n",
    "}\n",
    "interface Visitor {\n",
    "    + visitar(producto)\n",
    "}\n",
    "Visitor <|.. ImpuestoNormal\n",
    "Visitor <|.. ImpuestoReducido\n",
    "Producto --> Visitor\n",
    "@enduml\n",
    "```"
   ]
  },
  {
   "cell_type": "markdown",
   "id": "55cf1716",
   "metadata": {},
   "source": [
    "## Actividad\n",
    "Crea un visitante que calcule descuentos para diferentes productos sin modificar sus clases.\n",
    "\n",
    "---\n",
    "## Explicación de conceptos clave\n",
    "- **Separación de algoritmos:** Permite agregar operaciones sin modificar las clases de los objetos.\n",
    "- **Extensibilidad:** Se pueden agregar nuevos visitantes fácilmente.\n",
    "- **Aplicación en la vida real:** Útil en compiladores, facturación y procesamiento de árboles.\n",
    "\n",
    "## Conclusión\n",
    "El patrón Visitor es ideal para agregar operaciones a estructuras de objetos complejas sin modificar su código."
   ]
  }
 ],
 "metadata": {
  "language_info": {
   "name": "python"
  }
 },
 "nbformat": 4,
 "nbformat_minor": 5
}
