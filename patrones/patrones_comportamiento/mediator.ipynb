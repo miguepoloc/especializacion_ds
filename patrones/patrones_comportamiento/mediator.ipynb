{
 "cells": [
  {
   "cell_type": "markdown",
   "id": "fa4a2f87",
   "metadata": {},
   "source": [
    "# Patrón de Comportamiento: Mediator\n",
    "\n",
    "## Introducción\n",
    "El patrón Mediator define un objeto que encapsula cómo interactúan un conjunto de objetos, promoviendo el bajo acoplamiento.\n",
    "\n",
    "## Objetivos\n",
    "- Comprender cómo centralizar la comunicación entre objetos.\n",
    "- Identificar cuándo es útil el patrón Mediator.\n",
    "- Comparar la solución con y sin el patrón.\n",
    "\n",
    "## Ejemplo de la vida real\n",
    "**Contexto: Chat grupal**\n",
    "En un chat grupal, el mediador (servidor) gestiona la comunicación entre los usuarios, evitando que se comuniquen directamente.\n",
    "\n",
    "**¿Dónde se usa en proyectos reales?**\n",
    "En sistemas de chat, controladores de UI, sistemas de tráfico aéreo, etc."
   ]
  },
  {
   "cell_type": "markdown",
   "id": "f33bd53d",
   "metadata": {},
   "source": [
    "## Sin patrón Mediator (forma errónea)\n",
    "Los objetos se comunican directamente, generando alto acoplamiento."
   ]
  },
  {
   "cell_type": "code",
   "execution_count": null,
   "id": "18556974",
   "metadata": {},
   "outputs": [],
   "source": [
    "class Usuario:\n",
    "    def __init__(self, nombre):\n",
    "        self.nombre = nombre\n",
    "    def enviar(self, mensaje, receptor):\n",
    "        receptor.recibir(mensaje)\n",
    "    def recibir(self, mensaje):\n",
    "        print(f'{self.nombre} recibió: {mensaje}')\n",
    "\n",
    "# Cada usuario debe conocer a los demás"
   ]
  },
  {
   "cell_type": "markdown",
   "id": "c165c02f",
   "metadata": {},
   "source": [
    "## Con patrón Mediator (forma correcta)\n",
    "El mediador centraliza la comunicación entre los objetos."
   ]
  },
  {
   "cell_type": "code",
   "execution_count": null,
   "id": "3590ba84",
   "metadata": {},
   "outputs": [],
   "source": [
    "class MediadorChat:\n",
    "    def __init__(self):\n",
    "        self.usuarios = []\n",
    "    def registrar(self, usuario):\n",
    "        self.usuarios.append(usuario)\n",
    "        usuario.mediador = self\n",
    "    def enviar(self, mensaje, emisor):\n",
    "        for usuario in self.usuarios:\n",
    "            if usuario != emisor:\n",
    "                usuario.recibir(mensaje)\n",
    "\n",
    "class Usuario:\n",
    "    def __init__(self, nombre):\n",
    "        self.nombre = nombre\n",
    "        self.mediador = None\n",
    "    def enviar(self, mensaje):\n",
    "        self.mediador.enviar(mensaje, self)\n",
    "    def recibir(self, mensaje):\n",
    "        print(f'{self.nombre} recibió: {mensaje}')\n",
    "\n",
    "mediador = MediadorChat()\n",
    "u1 = Usuario('Ana')\n",
    "u2 = Usuario('Luis')\n",
    "mediador.registrar(u1)\n",
    "mediador.registrar(u2)\n",
    "u1.enviar('Hola a todos')"
   ]
  },
  {
   "cell_type": "markdown",
   "id": "3bbd8fed",
   "metadata": {},
   "source": [
    "## UML del patrón Mediator\n",
    "```plantuml\n",
    "@startuml\n",
    "class MediadorChat {\n",
    "    + registrar(usuario)\n",
    "    + enviar(mensaje, emisor)\n",
    "}\n",
    "class Usuario {\n",
    "    + enviar(mensaje)\n",
    "    + recibir(mensaje)\n",
    "}\n",
    "MediadorChat --> Usuario\n",
    "Usuario --> MediadorChat\n",
    "@enduml\n",
    "```"
   ]
  },
  {
   "cell_type": "markdown",
   "id": "a15cd5f3",
   "metadata": {},
   "source": [
    "## Actividad\n",
    "Crea un mediador para coordinar la comunicación entre diferentes módulos de una aplicación de reservas de vuelos.\n",
    "\n",
    "---\n",
    "## Explicación de conceptos clave\n",
    "- **Bajo acoplamiento:** Los objetos no se comunican directamente.\n",
    "- **Centralización:** El mediador gestiona la interacción.\n",
    "- **Aplicación en la vida real:** Útil en chats, controladores de UI y sistemas de tráfico.\n",
    "\n",
    "## Conclusión\n",
    "El patrón Mediator es ideal para reducir el acoplamiento y centralizar la comunicación entre objetos."
   ]
  }
 ],
 "metadata": {
  "language_info": {
   "name": "python"
  }
 },
 "nbformat": 4,
 "nbformat_minor": 5
}
