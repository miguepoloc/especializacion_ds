{
 "cells": [
  {
   "cell_type": "markdown",
   "id": "25eddaa8",
   "metadata": {},
   "source": [
    "# Patrón Estructural: Bridge\n",
    "\n",
    "## Introducción\n",
    "El patrón Bridge permite dividir una clase grande o un grupo de clases estrechamente relacionadas en dos jerarquías separadas (abstracción e implementación) que pueden desarrollarse independientemente.\n",
    "\n",
    "## Objetivos\n",
    "- Comprender cómo separar la abstracción de la implementación.\n",
    "- Identificar cuándo es útil el patrón Bridge.\n",
    "- Comparar la solución con y sin el patrón.\n",
    "\n",
    "## Ejemplo de la vida real\n",
    "**Contexto: App de Banco**\n",
    "Supón que tienes diferentes tipos de cuentas (Ahorros, Corriente) y diferentes sistemas de notificación (Email, SMS). El patrón Bridge permite combinar cualquier tipo de cuenta con cualquier sistema de notificación sin crear una clase para cada combinación.\n",
    "\n",
    "**¿Dónde se usa en proyectos reales?**\n",
    "En sistemas de pagos, aplicaciones bancarias, frameworks de UI, etc."
   ]
  },
  {
   "cell_type": "markdown",
   "id": "15017845",
   "metadata": {},
   "source": [
    "## Sin patrón Bridge (forma errónea)\n",
    "Se crean clases para cada combinación posible, lo que genera mucho código duplicado."
   ]
  },
  {
   "cell_type": "code",
   "execution_count": null,
   "id": "b060065c",
   "metadata": {},
   "outputs": [],
   "source": [
    "class CuentaAhorrosEmail:\n",
    "    def notificar(self, mensaje):\n",
    "        print(f'Email: {mensaje}')\n",
    "\n",
    "class CuentaAhorrosSMS:\n",
    "    def notificar(self, mensaje):\n",
    "        print(f'SMS: {mensaje}')\n",
    "\n",
    "# Si agregas más tipos, el número de clases crece exponencialmente"
   ]
  },
  {
   "cell_type": "markdown",
   "id": "d81f7fb4",
   "metadata": {},
   "source": [
    "## Con patrón Bridge (forma correcta)\n",
    "Separas la abstracción (Cuenta) de la implementación (Notificador)."
   ]
  },
  {
   "cell_type": "code",
   "execution_count": null,
   "id": "2ac7050c",
   "metadata": {},
   "outputs": [],
   "source": [
    "class Notificador:\n",
    "    def notificar(self, mensaje):\n",
    "        pass\n",
    "\n",
    "class Email(Notificador):\n",
    "    def notificar(self, mensaje):\n",
    "        print(f'Email: {mensaje}')\n",
    "\n",
    "class SMS(Notificador):\n",
    "    def notificar(self, mensaje):\n",
    "        print(f'SMS: {mensaje}')\n",
    "\n",
    "class Cuenta:\n",
    "    def __init__(self, notificador):\n",
    "        self.notificador = notificador\n",
    "    def enviar_alerta(self, mensaje):\n",
    "        self.notificador.notificar(mensaje)\n",
    "\n",
    "cuenta = Cuenta(Email())\n",
    "cuenta.enviar_alerta('Saldo bajo')"
   ]
  },
  {
   "cell_type": "markdown",
   "id": "16fca9ef",
   "metadata": {},
   "source": [
    "## UML del patrón Bridge\n",
    "```plantuml\n",
    "@startuml\n",
    "class Cuenta {\n",
    "    + enviar_alerta(mensaje)\n",
    "}\n",
    "class Notificador {\n",
    "    + notificar(mensaje)\n",
    "}\n",
    "Cuenta --> Notificador\n",
    "Notificador <|-- Email\n",
    "Notificador <|-- SMS\n",
    "@enduml\n",
    "```"
   ]
  },
  {
   "cell_type": "markdown",
   "id": "bf4a912f",
   "metadata": {},
   "source": [
    "## Actividad\n",
    "Crea tu propio Bridge para combinar diferentes tipos de cuentas y sistemas de autenticación (por ejemplo, biometría, token, contraseña).\n",
    "\n",
    "---\n",
    "## Explicación de conceptos clave\n",
    "- **Separación de abstracción e implementación:** Permite desarrollar ambas jerarquías de forma independiente.\n",
    "- **Escalabilidad:** Facilita la extensión sin crear una explosión de clases.\n",
    "- **Aplicación en la vida real:** Útil en sistemas con múltiples combinaciones de funcionalidades.\n",
    "\n",
    "## Conclusión\n",
    "El patrón Bridge es ideal para evitar la explosión de clases cuando tienes múltiples dimensiones de variación. Es común en aplicaciones bancarias, sistemas de notificación y frameworks de UI."
   ]
  }
 ],
 "metadata": {
  "language_info": {
   "name": "python"
  }
 },
 "nbformat": 4,
 "nbformat_minor": 5
}
