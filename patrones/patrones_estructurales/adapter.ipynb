{
 "cells": [
  {
   "cell_type": "markdown",
   "id": "b558b0eb",
   "metadata": {},
   "source": [
    "# Patrón Estructural: Adapter (Adaptador)\n",
    "\n",
    "## Introducción\n",
    "El patrón Adapter permite que dos interfaces incompatibles trabajen juntas. Convierte la interfaz de una clase en otra que el cliente espera.\n",
    "\n",
    "## Objetivos\n",
    "- Comprender cómo adaptar clases sin modificar su código.\n",
    "- Identificar cuándo es útil el patrón Adapter.\n",
    "- Comparar la solución con y sin el patrón.\n",
    "\n",
    "## Ejemplo práctico\n",
    "Supón que tienes una clase de impresora que espera un método `imprimir()`, pero tienes una clase de terceros con el método `print_document()`."
   ]
  },
  {
   "cell_type": "markdown",
   "id": "3686d993",
   "metadata": {},
   "source": [
    "### Sin patrón Adapter (forma errónea)"
   ]
  },
  {
   "cell_type": "code",
   "execution_count": null,
   "id": "708c1ddc",
   "metadata": {},
   "outputs": [],
   "source": [
    "class TerceroPrinter:\n",
    "    def print_document(self, doc):\n",
    "        print(f'Imprimiendo: {doc}')\n",
    "\n",
    "def imprimir_documento(printer, doc):\n",
    "    printer.imprimir(doc)\n",
    "\n",
    "printer = TerceroPrinter()\n",
    "# imprimir_documento(printer, 'Hola')  # Error: no tiene 'imprimir'"
   ]
  },
  {
   "cell_type": "markdown",
   "id": "dece4142",
   "metadata": {},
   "source": [
    "### Con patrón Adapter (forma correcta)"
   ]
  },
  {
   "cell_type": "code",
   "execution_count": null,
   "id": "36177201",
   "metadata": {},
   "outputs": [],
   "source": [
    "class PrinterAdapter:\n",
    "    def __init__(self, adaptee):\n",
    "        self.adaptee = adaptee\n",
    "    def imprimir(self, doc):\n",
    "        self.adaptee.print_document(doc)\n",
    "\n",
    "printer = TerceroPrinter()\n",
    "adapted = PrinterAdapter(printer)\n",
    "imprimir_documento(adapted, 'Hola')"
   ]
  },
  {
   "cell_type": "markdown",
   "id": "b10a08f5",
   "metadata": {},
   "source": [
    "## UML del patrón Adapter\n",
    "```plantuml\n",
    "@startuml\n",
    "class TerceroPrinter {\n",
    "    + print_document(doc)\n",
    "}\n",
    "class PrinterAdapter {\n",
    "    - adaptee: TerceroPrinter\n",
    "    + imprimir(doc)\n",
    "}\n",
    "TerceroPrinter <.. PrinterAdapter : usa\n",
    "@enduml\n",
    "```"
   ]
  },
  {
   "cell_type": "markdown",
   "id": "3ce22cde",
   "metadata": {},
   "source": [
    "## Actividad\n",
    "Crea tu propio Adapter para adaptar una clase de pagos de terceros a una interfaz de pagos esperada por tu sistema."
   ]
  }
 ],
 "metadata": {
  "language_info": {
   "name": "python"
  }
 },
 "nbformat": 4,
 "nbformat_minor": 5
}
