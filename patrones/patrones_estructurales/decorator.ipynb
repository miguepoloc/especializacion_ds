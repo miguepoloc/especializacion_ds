{
 "cells": [
  {
   "cell_type": "markdown",
   "id": "4372183d",
   "metadata": {},
   "source": [
    "# Patrón Estructural: Decorator\n",
    "\n",
    "## Introducción\n",
    "El patrón Decorator permite añadir funcionalidades a objetos colocando estos objetos dentro de objetos encapsuladores especiales que contienen estas funcionalidades.\n",
    "\n",
    "## Objetivos\n",
    "- Comprender cómo extender funcionalidades de objetos en tiempo de ejecución.\n",
    "- Identificar cuándo es útil el patrón Decorator.\n",
    "- Comparar la solución con y sin el patrón.\n",
    "\n",
    "## Ejemplo de la vida real\n",
    "**Contexto: App de Mensajería**\n",
    "Supón que tienes un sistema de mensajes y quieres añadir funcionalidades como encriptación o compresión sin modificar la clase base. El patrón Decorator permite agregar estas funcionalidades de forma flexible.\n",
    "\n",
    "**¿Dónde se usa en proyectos reales?**\n",
    "En sistemas de mensajería, procesamiento de streams, frameworks de UI, etc."
   ]
  },
  {
   "cell_type": "markdown",
   "id": "c9ce791c",
   "metadata": {},
   "source": [
    "## Sin patrón Decorator (forma errónea)\n",
    "Se crean subclases para cada combinación de funcionalidades, lo que genera mucho código duplicado."
   ]
  },
  {
   "cell_type": "code",
   "execution_count": null,
   "id": "50813a33",
   "metadata": {},
   "outputs": [],
   "source": [
    "class Mensaje:\n",
    "    def enviar(self, texto):\n",
    "        print(f'Enviando: {texto}')\n",
    "\n",
    "class MensajeEncriptado(Mensaje):\n",
    "    def enviar(self, texto):\n",
    "        print(f'Enviando encriptado: {texto}')\n",
    "\n",
    "# Si agregas más funcionalidades, el número de clases crece exponencialmente"
   ]
  },
  {
   "cell_type": "markdown",
   "id": "54610b4e",
   "metadata": {},
   "source": [
    "## Con patrón Decorator (forma correcta)\n",
    "Se encapsulan funcionalidades adicionales en decoradores."
   ]
  },
  {
   "cell_type": "code",
   "execution_count": null,
   "id": "8c548fce",
   "metadata": {},
   "outputs": [],
   "source": [
    "class Mensaje:\n",
    "    def enviar(self, texto):\n",
    "        print(f'Enviando: {texto}')\n",
    "\n",
    "class DecoradorMensaje(Mensaje):\n",
    "    def __init__(self, mensaje):\n",
    "        self._mensaje = mensaje\n",
    "    def enviar(self, texto):\n",
    "        self._mensaje.enviar(texto)\n",
    "\n",
    "class Encriptado(DecoradorMensaje):\n",
    "    def enviar(self, texto):\n",
    "        texto = f'***{texto}***'\n",
    "        super().enviar(texto)\n",
    "\n",
    "msg = Encriptado(Mensaje())\n",
    "msg.enviar('Hola')"
   ]
  },
  {
   "cell_type": "markdown",
   "id": "999d6cb8",
   "metadata": {},
   "source": [
    "## UML del patrón Decorator\n",
    "```plantuml\n",
    "@startuml\n",
    "class Mensaje {\n",
    "    + enviar(texto)\n",
    "}\n",
    "class DecoradorMensaje {\n",
    "    + enviar(texto)\n",
    "}\n",
    "Mensaje <|-- DecoradorMensaje\n",
    "DecoradorMensaje <|-- Encriptado\n",
    "DecoradorMensaje o-- Mensaje\n",
    "@enduml\n",
    "```"
   ]
  },
  {
   "cell_type": "markdown",
   "id": "a7e7c482",
   "metadata": {},
   "source": [
    "## Actividad\n",
    "Crea tu propio Decorator para agregar funcionalidades como compresión o registro de logs a un sistema de mensajes.\n",
    "\n",
    "---\n",
    "## Explicación de conceptos clave\n",
    "- **Extensión flexible:** Permite agregar funcionalidades sin modificar la clase base.\n",
    "- **Composición sobre herencia:** Favorece la composición de objetos en vez de la herencia múltiple.\n",
    "- **Aplicación en la vida real:** Útil en sistemas de mensajería, procesamiento de streams y frameworks de UI.\n",
    "\n",
    "## Conclusión\n",
    "El patrón Decorator es ideal para añadir funcionalidades de forma flexible y escalable. Es común en sistemas de mensajería, procesamiento de datos y aplicaciones con múltiples opciones de extensión."
   ]
  }
 ],
 "metadata": {
  "language_info": {
   "name": "python"
  }
 },
 "nbformat": 4,
 "nbformat_minor": 5
}
