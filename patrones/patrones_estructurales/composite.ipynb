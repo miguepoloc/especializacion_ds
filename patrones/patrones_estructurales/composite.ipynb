{
 "cells": [
  {
   "cell_type": "markdown",
   "id": "a2801222",
   "metadata": {},
   "source": [
    "# Patrón Estructural: Composite\n",
    "\n",
    "## Introducción\n",
    "El patrón Composite permite componer objetos en estructuras de árbol y trabajar con esas estructuras como si fueran objetos individuales.\n",
    "\n",
    "## Objetivos\n",
    "- Comprender cómo agrupar objetos en jerarquías.\n",
    "- Identificar cuándo es útil el patrón Composite.\n",
    "- Comparar la solución con y sin el patrón.\n",
    "\n",
    "## Ejemplo de la vida real\n",
    "**Contexto: App de Gestión de Archivos**\n",
    "Un sistema de archivos puede contener carpetas y archivos. El patrón Composite permite tratar carpetas y archivos de la misma manera, facilitando operaciones recursivas como calcular el tamaño total.\n",
    "\n",
    "**¿Dónde se usa en proyectos reales?**\n",
    "En sistemas de archivos, menús de aplicaciones, estructuras organizacionales, etc."
   ]
  },
  {
   "cell_type": "markdown",
   "id": "ef3d870d",
   "metadata": {},
   "source": [
    "## Sin patrón Composite (forma errónea)\n",
    "El código cliente debe distinguir entre archivos y carpetas, lo que complica la lógica."
   ]
  },
  {
   "cell_type": "code",
   "execution_count": null,
   "id": "dc1298c6",
   "metadata": {},
   "outputs": [],
   "source": [
    "class Archivo:\n",
    "    def __init__(self, nombre, tamano):\n",
    "        self.nombre = nombre\n",
    "        self.tamano = tamano\n",
    "\n",
    "class Carpeta:\n",
    "    def __init__(self, nombre):\n",
    "        self.nombre = nombre\n",
    "        self.elementos = []\n",
    "    def agregar(self, elemento):\n",
    "        self.elementos.append(elemento)\n",
    "\n",
    "# El cliente debe recorrer y distinguir manualmente"
   ]
  },
  {
   "cell_type": "markdown",
   "id": "1b297a83",
   "metadata": {},
   "source": [
    "## Con patrón Composite (forma correcta)\n",
    "Ambos, archivos y carpetas, implementan la misma interfaz, simplificando la lógica del cliente."
   ]
  },
  {
   "cell_type": "code",
   "execution_count": null,
   "id": "facf6c4a",
   "metadata": {},
   "outputs": [],
   "source": [
    "class Elemento:\n",
    "    def mostrar(self):\n",
    "        pass\n",
    "\n",
    "class Archivo(Elemento):\n",
    "    def __init__(self, nombre, tamano):\n",
    "        self.nombre = nombre\n",
    "        self.tamano = tamano\n",
    "    def mostrar(self):\n",
    "        print(f'Archivo: {self.nombre} ({self.tamano} KB)')\n",
    "\n",
    "class Carpeta(Elemento):\n",
    "    def __init__(self, nombre):\n",
    "        self.nombre = nombre\n",
    "        self.elementos = []\n",
    "    def agregar(self, elemento):\n",
    "        self.elementos.append(elemento)\n",
    "    def mostrar(self):\n",
    "        print(f'Carpeta: {self.nombre}')\n",
    "        for e in self.elementos:\n",
    "            e.mostrar()\n",
    "\n",
    "raiz = Carpeta('raiz')\n",
    "raiz.agregar(Archivo('doc.txt', 10))\n",
    "raiz.mostrar()"
   ]
  },
  {
   "cell_type": "markdown",
   "id": "7aeebaa9",
   "metadata": {},
   "source": [
    "## UML del patrón Composite\n",
    "```plantuml\n",
    "@startuml\n",
    "abstract class Elemento {\n",
    "    + mostrar()\n",
    "}\n",
    "class Archivo {\n",
    "    + mostrar()\n",
    "}\n",
    "class Carpeta {\n",
    "    + agregar(elemento)\n",
    "    + mostrar()\n",
    "}\n",
    "Elemento <|-- Archivo\n",
    "Elemento <|-- Carpeta\n",
    "Carpeta *-- Elemento\n",
    "@enduml\n",
    "```"
   ]
  },
  {
   "cell_type": "markdown",
   "id": "ff72ff43",
   "metadata": {},
   "source": [
    "## Actividad\n",
    "Crea tu propio Composite para modelar una estructura organizacional (departamentos y empleados).\n",
    "\n",
    "---\n",
    "## Explicación de conceptos clave\n",
    "- **Jerarquía recursiva:** Permite tratar objetos individuales y compuestos de la misma manera.\n",
    "- **Simplicidad para el cliente:** El cliente no necesita distinguir entre tipos de elementos.\n",
    "- **Aplicación en la vida real:** Útil en sistemas de archivos, menús y estructuras organizacionales.\n",
    "\n",
    "## Conclusión\n",
    "El patrón Composite es ideal para trabajar con estructuras jerárquicas y recursivas. Facilita la extensión y el mantenimiento en sistemas complejos."
   ]
  }
 ],
 "metadata": {
  "language_info": {
   "name": "python"
  }
 },
 "nbformat": 4,
 "nbformat_minor": 5
}
