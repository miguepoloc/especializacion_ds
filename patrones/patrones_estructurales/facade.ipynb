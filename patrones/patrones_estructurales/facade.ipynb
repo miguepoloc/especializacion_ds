{
 "cells": [
  {
   "cell_type": "markdown",
   "id": "f90e33dd",
   "metadata": {},
   "source": [
    "# Patrón Estructural: Facade\n",
    "\n",
    "## Introducción\n",
    "El patrón Facade proporciona una interfaz simplificada a una biblioteca, un framework o cualquier otro grupo complejo de clases.\n",
    "\n",
    "## Objetivos\n",
    "- Comprender cómo simplificar el acceso a sistemas complejos.\n",
    "- Identificar cuándo es útil el patrón Facade.\n",
    "- Comparar la solución con y sin el patrón.\n",
    "\n",
    "## Ejemplo de la vida real\n",
    "**Contexto: App de Estación Meteorológica**\n",
    "Supón que una app meteorológica necesita consultar datos de sensores, procesar información y mostrar resultados. El patrón Facade permite exponer una interfaz simple para el usuario, ocultando la complejidad interna.\n",
    "\n",
    "**¿Dónde se usa en proyectos reales?**\n",
    "En bibliotecas de gráficos, sistemas de bases de datos, APIs de hardware, etc."
   ]
  },
  {
   "cell_type": "markdown",
   "id": "30f096ea",
   "metadata": {},
   "source": [
    "## Sin patrón Facade (forma errónea)\n",
    "El cliente debe interactuar con múltiples clases y coordinar sus acciones manualmente."
   ]
  },
  {
   "cell_type": "code",
   "execution_count": null,
   "id": "064cd20a",
   "metadata": {},
   "outputs": [],
   "source": [
    "class Sensor:\n",
    "    def leer(self):\n",
    "        return 25\n",
    "\n",
    "class Procesador:\n",
    "    def procesar(self, dato):\n",
    "        return dato * 1.8 + 32\n",
    "\n",
    "class Visualizador:\n",
    "    def mostrar(self, dato):\n",
    "        print(f'Temperatura: {dato} F')\n",
    "\n",
    "sensor = Sensor()\n",
    "dato = sensor.leer()\n",
    "proc = Procesador()\n",
    "resultado = proc.procesar(dato)\n",
    "vis = Visualizador()\n",
    "vis.mostrar(resultado)"
   ]
  },
  {
   "cell_type": "markdown",
   "id": "f10d43b9",
   "metadata": {},
   "source": [
    "## Con patrón Facade (forma correcta)\n",
    "El cliente interactúa con una sola clase que coordina todo el proceso."
   ]
  },
  {
   "cell_type": "code",
   "execution_count": null,
   "id": "3f84c3be",
   "metadata": {},
   "outputs": [],
   "source": [
    "class EstacionMeteorologica:\n",
    "    def __init__(self):\n",
    "        self.sensor = Sensor()\n",
    "        self.proc = Procesador()\n",
    "        self.vis = Visualizador()\n",
    "    def mostrar_temperatura(self):\n",
    "        dato = self.sensor.leer()\n",
    "        resultado = self.proc.procesar(dato)\n",
    "        self.vis.mostrar(resultado)\n",
    "\n",
    "estacion = EstacionMeteorologica()\n",
    "estacion.mostrar_temperatura()"
   ]
  },
  {
   "cell_type": "markdown",
   "id": "cbba7226",
   "metadata": {},
   "source": [
    "## UML del patrón Facade\n",
    "```plantuml\n",
    "@startuml\n",
    "class EstacionMeteorologica {\n",
    "    + mostrar_temperatura()\n",
    "}\n",
    "class Sensor {\n",
    "    + leer()\n",
    "}\n",
    "class Procesador {\n",
    "    + procesar(dato)\n",
    "}\n",
    "class Visualizador {\n",
    "    + mostrar(dato)\n",
    "}\n",
    "EstacionMeteorologica --> Sensor\n",
    "EstacionMeteorologica --> Procesador\n",
    "EstacionMeteorologica --> Visualizador\n",
    "@enduml\n",
    "```"
   ]
  },
  {
   "cell_type": "markdown",
   "id": "4c42d995",
   "metadata": {},
   "source": [
    "## Actividad\n",
    "Crea tu propio Facade para simplificar el acceso a un sistema de reservas de vuelos o de compras online.\n",
    "\n",
    "---\n",
    "## Explicación de conceptos clave\n",
    "- **Simplicidad:** El Facade oculta la complejidad interna y expone una interfaz sencilla.\n",
    "- **Desacoplamiento:** El cliente no necesita conocer los detalles internos del sistema.\n",
    "- **Aplicación en la vida real:** Útil en bibliotecas, APIs y sistemas complejos.\n",
    "\n",
    "## Conclusión\n",
    "El patrón Facade es ideal para simplificar el acceso a sistemas complejos y mejorar la experiencia del usuario. Es común en bibliotecas, APIs y aplicaciones con múltiples subsistemas."
   ]
  }
 ],
 "metadata": {
  "language_info": {
   "name": "python"
  }
 },
 "nbformat": 4,
 "nbformat_minor": 5
}
