{
 "cells": [
  {
   "cell_type": "markdown",
   "id": "7b6935e4",
   "metadata": {},
   "source": [
    "# Patrón Estructural: Flyweight\n",
    "\n",
    "## Introducción\n",
    "El patrón Flyweight permite reducir el uso de memoria compartiendo la mayor cantidad de datos posible entre objetos similares. Es útil cuando hay muchos objetos que comparten información.\n",
    "\n",
    "## Objetivos\n",
    "- Comprender cómo optimizar el uso de memoria con objetos compartidos.\n",
    "- Identificar cuándo es útil el patrón Flyweight.\n",
    "- Comparar la solución con y sin el patrón.\n",
    "\n",
    "## Ejemplo de la vida real\n",
    "**Contexto: Editor de texto**\n",
    "En un editor de texto, cada carácter podría ser un objeto. El patrón Flyweight permite compartir la representación de los caracteres, ahorrando memoria.\n",
    "\n",
    "**¿Dónde se usa en proyectos reales?**\n",
    "En editores de texto, juegos (por ejemplo, árboles en un bosque), sistemas de gráficos, etc."
   ]
  },
  {
   "cell_type": "markdown",
   "id": "1e7dfc61",
   "metadata": {},
   "source": [
    "## Sin patrón Flyweight (forma errónea)\n",
    "Cada objeto carácter almacena toda la información, lo que consume mucha memoria."
   ]
  },
  {
   "cell_type": "code",
   "execution_count": null,
   "id": "b52f8bb3",
   "metadata": {},
   "outputs": [],
   "source": [
    "class Caracter:\n",
    "    def __init__(self, simbolo, fuente):\n",
    "        self.simbolo = simbolo\n",
    "        self.fuente = fuente\n",
    "\n",
    "texto = 'hola'\n",
    "caracteres = [Caracter(s, 'Arial') for s in texto]"
   ]
  },
  {
   "cell_type": "markdown",
   "id": "81fb5a44",
   "metadata": {},
   "source": [
    "## Con patrón Flyweight (forma correcta)\n",
    "Se comparte la información común entre los objetos."
   ]
  },
  {
   "cell_type": "code",
   "execution_count": null,
   "id": "b199f61e",
   "metadata": {},
   "outputs": [],
   "source": [
    "class FlyweightCaracter:\n",
    "    _flyweights = {}\n",
    "    def __new__(cls, simbolo, fuente):\n",
    "        key = (simbolo, fuente)\n",
    "        if key not in cls._flyweights:\n",
    "            cls._flyweights[key] = super().__new__(cls)\n",
    "        return cls._flyweights[key]\n",
    "    def __init__(self, simbolo, fuente):\n",
    "        self.simbolo = simbolo\n",
    "        self.fuente = fuente\n",
    "\n",
    "texto = 'hola'\n",
    "caracteres = [FlyweightCaracter(s, 'Arial') for s in texto]"
   ]
  },
  {
   "cell_type": "markdown",
   "id": "7d8863b2",
   "metadata": {},
   "source": [
    "## UML del patrón Flyweight\n",
    "```plantuml\n",
    "@startuml\n",
    "class FlyweightCaracter {\n",
    "    + simbolo\n",
    "    + fuente\n",
    "}\n",
    "FlyweightCaracter <.. Cliente\n",
    "@enduml\n",
    "```"
   ]
  },
  {
   "cell_type": "markdown",
   "id": "d7b837ed",
   "metadata": {},
   "source": [
    "## Actividad\n",
    "Crea un sistema que use Flyweight para representar piezas de ajedrez en un tablero, compartiendo la información común.\n",
    "\n",
    "---\n",
    "## Explicación de conceptos clave\n",
    "- **Ahorro de memoria:** Compartir datos comunes entre muchos objetos.\n",
    "- **Separación de estado:** El estado compartido se almacena en el flyweight, el estado único en el cliente.\n",
    "- **Aplicación en la vida real:** Útil en editores de texto, juegos y sistemas gráficos.\n",
    "\n",
    "## Conclusión\n",
    "El patrón Flyweight es ideal para optimizar el uso de memoria cuando hay muchos objetos similares. Es común en editores de texto, juegos y aplicaciones gráficas."
   ]
  }
 ],
 "metadata": {
  "language_info": {
   "name": "python"
  }
 },
 "nbformat": 4,
 "nbformat_minor": 5
}
