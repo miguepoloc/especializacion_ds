{
 "cells": [
  {
   "cell_type": "markdown",
   "id": "bea40eac",
   "metadata": {},
   "source": [
    "# Patrón Estructural: Proxy\n",
    "\n",
    "## Introducción\n",
    "El patrón Proxy proporciona un objeto sustituto o representante de otro objeto para controlar el acceso a este.\n",
    "\n",
    "## Objetivos\n",
    "- Comprender cómo controlar el acceso a objetos.\n",
    "- Identificar cuándo es útil el patrón Proxy.\n",
    "- Comparar la solución con y sin el patrón.\n",
    "\n",
    "## Ejemplo de la vida real\n",
    "**Contexto: Acceso a archivos remotos**\n",
    "Supón que tienes un sistema que accede a archivos remotos. El patrón Proxy permite controlar el acceso, por ejemplo, añadiendo caché o control de permisos.\n",
    "\n",
    "**¿Dónde se usa en proyectos reales?**\n",
    "En sistemas de archivos, proxies de red, control de acceso, etc."
   ]
  },
  {
   "cell_type": "markdown",
   "id": "a4293a38",
   "metadata": {},
   "source": [
    "## Sin patrón Proxy (forma errónea)\n",
    "El cliente accede directamente al recurso, sin control ni intermediación."
   ]
  },
  {
   "cell_type": "code",
   "execution_count": null,
   "id": "3cbf8e1d",
   "metadata": {},
   "outputs": [],
   "source": [
    "class ArchivoRemoto:\n",
    "    def leer(self):\n",
    "        print('Leyendo archivo remoto...')\n",
    "\n",
    "archivo = ArchivoRemoto()\n",
    "archivo.leer()"
   ]
  },
  {
   "cell_type": "markdown",
   "id": "4be1efe6",
   "metadata": {},
   "source": [
    "## Con patrón Proxy (forma correcta)\n",
    "El cliente accede al recurso a través de un proxy que puede añadir control de acceso, caché, etc."
   ]
  },
  {
   "cell_type": "code",
   "execution_count": null,
   "id": "d05394e9",
   "metadata": {},
   "outputs": [],
   "source": [
    "class ProxyArchivoRemoto:\n",
    "    def __init__(self):\n",
    "        self._archivo = ArchivoRemoto()\n",
    "        self._cache = None\n",
    "    def leer(self):\n",
    "        if self._cache is None:\n",
    "            print('Accediendo por primera vez, leyendo archivo...')\n",
    "            self._archivo.leer()\n",
    "            self._cache = 'datos'\n",
    "        else:\n",
    "            print('Usando caché')\n",
    "\n",
    "proxy = ProxyArchivoRemoto()\n",
    "proxy.leer()\n",
    "proxy.leer()"
   ]
  },
  {
   "cell_type": "markdown",
   "id": "a6b263e8",
   "metadata": {},
   "source": [
    "## UML del patrón Proxy\n",
    "```plantuml\n",
    "@startuml\n",
    "class ArchivoRemoto {\n",
    "    + leer()\n",
    "}\n",
    "class ProxyArchivoRemoto {\n",
    "    + leer()\n",
    "}\n",
    "ProxyArchivoRemoto --> ArchivoRemoto\n",
    "@enduml\n",
    "```"
   ]
  },
  {
   "cell_type": "markdown",
   "id": "1da49d18",
   "metadata": {},
   "source": [
    "## Actividad\n",
    "Crea un proxy para controlar el acceso a una base de datos o a un servicio web, añadiendo control de permisos o caché.\n",
    "\n",
    "---\n",
    "## Explicación de conceptos clave\n",
    "- **Control de acceso:** Permite añadir lógica antes o después de acceder al objeto real.\n",
    "- **Transparencia:** El cliente usa el proxy como si fuera el objeto real.\n",
    "- **Aplicación en la vida real:** Útil en sistemas de archivos, redes y control de acceso.\n",
    "\n",
    "## Conclusión\n",
    "El patrón Proxy es ideal para controlar el acceso a recursos y añadir funcionalidades como caché, control de permisos o registro de acceso."
   ]
  }
 ],
 "metadata": {
  "language_info": {
   "name": "python"
  }
 },
 "nbformat": 4,
 "nbformat_minor": 5
}
