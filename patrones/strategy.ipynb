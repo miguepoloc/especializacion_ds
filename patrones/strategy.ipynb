{
 "cells": [
  {
   "cell_type": "markdown",
   "metadata": {},
   "source": [
    "# Patrón de Diseño Strategy\n",
    "\n",
    "Bienvenido/a. En esta lección aprenderás el patrón de diseño Strategy, fundamental para la flexibilidad y extensibilidad en el diseño de software.\n",
    "\n",
    "## Objetivos\n",
    "- Comprender qué es el patrón Strategy y cuándo aplicarlo.\n",
    "- Implementar el patrón Strategy en Python.\n",
    "- Relacionar el patrón con ejemplos de la vida real.\n",
    "\n",
    "---\n",
    "\n",
    "**Ejemplo de la vida real:** Piensa en una aplicación de transporte (como Google Maps): puedes elegir entre diferentes estrategias de ruta (en auto, bicicleta, caminando) y el algoritmo de cálculo cambia, pero la interfaz para el usuario es la misma."
   ]
  },
  {
   "cell_type": "markdown",
   "metadata": {},
   "source": [
    "# Patrón de Diseño Strategy\n",
    "\n",
    "## Introducción\n",
    "\n",
    "El patrón de diseño Strategy es un patrón de comportamiento que permite definir una familia de algoritmos, encapsular cada uno de ellos y hacerlos intercambiables. Este patrón permite que el algoritmo varíe independientemente de los clientes que lo utilizan."
   ]
  },
  {
   "cell_type": "markdown",
   "metadata": {},
   "source": [
    "## Explicación Detallada\n",
    "\n",
    "### Definición\n",
    "\n",
    "- **Strategy**: Define una familia de algoritmos, encapsula cada uno de ellos y los hace intercambiables. Debido a que los algoritmos deben recibir los mismos parámetros y devolver el mismo tipo de resultado, se pueden intercambiar sin que el cliente se dé cuenta.\n",
    "\n",
    "### Beneficios del Patrón Strategy\n",
    "\n",
    "1. **Flexibilidad**: Permite cambiar los algoritmos en tiempo de ejecución.\n",
    "\n",
    "2. **Mantenibilidad**: Facilita la adición de nuevos algoritmos sin modificar el código existente.\n",
    "\n",
    "3. **Reusabilidad**: Promueve la reutilización de algoritmos en diferentes contextos."
   ]
  },
  {
   "cell_type": "markdown",
   "metadata": {},
   "source": [
    "## Ejemplos Explicados\n",
    "\n",
    "### Ejemplo Antes de Aplicar el Patrón Strategy\n",
    "\n",
    "Supongamos que tenemos una clase `Route` que calcula la mejor ruta, el costo y el tiempo de viaje dependiendo del tipo de vehículo. Aquí está el código antes de aplicar el patrón Strategy:"
   ]
  },
  {
   "cell_type": "code",
   "execution_count": 1,
   "metadata": {},
   "outputs": [],
   "source": [
    "class Route:\n",
    "    def __init__(self, origin: int, destination: int) -> None:\n",
    "        self.origin: int = origin\n",
    "        self.destination: int = destination\n",
    "\n",
    "    def get_best_route(self, vehicle: str) -> dict:\n",
    "        if vehicle == \"car\":\n",
    "            return {\"start_street\": self.origin, \"end_street\": self.destination, \"route\": \"Use the avenue 123\"}\n",
    "        elif vehicle == \"bike\":\n",
    "            return {\"start_street\": self.origin, \"end_street\": self.destination, \"route\": \"Use the bike lane\"}\n",
    "        return {}\n",
    "\n",
    "    def get_cost(self, vehicle: str) -> float:\n",
    "        if vehicle == \"car\":\n",
    "            return round((self.destination - self.origin) * 0.1, 2)\n",
    "        elif vehicle == \"bike\":\n",
    "            return 0\n",
    "        return 0\n",
    "\n",
    "    def get_time(self, vehicle: str) -> float:\n",
    "        if vehicle == \"car\":\n",
    "            return round((self.destination - self.origin) * 0.5, 2)\n",
    "        elif vehicle == \"bike\":\n",
    "            return round((self.destination - self.origin) * 2, 2)\n",
    "        return 0\n",
    "\n",
    "    def avg_speed(self, vehicle: str) -> float:\n",
    "        return round((self.destination - self.origin) / self.get_time(vehicle), 2)"
   ]
  },
  {
   "cell_type": "markdown",
   "metadata": {},
   "source": [
    "#### Análisis del Ejemplo Incorrecto\n",
    "\n",
    "- Tiene múltiples responsabilidades y debe ser modificada cada vez que se agrega un nuevo tipo de vehículo.\n",
    "\n",
    "- Viola el principio de `Single Responsibility`, ya que, tiene más de una razón para cambiar.\n",
    "\n",
    "- Viola el principio de `Open/Closed`, ya que, no se puede extender sin modificar el código existente.\n",
    "\n",
    "- Viola el principio de `Liskov Substitution`, ya que, no se puede reemplazar un tipo de vehículo por otro sin cambiar el comportamiento de la clase.\n",
    "\n",
    "- Viola el principio de `Interface Segregation`, ya que, los métodos `calculate_best_route`, `calculate_cost` y `calculate_time` no son relevantes para todos los tipos de vehículos.\n",
    "\n",
    "- Viola el principio de `Dependency Inversion`, ya que, depende de las implementaciones concretas de los tipos de vehículos.\n",
    "\n",
    "- Hace que el código sea difícil de mantener y extender."
   ]
  },
  {
   "cell_type": "markdown",
   "metadata": {},
   "source": [
    "### Ejemplo Después de Aplicar el Patrón Strategy\n",
    "\n",
    "Aplicando el patrón Strategy, podemos refactorizar el código de la siguiente manera:"
   ]
  },
  {
   "cell_type": "code",
   "execution_count": 2,
   "metadata": {},
   "outputs": [],
   "source": [
    "from abc import ABC, abstractmethod\n",
    "\n",
    "class RouteStrategy(ABC):\n",
    "    @abstractmethod\n",
    "    def get_best_route(self, origin: int, destination: int) -> dict:\n",
    "        pass\n",
    "\n",
    "    @abstractmethod\n",
    "    def get_cost(self, origin: int, destination: int) -> float:\n",
    "        pass\n",
    "\n",
    "    @abstractmethod\n",
    "    def get_time(self, origin: int, destination: int) -> float:\n",
    "        pass"
   ]
  },
  {
   "cell_type": "code",
   "execution_count": 3,
   "metadata": {},
   "outputs": [],
   "source": [
    "class CarStrategy(RouteStrategy):\n",
    "    def get_best_route(self, origin: int, destination: int) -> dict:\n",
    "        return {\"start_street\": origin, \"end_street\": destination, \"route\": \"Use the avenue 123\"}\n",
    "\n",
    "    def get_cost(self, origin: int, destination: int) -> float:\n",
    "        return round((destination - origin) * 0.1, 2)\n",
    "\n",
    "    def get_time(self, origin: int, destination: int) -> float:\n",
    "        return round((destination - origin) * 0.5, 2)\n",
    "\n",
    "class BikeStrategy(RouteStrategy):\n",
    "    def get_best_route(self, origin: int, destination: int) -> dict:\n",
    "        return {\"start_street\": origin, \"end_street\": destination, \"route\": \"Use the bike lane\"}\n",
    "\n",
    "    def get_cost(self, origin: int, destination: int) -> float:\n",
    "        return 0\n",
    "\n",
    "    def get_time(self, origin: int, destination: int) -> float:\n",
    "        return round((destination - origin) * 2, 2)"
   ]
  },
  {
   "cell_type": "code",
   "execution_count": 4,
   "metadata": {},
   "outputs": [],
   "source": [
    "class Route:\n",
    "    def __init__(self, origin: int, destination: int, strategy: RouteStrategy) -> None:\n",
    "        self.origin: int = origin\n",
    "        self.destination: int = destination\n",
    "        self.strategy: RouteStrategy = strategy\n",
    "\n",
    "    def get_best_route(self) -> dict:\n",
    "        return self.strategy.get_best_route(origin=self.origin, destination=self.destination)\n",
    "\n",
    "    def get_cost(self) -> float:\n",
    "        return self.strategy.get_cost(origin=self.origin, destination=self.destination)\n",
    "\n",
    "    def get_time(self) -> float:\n",
    "        return self.strategy.get_time(origin=self.origin, destination=self.destination)\n",
    "\n",
    "    def avg_speed(self) -> float:\n",
    "        return round((self.destination - self.origin) / self.get_time(), 2)"
   ]
  },
  {
   "cell_type": "code",
   "execution_count": 5,
   "metadata": {},
   "outputs": [
    {
     "name": "stdout",
     "output_type": "stream",
     "text": [
      "With car the route is: {'start_street': 0, 'end_street': 10, 'route': 'Use the avenue 123'}\n",
      "With car the cost is: 1.0\n",
      "With car the time is: 5.0\n",
      "With car the average speed is: 2.0\n",
      "With bike the route is: {'start_street': 0, 'end_street': 10, 'route': 'Use the bike lane'}\n",
      "With bike the cost is: 0\n",
      "With bike the time is: 20\n",
      "With bike the average speed is: 0.5\n"
     ]
    }
   ],
   "source": [
    "# Ejemplo de uso\n",
    "car_strategy = CarStrategy()\n",
    "bike_strategy = BikeStrategy()\n",
    "\n",
    "route_by_car = Route(origin=0, destination=10, strategy=car_strategy)\n",
    "route_by_bike = Route(origin=0, destination=10, strategy=bike_strategy)\n",
    "\n",
    "print(\"With car the route is:\", route_by_car.get_best_route())\n",
    "print(\"With car the cost is:\", route_by_car.get_cost())\n",
    "print(\"With car the time is:\", route_by_car.get_time())\n",
    "print(\"With car the average speed is:\", route_by_car.avg_speed())\n",
    "\n",
    "print(\"With bike the route is:\", route_by_bike.get_best_route())\n",
    "print(\"With bike the cost is:\", route_by_bike.get_cost())\n",
    "print(\"With bike the time is:\", route_by_bike.get_time())\n",
    "print(\"With bike the average speed is:\", route_by_bike.avg_speed())"
   ]
  },
  {
   "cell_type": "markdown",
   "metadata": {},
   "source": [
    "## Ejercicios prácticos y preguntas de reflexión\n",
    "\n",
    "1. Implementa una nueva estrategia para rutas en transporte público y agrégala al ejemplo.\n",
    "2. ¿En qué otros contextos de la vida real podrías aplicar el patrón Strategy?\n",
    "3. ¿Por qué es útil separar el algoritmo de la lógica del cliente?\n",
    "\n",
    "### Autoevaluación\n",
    "- ¿Qué ventajas aporta el patrón Strategy al desarrollo de software?\n",
    "- ¿Puedes dar un ejemplo de Strategy fuera del contexto de rutas?"
   ]
  },
  {
   "cell_type": "markdown",
   "metadata": {},
   "source": [
    "## Conclusión\n",
    "\n",
    "1. **Desacoplamiento**: El patrón Strategy promueve el desacoplamiento entre el contexto y los algoritmos.\n",
    "\n",
    "2. **Flexibilidad**: Permite cambiar los algoritmos en tiempo de ejecución.\n",
    "\n",
    "3. **Mantenibilidad**: Facilita la adición de nuevos algoritmos sin modificar el código existente.\n",
    "\n",
    "4. **Reusabilidad**: Promueve la reutilización de algoritmos en diferentes contextos.\n",
    "\n",
    "Aplicar el patrón Strategy puede requerir la creación de múltiples clases e interfaces, pero los beneficios en términos de flexibilidad y mantenibilidad del software son significativos.\n"
   ]
  },
  {
   "cell_type": "markdown",
   "metadata": {},
   "source": [
    "## Referencias y recursos\n",
    "- [Patrón Strategy en Python - Refactoring Guru](https://refactoring.guru/es/design-patterns/strategy/python/example)\n",
    "- [Patrones de diseño en Python - W3Schools](https://www.w3schools.com/python/python_design_patterns.asp)\n",
    "- [Documentación oficial de Python: clases y objetos](https://docs.python.org/es/3/tutorial/classes.html)\n",
    "- [Visualizador de objetos Python Tutor](https://pythontutor.com/)"
   ]
  },
  {
   "cell_type": "markdown",
   "metadata": {},
   "source": [
    "# EJEMPLO PATRONES DE DISEÑO STRATEGY\n"
   ]
  },
  {
   "cell_type": "code",
   "execution_count": null,
   "metadata": {},
   "outputs": [],
   "source": [
    "from abc import ABC, abstractmethod\n",
    "class InteractionWithDataBase(ABC):\n",
    "    @abstractmethod\n",
    "    def connect(self, port: int) -> None:\n",
    "        pass\n",
    "    @abstractmethod\n",
    "    def disconnect(self) -> None:\n",
    "        pass\n",
    "    @abstractmethod\n",
    "    def execute_query(self, query: str) -> list:\n",
    "        pass\n",
    "class PostgreSQLConnection(InteractionWithDataBase):\n",
    "    def connect(self, port: int) -> None:\n",
    "        print(f\"Connecting to PostgreSQL on port {port}\")\n",
    "    def disconnect(self) -> None:\n",
    "        print(\"Disconnecting from PostgreSQL\")\n",
    "    def execute_query(self, query: str) -> list:\n",
    "        print(f\"Executing query on PostgreSQL: {query}\")\n",
    "        return [\"PostgreSQL result 1\", \"PostgreSQL result 2\"]\n",
    "\n",
    "class MySQLConnection(InteractionWithDataBase):\n",
    "    def connect(self, port: int) -> None:\n",
    "        print(f\"Connecting to MySQL on port {port}\")\n",
    "    def disconnect(self) -> None:\n",
    "        print(\"Disconnecting from MySQL\")\n",
    "    def execute_query(self, query: str) -> list:\n",
    "        print(f\"Executing query on MySQL: {query}\")\n",
    "        return [\"MySQL result 1\", \"MySQL result 2\"]\n",
    "\n",
    "class DataService:\n",
    "    def __init__(self, db_connection: InteractionWithDataBase) -> None:\n",
    "        self.db_connection = db_connection\n",
    "    def establish_connection(self, port: int) -> None:\n",
    "        self.db_connection.connect(port)\n",
    "    def close_connection(self) -> None:\n",
    "        self.db_connection.disconnect()\n",
    "    def run_query(self, query: str) -> list:\n",
    "        return self.db_connection.execute_query(query)\n",
    "\n",
    "\n"
   ]
  },
  {
   "cell_type": "code",
   "execution_count": 3,
   "metadata": {},
   "outputs": [
    {
     "name": "stdout",
     "output_type": "stream",
     "text": [
      "Connecting to MySQL on port 3306\n",
      "Executing query on MySQL: SELECT * FROM users\n",
      "['MySQL result 1', 'MySQL result 2']\n",
      "Disconnecting from MySQL\n",
      "Connecting to PostgreSQL on port 5432\n",
      "Executing query on PostgreSQL: SELECT * FROM products\n",
      "['PostgreSQL result 1', 'PostgreSQL result 2']\n"
     ]
    }
   ],
   "source": [
    "#ejemplo de uso\n",
    "\n",
    "mysql = MySQLConnection()\n",
    "postgresql = PostgreSQLConnection()\n",
    "\n",
    "Connection = DataService(mysql)\n",
    "Connection.establish_connection(3306)\n",
    "view = Connection.run_query(\"SELECT * FROM users\")\n",
    "print(view)\n",
    "Connection.close_connection()\n",
    "Connection = DataService(postgresql)\n",
    "Connection.establish_connection(5432)\n",
    "view2 = Connection.run_query(\"SELECT * FROM products\")\n",
    "print(view2)"
   ]
  }
 ],
 "metadata": {
  "kernelspec": {
   "display_name": "venv",
   "language": "python",
   "name": "python3"
  },
  "language_info": {
   "codemirror_mode": {
    "name": "ipython",
    "version": 3
   },
   "file_extension": ".py",
   "mimetype": "text/x-python",
   "name": "python",
   "nbconvert_exporter": "python",
   "pygments_lexer": "ipython3",
   "version": "3.12.7"
  }
 },
 "nbformat": 4,
 "nbformat_minor": 2
}
