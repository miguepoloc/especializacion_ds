{
 "cells": [
  {
   "cell_type": "markdown",
   "metadata": {},
   "source": [
    "# Interfaces en Programación Orientada a Objetos\n",
    "\n",
    "Bienvenido/a. En esta lección aprenderás el concepto de interfaces, fundamentales para el diseño de sistemas modulares y extensibles en POO.\n",
    "\n",
    "## Objetivos\n",
    "- Comprender qué es una interfaz y su importancia en POO.\n",
    "- Implementar interfaces en Python usando clases abstractas.\n",
    "- Aplicar interfaces en ejemplos de la vida real.\n",
    "\n",
    "---\n",
    "\n",
    "**Ejemplo de la vida real:** Piensa en un control remoto: no te importa cómo funciona internamente, solo necesitas saber qué botones puedes presionar y qué hacen. Eso es una interfaz."
   ]
  },
  {
   "cell_type": "markdown",
   "metadata": {},
   "source": [
    "# Interfaces en Programación Orientada a Objetos\n",
    "\n",
    "Las interfaces son un concepto fundamental en la Programación Orientada a Objetos (POO) que define un contrato para las clases. Aunque Python no tiene un soporte nativo para interfaces como otros lenguajes, se pueden simular usando clases abstractas.\n",
    "\n",
    "# Las interfaces definen el qué y no el cómo\n",
    "\n",
    "## ¿Qué es una interfaz?\n",
    "\n",
    "Una interfaz es un contrato que define un conjunto de métodos que una clase debe implementar. Es decir, una interfaz define el comportamiento de un objeto sin centrarse en los detalles de cómo se implementa.\n",
    "\n",
    "## Tipos de interfaces en Python\n",
    "\n",
    "1. **Interfaces informales**: Se definen como una clase que no implementa los métodos.\n",
    "2. **Interfaces formales**: Se definen como una clase abstracta que implementa los métodos.\n",
    "\n",
    "\n",
    "## Explicación\n",
    "\n",
    "Una interfaz:\n",
    "\n",
    "1. Define un conjunto de métodos que una clase debe implementar.\n",
    "\n",
    "2. Proporciona un nivel de abstracción, permitiendo tratar objetos de diferentes clases de manera uniforme.\n",
    "\n",
    "3. Facilita el diseño de sistemas modulares y extensibles.\n",
    "\n",
    "4. Mejora la mantenibilidad del código al establecer contratos claros entre componentes."
   ]
  },
  {
   "cell_type": "markdown",
   "metadata": {},
   "source": [
    "## Ejemplos prácticos\n",
    "\n",
    "### Ejemplo 1: Interfaz sin ABC\n",
    "\n",
    "En este ejemplo:\n",
    "\n",
    "1. `InterfazAnimal` define los métodos que las clases hijas deben implementar.\n",
    "\n",
    "2. `Perro` y `Gato` implementan los métodos de la interfaz.\n",
    "\n",
    "3. `interactuar_con_animal` puede trabajar con cualquier objeto que implemente la interfaz."
   ]
  },
  {
   "cell_type": "code",
   "execution_count": null,
   "metadata": {},
   "outputs": [],
   "source": [
    "class InterfazAnimal: #Informal\n",
    "    def hacer_sonido(self) -> str:\n",
    "        raise NotImplementedError(\"Subclass must implement abstract method\")\n",
    "\n",
    "    def moverse(self) -> str:\n",
    "        raise NotImplementedError(\"Subclass must implement abstract method\")\n",
    "\n",
    "class Perro(InterfazAnimal):\n",
    "    def hacer_sonido(self) -> str:\n",
    "        return \"Guau!\"\n",
    "\n",
    "    def moverse(self) -> str:\n",
    "        return \"El perro corre\"\n",
    "\n",
    "class Gato(InterfazAnimal):\n",
    "    def hacer_sonido(self) -> str:\n",
    "        return \"Miau!\"\n",
    "    \n",
    "    ## agregue este código y ya funciona!!\n",
    "    def moverse(self) -> str:\n",
    "        return \"El gato salta\"\n"
   ]
  },
  {
   "cell_type": "code",
   "execution_count": 4,
   "metadata": {},
   "outputs": [
    {
     "name": "stdout",
     "output_type": "stream",
     "text": [
      "Guau!\n",
      "El perro corre\n"
     ]
    }
   ],
   "source": [
    "def interactuar_con_animal(animal: InterfazAnimal) -> None:\n",
    "    print(animal.hacer_sonido())\n",
    "    print(animal.moverse())\n",
    "\n",
    "perro: Perro = Perro()\n",
    "\n",
    "interactuar_con_animal(animal=perro)"
   ]
  },
  {
   "cell_type": "code",
   "execution_count": 19,
   "metadata": {},
   "outputs": [
    {
     "name": "stdout",
     "output_type": "stream",
     "text": [
      "Miau!\n",
      "El gato salta\n"
     ]
    }
   ],
   "source": [
    "gato: Gato = Gato()\n",
    "interactuar_con_animal(animal=gato)"
   ]
  },
  {
   "cell_type": "markdown",
   "metadata": {},
   "source": [
    "### Ejemplo 2: Interfaz con ABC\n",
    "\n",
    "En este ejemplo:\n",
    "\n",
    "1. `InterfazVehiculo` usa `ABC` y `@abstractmethod` para definir una interfaz más estricta.\n",
    "\n",
    "2. `Carro` y `Bicicleta` implementan correctamente la interfaz.\n",
    "\n",
    "3. `VehiculoIncompleto` no implementa todos los métodos, lo que resulta en un error al instanciar."
   ]
  },
  {
   "cell_type": "code",
   "execution_count": null,
   "metadata": {},
   "outputs": [],
   "source": [
    "## Interfaz es sólo para definir\n",
    "\n",
    "from abc import ABC, abstractmethod\n",
    "\n",
    "class InterfazVehiculo(ABC): #Formal\n",
    "    @abstractmethod\n",
    "    def acelerar(self) -> str:\n",
    "        pass\n",
    "\n",
    "    @abstractmethod\n",
    "    def frenar(self) -> str:\n",
    "        pass\n",
    "\n",
    "class Carro(InterfazVehiculo):\n",
    "    def acelerar(self) -> str:\n",
    "        return \"El carro acelera\"\n",
    "\n",
    "    def frenar(self) -> str:\n",
    "        return \"El carro frena\"\n",
    "\n",
    "class Bicicleta(InterfazVehiculo):\n",
    "    def acelerar(self) -> str:\n",
    "        return \"La bicicleta pedalea más rápido\"\n",
    "\n",
    "    def frenar(self) -> str:\n",
    "        return \"La bicicleta frena\""
   ]
  },
  {
   "cell_type": "code",
   "execution_count": 9,
   "metadata": {},
   "outputs": [
    {
     "name": "stdout",
     "output_type": "stream",
     "text": [
      "El carro acelera\n",
      "El carro frena\n",
      "La bicicleta pedalea más rápido\n",
      "La bicicleta frena\n"
     ]
    }
   ],
   "source": [
    "def probar_vehiculo(vehiculo: InterfazVehiculo) -> None:\n",
    "    print(vehiculo.acelerar())\n",
    "    print(vehiculo.frenar())\n",
    "\n",
    "carro: Carro = Carro()\n",
    "bicicleta: Bicicleta = Bicicleta()\n",
    "\n",
    "probar_vehiculo(vehiculo=carro)\n",
    "probar_vehiculo(vehiculo=bicicleta)"
   ]
  },
  {
   "cell_type": "code",
   "execution_count": 11,
   "metadata": {},
   "outputs": [
    {
     "name": "stdout",
     "output_type": "stream",
     "text": [
      "Error: Can't instantiate abstract class VehiculoIncompleto without an implementation for abstract method 'frenar'\n"
     ]
    }
   ],
   "source": [
    "# Esto causará un error\n",
    "class VehiculoIncompleto(InterfazVehiculo):\n",
    "    def acelerar(self) -> str:\n",
    "        return \"Acelerando\"\n",
    "    # No se implementa el método frenar()\n",
    "\n",
    "try:\n",
    "    vehiculo_incompleto = VehiculoIncompleto()\n",
    "except TypeError as e:\n",
    "    print(f\"Error: {e}\")"
   ]
  },
  {
   "cell_type": "markdown",
   "metadata": {},
   "source": [
    "## Ejercicios prácticos y preguntas de reflexión\n",
    "\n",
    "1. Crea una interfaz `Vehiculo` con métodos `acelerar` y `frenar`, e implementa dos clases: `Bicicleta` y `Automovil`.\n",
    "2. Modifica el ejemplo de animales para agregar una clase `Pajaro` que implemente la interfaz.\n",
    "3. ¿Por qué es útil definir interfaces en el desarrollo de software?\n",
    "\n",
    "### Autoevaluación\n",
    "- ¿Qué ventajas aporta el uso de interfaces?\n",
    "- ¿Puedes dar un ejemplo de interfaz en tu vida diaria?"
   ]
  },
  {
   "cell_type": "code",
   "execution_count": 21,
   "metadata": {},
   "outputs": [
    {
     "name": "stdout",
     "output_type": "stream",
     "text": [
      "Licuadora casera encendida: velocidad baja.\n",
      "Licuadora casera apagada.\n",
      "Licuadora industrial encendida: potencia máxima.\n",
      "Licuadora industrial apagada.\n"
     ]
    }
   ],
   "source": [
    "## Ejercicio 1A - Crea una interfaz `Licuadora` con métodos `Encender` y `Apagar`, e implementa dos clases: `Casera` y `Industrial`\n",
    "\n",
    "##Definir la interfaz\n",
    "from abc import ABC, abstractmethod\n",
    "\n",
    "class Licuadora(ABC):\n",
    "    @abstractmethod\n",
    "    def encender(self):\n",
    "        pass\n",
    "\n",
    "    @abstractmethod\n",
    "    def apagar(self):\n",
    "        pass\n",
    "\n",
    "\n",
    "# Implementar la clase\n",
    "class Casera(Licuadora):\n",
    "    def encender(self):\n",
    "        print(\"Licuadora casera encendida: velocidad baja.\")\n",
    "\n",
    "    def apagar(self):\n",
    "        print(\"Licuadora casera apagada.\")\n",
    "\n",
    "# Implementar la clase\n",
    "class Industrial(Licuadora):\n",
    "    def encender(self):\n",
    "        print(\"Licuadora industrial encendida: potencia máxima.\")\n",
    "\n",
    "    def apagar(self):\n",
    "        print(\"Licuadora industrial apagada.\")\n",
    "\n",
    "\n",
    "# \n",
    "licuadora1 = Casera()\n",
    "licuadora2 = Industrial()\n",
    "\n",
    "licuadora1.encender()\n",
    "licuadora1.apagar()\n",
    "\n",
    "licuadora2.encender()\n",
    "licuadora2.apagar()"
   ]
  },
  {
   "cell_type": "code",
   "execution_count": 15,
   "metadata": {},
   "outputs": [
    {
     "name": "stdout",
     "output_type": "stream",
     "text": [
      "Licuadora casera encendida.\n",
      "Velocidad ajustada a nivel 2 (casera).\n",
      "⚠️ Falla eléctrica detectada en licuadora casera. Reinicie el dispositivo.\n",
      "No se puede ajustar velocidad: la licuadora está apagada.\n",
      "Licuadora industrial encendida con potencia máxima.\n",
      "Velocidad industrial ajustada a nivel 5.\n",
      "🚨 Falla mecánica en licuadora industrial. Se requiere mantenimiento técnico.\n"
     ]
    }
   ],
   "source": [
    "## Ejercicio 1B - Crea una interfaz `Licuadora` con métodos `Encender` y `Apagar`, e implementa dos clases: `Casera` y `Industrial`\n",
    "\n",
    "##Definir la interfaz\n",
    "from abc import ABC, abstractmethod\n",
    "\n",
    "class Licuadora(ABC):\n",
    "    @abstractmethod\n",
    "    def encender(self): pass\n",
    "\n",
    "    @abstractmethod\n",
    "    def apagar(self): pass\n",
    "\n",
    "    @abstractmethod\n",
    "    def ajustar_velocidad(self, nivel): pass\n",
    "\n",
    "    @abstractmethod\n",
    "    def simular_falla(self): pass\n",
    "\n",
    "# Implementar la clase\n",
    "class Casera(Licuadora):\n",
    "    def __init__(self):\n",
    "        self.encendida = False\n",
    "        self.velocidad = 0\n",
    "\n",
    "    def encender(self):\n",
    "        self.encendida = True\n",
    "        print(\"Licuadora casera encendida.\")\n",
    "\n",
    "    def apagar(self):\n",
    "        self.encendida = False\n",
    "        print(\"Licuadora casera apagada.\")\n",
    "\n",
    "    def ajustar_velocidad(self, nivel):\n",
    "        if self.encendida:\n",
    "            self.velocidad = nivel\n",
    "            print(f\"Velocidad ajustada a nivel {nivel} (casera).\")\n",
    "        else:\n",
    "            print(\"No se puede ajustar velocidad: la licuadora está apagada.\")\n",
    "\n",
    "    def simular_falla(self):\n",
    "        print(\"⚠️ Falla eléctrica detectada en licuadora casera. Reinicie el dispositivo.\")\n",
    "        self.encendida = False\n",
    "\n",
    "# Implementar la clase\n",
    "class Industrial(Licuadora):\n",
    "    def __init__(self):\n",
    "        self.encendida = False\n",
    "        self.velocidad = 0\n",
    "\n",
    "    def encender(self):\n",
    "        self.encendida = True\n",
    "        print(\"Licuadora industrial encendida con potencia máxima.\")\n",
    "\n",
    "    def apagar(self):\n",
    "        self.encendida = False\n",
    "        print(\"Licuadora industrial apagada.\")\n",
    "\n",
    "    def ajustar_velocidad(self, nivel):\n",
    "        if self.encendida:\n",
    "            self.velocidad = nivel\n",
    "            print(f\"Velocidad industrial ajustada a nivel {nivel}.\")\n",
    "        else:\n",
    "            print(\"No se puede ajustar velocidad: la licuadora está apagada.\")\n",
    "\n",
    "    def simular_falla(self):\n",
    "        print(\"🚨 Falla mecánica en licuadora industrial. Se requiere mantenimiento técnico.\")\n",
    "        self.encendida = False\n",
    "\n",
    "\n",
    "licuadora1 = Casera()\n",
    "licuadora1.encender()\n",
    "licuadora1.ajustar_velocidad(2)\n",
    "licuadora1.simular_falla()\n",
    "licuadora1.ajustar_velocidad(3)\n",
    "\n",
    "licuadora2 = Industrial()\n",
    "licuadora2.encender()\n",
    "licuadora2.ajustar_velocidad(5)\n",
    "licuadora2.simular_falla()"
   ]
  },
  {
   "cell_type": "code",
   "execution_count": null,
   "metadata": {},
   "outputs": [
    {
     "name": "stdout",
     "output_type": "stream",
     "text": [
      "El pájaro canta: ¡Pío pío!\n",
      "El pájaro vuela por el cielo.\n",
      "El Tigre: ¡Ataca!\n",
      "El Tigre trepa.\n"
     ]
    }
   ],
   "source": [
    "# Ejercicio 2 - Modifica el ejemplo de animales para agregar una clase `Pajaro` que implemente la interfaz\n",
    "\n",
    "#Definir\n",
    "from abc import ABC, abstractmethod\n",
    "\n",
    "class Animal(ABC):\n",
    "    @abstractmethod\n",
    "    def hacer_sonido(self): pass\n",
    "\n",
    "    @abstractmethod\n",
    "    def moverse(self): pass\n",
    "\n",
    "#Crear Clase\n",
    "class Pajaro(Animal):\n",
    "    def hacer_sonido(self):\n",
    "        print(\"El pájaro canta: ¡Pío pío!\")\n",
    "\n",
    "    def moverse(self):\n",
    "        print(\"El pájaro vuela por el cielo.\")\n",
    "\n",
    "#Crear Clase\n",
    "class Tigre(Animal):\n",
    "    def hacer_sonido(self):\n",
    "        print(\"El Tigre: ¡Ruge!\")\n",
    "\n",
    "    def moverse(self):\n",
    "        print(\"El Tigre trepa con sus garras.\")\n",
    "\n",
    "mi_pajaro = Pajaro()\n",
    "mi_pajaro.hacer_sonido()\n",
    "mi_pajaro.moverse()\n",
    "\n",
    "el_tigre=Tigre()\n",
    "el_tigre.hacer_sonido()\n",
    "el_tigre.moverse()\n",
    "\n"
   ]
  },
  {
   "cell_type": "markdown",
   "metadata": {},
   "source": [
    "### Ejercicio 3 ¿Por qué es útil definir interfaces en el desarrollo de software?\n",
    "\n",
    "1. Establecen contratos claros\n",
    "Una interfaz define qué métodos debe tener una clase, sin decir cómo se implementan. Esto obliga a las clases que la usan a cumplir con un comportamiento específico.\n",
    "\n",
    "Ejemplo: Una interfaz Vehiculo puede exigir métodos como encender() y moverse(), sin importar si es un auto, una moto o un avión.\n",
    "\n",
    "\n",
    "2. Facilitan el reemplazo y la extensión\n",
    "Puedes cambiar una clase por otra que implemente la misma interfaz sin romper el sistema.\n",
    "\n",
    "Ejemplo: Si tienes una interfaz Pago, puedes usar PagoConTarjeta o PagoConEfectivo sin modificar el código que llama a procesar_pago().\n",
    "\n",
    "\n",
    "3. Promueven el diseño modular\n",
    "Separan la definición del comportamiento de su implementación. Esto permite dividir el trabajo entre equipos y mantener el código organizado.\n",
    "\n",
    "4. Mejoran las pruebas y simulaciones\n",
    "Puedes crear versiones falsas (mocks) de una interfaz para probar tu sistema sin depender de componentes reales.\n",
    "\n",
    "Ejemplo: Simular una base de datos o una API externa durante pruebas unitarias.\n",
    "\n",
    "5. Fomentan la reutilización\n",
    "Al definir interfaces genéricas, puedes crear múltiples implementaciones para distintos contextos sin duplicar lógica.\n",
    "\n",
    "6. Refuerzan la abstracción\n",
    "Permiten trabajar con conceptos generales sin preocuparse por los detalles técnicos, lo que hace que el código sea más legible y mantenible.\n",
    "\n",
    "\n",
    "En resumen, las interfaces son como planos de comportamiento que ayudan a construir software más sólido, adaptable y profesional\n",
    "\n",
    "\n",
    "\n",
    "### Autoevaluación\n",
    "- ¿Qué ventajas aporta el uso de interfaces?\n",
    "\n",
    "1. Establecen un contrato claro\n",
    "Una interfaz define qué métodos debe tener una clase, sin importar cómo se implementan. Esto obliga a mantener consistencia entre diferentes implementaciones.\n",
    "\n",
    "Ejemplo: Si tienes una interfaz Animal con moverse() y hacer_sonido(), cualquier clase que la implemente (como Perro, Gato, Pájaro) debe tener esos métodos.\n",
    "\n",
    "2. Facilitan el reemplazo y la extensión\n",
    "Puedes cambiar una clase por otra que implemente la misma interfaz sin modificar el resto del sistema.\n",
    "\n",
    "Ejemplo: Cambiar PagoConTarjeta por PagoConCriptomoneda sin alterar el código que llama a procesar_pago().\n",
    "\n",
    "3. Promueven el diseño modular\n",
    "Separan la definición del comportamiento de su implementación. Esto permite dividir el trabajo entre equipos y mantener el código organizado.\n",
    "\n",
    "4. Mejoran las pruebas y simulaciones\n",
    "Puedes crear versiones simuladas (mocks) de una interfaz para probar tu sistema sin depender de componentes reales.\n",
    "\n",
    "Ejemplo: Simular una API externa o una base de datos durante pruebas unitarias.\n",
    "\n",
    "5. Fomentan la reutilización\n",
    "Al definir interfaces genéricas, puedes crear múltiples implementaciones para distintos contextos sin duplicar lógica.\n",
    "\n",
    "6. Refuerzan la abstracción\n",
    "Permiten trabajar con conceptos generales sin preocuparse por los detalles técnicos, lo que hace que el código sea más legible y mantenible.\n",
    "\n",
    "En resumen, las interfaces son como planos de comportamiento que ayudan a construir software más sólido, adaptable y profesional"
   ]
  },
  {
   "cell_type": "markdown",
   "metadata": {},
   "source": [
    "## Por qué usar interfaces\n",
    "\n",
    "1. **Abstracción**: Permiten trabajar con conceptos de alto nivel sin preocuparse por los detalles de implementación.\n",
    "\n",
    "2. **Polimorfismo**: Facilitan el tratamiento uniforme de objetos de diferentes clases.\n",
    "\n",
    "3. **Diseño modular**: Ayudan a crear sistemas más flexibles y fáciles de extender.\n",
    "\n",
    "4. **Contratos claros**: Establecen expectativas claras sobre el comportamiento de las clases."
   ]
  },
  {
   "cell_type": "markdown",
   "metadata": {},
   "source": [
    "## Conclusión\n",
    "\n",
    "Las interfaces en Python, ya sea mediante clases abstractas simples o usando el módulo `abc`, son una herramienta poderosa en la POO:\n",
    "\n",
    "- Proporcionan una forma de definir contratos para las clases.\n",
    "\n",
    "- Mejoran la estructura y el diseño del código.\n",
    "\n",
    "- Facilitan la creación de sistemas extensibles y mantenibles.\n",
    "\n",
    "- Promueven buenas prácticas de programación como el principio de sustitución de Liskov.\n",
    "\n",
    "Aunque Python no tiene interfaces nativas, las técnicas mostradas permiten lograr resultados similares. El uso de `ABC` y `@abstractmethod` ofrece un enfoque más robusto y cercano a las interfaces tradicionales, mientras que las interfaces sin ABC proporcionan una solución más flexible pero menos estricta.\n",
    "\n",
    "En el desarrollo de software moderno, las interfaces son cruciales para crear sistemas bien estructurados y fáciles de mantener. Son especialmente útiles en proyectos grandes o en el desarrollo de bibliotecas y frameworks donde la claridad y la consistencia son esenciales."
   ]
  },
  {
   "cell_type": "markdown",
   "metadata": {},
   "source": [
    "## Referencias y recursos\n",
    "- [Documentación oficial de Python: clases abstractas](https://docs.python.org/es/3/library/abc.html)\n",
    "- [Interfaces en Python - W3Schools](https://www.w3schools.com/python/python_classes.asp)\n",
    "- [Visualizador de objetos Python Tutor](https://pythontutor.com/)"
   ]
  }
 ],
 "metadata": {
  "kernelspec": {
   "display_name": "Python 3",
   "language": "python",
   "name": "python3"
  },
  "language_info": {
   "codemirror_mode": {
    "name": "ipython",
    "version": 3
   },
   "file_extension": ".py",
   "mimetype": "text/x-python",
   "name": "python",
   "nbconvert_exporter": "python",
   "pygments_lexer": "ipython3",
   "version": "3.13.7"
  }
 },
 "nbformat": 4,
 "nbformat_minor": 2
}
