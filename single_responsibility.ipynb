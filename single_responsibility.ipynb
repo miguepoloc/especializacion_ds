{
 "cells": [
  {
   "cell_type": "markdown",
   "metadata": {},
   "source": [
    "# Principio de Responsabilidad Única (Single Responsibility Principle)\n",
    "\n",
    "## Introducción\n",
    "El principio de responsabilidad única (SRP) es el primero de los principios SOLID y establece que una clase debe tener una sola razón para cambiar, es decir, debe estar enfocada en una única responsabilidad o propósito.\n",
    "\n",
    "## Objetivos\n",
    "- Comprender el principio de responsabilidad única y su importancia en el diseño de software.\n",
    "- Identificar violaciones al SRP en código Python.\n",
    "- Aplicar el SRP para mejorar la mantenibilidad y claridad del código.\n",
    "\n",
    "## Ejemplo de la vida real\n",
    "Piensa en una impresora multifunción: aunque puede imprimir, escanear y copiar, cada función está implementada como un módulo separado dentro del dispositivo. Si una función falla, no afecta a las demás. Así, cada módulo tiene una única responsabilidad."
   ]
  },
  {
   "cell_type": "markdown",
   "metadata": {},
   "source": [
    "# Principio de Responsabilidad Única (Single Responsibility Principle, SRP)\n",
    "\n",
    "## Introducción\n",
    "\n",
    "El Principio de Responsabilidad Única (SRP) es uno de los cinco principios SOLID de diseño orientado a objetos. Fue introducido por Robert C. Martin y establece que una clase debe tener una, y solo una, razón para cambiar. En otras palabras, una clase debe tener una única responsabilidad o propósito.\n",
    "\n",
    "## Explicación Detallada\n",
    "\n",
    "### Definición\n",
    "\n",
    "- **SRP**: Una clase debe tener una única responsabilidad, es decir, una única razón para cambiar.\n",
    "\n",
    "### Beneficios del SRP\n",
    "\n",
    "1. **Mantenibilidad**: El código es más fácil de entender y modificar.\n",
    "\n",
    "2. **Reusabilidad**: Las clases con una única responsabilidad son más fáciles de reutilizar en diferentes contextos.\n",
    "\n",
    "3. **Testabilidad**: Las clases con una única responsabilidad son más fáciles de probar."
   ]
  },
  {
   "cell_type": "markdown",
   "metadata": {},
   "source": [
    "## Ejemplos Explicados\n",
    "\n",
    "### Ejemplo Correcto\n",
    "\n",
    "Supongamos que estamos desarrollando una aplicación para gestionar libros en una biblioteca. Aplicando el SRP, podríamos tener las siguientes clases:\n",
    "\n",
    "En este ejemplo, cada clase tiene una única responsabilidad:\n",
    "\n",
    "* `Book` se encarga de representar un libro.\n",
    "* `BookPrinter` se encarga de imprimir la información del libro.\n",
    "* `BookRepository` se encarga de guardar el libro en una base de datos."
   ]
  },
  {
   "cell_type": "code",
   "execution_count": 1,
   "metadata": {},
   "outputs": [],
   "source": [
    "class Book:\n",
    "    def __init__(self, title: str, author: str) -> None:\n",
    "        self.title: str = title\n",
    "        self.author: str = author\n",
    "\n",
    "class BookPrinter:\n",
    "    def print_book(self, book: Book) -> None:\n",
    "        print(f\"Title: {book.title}, Author: {book.author}\")\n",
    "\n",
    "class BookRepository:\n",
    "    def save_book(self, book: Book) -> None:\n",
    "        # Código para guardar el libro en una base de datos\n",
    "        pass"
   ]
  },
  {
   "cell_type": "markdown",
   "metadata": {},
   "source": [
    "### Ejemplo Incorrecto donde se viola el SRP\n",
    "\n",
    "En este ejemplo, la clase `Book` tiene múltiples responsabilidades, lo que viola el SRP:\n",
    "\n",
    "En este caso, la clase Book tiene múltiples responsabilidades:\n",
    "\n",
    "* Representar un libro.\n",
    "\n",
    "* Imprimir la información del libro.\n",
    "\n",
    "* Guardar el libro en una base de datos."
   ]
  },
  {
   "cell_type": "code",
   "execution_count": 2,
   "metadata": {},
   "outputs": [],
   "source": [
    "class Book:\n",
    "    def __init__(self, title: str, author: str) -> None:\n",
    "        self.title: str = title\n",
    "        self.author: str = author\n",
    "\n",
    "    def print_book(self) -> None:\n",
    "        print(f\"Title: {self.title}, Author: {self.author}\")\n",
    "\n",
    "    def save_book(self) -> None:\n",
    "        # Código para guardar el libro en una base de datos\n",
    "        pass"
   ]
  },
  {
   "cell_type": "markdown",
   "metadata": {},
   "source": [
    "\n",
    "Esto viola el SRP porque cualquier cambio en la forma en que se imprime o se guarda el libro requerirá cambios en la clase `Book`, lo que puede introducir errores y hacer que el código sea más difícil de mantener.\n",
    "\n",
    "## Conclusión\n",
    "\n",
    "1. **Reducción de Complejidad**: Aplicar el SRP reduce la complejidad del código al dividir responsabilidades en clases separadas.\n",
    "\n",
    "2. **Mejora de la Cohesión**: Las clases con una única responsabilidad tienen una cohesión más alta, lo que facilita su comprensión y mantenimiento.\n",
    "\n",
    "3. **Facilidad de Prueba**: Las clases con una única responsabilidad son más fáciles de probar de manera aislada.\n",
    "\n",
    "4. **Reusabilidad**: Las clases con responsabilidades claras y únicas son más fáciles de reutilizar en diferentes contextos.\n",
    "\n",
    "Aplicar el SRP puede requerir más clases y una planificación cuidadosa, pero los beneficios a largo plazo en términos de calidad del código y facilidad de mantenimiento son significativos.\n"
   ]
  },
  {
   "cell_type": "markdown",
   "metadata": {},
   "source": [
    "## Ejercicios prácticos y preguntas de reflexión\n",
    "\n",
    "1. **Identifica responsabilidades**: Observa una clase que realice varias tareas (por ejemplo, gestionar usuarios y enviar correos). ¿Cómo la dividirías para cumplir con el SRP?\n",
    "2. **Refactoriza**: Toma un fragmento de código que viole el SRP y sepáralo en varias clases o funciones.\n",
    "3. **Pregunta de reflexión**: ¿Qué problemas pueden surgir si una clase tiene más de una responsabilidad?\n",
    "\n",
    "## Autoevaluación\n",
    "- ¿Puedo identificar fácilmente la responsabilidad principal de cada clase en mi código?\n",
    "- ¿Qué ventajas aporta el SRP al mantenimiento de proyectos grandes?\n",
    "\n",
    "## Referencias y recursos\n",
    "- [SOLID Principles en Python – Real Python](https://realpython.com/solid-principles-python/)\n",
    "- [Single Responsibility Principle – Wikipedia](https://en.wikipedia.org/wiki/Single-responsibility_principle)\n",
    "- [Clean Code de Robert C. Martin](https://www.oreilly.com/library/view/clean-code/9780136083238/)"
   ]
  },
  {
   "cell_type": "markdown",
   "metadata": {},
   "source": [
    "### Caja fuerte inteligente. La clase mezcla control de acceso, alertas y configuración"
   ]
  },
  {
   "cell_type": "markdown",
   "metadata": {},
   "source": []
  },
  {
   "cell_type": "code",
   "execution_count": null,
   "metadata": {},
   "outputs": [],
   "source": [
    "class CajaFuerte:\n",
    "    def __init__(self, clave: str, tiempo_bloqueo_auto: int) -> None:\n",
    "        self.clave: str = clave\n",
    "        self.esta_abierta: bool = False\n",
    "        self.tiempo_bloqueo_auto: int = tiempo_bloqueo_auto\n",
    "\n",
    "    def abrir(self, clave_ingresada: str) -> None:\n",
    "        if clave_ingresada == self.clave:\n",
    "            self.esta_abierta = True\n",
    "            print(\"Caja fuerte abierta con éxito.\")\n",
    "        else:\n",
    "            self.enviar_alerta(\"Intento de apertura fallido.\")\n",
    "            print(\"Clave incorrecta. Se ha enviado una alerta.\")\n",
    "\n",
    "    def cerrar(self) -> None:\n",
    "        if self.esta_abierta:\n",
    "            self.esta_abierta = False\n",
    "            print(\"Caja fuerte cerrada.\")\n",
    "\n",
    "    def obtener_tiempo_bloqueo_auto(self) -> int:\n",
    "        return self.tiempo_bloqueo_auto\n",
    "\n",
    "    def enviar_alerta(self, mensaje: str) -> None:\n",
    "        print(f\"ALERTA SMS: {mensaje}\")"
   ]
  },
  {
   "cell_type": "markdown",
   "metadata": {},
   "source": []
  },
  {
   "cell_type": "code",
   "execution_count": null,
   "metadata": {},
   "outputs": [],
   "source": [
    "class CajaFuerte:\n",
    "    def __init__(self, clave: str, configuracion_seguridad, gestor_alertas) -> None:\n",
    "        self.clave: str = clave\n",
    "        self.esta_abierta: bool = False\n",
    "        self.configuracion_seguridad = configuracion_seguridad\n",
    "        self.gestor_alertas = gestor_alertas\n",
    "\n",
    "    def abrir(self, clave_ingresada: str) -> None:\n",
    "        if clave_ingresada == self.clave:\n",
    "            self.esta_abierta = True\n",
    "            print(\"Caja fuerte abierta con éxito.\")\n",
    "        else:\n",
    "            self.gestor_alertas.enviar_alerta(\"Intento de apertura fallido.\")\n",
    "            print(\"Clave incorrecta. Se ha enviado una alerta.\")\n",
    "\n",
    "    def cerrar(self) -> None:\n",
    "        if self.esta_abierta:\n",
    "            self.esta_abierta = False\n",
    "            print(\"Caja fuerte cerrada.\")\n",
    "\n",
    "class ConfiguracionSeguridad:\n",
    "    def __init__(self, tiempo_bloqueo_auto: int) -> None:\n",
    "        self.tiempo_bloqueo_auto: int = tiempo_bloqueo_auto\n",
    "\n",
    "    def obtener_tiempo_bloqueo_auto(self) -> int:\n",
    "        return self.tiempo_bloqueo_auto\n",
    "\n",
    "class GestorAlertasSMS:\n",
    "    def __init__(self) -> None:\n",
    "        pass\n",
    "\n",
    "    def enviar_alerta(self, mensaje: str) -> None:\n",
    "        print(f\"ALERTA SMS: {mensaje}\")"
   ]
  },
  {
   "cell_type": "code",
   "execution_count": 12,
   "metadata": {},
   "outputs": [
    {
     "name": "stdout",
     "output_type": "stream",
     "text": [
      "--- Intentando abrir con clave incorrecta ---\n",
      "ALERTA SMS: Intento de apertura fallido.\n",
      "Clave incorrecta. Se ha enviado una alerta.\n",
      "\n",
      "--- Intentando abrir con clave correcta ---\n",
      "Caja fuerte abierta con éxito.\n",
      "\n",
      "--- Cerrando la caja fuerte ---\n",
      "Caja fuerte cerrada.\n",
      "\n",
      "Tiempo de bloqueo automático configurado: 30 segundos\n",
      "\n",
      "--- Cambiando el tiempo de bloqueo automático ---\n",
      "ALERTA SMS: El tiempo de bloqueo automático ha sido cambiado a 30 segundos\n"
     ]
    }
   ],
   "source": [
    "mi_caja_fuerte = CajaFuerte(\n",
    "    clave=\"secreta123\",\n",
    "    configuracion_seguridad=ConfiguracionSeguridad(tiempo_bloqueo_auto=60),\n",
    "    gestor_alertas=GestorAlertasSMS()\n",
    ")\n",
    "\n",
    "print(\"--- Intentando abrir con clave incorrecta ---\")\n",
    "mi_caja_fuerte.abrir(\"clave_erronea\") # La alerta es manejada por el objeto gestor_sms\n",
    "\n",
    "print(\"\\n--- Intentando abrir con clave correcta ---\")\n",
    "mi_caja_fuerte.abrir(\"secreta123\") # Apertura exitosa\n",
    "\n",
    "print(\"\\n--- Cerrando la caja fuerte ---\")\n",
    "mi_caja_fuerte.cerrar()\n",
    "\n",
    "print(f\"\\nTiempo de bloqueo automático configurado: {configuracion_seguridad.obtener_tiempo_bloqueo_auto()} segundos\")\n",
    "\n",
    "print(\"\\n--- Cambiando el tiempo de bloqueo automático ---\")\n",
    "configuracion_seguridad.tiempo_bloqueo_auto = 30\n",
    "gestor_sms.enviar_alerta(f\"El tiempo de bloqueo automático ha sido cambiado a {configuracion_seguridad.obtener_tiempo_bloqueo_auto()} segundos\")"
   ]
  }
 ],
 "metadata": {
  "kernelspec": {
   "display_name": "Python 3",
   "language": "python",
   "name": "python3"
  },
  "language_info": {
   "codemirror_mode": {
    "name": "ipython",
    "version": 3
   },
   "file_extension": ".py",
   "mimetype": "text/x-python",
   "name": "python",
   "nbconvert_exporter": "python",
   "pygments_lexer": "ipython3",
   "version": "3.13.7"
  }
 },
 "nbformat": 4,
 "nbformat_minor": 2
}
