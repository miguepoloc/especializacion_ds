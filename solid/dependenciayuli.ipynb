{
 "cells": [
  {
   "cell_type": "markdown",
   "metadata": {},
   "source": [
    "### Antes"
   ]
  },
  {
   "cell_type": "code",
   "execution_count": 1,
   "metadata": {},
   "outputs": [
    {
     "name": "stdout",
     "output_type": "stream",
     "text": [
      "Enviando correo: ¡Hola, mundo!\n"
     ]
    }
   ],
   "source": [
    "# Bajo nivel\n",
    "class ServicioCorreo:\n",
    "    def enviar_correo(self, mensaje):\n",
    "        print(f\"Enviando correo: {mensaje}\")\n",
    "\n",
    "# Alto nivel\n",
    "class GestorComunicacion:\n",
    "    def __init__(self):\n",
    "        self.__servicio_correo = ServicioCorreo()\n",
    "\n",
    "    def enviar_mensaje(self, mensaje):\n",
    "        self.__servicio_correo.enviar_correo(mensaje)\n",
    "\n",
    "gestor_comunicacion = GestorComunicacion()\n",
    "gestor_comunicacion.enviar_mensaje(\"¡Hola, mundo!\")\n"
   ]
  },
  {
   "cell_type": "markdown",
   "metadata": {},
   "source": [
    "### Después"
   ]
  },
  {
   "cell_type": "code",
   "execution_count": 2,
   "metadata": {},
   "outputs": [],
   "source": [
    "from abc import ABC, abstractmethod\n",
    "\n",
    "class MedioComunicacion(ABC):\n",
    "    @abstractmethod\n",
    "    def enviar_mensaje(self, mensaje):\n",
    "        pass\n",
    "\n",
    "class ServicioCorreo(MedioComunicacion):\n",
    "    def enviar_mensaje(self, mensaje):\n",
    "        print(f\"Enviando correo: {mensaje}\")\n",
    "\n",
    "class ServicioChat(MedioComunicacion):\n",
    "    def enviar_mensaje(self, mensaje):\n",
    "        print(f\"Enviando mensaje por chat: {mensaje}\")\n",
    "\n",
    "class GestorComunicacion:\n",
    "    def __init__(self, medio_comunicacion: MedioComunicacion):\n",
    "        self.__medio_comunicacion = medio_comunicacion\n",
    "\n",
    "    def enviar_mensaje(self, mensaje):\n",
    "        self.__medio_comunicacion.enviar_mensaje(mensaje)"
   ]
  },
  {
   "cell_type": "code",
   "execution_count": 3,
   "metadata": {},
   "outputs": [
    {
     "name": "stdout",
     "output_type": "stream",
     "text": [
      "Enviando correo: ¡Hola, mundo!\n"
     ]
    }
   ],
   "source": [
    "gestor_correo = GestorComunicacion(ServicioCorreo())\n",
    "gestor_correo.enviar_mensaje(\"¡Hola, mundo!\")"
   ]
  },
  {
   "cell_type": "code",
   "execution_count": 4,
   "metadata": {},
   "outputs": [
    {
     "name": "stdout",
     "output_type": "stream",
     "text": [
      "Enviando mensaje por chat: ¡Hola, mundo!\n"
     ]
    }
   ],
   "source": [
    "gestor_chat = GestorComunicacion(ServicioChat())\n",
    "gestor_chat.enviar_mensaje(\"¡Hola, mundo!\")\n"
   ]
  }
 ],
 "metadata": {
  "kernelspec": {
   "display_name": "base",
   "language": "python",
   "name": "python3"
  },
  "language_info": {
   "codemirror_mode": {
    "name": "ipython",
    "version": 3
   },
   "file_extension": ".py",
   "mimetype": "text/x-python",
   "name": "python",
   "nbconvert_exporter": "python",
   "pygments_lexer": "ipython3",
   "version": "3.7.1"
  }
 },
 "nbformat": 4,
 "nbformat_minor": 2
}
