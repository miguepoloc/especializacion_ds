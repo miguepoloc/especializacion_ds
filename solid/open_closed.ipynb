{
 "cells": [
  {
   "cell_type": "markdown",
   "metadata": {},
   "source": [
    "# Principio Abierto/Cerrado (Open/Closed Principle)\n",
    "\n",
    "## Introducción\n",
    "El principio abierto/cerrado (OCP) establece que las entidades de software (clases, módulos, funciones) deben estar abiertas para su extensión, pero cerradas para su modificación. Esto permite agregar nuevas funcionalidades sin alterar el código existente.\n",
    "\n",
    "## Objetivos\n",
    "- Comprender el principio abierto/cerrado y su impacto en la evolución del software.\n",
    "- Identificar ejemplos de violaciones y buenas implementaciones del OCP en Python.\n",
    "- Aplicar el OCP para facilitar la escalabilidad y el mantenimiento del código.\n",
    "\n",
    "## Ejemplo de la vida real\n",
    "Piensa en un enchufe múltiple: puedes conectar nuevos dispositivos (extensión) sin modificar el enchufe original (código base)."
   ]
  },
  {
   "cell_type": "markdown",
   "metadata": {},
   "source": [
    "# Principio de Abierto/Cerrado (Open/Closed Principle, OCP)\n",
    "\n",
    "## Introducción\n",
    "\n",
    "El Principio de Abierto/Cerrado (OCP) es uno de los cinco principios SOLID de diseño orientado a objetos. Fue introducido por Bertrand Meyer y establece que las entidades de software (clases, módulos, funciones, etc.) deben estar abiertas para la extensión, pero cerradas para la modificación."
   ]
  },
  {
   "cell_type": "markdown",
   "metadata": {},
   "source": [
    "## Explicación Detallada\n",
    "\n",
    "### Definición\n",
    "\n",
    "- **OCP**: Una entidad de software debe permitir su extensión sin necesidad de modificar su código fuente original.\n",
    "\n",
    "### Beneficios del OCP\n",
    "\n",
    "1. **Mantenibilidad**: Facilita la incorporación de nuevas funcionalidades sin alterar el código existente.\n",
    "\n",
    "2. **Reusabilidad**: Promueve la creación de componentes reutilizables y extensibles.\n",
    "\n",
    "3. **Estabilidad**: Minimiza el riesgo de introducir errores en el código existente al agregar nuevas funcionalidades."
   ]
  },
  {
   "cell_type": "markdown",
   "metadata": {},
   "source": [
    "## Ejemplos Explicados\n",
    "\n",
    "### Ejemplo Correcto\n",
    "\n",
    "Supongamos que estamos desarrollando una aplicación para calcular el área de diferentes formas geométricas. Aplicando el OCP, podríamos tener las siguientes clases:"
   ]
  },
  {
   "cell_type": "code",
   "execution_count": 5,
   "metadata": {},
   "outputs": [],
   "source": [
    "from abc import ABC, abstractmethod\n",
    "\n",
    "class Shape(ABC):\n",
    "    @abstractmethod\n",
    "    def area(self) -> float:\n",
    "        pass\n",
    "\n",
    "class Rectangle(Shape):\n",
    "    def __init__(self, width: float, height: float) -> None:\n",
    "        self.width: float = width\n",
    "        self.height: float = height\n",
    "\n",
    "    def area(self) -> float:\n",
    "        return self.width * self.height\n",
    "\n",
    "class Circle(Shape):\n",
    "    def __init__(self, radius: float) -> None:\n",
    "        self.radius = radius\n",
    "\n",
    "    def area(self) -> float:\n",
    "        return 3.14159 * (self.radius ** 2)"
   ]
  },
  {
   "cell_type": "code",
   "execution_count": null,
   "metadata": {},
   "outputs": [
    {
     "name": "stdout",
     "output_type": "stream",
     "text": [
      "Área: 12\n",
      "Área: 78.53975\n"
     ]
    }
   ],
   "source": [
    "# Ejemplo de uso\n",
    "shapes: list[Shape] = [Rectangle(3, 4), Circle(5)]\n",
    "for shape in shapes:\n",
    "    print(f\"Área: {shape.area()}\")"
   ]
  },
  {
   "cell_type": "markdown",
   "metadata": {},
   "source": [
    "#### Análisis del Ejemplo Correcto\n",
    "\n",
    "- **Shape**: Es una clase abstracta que define el método `area`.\n",
    "\n",
    "- **Rectangle** y **Circle**: Son clases concretas que implementan el método `area`.\n",
    "\n",
    "Este diseño permite agregar nuevas formas geométricas sin modificar las clases existentes."
   ]
  },
  {
   "cell_type": "markdown",
   "metadata": {},
   "source": [
    "### Ejemplo de Violación del OCP\n",
    "\n",
    "Veamos un ejemplo donde se viola el OCP:"
   ]
  },
  {
   "cell_type": "code",
   "execution_count": 3,
   "metadata": {},
   "outputs": [],
   "source": [
    "class Shape:\n",
    "    def __init__(self, shape_type: str, width: float = 0, height: float = 0, radius: float = 0) -> None:\n",
    "        self.shape_type: str = shape_type\n",
    "        self.width: float = width\n",
    "        self.height: float = height\n",
    "        self.radius: float = radius\n",
    "\n",
    "    def area(self) -> float:\n",
    "        if self.shape_type == \"rectangle\":\n",
    "            return self.width * self.height\n",
    "        elif self.shape_type == \"circle\":\n",
    "            return 3.14159 * (self.radius ** 2)\n",
    "        else:\n",
    "            return 0"
   ]
  },
  {
   "cell_type": "code",
   "execution_count": 4,
   "metadata": {},
   "outputs": [
    {
     "name": "stdout",
     "output_type": "stream",
     "text": [
      "Área: 12\n",
      "Área: 78.53975\n"
     ]
    }
   ],
   "source": [
    "# Ejemplo de uso\n",
    "rectangle = Shape(shape_type=\"rectangle\", width=3, height=4)\n",
    "circle = Shape(shape_type=\"circle\", radius=5)\n",
    "shapes: list[Shape] = [rectangle, circle]\n",
    "for shape in shapes:\n",
    "    print(f\"Área: {shape.area()}\")"
   ]
  },
  {
   "cell_type": "markdown",
   "metadata": {},
   "source": [
    "\n",
    "\n",
    "#### Análisis del Ejemplo Incorrecto\n",
    "\n",
    "- **Shape**: Tiene múltiples responsabilidades y debe ser modificada cada vez que se agrega una nueva forma geométrica.\n",
    "- **Rectangle** y **Circle**: No se pueden agregar nuevas formas geométricas sin modificar la clase `Shape`.\n",
    "\n",
    "Este diseño viola el OCP porque cualquier cambio en las formas geométricas requiere modificar la clase `Shape`.\n"
   ]
  },
  {
   "cell_type": "markdown",
   "metadata": {},
   "source": [
    "## Conclusión\n",
    "\n",
    "1. **Extensibilidad**: El OCP facilita la extensión del software sin modificar el código existente.\n",
    "\n",
    "2. **Reducción de Errores**: Minimiza el riesgo de introducir errores al agregar nuevas funcionalidades.\n",
    "\n",
    "3. **Mantenibilidad**: Mejora la mantenibilidad del código al permitir la incorporación de nuevas características de manera aislada.\n",
    "\n",
    "Aplicar el OCP puede requerir una planificación cuidadosa y el uso de patrones de diseño adecuados, pero los beneficios en términos de estabilidad y extensibilidad del software son significativos."
   ]
  },
  {
   "cell_type": "markdown",
   "metadata": {},
   "source": [
    "## Ejercicios prácticos y preguntas de reflexión\n",
    "\n",
    "1. **Extiende sin modificar**: Observa una función o clase que requiera cambios cada vez que se agrega un nuevo caso. ¿Cómo podrías aplicar el OCP para evitar modificar el código existente?\n",
    "2. **Refactoriza**: Implementa una solución usando herencia o composición para permitir la extensión de funcionalidades.\n",
    "3. **Pregunta de reflexión**: ¿Qué riesgos existen si modificamos código ya probado y en producción?\n",
    "\n",
    "## Autoevaluación\n",
    "- ¿Puedo agregar nuevas funcionalidades sin modificar el código base?\n",
    "- ¿Qué patrones de diseño ayudan a cumplir el OCP?\n",
    "\n",
    "## Referencias y recursos\n",
    "- [Open/Closed Principle – Wikipedia](https://en.wikipedia.org/wiki/Open%E2%80%93closed_principle)\n",
    "- [SOLID Principles en Python – Real Python](https://realpython.com/solid-principles-python/)\n",
    "- [Patrones de diseño y OCP – Refactoring Guru](https://refactoring.guru/es/design-patterns/open-closed-principle)"
   ]
  },
  {
   "cell_type": "markdown",
   "metadata": {},
   "source": [
    "1. EJERCICIO PRÁCTICO \n",
    "----------------------------------------------\n",
    "-*Uso correcto:*"
   ]
  },
  {
   "cell_type": "code",
   "execution_count": 7,
   "metadata": {},
   "outputs": [
    {
     "name": "stdout",
     "output_type": "stream",
     "text": [
      "Perímetro del triángulo: 12.00\n",
      "Perímetro del rectángulo: 16.00\n",
      "Perímetro del círculo: 25.13\n"
     ]
    }
   ],
   "source": [
    "from abc import ABC, abstractmethod\n",
    "\n",
    "class Figura(ABC):\n",
    "    @abstractmethod\n",
    "    def perimetro(self) -> float:\n",
    "        pass\n",
    "\n",
    "class Rectangulo(Figura):\n",
    "    def __init__(self, ancho: float, alto: float) -> None:\n",
    "        self.ancho = ancho\n",
    "        self.alto = alto\n",
    "\n",
    "    def perimetro(self) -> float:\n",
    "        return 2 * (self.ancho + self.alto)\n",
    "\n",
    "class Circulo(Figura):\n",
    "    def __init__(self, radio: float) -> None:\n",
    "        self.radio = radio\n",
    "\n",
    "    def perimetro(self) -> float:\n",
    "        return 2 * 3.14159 * self.radio\n",
    "\n",
    "class Triangulo(Figura):\n",
    "    def __init__(self, lado1: float, lado2: float, lado3: float) -> None:\n",
    "        self.lado1 = lado1\n",
    "        self.lado2 = lado2\n",
    "        self.lado3 = lado3\n",
    "\n",
    "    def perimetro(self) -> float:\n",
    "        return self.lado1 + self.lado2 + self.lado3\n",
    "\n",
    "\n",
    "# ----------------------\n",
    "triangulo = Triangulo(3, 4, 5)\n",
    "print(f\"Perímetro del triángulo: {triangulo.perimetro():.2f}\")\n",
    "rectangulo = Rectangulo(2, 6)\n",
    "print(f\"Perímetro del rectángulo: {rectangulo.perimetro():.2f}\")\n",
    "circulo = Circulo(4)\n",
    "print(f\"Perímetro del círculo: {circulo.perimetro():.2f}\")\n"
   ]
  },
  {
   "cell_type": "markdown",
   "metadata": {},
   "source": [
    "2. EJEMPLO 2\n",
    "---------------------------------\n",
    "*Uso incorrecto:*\n"
   ]
  },
  {
   "cell_type": "code",
   "execution_count": 9,
   "metadata": {},
   "outputs": [
    {
     "name": "stdout",
     "output_type": "stream",
     "text": [
      "Perímetro rectángulo: 16\n",
      "Perímetro círculo: 25.13272\n",
      "Perímetro triángulo: 12\n"
     ]
    }
   ],
   "source": [
    "class Figura:\n",
    "    def __init__(self, tipo: str, ancho: float = 0, alto: float = 0,\n",
    "                 radio: float = 0, lado1: float = 0, lado2: float = 0, lado3: float = 0) -> None:\n",
    "        self.tipo = tipo\n",
    "        self.ancho = ancho\n",
    "        self.alto = alto\n",
    "        self.radio = radio\n",
    "        self.lado1 = lado1\n",
    "        self.lado2 = lado2\n",
    "        self.lado3 = lado3\n",
    "\n",
    "    def perimetro(self) -> float:\n",
    "        if self.tipo == \"rectangulo\":\n",
    "            return 2 * (self.ancho + self.alto)\n",
    "        elif self.tipo == \"circulo\":\n",
    "            return 2 * 3.14159 * self.radio\n",
    "        elif self.tipo == \"triangulo\":\n",
    "            return self.lado1 + self.lado2 + self.lado3\n",
    "        else:\n",
    "            return 0\n",
    "# ----------------------\n",
    "rect = Figura(\"rectangulo\", ancho=2, alto=6)\n",
    "print(f\"Perímetro rectángulo: {rect.perimetro()}\")\n",
    "\n",
    "circ = Figura(\"circulo\", radio=4)\n",
    "print(f\"Perímetro círculo: {circ.perimetro()}\")\n",
    "\n",
    "tri = Figura(\"triangulo\", lado1=3, lado2=4, lado3=5)\n",
    "print(f\"Perímetro triángulo: {tri.perimetro()}\")\n"
   ]
  },
  {
   "cell_type": "markdown",
   "metadata": {},
   "source": [
    "*En este ejemplo se viola OCP porque no se debe modificar sino extender y si quisieramos agregar otra figura tocaría modificar el método perimetro*\n",
    "\n"
   ]
  }
 ],
 "metadata": {
  "kernelspec": {
   "display_name": "venv",
   "language": "python",
   "name": "python3"
  },
  "language_info": {
   "codemirror_mode": {
    "name": "ipython",
    "version": 3
   },
   "file_extension": ".py",
   "mimetype": "text/x-python",
   "name": "python",
   "nbconvert_exporter": "python",
   "pygments_lexer": "ipython3",
   "version": "3.13.7"
  }
 },
 "nbformat": 4,
 "nbformat_minor": 2
}
