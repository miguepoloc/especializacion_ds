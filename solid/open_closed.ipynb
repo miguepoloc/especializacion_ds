{
 "cells": [
  {
   "cell_type": "markdown",
   "metadata": {},
   "source": [
    "# Principio Abierto/Cerrado (Open/Closed Principle)\n",
    "\n",
    "## Introducción\n",
    "El principio abierto/cerrado (OCP) establece que las entidades de software (clases, módulos, funciones) deben estar abiertas para su extensión, pero cerradas para su modificación. Esto permite agregar nuevas funcionalidades sin alterar el código existente.\n",
    "\n",
    "## Objetivos\n",
    "- Comprender el principio abierto/cerrado y su impacto en la evolución del software.\n",
    "- Identificar ejemplos de violaciones y buenas implementaciones del OCP en Python.\n",
    "- Aplicar el OCP para facilitar la escalabilidad y el mantenimiento del código.\n",
    "\n",
    "## Ejemplo de la vida real\n",
    "Piensa en un enchufe múltiple: puedes conectar nuevos dispositivos (extensión) sin modificar el enchufe original (código base)."
   ]
  },
  {
   "cell_type": "markdown",
   "metadata": {},
   "source": [
    "# Principio de Abierto/Cerrado (Open/Closed Principle, OCP)\n",
    "\n",
    "## Introducción\n",
    "\n",
    "El Principio de Abierto/Cerrado (OCP) es uno de los cinco principios SOLID de diseño orientado a objetos. Fue introducido por Bertrand Meyer y establece que las entidades de software (clases, módulos, funciones, etc.) deben estar abiertas para la extensión, pero cerradas para la modificación."
   ]
  },
  {
   "cell_type": "markdown",
   "metadata": {},
   "source": [
    "## Explicación Detallada\n",
    "\n",
    "### Definición\n",
    "\n",
    "- **OCP**: Una entidad de software debe permitir su extensión sin necesidad de modificar su código fuente original.\n",
    "\n",
    "### Beneficios del OCP\n",
    "\n",
    "1. **Mantenibilidad**: Facilita la incorporación de nuevas funcionalidades sin alterar el código existente.\n",
    "\n",
    "2. **Reusabilidad**: Promueve la creación de componentes reutilizables y extensibles.\n",
    "\n",
    "3. **Estabilidad**: Minimiza el riesgo de introducir errores en el código existente al agregar nuevas funcionalidades."
   ]
  },
  {
   "cell_type": "markdown",
   "metadata": {},
   "source": [
    "## Ejemplos Explicados\n",
    "\n",
    "### Ejemplo Correcto\n",
    "\n",
    "Supongamos que estamos desarrollando una aplicación para calcular el área de diferentes formas geométricas. Aplicando el OCP, podríamos tener las siguientes clases:"
   ]
  },
  {
   "cell_type": "code",
   "execution_count": 1,
   "metadata": {},
   "outputs": [],
   "source": [
    "from abc import ABC, abstractmethod\n",
    "\n",
    "class Shape(ABC):\n",
    "    @abstractmethod\n",
    "    def area(self) -> float:\n",
    "        pass\n",
    "\n",
    "class Rectangle(Shape):\n",
    "    def __init__(self, width: float, height: float) -> None:\n",
    "        self.width: float = width\n",
    "        self.height: float = height\n",
    "\n",
    "    def area(self) -> float:\n",
    "        return self.width * self.height\n",
    "\n",
    "class Circle(Shape):\n",
    "    def __init__(self, radius: float) -> None:\n",
    "        self.radius = radius\n",
    "\n",
    "    def area(self) -> float:\n",
    "        return 3.14159 * (self.radius ** 2)"
   ]
  },
  {
   "cell_type": "code",
   "execution_count": 2,
   "metadata": {},
   "outputs": [
    {
     "name": "stdout",
     "output_type": "stream",
     "text": [
      "Área: 12\n",
      "Área: 78.53975\n"
     ]
    }
   ],
   "source": [
    "# Ejemplo de uso\n",
    "shapes: list[Shape] = [Rectangle(3, 4), Circle(5)]\n",
    "for shape in shapes:\n",
    "    print(f\"Área: {shape.area()}\")"
   ]
  },
  {
   "cell_type": "markdown",
   "metadata": {},
   "source": [
    "#### Análisis del Ejemplo Correcto\n",
    "\n",
    "- **Shape**: Es una clase abstracta que define el método `area`.\n",
    "\n",
    "- **Rectangle** y **Circle**: Son clases concretas que implementan el método `area`.\n",
    "\n",
    "Este diseño permite agregar nuevas formas geométricas sin modificar las clases existentes."
   ]
  },
  {
   "cell_type": "markdown",
   "metadata": {},
   "source": [
    "### Ejemplo de Violación del OCP\n",
    "\n",
    "Veamos un ejemplo donde se viola el OCP:"
   ]
  },
  {
   "cell_type": "code",
   "execution_count": 3,
   "metadata": {},
   "outputs": [],
   "source": [
    "class Shape:\n",
    "    def __init__(self, shape_type: str, width: float = 0, height: float = 0, radius: float = 0) -> None:\n",
    "        self.shape_type: str = shape_type\n",
    "        self.width: float = width\n",
    "        self.height: float = height\n",
    "        self.radius: float = radius\n",
    "\n",
    "    def area(self) -> float:\n",
    "        if self.shape_type == \"rectangle\":\n",
    "            return self.width * self.height\n",
    "        elif self.shape_type == \"circle\":\n",
    "            return 3.14159 * (self.radius ** 2)\n",
    "        else:\n",
    "            return 0"
   ]
  },
  {
   "cell_type": "code",
   "execution_count": 4,
   "metadata": {},
   "outputs": [
    {
     "name": "stdout",
     "output_type": "stream",
     "text": [
      "Área: 12\n",
      "Área: 78.53975\n"
     ]
    }
   ],
   "source": [
    "# Ejemplo de uso\n",
    "rectangle = Shape(shape_type=\"rectangle\", width=3, height=4)\n",
    "circle = Shape(shape_type=\"circle\", radius=5)\n",
    "shapes: list[Shape] = [rectangle, circle]\n",
    "for shape in shapes:\n",
    "    print(f\"Área: {shape.area()}\")"
   ]
  },
  {
   "cell_type": "markdown",
   "metadata": {},
   "source": [
    "\n",
    "\n",
    "#### Análisis del Ejemplo Incorrecto\n",
    "\n",
    "- **Shape**: Tiene múltiples responsabilidades y debe ser modificada cada vez que se agrega una nueva forma geométrica.\n",
    "- **Rectangle** y **Circle**: No se pueden agregar nuevas formas geométricas sin modificar la clase `Shape`.\n",
    "\n",
    "Este diseño viola el OCP porque cualquier cambio en las formas geométricas requiere modificar la clase `Shape`.\n"
   ]
  },
  {
   "cell_type": "markdown",
   "metadata": {},
   "source": [
    "## Conclusión\n",
    "\n",
    "1. **Extensibilidad**: El OCP facilita la extensión del software sin modificar el código existente.\n",
    "\n",
    "2. **Reducción de Errores**: Minimiza el riesgo de introducir errores al agregar nuevas funcionalidades.\n",
    "\n",
    "3. **Mantenibilidad**: Mejora la mantenibilidad del código al permitir la incorporación de nuevas características de manera aislada.\n",
    "\n",
    "Aplicar el OCP puede requerir una planificación cuidadosa y el uso de patrones de diseño adecuados, pero los beneficios en términos de estabilidad y extensibilidad del software son significativos."
   ]
  },
  {
   "cell_type": "markdown",
   "metadata": {},
   "source": [
    "## Ejercicios prácticos y preguntas de reflexión\n",
    "\n",
    "1. **Extiende sin modificar**: Observa una función o clase que requiera cambios cada vez que se agrega un nuevo caso. ¿Cómo podrías aplicar el OCP para evitar modificar el código existente?"
   ]
  },
  {
   "cell_type": "code",
   "execution_count": null,
   "metadata": {},
   "outputs": [],
   "source": [
    "class Vehicle:\n",
    "    def __init__(self, type: str, model: str) -> None:\n",
    "        self.type: str = type\n",
    "        self.model: str = model\n",
    "\n",
    "    def drive(self) -> None:\n",
    "      if self.type == \"car\":\n",
    "          print(f\"Conduciendo el coche {self.model}\")\n",
    "      elif self.type == \"motorcycle\":\n",
    "          print(f\"Conduciendo la motocicleta {self.model}\")\n",
    "      elif self.type == \"truck\":\n",
    "          print(f\"Conduciendo el camión {self.model}\")\n"
   ]
  },
  {
   "cell_type": "code",
   "execution_count": null,
   "metadata": {},
   "outputs": [],
   "source": [
    "# Ejemplo de uso\n",
    "car = Vehicle(type=\"car\", model=\"Toyota\")\n",
    "motorcycle = Vehicle(type=\"motorcycle\", model=\"Yamaha\")\n",
    "vehicles: list[Vehicle] = [car, motorcycle]\n",
    "for vehicle in vehicles:\n",
    "    vehicle.drive()"
   ]
  },
  {
   "cell_type": "code",
   "execution_count": 2,
   "metadata": {},
   "outputs": [],
   "source": [
    "#Solucionamos el problma aplicando el principio de abierto/cerrado\n",
    "from abc import ABC, abstractmethod\n",
    "class Vehicle(ABC):\n",
    "    def __init__(self, model: str) -> None:\n",
    "        self.model: str = model\n",
    "\n",
    "    @abstractmethod\n",
    "    def drive(self) -> None:\n",
    "        pass\n",
    "\n",
    "class Car(Vehicle):\n",
    "    def drive(self) -> None:\n",
    "        print(f\"Conduciendo el coche {self.model}\")\n",
    "\n",
    "class Motorcycle(Vehicle):\n",
    "    def drive(self) -> None:\n",
    "        print(f\"Conduciendo la motocicleta {self.model}\")\n",
    "\n",
    "class Truck(Vehicle):\n",
    "    def drive(self) -> None:\n",
    "        print(f\"Conduciendo el camión {self.model}\")"
   ]
  },
  {
   "cell_type": "code",
   "execution_count": 3,
   "metadata": {},
   "outputs": [
    {
     "name": "stdout",
     "output_type": "stream",
     "text": [
      "Conduciendo el coche Toyota\n",
      "Conduciendo la motocicleta Yamaha\n",
      "Conduciendo el camión Volvo\n"
     ]
    }
   ],
   "source": [
    "# Ejemplo de uso\n",
    "car = Car(model=\"Toyota\")\n",
    "motorcycle = Motorcycle(model=\"Yamaha\")\n",
    "truck = Truck(model=\"Volvo\")\n",
    "\n",
    "vehicles: list[Vehicle] = [car, motorcycle, truck]\n",
    "for vehicle in vehicles:\n",
    "    vehicle.drive()"
   ]
  },
  {
   "cell_type": "markdown",
   "metadata": {},
   "source": [
    "2. **Refactoriza**: Implementa una solución usando herencia o composición para permitir la extensión de funcionalidades."
   ]
  },
  {
   "cell_type": "code",
   "execution_count": 4,
   "metadata": {},
   "outputs": [],
   "source": [
    "# Ejemplo usando herencia para OCP: sistema de notificaciones\n",
    "\n",
    "from abc import ABC, abstractmethod\n",
    "\n",
    "class Notificacion(ABC):\n",
    "    @abstractmethod\n",
    "    def enviar(self, mensaje: str) -> None:\n",
    "        pass\n",
    "\n",
    "class EmailNotificacion(Notificacion):\n",
    "    def enviar(self, mensaje: str) -> None:\n",
    "        print(f\"Enviando email: {mensaje}\")\n",
    "\n",
    "class SMSNotificacion(Notificacion):\n",
    "    def enviar(self, mensaje: str) -> None:\n",
    "        print(f\"Enviando SMS: {mensaje}\")\n",
    "\n",
    "class PushNotificacion(Notificacion):\n",
    "    def enviar(self, mensaje: str) -> None:\n",
    "        print(f\"Enviando notificación push: {mensaje}\")"
   ]
  },
  {
   "cell_type": "code",
   "execution_count": 5,
   "metadata": {},
   "outputs": [
    {
     "name": "stdout",
     "output_type": "stream",
     "text": [
      "Enviando email: ¡Hola, este es un mensaje de prueba!\n",
      "Enviando SMS: ¡Hola, este es un mensaje de prueba!\n",
      "Enviando notificación push: ¡Hola, este es un mensaje de prueba!\n"
     ]
    }
   ],
   "source": [
    "# Ejemplo de uso\n",
    "notificaciones = [\n",
    "    EmailNotificacion(),\n",
    "    SMSNotificacion(),\n",
    "    PushNotificacion()\n",
    "]\n",
    "\n",
    "for n in notificaciones:\n",
    "    n.enviar(\"¡Hola, este es un mensaje de prueba!\")"
   ]
  },
  {
   "cell_type": "markdown",
   "metadata": {},
   "source": [
    "3. **Pregunta de reflexión**: ¿Qué riesgos existen si modificamos código ya probado y en producción?"
   ]
  },
  {
   "cell_type": "markdown",
   "metadata": {},
   "source": [
    "Riesgos al modificar código ya probado y en producción:\n",
    "1. Introducción de nuevos errores: Al cambiar el código, existe la posibilidad de introducir errores no deseados que afecten la funcionalidad existente.\n",
    "2. Regresión de funcionalidades: Cambios en una parte del sistema pueden afectar otras partes que antes funcionaban correctamente.\n",
    "3. Aumento de la complejidad: Modificar código existente puede hacerlo más complejo y difícil de entender, lo que aumenta el riesgo de errores.\n",
    "4. Impacto en el rendimiento: Cambios en el código pueden afectar el rendimiento del sistema, introduciendo cuellos de botella o aumentando el uso de recursos."
   ]
  },
  {
   "cell_type": "markdown",
   "metadata": {},
   "source": [
    "## Autoevaluación\n",
    "1. ¿Puedo agregar nuevas funcionalidades sin modificar el código base?\n",
    "\n",
    "Sí, se puede agregar nuevas funcionalidades mediante la creación de nuevas clases que extiendan las existentes o implementen nuevas interfaces.\n",
    "\n",
    "2. ¿Qué patrones de diseño ayudan a cumplir el OCP?\n",
    "\n",
    "Algunos patrones de diseño que ayudan a cumplir el Principio de Abierto/Cerrado (OCP) son:\n",
    "  - Patrón Estrategia (Strategy Pattern): Permite definir una familia de algoritmos, encapsular cada uno y hacerlos intercambiables. Esto permite que el algoritmo varíe independientemente de los clientes que lo utilizan.\n",
    "  - Patrón Decorador (Decorator Pattern): Permite agregar funcionalidades a objetos de manera dinámica, sin modificar su estructura. Esto es útil para extender el comportamiento de clases existentes.\n",
    "  - Patrón Comando (Command Pattern): Permite encapsular una solicitud como un objeto, lo que permite parametrizar a los clientes con diferentes solicitudes y soportar operaciones que se pueden deshacer."
   ]
  },
  {
   "cell_type": "markdown",
   "metadata": {},
   "source": [
    "## Referencias y recursos\n",
    "- [Open/Closed Principle – Wikipedia](https://en.wikipedia.org/wiki/Open%E2%80%93closed_principle)\n",
    "- [SOLID Principles en Python – Real Python](https://realpython.com/solid-principles-python/)\n",
    "- [Patrones de diseño y OCP – Refactoring Guru](https://refactoring.guru/es/design-patterns/open-closed-principle)"
   ]
  }
 ],
 "metadata": {
  "kernelspec": {
   "display_name": "venv",
   "language": "python",
   "name": "python3"
  },
  "language_info": {
   "codemirror_mode": {
    "name": "ipython",
    "version": 3
   },
   "file_extension": ".py",
   "mimetype": "text/x-python",
   "name": "python",
   "nbconvert_exporter": "python",
   "pygments_lexer": "ipython3",
   "version": "3.12.0"
  }
 },
 "nbformat": 4,
 "nbformat_minor": 2
}
