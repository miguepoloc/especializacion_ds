{
 "cells": [
  {
   "cell_type": "markdown",
   "metadata": {},
   "source": [
    "# Open Closed Principle\n",
    "\n",
    "Las clases deben estar abiertas para extensión pero cerradas para modificación.\n"
   ]
  },
  {
   "cell_type": "markdown",
   "metadata": {},
   "source": [
    "Tienes una aplicación de comercio electrónico con una clase `Pedido` que calcula los costos de envío, y todos los métodos de envío están incrustados dentro de la clase. Si necesitas añadir un nuevo método de envío, tienes que cambiar el código de la clase `Pedido`, arriesgándote a descomponerlo.\n"
   ]
  },
  {
   "cell_type": "markdown",
   "metadata": {},
   "source": [
    "**Antes:** Tienes que cambiar la clase `Pedido` para añadir un nuevo método de envío.\n"
   ]
  },
  {
   "cell_type": "code",
   "execution_count": 1,
   "metadata": {},
   "outputs": [],
   "source": [
    "class Order:\n",
    "    def __init__(self, shipping: str, items: list) -> None:\n",
    "        self.shipping: str = shipping\n",
    "        self.items: list = items\n",
    "\n",
    "    def get_total(self) -> float:\n",
    "        total = sum([item[\"price\"] for item in self.items])\n",
    "        return total\n",
    "\n",
    "    def get_total_weight(self) -> float:\n",
    "        total_weight = sum([item[\"weight\"] for item in self.items])\n",
    "        return total_weight\n",
    "\n",
    "    def get_shipping_cost(self) -> float:\n",
    "        if self.shipping == \"ground\":\n",
    "            if self.get_total() > 100:\n",
    "                return 0\n",
    "            return 1.5 * self.get_total_weight()\n",
    "        elif self.shipping == \"air\":\n",
    "            return 3 * self.get_total_weight()\n",
    "        return 0"
   ]
  },
  {
   "cell_type": "code",
   "execution_count": 2,
   "metadata": {},
   "outputs": [
    {
     "name": "stdout",
     "output_type": "stream",
     "text": [
      "Total:  30\n",
      "Total weight:  5\n",
      "Shipping cost:  15\n"
     ]
    }
   ],
   "source": [
    "data_order: dict = [{\"price\": 10, \"weight\": 2}, {\"price\": 20, \"weight\": 3}]\n",
    "order: Order = Order(shipping=\"air\", items=data_order)\n",
    "print(\"Total: \", order.get_total())\n",
    "print(\"Total weight: \", order.get_total_weight())\n",
    "print(\"Shipping cost: \", order.get_shipping_cost())"
   ]
  },
  {
   "cell_type": "code",
   "execution_count": 3,
   "metadata": {},
   "outputs": [
    {
     "name": "stdout",
     "output_type": "stream",
     "text": [
      "Total:  110\n",
      "Total weight:  5\n",
      "Shipping cost:  0\n"
     ]
    }
   ],
   "source": [
    "data_order_2: dict = [{\"price\": 90, \"weight\": 2}, {\"price\": 20, \"weight\": 3}]\n",
    "order_2: Order = Order(shipping=\"ground\", items=data_order_2)\n",
    "print(\"Total: \", order_2.get_total())\n",
    "print(\"Total weight: \", order_2.get_total_weight())\n",
    "print(\"Shipping cost: \", order_2.get_shipping_cost())"
   ]
  },
  {
   "cell_type": "markdown",
   "metadata": {},
   "source": [
    "Puedes resolver el problema aplicando el patrón `Strategy` (El cual aprenderemos a detalle más adelante). Empieza extrayendo métodos de envío y colocándolos dentro de clases separadas con una interfaz común.\n"
   ]
  },
  {
   "cell_type": "markdown",
   "metadata": {},
   "source": [
    "**Después:** Con los nuevos cambios, añadir un nuevo método de envío es tan simple como añadir una nueva clase. Adicionalmente, los cambios en una clase no afectarán a las demás."
   ]
  },
  {
   "cell_type": "code",
   "execution_count": 4,
   "metadata": {},
   "outputs": [],
   "source": [
    "from abc import ABC, abstractmethod\n",
    "\n",
    "\n",
    "class Shipping(ABC):\n",
    "    @abstractmethod\n",
    "    def get_cost(self, order: Order) -> float:\n",
    "        pass\n",
    "\n",
    "\n",
    "class GroundShipping(Shipping):\n",
    "    def get_cost(self, order: Order) -> float:\n",
    "        if order.get_total() > 100:\n",
    "            return 0\n",
    "        return 1.5 * order.get_total_weight()\n",
    "\n",
    "\n",
    "class AirShipping(Shipping):\n",
    "    def get_cost(self, order: Order) -> float:\n",
    "        return 3 * order.get_total_weight()\n",
    "\n",
    "\n",
    "class Order:\n",
    "    def __init__(self, shipping: Shipping, items: list) -> None:\n",
    "        self.shipping: Shipping = shipping\n",
    "        self.items: list = items\n",
    "\n",
    "    def get_total(self) -> float:\n",
    "        total = sum([item[\"price\"] for item in self.items])\n",
    "        return total\n",
    "\n",
    "    def get_total_weight(self) -> float:\n",
    "        total_weight = sum([item[\"weight\"] for item in self.items])\n",
    "        return total_weight\n",
    "\n",
    "    def get_shipping_cost(self) -> float:\n",
    "        return self.shipping.get_cost(self)"
   ]
  },
  {
   "cell_type": "code",
   "execution_count": 5,
   "metadata": {},
   "outputs": [
    {
     "name": "stdout",
     "output_type": "stream",
     "text": [
      "Total:  30\n",
      "Total weight:  5\n",
      "Shipping cost:  15\n"
     ]
    }
   ],
   "source": [
    "data_order: dict = [{\"price\": 10, \"weight\": 2}, {\"price\": 20, \"weight\": 3}]\n",
    "order: Order = Order(shipping=AirShipping(), items=data_order)\n",
    "print(\"Total: \", order.get_total())\n",
    "print(\"Total weight: \", order.get_total_weight())\n",
    "print(\"Shipping cost: \", order.get_shipping_cost())"
   ]
  },
  {
   "cell_type": "code",
   "execution_count": 6,
   "metadata": {},
   "outputs": [
    {
     "name": "stdout",
     "output_type": "stream",
     "text": [
      "Total:  110\n",
      "Total weight:  5\n",
      "Shipping cost:  0\n"
     ]
    }
   ],
   "source": [
    "data_order_2: dict = [{\"price\": 90, \"weight\": 2}, {\"price\": 20, \"weight\": 3}]\n",
    "order_2: Order = Order(shipping=GroundShipping(), items=data_order_2)\n",
    "print(\"Total: \", order_2.get_total())\n",
    "print(\"Total weight: \", order_2.get_total_weight())\n",
    "print(\"Shipping cost: \", order_2.get_shipping_cost())"
   ]
  },
  {
   "cell_type": "markdown",
   "metadata": {},
   "source": [
    "Ahora, cuando necesites implementar un nuevo método de envío, puedes derivar una nueva clase de la interfaz `Envíos` sin tocar el código de la clase `Pedido`. El código cliente de la clase `Pedido` vinculará los pedidos con un objeto de envío de la nueva clase cuando el usuario seleccione estos métodos de envío en la UI."
   ]
  },
  {
   "cell_type": "markdown",
   "metadata": {},
   "source": [
    "Suponiendo que agregaramos un nuevo método de envío llamado `Envío por Drone`, el código se vería de la siguiente manera:"
   ]
  },
  {
   "cell_type": "code",
   "execution_count": 7,
   "metadata": {},
   "outputs": [],
   "source": [
    "class DroneShipping(Shipping):\n",
    "    def get_cost(self, order: Order) -> float:\n",
    "        return 4 * order.get_total_weight()"
   ]
  },
  {
   "cell_type": "code",
   "execution_count": 8,
   "metadata": {},
   "outputs": [
    {
     "name": "stdout",
     "output_type": "stream",
     "text": [
      "Total:  110\n",
      "Total weight:  5\n",
      "Shipping cost:  20\n"
     ]
    }
   ],
   "source": [
    "data_order_2: dict = [{\"price\": 90, \"weight\": 2}, {\"price\": 20, \"weight\": 3}]\n",
    "order_2: Order = Order(shipping=DroneShipping(), items=data_order_2)\n",
    "print(\"Total: \", order_2.get_total())\n",
    "print(\"Total weight: \", order_2.get_total_weight())\n",
    "print(\"Shipping cost: \", order_2.get_shipping_cost())"
   ]
  },
  {
   "cell_type": "markdown",
   "metadata": {},
   "source": [
    "De esta manera, la clase `Pedido` no necesita ser modificada para añadir un nuevo método de envío. Simplemente se crea una nueva clase que implementa la interfaz `Envíos` y se agrega al código cliente. Aplicando el principio de abierto/cerrado, el código es más fácil de mantener y extender.\n",
    "\n",
    "- El principio de abierto/cerrado se ve aplicado acá ya que la clase `Pedido` está cerrada para modificaciones, pero abierta para extensiones a través de la implementación de nuevas clases de envío."
   ]
  }
 ],
 "metadata": {
  "kernelspec": {
   "display_name": ".venv",
   "language": "python",
   "name": "python3"
  },
  "language_info": {
   "codemirror_mode": {
    "name": "ipython",
    "version": 3
   },
   "file_extension": ".py",
   "mimetype": "text/x-python",
   "name": "python",
   "nbconvert_exporter": "python",
   "pygments_lexer": "ipython3",
   "version": "3.11.7"
  }
 },
 "nbformat": 4,
 "nbformat_minor": 2
}
