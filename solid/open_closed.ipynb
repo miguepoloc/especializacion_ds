{
 "cells": [
  {
   "cell_type": "markdown",
   "metadata": {},
   "source": [
    "# Principio de Abierto/Cerrado (Open/Closed Principle, OCP)\n",
    "\n",
    "## Introducción\n",
    "\n",
    "El Principio de Abierto/Cerrado (OCP) es uno de los cinco principios SOLID de diseño orientado a objetos. Fue introducido por Bertrand Meyer y establece que las entidades de software (clases, módulos, funciones, etc.) deben estar abiertas para la extensión, pero cerradas para la modificación."
   ]
  },
  {
   "cell_type": "markdown",
   "metadata": {},
   "source": [
    "## Explicación Detallada\n",
    "\n",
    "### Definición\n",
    "\n",
    "- **OCP**: Una entidad de software debe permitir su extensión sin necesidad de modificar su código fuente original.\n",
    "\n",
    "### Beneficios del OCP\n",
    "\n",
    "1. **Mantenibilidad**: Facilita la incorporación de nuevas funcionalidades sin alterar el código existente.\n",
    "\n",
    "2. **Reusabilidad**: Promueve la creación de componentes reutilizables y extensibles.\n",
    "\n",
    "3. **Estabilidad**: Minimiza el riesgo de introducir errores en el código existente al agregar nuevas funcionalidades."
   ]
  },
  {
   "cell_type": "markdown",
   "metadata": {},
   "source": [
    "## Ejemplos Explicados\n",
    "\n",
    "### Ejemplo Correcto\n",
    "\n",
    "Supongamos que estamos desarrollando una aplicación para calcular el área de diferentes formas geométricas. Aplicando el OCP, podríamos tener las siguientes clases:"
   ]
  },
  {
   "cell_type": "code",
   "execution_count": 1,
   "metadata": {},
   "outputs": [],
   "source": [
    "from abc import ABC, abstractmethod\n",
    "\n",
    "class Shape(ABC):\n",
    "    @abstractmethod\n",
    "    def area(self) -> float:\n",
    "        pass\n",
    "\n",
    "class Rectangle(Shape):\n",
    "    def __init__(self, width: float, height: float) -> None:\n",
    "        self.width: float = width\n",
    "        self.height: float = height\n",
    "\n",
    "    def area(self) -> float:\n",
    "        return self.width * self.height\n",
    "\n",
    "class Circle(Shape):\n",
    "    def __init__(self, radius: float) -> None:\n",
    "        self.radius = radius\n",
    "\n",
    "    def area(self) -> float:\n",
    "        return 3.14159 * (self.radius ** 2)"
   ]
  },
  {
   "cell_type": "code",
   "execution_count": 2,
   "metadata": {},
   "outputs": [
    {
     "name": "stdout",
     "output_type": "stream",
     "text": [
      "Área: 12\n",
      "Área: 78.53975\n"
     ]
    }
   ],
   "source": [
    "# Ejemplo de uso\n",
    "shapes: list[Shape] = [Rectangle(3, 4), Circle(5)]\n",
    "for shape in shapes:\n",
    "    print(f\"Área: {shape.area()}\")"
   ]
  },
  {
   "cell_type": "markdown",
   "metadata": {},
   "source": [
    "#### Análisis del Ejemplo Correcto\n",
    "\n",
    "- **Shape**: Es una clase abstracta que define el método `area`.\n",
    "\n",
    "- **Rectangle** y **Circle**: Son clases concretas que implementan el método `area`.\n",
    "\n",
    "Este diseño permite agregar nuevas formas geométricas sin modificar las clases existentes."
   ]
  },
  {
   "cell_type": "markdown",
   "metadata": {},
   "source": [
    "### Ejemplo de Violación del OCP\n",
    "\n",
    "Veamos un ejemplo donde se viola el OCP:"
   ]
  },
  {
   "cell_type": "code",
   "execution_count": 3,
   "metadata": {},
   "outputs": [],
   "source": [
    "class Shape:\n",
    "    def __init__(self, shape_type: str, width: float = 0, height: float = 0, radius: float = 0) -> None:\n",
    "        self.shape_type: str = shape_type\n",
    "        self.width: float = width\n",
    "        self.height: float = height\n",
    "        self.radius: float = radius\n",
    "\n",
    "    def area(self) -> float:\n",
    "        if self.shape_type == \"rectangle\":\n",
    "            return self.width * self.height\n",
    "        elif self.shape_type == \"circle\":\n",
    "            return 3.14159 * (self.radius ** 2)\n",
    "        else:\n",
    "            return 0"
   ]
  },
  {
   "cell_type": "code",
   "execution_count": 4,
   "metadata": {},
   "outputs": [
    {
     "name": "stdout",
     "output_type": "stream",
     "text": [
      "Área: 12\n",
      "Área: 78.53975\n"
     ]
    }
   ],
   "source": [
    "# Ejemplo de uso\n",
    "rectangle = Shape(shape_type=\"rectangle\", width=3, height=4)\n",
    "circle = Shape(shape_type=\"circle\", radius=5)\n",
    "shapes: list[Shape] = [rectangle, circle]\n",
    "for shape in shapes:\n",
    "    print(f\"Área: {shape.area()}\")"
   ]
  },
  {
   "cell_type": "markdown",
   "metadata": {},
   "source": [
    "\n",
    "\n",
    "#### Análisis del Ejemplo Incorrecto\n",
    "\n",
    "- **Shape**: Tiene múltiples responsabilidades y debe ser modificada cada vez que se agrega una nueva forma geométrica.\n",
    "- **Rectangle** y **Circle**: No se pueden agregar nuevas formas geométricas sin modificar la clase `Shape`.\n",
    "\n",
    "Este diseño viola el OCP porque cualquier cambio en las formas geométricas requiere modificar la clase `Shape`.\n"
   ]
  },
  {
   "cell_type": "markdown",
   "metadata": {},
   "source": [
    "## Conclusión\n",
    "\n",
    "1. **Extensibilidad**: El OCP facilita la extensión del software sin modificar el código existente.\n",
    "\n",
    "2. **Reducción de Errores**: Minimiza el riesgo de introducir errores al agregar nuevas funcionalidades.\n",
    "\n",
    "3. **Mantenibilidad**: Mejora la mantenibilidad del código al permitir la incorporación de nuevas características de manera aislada.\n",
    "\n",
    "Aplicar el OCP puede requerir una planificación cuidadosa y el uso de patrones de diseño adecuados, pero los beneficios en términos de estabilidad y extensibilidad del software son significativos."
   ]
  }
 ],
 "metadata": {
  "kernelspec": {
   "display_name": ".venv",
   "language": "python",
   "name": "python3"
  },
  "language_info": {
   "codemirror_mode": {
    "name": "ipython",
    "version": 3
   },
   "file_extension": ".py",
   "mimetype": "text/x-python",
   "name": "python",
   "nbconvert_exporter": "python",
   "pygments_lexer": "ipython3",
   "version": "3.11.7"
  }
 },
 "nbformat": 4,
 "nbformat_minor": 2
}
