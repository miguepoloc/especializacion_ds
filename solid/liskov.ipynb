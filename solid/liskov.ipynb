{
 "cells": [
  {
   "cell_type": "markdown",
   "metadata": {},
   "source": [
    "# Principio Liskov"
   ]
  },
  {
   "cell_type": "markdown",
   "metadata": {},
   "source": [
    "### Antes"
   ]
  },
  {
   "cell_type": "code",
   "execution_count": null,
   "metadata": {},
   "outputs": [],
   "source": [
    "class CuentaBancaria:\n",
    "    def __init__(self, saldo):\n",
    "        self.saldo = saldo\n",
    "\n",
    "    def depositar(self, monto):\n",
    "        self.saldo += monto\n",
    "\n",
    "    def retirar(self, monto):\n",
    "        if self.saldo >= monto:\n",
    "            self.saldo -= monto\n",
    "        else:\n",
    "            print(\"Saldo insuficiente\")\n",
    "\n",
    "class CuentaCorriente(CuentaBancaria):\n",
    "    def __init__(self, saldo, sobregiro):\n",
    "        super().__init__(saldo)\n",
    "        self.sobregiro = sobregiro\n",
    "\n",
    "    def retirar(self, monto):\n",
    "        if self.saldo + self.sobregiro >= monto:\n",
    "            self.saldo -= monto\n",
    "        else:\n",
    "            print(\"Fondos insuficientes\")\n",
    "\n",
    "class CuentaDeAhorro(CuentaBancaria):\n",
    "    def __init__(self, saldo, tasa_interes):\n",
    "        super().__init__(saldo)\n",
    "        self.tasa_interes = tasa_interes\n",
    "\n",
    "    def calcular_interes(self):\n",
    "        return self.saldo * self.tasa_interes\n",
    "\n",
    "    def depositar_interes(self):\n",
    "        self.saldo += self.calcular_interes()\n"
   ]
  },
  {
   "cell_type": "markdown",
   "metadata": {},
   "source": [
    "### Después"
   ]
  },
  {
   "cell_type": "code",
   "execution_count": null,
   "metadata": {},
   "outputs": [],
   "source": [
    "class CuentaBancaria:\n",
    "    def __init__(self, saldo):\n",
    "        self.saldo = saldo\n",
    "\n",
    "    def depositar(self, monto):\n",
    "        self.saldo += monto\n",
    "\n",
    "    def retirar(self, monto):\n",
    "        if self.saldo >= monto:\n",
    "            self.saldo -= monto\n",
    "        else:\n",
    "            print(\"Saldo insuficiente\")\n",
    "\n",
    "class CuentaCorriente(CuentaBancaria):\n",
    "    def __init__(self, saldo, sobregiro):\n",
    "        super().__init__(saldo)\n",
    "        self.sobregiro = sobregiro\n",
    "\n",
    "    def retirar(self, monto):\n",
    "        if self.saldo + self.sobregiro >= monto:\n",
    "            self.saldo -= monto\n",
    "        else:\n",
    "            print(\"Fondos insuficientes\")\n",
    "\n",
    "    def transferir(self, monto, cuenta_destino):\n",
    "        if self.saldo + self.sobregiro >= monto:\n",
    "            self.retirar(monto)\n",
    "            cuenta_destino.depositar(monto)\n",
    "        else:\n",
    "            print(\"Fondos insuficientes\")\n",
    "\n",
    "class CuentaDeAhorro(CuentaBancaria):\n",
    "    def __init__(self, saldo, tasa_interes):\n",
    "        super().__init__(saldo)\n",
    "        self.tasa_interes = tasa_interes\n",
    "\n",
    "    def calcular_interes(self):\n",
    "        return self.saldo * self.tasa_interes\n",
    "\n",
    "    def depositar_interes(self):\n",
    "        self.saldo += self.calcular_interes()\n"
   ]
  }
 ],
 "metadata": {
  "kernelspec": {
   "display_name": ".venv",
   "language": "python",
   "name": "python3"
  },
  "language_info": {
   "codemirror_mode": {
    "name": "ipython",
    "version": 3
   },
   "file_extension": ".py",
   "mimetype": "text/x-python",
   "name": "python",
   "nbconvert_exporter": "python",
   "pygments_lexer": "ipython3",
   "version": "3.7.1"
  }
 },
 "nbformat": 4,
 "nbformat_minor": 2
}
