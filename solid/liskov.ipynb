{
 "cells": [
  {
   "cell_type": "markdown",
   "metadata": {},
   "source": [
    "\n",
    "# Principio de Sustitución de Liskov (Liskov Substitution Principle)\n",
    "\n",
    "## Introducción\n",
    "El principio de sustitución de Liskov (LSP) establece que los objetos de una clase derivada deben poder sustituir a los de su clase base sin alterar el correcto funcionamiento del programa.\n",
    "\n",
    "## Objetivos\n",
    "- Comprender el principio de sustitución de Liskov y su relevancia en la herencia.\n",
    "- Identificar violaciones al LSP en código Python.\n",
    "- Aplicar el LSP para lograr jerarquías de clases robustas y reutilizables.\n",
    "\n",
    "## Ejemplo de la vida real\n",
    "Un billete de $10 puede ser reemplazado por dos de $5 en una transacción, sin que cambie el resultado. Así, los billetes de $5 y $10 cumplen la misma función en ese contexto."
   ]
  },
  {
   "cell_type": "markdown",
   "metadata": {},
   "source": [
    "# Liskov Substitution Principle\n",
    "\n",
    "El Principio de Sustitución de Liskov, formulado por Barbara Liskov en 1987, es uno de los cinco principios SOLID en la programación orientada a objetos. Este principio establece que:\n",
    "\n",
    "**Los objetos de una superclase deben poder ser reemplazados por objetos de sus subclases sin afectar la correctitud del programa.**\n",
    "\n",
    "\n",
    "En otras palabras, las subclases deben ser sustituibles por sus clases base sin alterar el comportamiento esperado del programa.\n",
    "\n",
    "## Explicación detallada\n",
    "\n",
    "1. **Comportamiento consistente**: Las subclases deben respetar los contratos establecidos por la superclase. Esto significa que deben mantener las precondiciones y postcondiciones definidas en la clase base. Por ejemplo, si una clase base tiene un método que devuelve un valor de tipo string, la subclase debe devolver un valor del mismo tipo o un subtipo, no un valor de tipo entero.\n",
    "\n",
    "2. **No fortalecer precondiciones**: Una subclase no debe requerir condiciones más estrictas que su superclase para realizar una operación. Por ejemplo, si una clase base requiere un parámetro de entrada opcional, la subclase no debe requerir un parámetro de entrada obligatorio.\n",
    "\n",
    "3. **No debilitar postcondiciones**: Una subclase no debe proporcionar garantías más débiles que su superclase después de realizar una operación. Por ejemplo, si una clase base devuelve un valor de tipo string, la subclase debe devolver un valor del mismo tipo o un subtipo, no un valor de tipo entero. O si el parámetro de entrada es obligatorio, la subclase no debe aceptar un parámetro de entrada opcional.\n",
    "\n",
    "4. **Invarianza**: Las propiedades que son verdaderas para la superclase deben mantenerse verdaderas para las subclases. Por ejemplo, si una clase base tiene un atributo que es un número entero, la subclase no debe tener un atributo que sea un número decimal.\n",
    "\n",
    "5. **Sustitución**: Debe ser posible usar cualquier instancia de una subclase en lugar de una instancia de la superclase sin afectar la funcionalidad del programa. Por ejemplo, si se tiene una clase base `Animal` con un método `hablar()` que devuelve un saludo, una subclase `Perro` debe heredar este método y devolver el saludo adecuado para un perro. Pero, si la subclase `Perro` tiene un método `hablar()` que devuelve un saludo para un perro, no se puede usar una instancia de `Perro` en lugar de una instancia de `Animal` sin afectar la funcionalidad del programa."
   ]
  },
  {
   "cell_type": "markdown",
   "metadata": {},
   "source": [
    "## Ejemplo práctico"
   ]
  },
  {
   "cell_type": "code",
   "execution_count": 1,
   "metadata": {},
   "outputs": [],
   "source": [
    "class Automovil:\n",
    "    def __init__(self, modelo: str, marca: str, color: str) -> None:\n",
    "        self.modelo: str = modelo\n",
    "        self.marca: str = marca\n",
    "        self.color: str = color\n",
    "        self._estado: str = 'en_reposo'\n",
    "\n",
    "    def acelerar(self, tipo: str = 'despacio') -> int:\n",
    "        if tipo == 'rapida':\n",
    "            self._estado = 'en_movimiento'\n",
    "            return 100\n",
    "        elif tipo == 'despacio':\n",
    "            self._estado = 'en_movimiento_despacio'\n",
    "            return 10\n",
    "        else:\n",
    "            raise ValueError(\"Tipo de aceleración no válido\")\n"
   ]
  },
  {
   "cell_type": "code",
   "execution_count": 2,
   "metadata": {},
   "outputs": [],
   "source": [
    "class BMW(Automovil):\n",
    "    def acelerar(self, tipo: str = 'despacio') -> int:\n",
    "        if tipo == 'rapida':\n",
    "            self._estado = 'en_movimiento'\n",
    "            return 200\n",
    "        elif tipo == 'despacio':\n",
    "            self._estado = 'en_movimiento_despacio'\n",
    "            return 20\n",
    "        else:\n",
    "            raise ValueError(\"Tipo de aceleración no válido\")\n"
   ]
  },
  {
   "cell_type": "code",
   "execution_count": 3,
   "metadata": {},
   "outputs": [],
   "source": [
    "class Carretera:\n",
    "    def __init__(self, auto: Automovil) -> None:\n",
    "        self.auto: Automovil = auto\n",
    "\n",
    "    def tipo_de_aceleracion(self, tipo: str) -> int:\n",
    "        return self.auto.acelerar(tipo=tipo)\n"
   ]
  },
  {
   "cell_type": "code",
   "execution_count": 4,
   "metadata": {},
   "outputs": [
    {
     "name": "stdout",
     "output_type": "stream",
     "text": [
      "100\n",
      "200\n"
     ]
    }
   ],
   "source": [
    "auto_generico = Automovil(modelo='Genérico', marca='Genérica', color='Blanco')\n",
    "bmw = BMW(modelo='Serie 3', marca='BMW', color=\"Azul\")\n",
    "\n",
    "carretera_generica = Carretera(auto=auto_generico)\n",
    "carretera_bmw = Carretera(auto=bmw)\n",
    "\n",
    "print(carretera_generica.tipo_de_aceleracion(tipo='rapida'))  # 100\n",
    "print(carretera_bmw.tipo_de_aceleracion(tipo='rapida'))  # 200"
   ]
  },
  {
   "cell_type": "markdown",
   "metadata": {},
   "source": [
    "En este ejemplo:\n",
    "\n",
    "1. La clase `Automovil` define un comportamiento base para la aceleración.\n",
    "\n",
    "2. La clase `BMW` hereda de `Automovil` y sobrescribe el método `acelerar`, pero mantiene la misma estructura y tipos de retorno.\n",
    "\n",
    "3. La clase `Carretera` acepta cualquier objeto de tipo `Automovil`.\n",
    "\n",
    "Este código respeta el Principio de Sustitución de Liskov porque:\n",
    "\n",
    "- `BMW` puede ser usado en cualquier lugar donde se espera un `Automovil`.\n",
    "\n",
    "- `BMW` no altera la firma del método `acelerar`.\n",
    "\n",
    "- `BMW` mantiene las mismas precondiciones (tipos de aceleración válidos) y postcondiciones (retorna un entero) que `Automovil`.\n",
    "\n",
    "- La clase `Carretera` funciona correctamente tanto con `Automovil` como con `BMW`."
   ]
  },
  {
   "cell_type": "markdown",
   "metadata": {},
   "source": [
    "## Violación del principio LSP\n",
    "\n",
    "Veamos ahora un ejemplo de cómo se podría violar este principio:"
   ]
  },
  {
   "cell_type": "code",
   "execution_count": 5,
   "metadata": {},
   "outputs": [],
   "source": [
    "class Chevrolet(Automovil):\n",
    "    def acelerar(self, tipo: str = 'despacio') -> str:\n",
    "        if tipo == 'rapida':\n",
    "            self._estado = 'en_movimiento'\n",
    "            return \"150 km/h\"\n",
    "        else:\n",
    "            self._estado = 'en_movimiento_despacio'\n",
    "            return \"15 km/h\""
   ]
  },
  {
   "cell_type": "code",
   "execution_count": 6,
   "metadata": {},
   "outputs": [
    {
     "ename": "TypeError",
     "evalue": "can only concatenate str (not \"int\") to str",
     "output_type": "error",
     "traceback": [
      "\u001b[31m---------------------------------------------------------------------------\u001b[39m",
      "\u001b[31mTypeError\u001b[39m                                 Traceback (most recent call last)",
      "\u001b[36mCell\u001b[39m\u001b[36m \u001b[39m\u001b[32mIn[6]\u001b[39m\u001b[32m, line 6\u001b[39m\n\u001b[32m      4\u001b[39m velocidad = carretera_chevrolet.tipo_de_aceleracion(tipo=\u001b[33m'\u001b[39m\u001b[33mrapida\u001b[39m\u001b[33m'\u001b[39m)\n\u001b[32m      5\u001b[39m \u001b[38;5;66;03m# Esto causará un error porque el tipo de retorno es un string y debía ser un int\u001b[39;00m\n\u001b[32m----> \u001b[39m\u001b[32m6\u001b[39m \u001b[38;5;28mprint\u001b[39m(\u001b[43mvelocidad\u001b[49m\u001b[43m \u001b[49m\u001b[43m+\u001b[49m\u001b[43m \u001b[49m\u001b[32;43m50\u001b[39;49m)\n",
      "\u001b[31mTypeError\u001b[39m: can only concatenate str (not \"int\") to str"
     ]
    }
   ],
   "source": [
    "# Uso que viola LSP\n",
    "chevrolet = Chevrolet(modelo='Camaro', marca='Chevrolet', color=\"Verde\")\n",
    "carretera_chevrolet = Carretera(auto=chevrolet)\n",
    "velocidad = carretera_chevrolet.tipo_de_aceleracion(tipo='rapida')\n",
    "# Esto causará un error porque el tipo de retorno es un string y debía ser un int\n",
    "print(velocidad + 50)"
   ]
  },
  {
   "cell_type": "markdown",
   "metadata": {},
   "source": [
    "En este caso, `Chevrolet` viola el LSP porque:\n",
    "\n",
    "1. Cambia el tipo de retorno de `int` a `str`.\n",
    "\n",
    "2. No maneja el caso de \"super_rapida\" como lo hace `BMW`.\n",
    "\n",
    "3. No lanza una excepción para tipos de aceleración no válidos.\n",
    "\n",
    "Estas violaciones hacen que `Chevrolet` no sea sustituible por `Automovil` en todos los contextos, lo que podría llevar a errores en tiempo de ejecución."
   ]
  },
  {
   "cell_type": "markdown",
   "metadata": {},
   "source": [
    "## Conclusión\n",
    "\n",
    "El Principio de Sustitución de Liskov es fundamental para crear jerarquías de clases robustas y flexibles. Ayuda a garantizar que las subclases puedan ser utilizadas de manera intercambiable con sus superclases, lo que facilita la extensión del código y reduce la probabilidad de errores cuando se trabaja con polimorfismo."
   ]
  },
  {
   "cell_type": "markdown",
   "metadata": {},
   "source": [
    "## Ejercicios prácticos y preguntas de reflexión\n",
    "\n",
    "1. **Detecta violaciones**: Analiza una jerarquía de clases y determina si todas las subclases pueden sustituir a la clase base sin errores.\n",
    "2. **Refactoriza**: Modifica una subclase que no cumple el LSP para que respete el contrato de la clase base.\n",
    "3. **Pregunta de reflexión**: ¿Qué consecuencias puede tener una mala jerarquía de herencia en un sistema grande?\n",
    "\n",
    "## Autoevaluación\n",
    "- ¿Mis subclases pueden usarse en lugar de la clase base sin problemas?\n",
    "- ¿Qué señales indican una posible violación del LSP?\n",
    "\n",
    "## Referencias y recursos\n",
    "- [Liskov Substitution Principle – Wikipedia](https://en.wikipedia.org/wiki/Liskov_substitution_principle)\n",
    "- [SOLID Principles en Python – Real Python](https://realpython.com/solid-principles-python/)\n",
    "- [Ejemplo didáctico de LSP – Refactoring Guru](https://refactoring.guru/es/design-patterns/liskov-substitution-principle)"
   ]
  },
  {
   "cell_type": "markdown",
   "metadata": {},
   "source": [
    "# ACTIVIDAD LISKOV"
   ]
  },
  {
   "cell_type": "code",
   "execution_count": 2,
   "metadata": {},
   "outputs": [
    {
     "name": "stdout",
     "output_type": "stream",
     "text": [
      "Nuevo saldo: 800.0\n",
      "800.0\n",
      "1100.0\n"
     ]
    }
   ],
   "source": [
    "class Transsaciones:\n",
    "    def __init__(self, monto: float) -> None:\n",
    "        self.monto: float = monto\n",
    "\n",
    "    def depositar(self, cantidad: float) -> float:\n",
    "        self.monto += cantidad\n",
    "        return self.monto\n",
    "\n",
    "    def retirar(self, cantidad: float) -> float:\n",
    "        if cantidad > self.monto:\n",
    "            raise ValueError(\"Fondos insuficientes\")\n",
    "        self.monto -= cantidad\n",
    "        return self.monto\n",
    "\n",
    "# USO INCORRECTO porque cambia el tipo de retorno str en lugar de float\n",
    "class CuentaDeAhorros(Transsaciones):\n",
    "    def retirar(self, cantidad: float) -> str:\n",
    "        if cantidad > self.monto:\n",
    "            raise ValueError(\"Fondos insuficientes\")\n",
    "        self.monto -= cantidad\n",
    "        return \"Hay un Nuevo saldo\"\n",
    "\n",
    "#USO CORRECTO implementa ambos metodos y mantiene el tipo de retorno float\n",
    "class CuentaCorriente(Transsaciones):\n",
    "\n",
    "    def retirar(self, cantidad: float) -> float:\n",
    "        if cantidad > self.monto:\n",
    "            raise ValueError(\"Fondos insuficientes\")\n",
    "        self.monto -= cantidad\n",
    "        print(f\"Nuevo saldo: {self.monto}\")\n",
    "        return self.monto\n",
    "\n",
    "cuenta_1 = CuentaCorriente(monto=1000.0)\n",
    "valor = cuenta_1.retirar(cantidad=200.0)\n",
    "valor_2 = cuenta_1.depositar(cantidad=300.0)\n",
    "print (valor)  # 800.0\n",
    "print (valor_2)  # 1100.0"
   ]
  },
  {
   "attachments": {
    "image.png": {
     "image/png": "[encoded data removed]"
    }
   },
   "cell_type": "markdown",
   "metadata": {},
   "source": [
    "@startuml\n",
    "\n",
    "class Transsaciones {\n",
    "    + monto: int\n",
    "    +  depositar()\n",
    "    + retirar()\n",
    "}\n",
    "\n",
    "\n",
    "class Cuenta_corriente{\n",
    "    + monto: int\n",
    "    +  depositar()\n",
    "    + retirar()\n",
    "}\n",
    "\n",
    "class Cuenta_ahorros{\n",
    "    + monto: int\n",
    "    +  depositar()\n",
    "    + retirar()\n",
    "}\n",
    "\n",
    "Transsaciones <|-- Cuenta_corriente\n",
    "\n",
    "Transsaciones <|-- Cuenta_ahorros\n",
    "@enduml\n",
    "\n",
    "![image.png](attachment:image.png)"
   ]
  }
 ],
 "metadata": {
  "kernelspec": {
   "display_name": "venv",
   "language": "python",
   "name": "python3"
  },
  "language_info": {
   "codemirror_mode": {
    "name": "ipython",
    "version": 3
   },
   "file_extension": ".py",
   "mimetype": "text/x-python",
   "name": "python",
   "nbconvert_exporter": "python",
   "pygments_lexer": "ipython3",
   "version": "3.12.7"
  }
 },
 "nbformat": 4,
 "nbformat_minor": 2
}
