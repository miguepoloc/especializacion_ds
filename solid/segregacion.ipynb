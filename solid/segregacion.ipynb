{
 "cells": [
  {
   "cell_type": "markdown",
   "metadata": {},
   "source": [
    "# Principio de segregación de interfaz"
   ]
  },
  {
   "cell_type": "markdown",
   "metadata": {},
   "source": [
    "### Antes"
   ]
  },
  {
   "cell_type": "code",
   "execution_count": 3,
   "metadata": {},
   "outputs": [],
   "source": [
    "from abc import ABC, abstractmethod\n",
    "\n",
    "class DispositivoMovil(ABC):\n",
    "    @abstractmethod\n",
    "    def conectar_usb(self):\n",
    "        pass\n",
    "\n",
    "    @abstractmethod\n",
    "    def conectar_wifi(self):\n",
    "        pass\n",
    "\n",
    "    @abstractmethod\n",
    "    def conectar_bluetooth(self):\n",
    "        pass"
   ]
  },
  {
   "cell_type": "code",
   "execution_count": 4,
   "metadata": {},
   "outputs": [],
   "source": [
    "class Smartphone(DispositivoMovil):\n",
    "    def conectar_usb(self):\n",
    "        print(\"Conectando por USB\")\n",
    "\n",
    "    def conectar_wifi(self):\n",
    "        print(\"Conectando por Wi-Fi\")\n",
    "\n",
    "    def conectar_bluetooth(self):\n",
    "        print(\"Conectando por Bluetooth\")"
   ]
  },
  {
   "cell_type": "code",
   "execution_count": 5,
   "metadata": {},
   "outputs": [],
   "source": [
    "class Tablet(DispositivoMovil):\n",
    "    def conectar_usb(self):\n",
    "        print(\"Conectando por USB\")\n",
    "\n",
    "    def conectar_wifi(self):\n",
    "        print(\"Conectando por Wi-Fi\")\n",
    "\n",
    "    def conectar_bluetooth(self):\n",
    "        print(\"Conectando por Bluetooth\")"
   ]
  },
  {
   "cell_type": "markdown",
   "metadata": {},
   "source": [
    "### Después"
   ]
  },
  {
   "cell_type": "code",
   "execution_count": 6,
   "metadata": {},
   "outputs": [],
   "source": [
    "from abc import ABC, abstractmethod\n",
    "\n",
    "class USBConectable(ABC):\n",
    "    @abstractmethod\n",
    "    def conectar_usb(self):\n",
    "        pass\n",
    "\n",
    "class WiFiConectable(ABC):\n",
    "    @abstractmethod\n",
    "    def conectar_wifi(self):\n",
    "        pass\n",
    "\n",
    "class BluetoothConectable(ABC):\n",
    "    @abstractmethod\n",
    "    def conectar_bluetooth(self):\n",
    "        pass"
   ]
  },
  {
   "cell_type": "code",
   "execution_count": 7,
   "metadata": {},
   "outputs": [],
   "source": [
    "class Smartphone(USBConectable, WiFiConectable, BluetoothConectable):\n",
    "    def conectar_usb(self):\n",
    "        print(\"Conectando por USB\")\n",
    "\n",
    "    def conectar_wifi(self):\n",
    "        print(\"Conectando por Wi-Fi\")\n",
    "\n",
    "    def conectar_bluetooth(self):\n",
    "        print(\"Conectando por Bluetooth\")"
   ]
  },
  {
   "cell_type": "code",
   "execution_count": 8,
   "metadata": {},
   "outputs": [],
   "source": [
    "class Tablet(WiFiConectable, BluetoothConectable):\n",
    "    def conectar_wifi(self):\n",
    "        print(\"Conectando por Wi-Fi\")\n",
    "\n",
    "    def conectar_bluetooth(self):\n",
    "        print(\"Conectando por Bluetooth\")"
   ]
  }
 ],
 "metadata": {
  "kernelspec": {
   "display_name": "base",
   "language": "python",
   "name": "python3"
  },
  "language_info": {
   "codemirror_mode": {
    "name": "ipython",
    "version": 3
   },
   "file_extension": ".py",
   "mimetype": "text/x-python",
   "name": "python",
   "nbconvert_exporter": "python",
   "pygments_lexer": "ipython3",
   "version": "3.7.1"
  }
 },
 "nbformat": 4,
 "nbformat_minor": 2
}
