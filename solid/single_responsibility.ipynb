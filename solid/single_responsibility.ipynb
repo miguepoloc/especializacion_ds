{
 "cells": [
  {
   "cell_type": "markdown",
   "metadata": {},
   "source": [
    "# Principio de Responsabilidad Única (Single Responsibility Principle)\n",
    "\n",
    "## Introducción\n",
    "El principio de responsabilidad única (SRP) es el primero de los principios SOLID y establece que una clase debe tener una sola razón para cambiar, es decir, debe estar enfocada en una única responsabilidad o propósito.\n",
    "\n",
    "## Objetivos\n",
    "- Comprender el principio de responsabilidad única y su importancia en el diseño de software.\n",
    "- Identificar violaciones al SRP en código Python.\n",
    "- Aplicar el SRP para mejorar la mantenibilidad y claridad del código.\n",
    "\n",
    "## Ejemplo de la vida real\n",
    "Piensa en una impresora multifunción: aunque puede imprimir, escanear y copiar, cada función está implementada como un módulo separado dentro del dispositivo. Si una función falla, no afecta a las demás. Así, cada módulo tiene una única responsabilidad."
   ]
  },
  {
   "cell_type": "markdown",
   "metadata": {},
   "source": [
    "# Principio de Responsabilidad Única (Single Responsibility Principle, SRP)\n",
    "\n",
    "## Introducción\n",
    "\n",
    "El Principio de Responsabilidad Única (SRP) es uno de los cinco principios SOLID de diseño orientado a objetos. Fue introducido por Robert C. Martin y establece que una clase debe tener una, y solo una, razón para cambiar. En otras palabras, una clase debe tener una única responsabilidad o propósito.\n",
    "\n",
    "## Explicación Detallada\n",
    "\n",
    "### Definición\n",
    "\n",
    "- **SRP**: Una clase debe tener una única responsabilidad, es decir, una única razón para cambiar.\n",
    "\n",
    "### Beneficios del SRP\n",
    "\n",
    "1. **Mantenibilidad**: El código es más fácil de entender y modificar.\n",
    "\n",
    "2. **Reusabilidad**: Las clases con una única responsabilidad son más fáciles de reutilizar en diferentes contextos.\n",
    "\n",
    "3. **Testabilidad**: Las clases con una única responsabilidad son más fáciles de probar."
   ]
  },
  {
   "cell_type": "markdown",
   "metadata": {},
   "source": [
    "## Ejemplos Explicados\n",
    "\n",
    "### Ejemplo Correcto\n",
    "\n",
    "Supongamos que estamos desarrollando una aplicación para gestionar libros en una biblioteca. Aplicando el SRP, podríamos tener las siguientes clases:\n",
    "\n",
    "En este ejemplo, cada clase tiene una única responsabilidad:\n",
    "\n",
    "* `Book` se encarga de representar un libro.\n",
    "* `BookPrinter` se encarga de imprimir la información del libro.\n",
    "* `BookRepository` se encarga de guardar el libro en una base de datos."
   ]
  },
  {
   "cell_type": "code",
   "execution_count": 1,
   "metadata": {},
   "outputs": [],
   "source": [
    "class Book:\n",
    "    def __init__(self, title: str, author: str) -> None:\n",
    "        self.title: str = title\n",
    "        self.author: str = author\n",
    "\n",
    "class BookPrinter:\n",
    "    def print_book(self, book: Book) -> None:\n",
    "        print(f\"Title: {book.title}, Author: {book.author}\")\n",
    "\n",
    "class BookRepository:\n",
    "    def save_book(self, book: Book) -> None:\n",
    "        # Código para guardar el libro en una base de datos\n",
    "        pass"
   ]
  },
  {
   "cell_type": "markdown",
   "metadata": {},
   "source": [
    "### Ejemplo Incorrecto donde se viola el SRP\n",
    "\n",
    "En este ejemplo, la clase `Book` tiene múltiples responsabilidades, lo que viola el SRP:\n",
    "\n",
    "En este caso, la clase Book tiene múltiples responsabilidades:\n",
    "\n",
    "* Representar un libro.\n",
    "\n",
    "* Imprimir la información del libro.\n",
    "\n",
    "* Guardar el libro en una base de datos."
   ]
  },
  {
   "cell_type": "code",
   "execution_count": 2,
   "metadata": {},
   "outputs": [],
   "source": [
    "class Book:\n",
    "    def __init__(self, title: str, author: str) -> None:\n",
    "        self.title: str = title\n",
    "        self.author: str = author\n",
    "\n",
    "    def print_book(self) -> None:\n",
    "        print(f\"Title: {self.title}, Author: {self.author}\")\n",
    "\n",
    "    def save_book(self) -> None:\n",
    "        # Código para guardar el libro en una base de datos\n",
    "        pass"
   ]
  },
  {
   "cell_type": "markdown",
   "metadata": {},
   "source": [
    "\n",
    "Esto viola el SRP porque cualquier cambio en la forma en que se imprime o se guarda el libro requerirá cambios en la clase `Book`, lo que puede introducir errores y hacer que el código sea más difícil de mantener.\n",
    "\n",
    "## Conclusión\n",
    "\n",
    "1. **Reducción de Complejidad**: Aplicar el SRP reduce la complejidad del código al dividir responsabilidades en clases separadas.\n",
    "\n",
    "2. **Mejora de la Cohesión**: Las clases con una única responsabilidad tienen una cohesión más alta, lo que facilita su comprensión y mantenimiento.\n",
    "\n",
    "3. **Facilidad de Prueba**: Las clases con una única responsabilidad son más fáciles de probar de manera aislada.\n",
    "\n",
    "4. **Reusabilidad**: Las clases con responsabilidades claras y únicas son más fáciles de reutilizar en diferentes contextos.\n",
    "\n",
    "Aplicar el SRP puede requerir más clases y una planificación cuidadosa, pero los beneficios a largo plazo en términos de calidad del código y facilidad de mantenimiento son significativos.\n"
   ]
  },
  {
   "cell_type": "markdown",
   "metadata": {},
   "source": [
    "## Ejercicios prácticos y preguntas de reflexión\n",
    "\n",
    "1. **Identifica responsabilidades**: Observa una clase que realice varias tareas (por ejemplo, gestionar usuarios y enviar correos). ¿Cómo la dividirías para cumplir con el SRP?\n",
    "2. **Refactoriza**: Toma un fragmento de código que viole el SRP y sepáralo en varias clases o funciones.\n",
    "3. **Pregunta de reflexión**: ¿Qué problemas pueden surgir si una clase tiene más de una responsabilidad?\n",
    "\n",
    "## Autoevaluación\n",
    "- ¿Puedo identificar fácilmente la responsabilidad principal de cada clase en mi código?\n",
    "- ¿Qué ventajas aporta el SRP al mantenimiento de proyectos grandes?\n",
    "\n",
    "## Referencias y recursos\n",
    "- [SOLID Principles en Python – Real Python](https://realpython.com/solid-principles-python/)\n",
    "- [Single Responsibility Principle – Wikipedia](https://en.wikipedia.org/wiki/Single-responsibility_principle)\n",
    "- [Clean Code de Robert C. Martin](https://www.oreilly.com/library/view/clean-code/9780136083238/)"
   ]
  },
  {
   "cell_type": "code",
   "execution_count": 4,
   "metadata": {},
   "outputs": [],
   "source": [
    "class Pedido:\n",
    "    def __init__(self, id_pedido: int, items: list[str]) -> None:\n",
    "        self.id_pedido: int = id_pedido\n",
    "        self.items = items\n",
    "\n",
    "    def agregar_item(self, item: str) -> None:\n",
    "        self.items.append(item)\n",
    "\n",
    "    def remover_item(self, item: str) -> None:\n",
    "        if item in self.items:\n",
    "            self.items.remove(item)\n",
    "\n",
    "    def imprimir(self) -> None:\n",
    "        print(f\"Pedido #{self.id_pedido}: {', '.join(self.items)}\")\n",
    "\n",
    "    def guardar(self) -> None:\n",
    "        print(f\"Guardando pedido #{self.id_pedido} en la base de datos...\")\n",
    "\n",
    "    def enviar_confirmacion_sms(self) -> None:\n",
    "        print(f\"Enviando confirmación del pedido #{self.id_pedido}...\")\n",
    "\n",
    "    def enviar_confirmacion_whatsapp(self) -> None:\n",
    "        print(f\"Enviando confirmación del pedido #{self.id_pedido}...\")\n",
    "\n",
    "    def enviar_confirmacion_correo(self) -> None:\n",
    "        print(f\"Enviando confirmación del pedido #{self.id_pedido}...\")\n"
   ]
  },
  {
   "cell_type": "code",
   "execution_count": 5,
   "metadata": {},
   "outputs": [],
   "source": [
    "class Pedido:\n",
    "    def __init__(self, id_pedido: int, items: list[str]) -> None:\n",
    "        self.id_pedido: int = id_pedido\n",
    "        self.items: list[str] = items\n",
    "\n",
    "    def agregar_item(self, item: str) -> None:\n",
    "        self.items.append(item)\n",
    "\n",
    "    def remover_item(self, item: str) -> None:\n",
    "        if item in self.items:\n",
    "            self.items.remove(item)\n",
    "\n",
    "class ImprimirPedido:\n",
    "    def imprimir(self, pedido: Pedido) -> str:\n",
    "        print(f\"Pedido #{pedido.id_pedido}: {', '.join(pedido.items)}\")\n",
    "\n",
    "class GuardarPedido:\n",
    "    def guardar(self, pedido: Pedido) -> str:\n",
    "        print(f\"Guardando pedido #{pedido.id_pedido} en la base de datos...\")\n",
    "\n",
    "class ConfirmarPedido:\n",
    "    def guardar(self, pedido: Pedido) -> str:\n",
    "        print(f\"Enviando confirmacion del pedido #{pedido.id_pedido}...\")"
   ]
  },
  {
   "cell_type": "code",
   "execution_count": 6,
   "metadata": {},
   "outputs": [
    {
     "name": "stdout",
     "output_type": "stream",
     "text": [
      "Pedido #1: Hamburguesa, Papas Fritas, Coca-Cola\n",
      "Guardando pedido #1 en la base de datos...\n"
     ]
    }
   ],
   "source": [
    "pedido = Pedido(1, [\"Hamburguesa\", \"Papas Fritas\"])\n",
    "pedido.agregar_item(\"Coca-Cola\")\n",
    "ImprimirPedido().imprimir(pedido)\n",
    "GuardarPedido().guardar(pedido)"
   ]
  }
 ],
 "metadata": {
  "kernelspec": {
   "display_name": "venv",
   "language": "python",
   "name": "python3"
  },
  "language_info": {
   "codemirror_mode": {
    "name": "ipython",
    "version": 3
   },
   "file_extension": ".py",
   "mimetype": "text/x-python",
   "name": "python",
   "nbconvert_exporter": "python",
   "pygments_lexer": "ipython3",
   "version": "3.12.0"
  }
 },
 "nbformat": 4,
 "nbformat_minor": 2
}
