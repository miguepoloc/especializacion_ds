{
 "cells": [
  {
   "cell_type": "markdown",
   "metadata": {},
   "source": [
    "# Principio de Responsabilidad Única (Single Responsibility Principle)\n",
    "\n",
    "## Introducción\n",
    "El principio de responsabilidad única (SRP) es el primero de los principios SOLID y establece que una clase debe tener una sola razón para cambiar, es decir, debe estar enfocada en una única responsabilidad o propósito.\n",
    "\n",
    "## Objetivos\n",
    "- Comprender el principio de responsabilidad única y su importancia en el diseño de software.\n",
    "- Identificar violaciones al SRP en código Python.\n",
    "- Aplicar el SRP para mejorar la mantenibilidad y claridad del código.\n",
    "\n",
    "## Ejemplo de la vida real\n",
    "Piensa en una impresora multifunción: aunque puede imprimir, escanear y copiar, cada función está implementada como un módulo separado dentro del dispositivo. Si una función falla, no afecta a las demás. Así, cada módulo tiene una única responsabilidad."
   ]
  },
  {
   "cell_type": "markdown",
   "metadata": {},
   "source": [
    "# Principio de Responsabilidad Única (Single Responsibility Principle, SRP)\n",
    "\n",
    "## Introducción\n",
    "\n",
    "El Principio de Responsabilidad Única (SRP) es uno de los cinco principios SOLID de diseño orientado a objetos. Fue introducido por Robert C. Martin y establece que una clase debe tener una, y solo una, razón para cambiar. En otras palabras, una clase debe tener una única responsabilidad o propósito.\n",
    "\n",
    "## Explicación Detallada\n",
    "\n",
    "### Definición\n",
    "\n",
    "- **SRP**: Una clase debe tener una única responsabilidad, es decir, una única razón para cambiar.\n",
    "\n",
    "### Beneficios del SRP\n",
    "\n",
    "1. **Mantenibilidad**: El código es más fácil de entender y modificar.\n",
    "\n",
    "2. **Reusabilidad**: Las clases con una única responsabilidad son más fáciles de reutilizar en diferentes contextos.\n",
    "\n",
    "3. **Testabilidad**: Las clases con una única responsabilidad son más fáciles de probar."
   ]
  },
  {
   "cell_type": "markdown",
   "metadata": {},
   "source": [
    "## Ejemplos Explicados\n",
    "\n",
    "### Ejemplo Correcto\n",
    "\n",
    "Supongamos que estamos desarrollando una aplicación para gestionar libros en una biblioteca. Aplicando el SRP, podríamos tener las siguientes clases:\n",
    "\n",
    "En este ejemplo, cada clase tiene una única responsabilidad:\n",
    "\n",
    "* `Book` se encarga de representar un libro.\n",
    "* `BookPrinter` se encarga de imprimir la información del libro.\n",
    "* `BookRepository` se encarga de guardar el libro en una base de datos."
   ]
  },
  {
   "cell_type": "code",
   "execution_count": 2,
   "metadata": {},
   "outputs": [],
   "source": [
    "class Book:\n",
    "    def __init__(self, title: str, author: str) -> None:\n",
    "        self.title: str = title\n",
    "        self.author: str = author\n",
    "\n",
    "class BookPrinter:\n",
    "    def print_book(self, book: Book) -> None:\n",
    "        print(f\"Title: {book.title}, Author: {book.author}\")\n",
    "\n",
    "class BookRepository:\n",
    "    def save_book(self, book: Book) -> None:\n",
    "        # Código para guardar el libro en una base de datos\n",
    "        pass"
   ]
  },
  {
   "cell_type": "markdown",
   "metadata": {},
   "source": [
    "### Ejemplo Incorrecto donde se viola el SRP\n",
    "\n",
    "En este ejemplo, la clase `Book` tiene múltiples responsabilidades, lo que viola el SRP:\n",
    "\n",
    "En este caso, la clase Book tiene múltiples responsabilidades:\n",
    "\n",
    "* Representar un libro.\n",
    "\n",
    "* Imprimir la información del libro.\n",
    "\n",
    "* Guardar el libro en una base de datos."
   ]
  },
  {
   "cell_type": "code",
   "execution_count": 1,
   "metadata": {},
   "outputs": [],
   "source": [
    "class Book:\n",
    "    def __init__(self, title: str, author: str) -> None:\n",
    "        self.title: str = title\n",
    "        self.author: str = author\n",
    "\n",
    "    def print_book(self) -> None:\n",
    "        print(f\"Title: {self.title}, Author: {self.author}\")\n",
    "\n",
    "    def save_book(self) -> None:\n",
    "        # Código para guardar el libro en una base de datos\n",
    "        pass"
   ]
  },
  {
   "cell_type": "markdown",
   "metadata": {},
   "source": [
    "\n",
    "Esto viola el SRP porque cualquier cambio en la forma en que se imprime o se guarda el libro requerirá cambios en la clase `Book`, lo que puede introducir errores y hacer que el código sea más difícil de mantener.\n",
    "\n",
    "## Conclusión\n",
    "\n",
    "1. **Reducción de Complejidad**: Aplicar el SRP reduce la complejidad del código al dividir responsabilidades en clases separadas.\n",
    "\n",
    "2. **Mejora de la Cohesión**: Las clases con una única responsabilidad tienen una cohesión más alta, lo que facilita su comprensión y mantenimiento.\n",
    "\n",
    "3. **Facilidad de Prueba**: Las clases con una única responsabilidad son más fáciles de probar de manera aislada.\n",
    "\n",
    "4. **Reusabilidad**: Las clases con responsabilidades claras y únicas son más fáciles de reutilizar en diferentes contextos.\n",
    "\n",
    "Aplicar el SRP puede requerir más clases y una planificación cuidadosa, pero los beneficios a largo plazo en términos de calidad del código y facilidad de mantenimiento son significativos.\n"
   ]
  },
  {
   "cell_type": "markdown",
   "metadata": {},
   "source": [
    "## Ejercicios prácticos y preguntas de reflexión\n",
    "\n",
    "1. **Identifica responsabilidades**: Observa una clase que realice varias tareas (por ejemplo, gestionar usuarios y enviar correos). ¿Cómo la dividirías para cumplir con el SRP?\n",
    "2. **Refactoriza**: Toma un fragmento de código que viole el SRP y sepáralo en varias clases o funciones.\n",
    "3. **Pregunta de reflexión**: ¿Qué problemas pueden surgir si una clase tiene más de una responsabilidad?\n",
    "\n",
    "## Autoevaluación\n",
    "- ¿Puedo identificar fácilmente la responsabilidad principal de cada clase en mi código?\n",
    "- ¿Qué ventajas aporta el SRP al mantenimiento de proyectos grandes?\n",
    "\n",
    "## Referencias y recursos\n",
    "- [SOLID Principles en Python – Real Python](https://realpython.com/solid-principles-python/)\n",
    "- [Single Responsibility Principle – Wikipedia](https://en.wikipedia.org/wiki/Single-responsibility_principle)\n",
    "- [Clean Code de Robert C. Martin](https://www.oreilly.com/library/view/clean-code/9780136083238/)"
   ]
  },
  {
   "cell_type": "code",
   "execution_count": null,
   "metadata": {},
   "outputs": [],
   "source": [
    "##EJERCICIO SINGLE RESPONSABILITY\n",
    "\n",
    "class ConsolaVideoJuegos:\n",
    "    def __init__(self, procesador: str, almacenamiento: str, memoria: int, precio_venta: float, precio_juegos: float, es_portable: bool, almacenamiento_expandido: bool):\n",
    "        self.procesador: str = procesador\n",
    "        self.almacenamiento: str = almacenamiento\n",
    "        self.memoria: int = memoria\n",
    "        self.precio_venta: float = precio_venta\n",
    "        self.precio_juegos: float = precio_juegos\n",
    "        self.es_portable: bool = es_portable\n",
    "        self.almacenamient_expandido: bool = almacenamiento_expandido\n",
    "\n",
    "    def rendimiento(self) -> None:\n",
    "        print(f\"el procesador y la memoria de esta consola es de: {self.procesador} GHz - {self.memoria} MB \")\n",
    "\n",
    "    def almacenamiento_consola(self) -> None:\n",
    "        if(self.almacenamient_expandido):\n",
    "            print(f\"El almcenamieto de la consola es de {self.almacenamiento} GB pero puedes expandir el almacenamiento\")\n",
    "        else:\n",
    "            print(f\"El almcenamieto de la consola es de {self.almacenamiento} GB\")\n",
    "\n",
    "    def precio_c(self) -> None:\n",
    "        print(f\"el precio de la consola es: {self.precio_venta}\")\n",
    "\n",
    "    def precio_j(self) -> None:\n",
    "        print(f\"el precio de los juegos es: {self.precio_juegos}\")\n",
    "\n",
    "    def consola_portable(self) -> None:\n",
    "        if(self.esPortable):\n",
    "            print(\"La consola es portable\")\n",
    "        else:\n",
    "            print(\"la consola no es portable\")"
   ]
  },
  {
   "cell_type": "code",
   "execution_count": null,
   "metadata": {},
   "outputs": [],
   "source": [
    "class Consola:\n",
    "    def __init__(self, procesador: str, almacenamiento: str, memoria: int, precio_venta: float, precio_juegos: float, es_portable: bool, almacenamiento_expandido: bool):\n",
    "        self.procesador: str = procesador\n",
    "        self.almacenamiento: str = almacenamiento\n",
    "        self.memoria: int = memoria\n",
    "        self.precio_venta: float = precio_venta\n",
    "        self.precio_juegos: float = precio_juegos\n",
    "        self.es_portable: bool = es_portable\n",
    "        self.almacenamient_expandido: bool = almacenamiento_expandido"
   ]
  },
  {
   "cell_type": "code",
   "execution_count": null,
   "metadata": {},
   "outputs": [],
   "source": [
    "class Vendedor(Consola):\n",
    "    def __init__(self, precio_venta, precio_juegos):\n",
    "        super.__init__(precio_venta, precio_juegos)\n",
    "\n",
    "    def precioConsola(self) -> None:\n",
    "        print(f\"el precio de la consola es: {self.precio_venta}\")\n",
    "\n",
    "    def precioJuegos(self) -> None:\n",
    "        print(f\"el precio de los juegos es: {self.precio_juegos}\")"
   ]
  },
  {
   "cell_type": "code",
   "execution_count": null,
   "metadata": {},
   "outputs": [],
   "source": [
    "class Gamer(Consola):\n",
    "    def __init__(self, procesador, almacenamiento, memoria, es_portable, almacenamiento_expandido):\n",
    "        super.__init__(procesador, almacenamiento, memoria, es_portable, almacenamiento_expandido)\n",
    "\n",
    "    def consola_portable(self) -> None:\n",
    "        if(self.es_portable):\n",
    "            print(\"La consola es portable\")\n",
    "        else:\n",
    "            print(\"la consola no es portable\")\n",
    "\n",
    "    def rendimiento(self) -> None:\n",
    "        print(f\"el procesador y la memoria de esta consola es de: {self.procesador} GHz - {self.memoria} MB \")\n",
    "\n",
    "    def almacenamiento_consola(self) -> None:\n",
    "        if(self.almacenamiento_expandido):\n",
    "            print(f\"El almcenamieto de la consola es de {self.almacenamiento} GB pero puedes expandir el almacenamiento\")\n",
    "        else:\n",
    "            print(f\"El almcenamieto de la consola es de {self.almacenamiento} GB\")"
   ]
  }
 ],
 "metadata": {
  "kernelspec": {
   "display_name": "Python 3",
   "language": "python",
   "name": "python3"
  },
  "language_info": {
   "codemirror_mode": {
    "name": "ipython",
    "version": 3
   },
   "file_extension": ".py",
   "mimetype": "text/x-python",
   "name": "python",
   "nbconvert_exporter": "python",
   "pygments_lexer": "ipython3",
   "version": "3.11.9"
  }
 },
 "nbformat": 4,
 "nbformat_minor": 2
}
