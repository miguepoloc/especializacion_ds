{
 "cells": [
  {
   "cell_type": "markdown",
   "metadata": {},
   "source": [
    "# Principio de responsabilidad única"
   ]
  },
  {
   "cell_type": "markdown",
   "metadata": {},
   "source": [
    "La clase `Empleado` tiene varias razones para cambiar. La primera razón puede estar relacionada con el trabajo principal de la clase: calcular el salario de un empleado, lo cual puede cambiar con el tiempo, lo que te obliga a cambiar el código de la clase. Segundo, la función para imprimir el recibo de pago también puede cambiar con el tiempo, lo que te obliga a cambiar el código de la clase. Por lo tanto, la clase `Empleado` tiene más de una responsabilidad."
   ]
  },
  {
   "cell_type": "markdown",
   "metadata": {},
   "source": [
    "**ANTES:** La clase contiene la lógica de cálculo del salario y la lógica de impresión del recibo de salario.\n"
   ]
  },
  {
   "cell_type": "code",
   "execution_count": 4,
   "metadata": {},
   "outputs": [],
   "source": [
    "class Estudiante:\n",
    "    def __init__(self, nombre: str, nota1:float, nota2:float, nota3:float, nota4:float) -> None:\n",
    "        self.nombre: str = nombre\n",
    "        self.nota1: float =nota1\n",
    "        self.nota2: float =nota2\n",
    "        self.nota3: float =nota3\n",
    "        self.nota4: float =nota4\n",
    "\n",
    "    def get_Nombre(self) -> str:\n",
    "        return self.nombre\n",
    "\n",
    "    def calcular_nota(self) -> str:\n",
    "        return self.nota1 + self.nota2 + self.nota3 + self.nota4\n",
    "\n",
    "    def print_nota(self) -> None:\n",
    "        print(\"Reporte de notas\")\n",
    "        print(\"Nombre: \", self.get_Nombre())\n",
    "        print(\"Nota 1: \", self.nota1)\n",
    "        print(\"Nota 2: \", self.nota2)\n",
    "        print(\"Nota 3: \", self.nota3)\n",
    "        print(\"Nota 4: \", self.nota4)\n",
    "        print(\"La nota definitiva de sel.f es: \", self.calcular_nota())"
   ]
  },
  {
   "cell_type": "code",
   "execution_count": 5,
   "metadata": {},
   "outputs": [
    {
     "name": "stdout",
     "output_type": "stream",
     "text": [
      "Reporte de notas\n",
      "Nombre:  Juan\n",
      "Nota 1:  1.5\n",
      "Nota 2:  3.0\n",
      "Nota 3:  4.5\n",
      "Nota 4:  5.0\n",
      "La nota definitiva es:  14.0\n"
     ]
    }
   ],
   "source": [
    "estudiante1 = Estudiante(\"Juan\", 1.5, 3.0, 4.5, 5.0)\n",
    "estudiante1.print_nota()"
   ]
  },
  {
   "cell_type": "markdown",
   "metadata": {},
   "source": [
    "Resuelve el problema moviendo el comportamiento relacionado con la impresión de informes de horas de trabajo y el cálculo del salario a una clase separada. Este cambio te permite mover otros elementos relacionados con el informe a la nueva clase."
   ]
  },
  {
   "cell_type": "markdown",
   "metadata": {},
   "source": [
    "**DESPUÉS:** La clase `Empleado` ahora tiene una sola responsabilidad: almacenar los datos del empleado. La clase `Reporte` se encarga de la impresión del recibo de salario y el cálculo del salario."
   ]
  },
  {
   "cell_type": "code",
   "execution_count": 6,
   "metadata": {},
   "outputs": [],
   "source": [
    "class Employee:\n",
    "    def __init__(self, name: str, hours_worked: int, hourly_rate: float) -> None:\n",
    "        self.name: str = name\n",
    "        self.hours_worked: int = hours_worked\n",
    "        self.hourly_rate: float = hourly_rate\n",
    "\n",
    "    def get_name(self) -> str:\n",
    "        return self.name\n",
    "\n",
    "\n",
    "class Report:\n",
    "    def __init__(self, employee: Employee) -> None:\n",
    "        self.employee: Employee = employee\n",
    "\n",
    "    def calculate_pay(self) -> str:\n",
    "        return self.employee.hours_worked * self.employee.hourly_rate\n",
    "\n",
    "    def print_pay_stub(self) -> None:\n",
    "        print(\"Pay Stub\")\n",
    "        print(\"Name: \", self.employee.get_name())\n",
    "        print(\"Hours Worked: \", self.employee.hours_worked)\n",
    "        print(\"Hourly Rate: \", self.employee.hourly_rate)\n",
    "        print(\"Gross Pay: \", self.calculate_pay())"
   ]
  },
  {
   "cell_type": "code",
   "execution_count": 7,
   "metadata": {},
   "outputs": [
    {
     "name": "stdout",
     "output_type": "stream",
     "text": [
      "Pay Stub\n",
      "Name:  John\n",
      "Hours Worked:  40\n",
      "Hourly Rate:  10.0\n",
      "Gross Pay:  400.0\n"
     ]
    }
   ],
   "source": [
    "employee = Employee(\"John\", 40, 10.0)\n",
    "report = Report(employee)\n",
    "report.print_pay_stub()"
   ]
  },
  {
   "cell_type": "markdown",
   "metadata": {},
   "source": [
    "De esta forma, si necesitas cambiar la lógica de cálculo del salario, solo necesitas cambiar la clase `Reporte`. Si necesitas cambiar la lógica de impresión del recibo de salario, solo necesitas cambiar la clase `Reporte`. Por lo tanto, la clase `Empleado` tiene una sola responsabilidad y no necesita cambiar si cambia la lógica de cálculo del salario o la lógica de impresión del recibo de salario."
   ]
  }
 ],
 "metadata": {
  "kernelspec": {
   "display_name": ".venv",
   "language": "python",
   "name": "python3"
  },
  "language_info": {
   "codemirror_mode": {
    "name": "ipython",
    "version": 3
   },
   "file_extension": ".py",
   "mimetype": "text/x-python",
   "name": "python",
   "nbconvert_exporter": "python",
   "pygments_lexer": "ipython3",
   "version": "3.10.13"
  }
 },
 "nbformat": 4,
 "nbformat_minor": 2
}
