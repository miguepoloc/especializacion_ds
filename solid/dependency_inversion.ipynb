{
 "cells": [
  {
   "cell_type": "markdown",
   "metadata": {},
   "source": [
    "# Principio de Inversión de Dependencias (Dependency Inversion Principle)\n",
    "\n",
    "## Introducción\n",
    "El principio de inversión de dependencias (DIP) establece que los módulos de alto nivel no deben depender de módulos de bajo nivel, sino de abstracciones. Las abstracciones no deben depender de los detalles, sino los detalles de las abstracciones.\n",
    "\n",
    "## Objetivos\n",
    "- Comprender el principio de inversión de dependencias y su impacto en la arquitectura de software.\n",
    "- Identificar dependencias rígidas en código Python.\n",
    "- Aplicar el DIP para lograr sistemas desacoplados y flexibles.\n",
    "\n",
    "## Ejemplo de la vida real\n",
    "En una empresa, los empleados (alto nivel) no dependen de un tipo específico de transporte para llegar al trabajo (bajo nivel), sino de la abstracción \"transporte\" (puede ser bus, bicicleta, auto, etc.)."
   ]
  },
  {
   "cell_type": "markdown",
   "metadata": {},
   "source": [
    "# Principio de Inversión de Dependencias (Dependency Inversion Principle, DIP)\n",
    "\n",
    "## Introducción\n",
    "\n",
    "El Principio de Inversión de Dependencias (DIP) es uno de los cinco principios SOLID de diseño orientado a objetos. Fue introducido por Robert C. Martin y establece que los módulos de alto nivel no deben depender de módulos de bajo nivel, ambos deben depender de abstracciones. Además, las abstracciones no deben depender de los detalles, los detalles deben depender de las abstracciones."
   ]
  },
  {
   "cell_type": "markdown",
   "metadata": {},
   "source": [
    "## Explicación Detallada\n",
    "\n",
    "### Definición\n",
    "\n",
    "- **DIP**: Los módulos de alto nivel no deben depender de módulos de bajo nivel. Ambos deben depender de abstracciones. Las abstracciones no deben depender de los detalles, los detalles deben depender de las abstracciones. En otras palabras, los módulos de alto nivel no deben depender de los módulos de bajo nivel, sino de abstracciones.\n",
    "\n",
    "### Beneficios del DIP\n",
    "\n",
    "1. **Flexibilidad**: Facilita el cambio de implementaciones sin afectar a los módulos de alto nivel.\n",
    "\n",
    "2. **Mantenibilidad**: Mejora la mantenibilidad del código al reducir las dependencias directas entre módulos.\n",
    "\n",
    "3. **Reusabilidad**: Promueve la creación de componentes reutilizables y desacoplados."
   ]
  },
  {
   "cell_type": "markdown",
   "metadata": {},
   "source": [
    "## Ejemplos Explicados\n",
    "\n",
    "### Ejemplo Correcto\n",
    "\n",
    "Supongamos que estamos desarrollando una aplicación para enviar notificaciones. Aplicando el DIP, podríamos tener las siguientes interfaces y clases:"
   ]
  },
  {
   "cell_type": "code",
   "execution_count": null,
   "metadata": {},
   "outputs": [],
   "source": [
    "from abc import ABC, abstractmethod\n",
    "\n",
    "class Notifier(ABC):\n",
    "    @abstractmethod\n",
    "    def send(self, message: str) -> None:\n",
    "        pass\n",
    "\n",
    "class EmailNotifier(Notifier):\n",
    "    def send(self, message: str) -> None:\n",
    "        print(f\"Enviando email: {message}\")\n",
    "\n",
    "class SMSNotifier(Notifier):\n",
    "    def send(self, message: str) -> None:\n",
    "        print(f\"Enviando SMS: {message}\")\n",
    "\n",
    "class NotificationService:\n",
    "    def __init__(self, notifier: Notifier) -> None:\n",
    "        self.notifier: Notifier = notifier\n",
    "\n",
    "    def notify(self, message: str) -> None:\n",
    "        self.notifier.send(message)\n",
    "\n"
   ]
  },
  {
   "cell_type": "code",
   "execution_count": 2,
   "metadata": {},
   "outputs": [],
   "source": [
    "# Ejemplo de uso\n",
    "email_notifier = EmailNotifier()\n",
    "sms_notifier = SMSNotifier()"
   ]
  },
  {
   "cell_type": "code",
   "execution_count": 3,
   "metadata": {},
   "outputs": [
    {
     "name": "stdout",
     "output_type": "stream",
     "text": [
      "Enviando email: Hola por email\n",
      "Enviando SMS: Hola por SMS\n"
     ]
    }
   ],
   "source": [
    "notification_service = NotificationService(email_notifier)\n",
    "notification_service.notify(\"Hola por email\")\n",
    "\n",
    "notification_service = NotificationService(sms_notifier)\n",
    "notification_service.notify(\"Hola por SMS\")"
   ]
  },
  {
   "cell_type": "markdown",
   "metadata": {},
   "source": [
    "#### Análisis del Ejemplo Correcto\n",
    "\n",
    "- **Notifier**: Es una interfaz que define el método `send`.\n",
    "\n",
    "- **EmailNotifier** y **SMSNotifier**: Son implementaciones concretas de la interfaz `Notifier`.\n",
    "\n",
    "- **NotificationService**: Depende de la abstracción `Notifier` y no de las implementaciones concretas.\n",
    "\n",
    "Este diseño permite cambiar la implementación del notificador sin modificar el `NotificationService`."
   ]
  },
  {
   "cell_type": "markdown",
   "metadata": {},
   "source": [
    "### Ejemplo de Violación del DIP\n",
    "\n",
    "Veamos un ejemplo donde se viola el DIP:"
   ]
  },
  {
   "cell_type": "code",
   "execution_count": 4,
   "metadata": {},
   "outputs": [],
   "source": [
    "class EmailNotifier:\n",
    "    def send(self, message: str) -> None:\n",
    "        print(f\"Enviando email: {message}\")\n",
    "\n",
    "class NotificationService:\n",
    "    def __init__(self) -> None:\n",
    "        self.email_notifier = EmailNotifier()\n",
    "\n",
    "    def notify(self, message: str) -> None:\n",
    "        self.email_notifier.send(message)"
   ]
  },
  {
   "cell_type": "code",
   "execution_count": 5,
   "metadata": {},
   "outputs": [
    {
     "name": "stdout",
     "output_type": "stream",
     "text": [
      "Enviando email: Hola por email\n"
     ]
    }
   ],
   "source": [
    "# Ejemplo de uso\n",
    "notification_service = NotificationService()\n",
    "notification_service.notify(\"Hola por email\")"
   ]
  },
  {
   "cell_type": "markdown",
   "metadata": {},
   "source": [
    "#### Análisis del Ejemplo Incorrecto\n",
    "\n",
    "- **NotificationService**: Depende directamente de la implementación concreta `EmailNotifier`.\n",
    "\n",
    "- Si en el futuro queremos cambiar la implementación de `EmailNotifier` por `SMSNotifier`, deberemos modificar el `NotificationService`.\n",
    "\n",
    "Este diseño viola el DIP porque cualquier cambio en la forma de enviar notificaciones requerirá modificar el `NotificationService`."
   ]
  },
  {
   "cell_type": "markdown",
   "metadata": {},
   "source": [
    "## Conclusión\n",
    "\n",
    "1. **Desacoplamiento**: El DIP promueve el desacoplamiento entre módulos de alto y bajo nivel.\n",
    "\n",
    "2. **Flexibilidad**: Facilita el cambio de implementaciones sin afectar a los módulos de alto nivel.\n",
    "\n",
    "3. **Mantenibilidad**: Mejora la mantenibilidad del código al reducir las dependencias directas entre módulos.\n",
    "\n",
    "4. **Reusabilidad**: Promueve la creación de componentes reutilizables y desacoplados.\n",
    "\n",
    "Aplicar el DIP puede requerir la creación de interfaces y abstracciones adicionales, pero los beneficios en términos de flexibilidad y mantenibilidad del software son significativos."
   ]
  },
  {
   "cell_type": "markdown",
   "metadata": {},
   "source": [
    "## Ejercicios prácticos y preguntas de reflexión\n",
    "\n",
    "1. **Identifica dependencias rígidas**: Analiza un módulo que dependa directamente de implementaciones concretas. ¿Cómo podrías introducir una abstracción?\n",
    "2. **Refactoriza**: Usa interfaces o clases abstractas para desacoplar módulos de alto y bajo nivel.\n",
    "3. **Pregunta de reflexión**: ¿Qué ventajas aporta el DIP en proyectos donde los requisitos cambian frecuentemente?\n",
    "\n",
    "## Autoevaluación\n",
    "- ¿Mis módulos de alto nivel dependen de abstracciones y no de detalles?\n",
    "- ¿Qué patrones de diseño ayudan a implementar el DIP?\n",
    "\n",
    "## Referencias y recursos\n",
    "- [Dependency Inversion Principle – Wikipedia](https://en.wikipedia.org/wiki/Dependency_inversion_principle)\n",
    "- [SOLID Principles en Python – Real Python](https://realpython.com/solid-principles-python/)\n",
    "- [Ejemplo didáctico de DIP – Refactoring Guru](https://refactoring.guru/es/design-patterns/dependency-inversion-principle)"
   ]
  },
  {
   "cell_type": "markdown",
   "metadata": {},
   "source": [
    "1. EJEMPLO PRÁCTICO \n",
    "--------------------------------------------------\n",
    "*Uso correcto:*"
   ]
  },
  {
   "cell_type": "code",
   "execution_count": null,
   "metadata": {},
   "outputs": [],
   "source": [
    "\n",
    "from abc import ABC, abstractmethod\n",
    "\n",
    "class Archivo(ABC):\n",
    "    @abstractmethod\n",
    "    def exportar(self, data: str) -> None:\n",
    "        pass\n",
    "\n",
    "\n",
    "class CsvArchivo(Archivo):\n",
    "    def exportar(self, data: str) -> None:\n",
    "        print(f\"Exportando datos a archivo CSV: {data}\")\n",
    "\n",
    "class PdfArchivo(Archivo):\n",
    "    def exportar(self, data: str) -> None:\n",
    "        print(f\"Exportando datos a archivo PDF: {data}\")\n",
    "\n",
    "class XmlArchivo(Archivo):\n",
    "    def __init__(self, archivo: Archivo) -> None:\n",
    "        self.archivo: Archivo = archivo\n",
    "\n",
    "    def exportar(self, data: str) -> None:\n",
    "        self.archivo.exportar(data)\n"
   ]
  },
  {
   "cell_type": "code",
   "execution_count": null,
   "metadata": {},
   "outputs": [
    {
     "name": "stdout",
     "output_type": "stream",
     "text": [
      "Exportando datos a archivo CSV: Datos de ejemplo en csv\n",
      "Exportando datos a archivo PDF: Datos de ejemplo en pdf\n"
     ]
    }
   ],
   "source": [
    "\n",
    "csv_archivo = CsvArchivo()\n",
    "csv_archivo = CsvArchivo()\n",
    "\n",
    "xml_archivo = XmlArchivo(csv_archivo)\n",
    "xml_archivo.exportar(\"Datos de ejemplo en csv\")\n",
    "\n",
    "xml_archivo = XmlArchivo(PdfArchivo())\n",
    "xml_archivo.exportar(\"Datos de ejemplo en pdf\")"
   ]
  },
  {
   "attachments": {
    "image.png": {
     "image/png": "[encoded data removed]"
    }
   },
   "cell_type": "markdown",
   "metadata": {},
   "source": [
    "- DIAGRAMA UML\n",
    "@startuml\n",
    "abstract class Archivo {\n",
    "    + exportar(data: str)\n",
    "}\n",
    "\n",
    "class CsvArchivo {\n",
    "    + exportar(data: str)\n",
    "}\n",
    "\n",
    "class PdfArchivo {\n",
    "    + exportar(data: str)\n",
    "}\n",
    "\n",
    "class XmlArchivo {\n",
    "    - archivo: Archivo\n",
    "    + exportar(data: str)\n",
    "}\n",
    "\n",
    "Archivo <|-- CsvArchivo\n",
    "Archivo <|-- PdfArchivo\n",
    "Archivo <|-- XmlArchivo\n",
    "\n",
    "@enduml\n",
    "\n",
    "URL: \n",
    "https://editor.plantuml.com/uml/SoWkIImgAStDuULAJ2ekAKfCBb58paaiBbPmB4hEo2pBLwZcvL800cs5r8g2_2AWQesKn994AmMWOarUhbfUBbukY0RduZAIzGIaf96i9o8t1qsFha8YHC0Avch2Pi6CiAdHrKLoEfe4mdre4WX7W0npICrB0OSX0000\n",
    "![image.png](attachment:image.png)"
   ]
  },
  {
   "cell_type": "markdown",
   "metadata": {},
   "source": [
    "- VIOLACIÓN DEL PRINCIPIO \n",
    "\n",
    "*Uso incorrecto:*"
   ]
  },
  {
   "cell_type": "code",
   "execution_count": null,
   "metadata": {},
   "outputs": [],
   "source": [
    "class CsvArchivo:\n",
    "    def exportar(self, data: str) -> None:\n",
    "        print(f\"Exportando datos a archivo CSV: {data}\")\n",
    "\n",
    "class XmlArchivo:\n",
    "    def __init__(self) -> None:\n",
    "       self.archivo = CsvArchivo()\n",
    "\n",
    "    def exportar(self, data: str) -> None:\n",
    "        self.archivo.exportar(data)\n"
   ]
  },
  {
   "cell_type": "code",
   "execution_count": 7,
   "metadata": {},
   "outputs": [
    {
     "name": "stdout",
     "output_type": "stream",
     "text": [
      "Exportando datos a archivo CSV: Cargando exportación \n"
     ]
    }
   ],
   "source": [
    "# Ejemplo de uso\n",
    "xml_archivo = XmlArchivo()\n",
    "xml_archivo.exportar(\"Cargando exportación \")"
   ]
  }
 ],
 "metadata": {
  "kernelspec": {
   "display_name": "venv",
   "language": "python",
   "name": "python3"
  },
  "language_info": {
   "codemirror_mode": {
    "name": "ipython",
    "version": 3
   },
   "file_extension": ".py",
   "mimetype": "text/x-python",
   "name": "python",
   "nbconvert_exporter": "python",
   "pygments_lexer": "ipython3",
   "version": "3.13.7"
  }
 },
 "nbformat": 4,
 "nbformat_minor": 2
}
