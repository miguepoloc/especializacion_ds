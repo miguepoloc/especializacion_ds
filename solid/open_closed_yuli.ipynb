{
 "cells": [
  {
   "cell_type": "markdown",
   "metadata": {},
   "source": [
    "# Principio Open Closed"
   ]
  },
  {
   "cell_type": "markdown",
   "metadata": {},
   "source": [
    "### Antes"
   ]
  },
  {
   "cell_type": "code",
   "execution_count": 1,
   "metadata": {},
   "outputs": [],
   "source": [
    "class Pago:\n",
    "    def __init__(self, metodo: str, monto: float) -> None:\n",
    "        self.metodo: str = metodo\n",
    "        self.monto: float = monto\n",
    "\n",
    "    def procesar_pago(self) -> None:\n",
    "        if self.metodo == \"tarjeta\":\n",
    "            print(f\"Procesando pago con tarjeta por un monto de ${self.monto}\")\n",
    "        elif self.metodo == \"transferencia\":\n",
    "            print(f\"Procesando pago con transferencia por un monto de ${self.monto}\")\n",
    "        elif self.metodo == \"efectivo\":\n",
    "            print(f\"Recibiendo pago en efectivo por un monto de ${self.monto}\")\n",
    "        else:\n",
    "            print(\"Método de pago no válido\")"
   ]
  },
  {
   "cell_type": "code",
   "execution_count": 2,
   "metadata": {},
   "outputs": [
    {
     "name": "stdout",
     "output_type": "stream",
     "text": [
      "Procesando pago con tarjeta por un monto de $50.0\n"
     ]
    }
   ],
   "source": [
    "pago1 = Pago(metodo=\"tarjeta\", monto=50.0)\n",
    "pago1.procesar_pago()"
   ]
  },
  {
   "cell_type": "code",
   "execution_count": 3,
   "metadata": {},
   "outputs": [
    {
     "name": "stdout",
     "output_type": "stream",
     "text": [
      "Recibiendo pago en efectivo por un monto de $100.0\n"
     ]
    }
   ],
   "source": [
    "pago2 = Pago(metodo=\"efectivo\", monto=100.0)\n",
    "pago2.procesar_pago()"
   ]
  },
  {
   "cell_type": "markdown",
   "metadata": {},
   "source": [
    "### Después"
   ]
  },
  {
   "cell_type": "code",
   "execution_count": 4,
   "metadata": {},
   "outputs": [],
   "source": [
    "from abc import ABC, abstractmethod\n",
    "\n",
    "class MetodoPago(ABC):\n",
    "    @abstractmethod\n",
    "    def procesar_pago(self, monto: float) -> None:\n",
    "        pass\n",
    "\n",
    "class Tarjeta(MetodoPago):\n",
    "    def procesar_pago(self, monto: float) -> None:\n",
    "        print(f\"Procesando pago con tarjeta por un monto de ${monto}\")\n",
    "\n",
    "class Transferencia(MetodoPago):\n",
    "    def procesar_pago(self, monto: float) -> None:\n",
    "        print(f\"Procesando pago con transferencia por un monto de ${monto}\")\n",
    "\n",
    "class Efectivo(MetodoPago):\n",
    "    def procesar_pago(self, monto: float) -> None:\n",
    "        print(f\"Recibiendo pago en efectivo por un monto de ${monto}\")\n",
    "\n",
    "class Pago:\n",
    "    def __init__(self, metodo_pago: MetodoPago, monto: float) -> None:\n",
    "        self.metodo_pago: MetodoPago = metodo_pago\n",
    "        self.monto: float = monto\n",
    "\n",
    "    def procesar_pago(self) -> None:\n",
    "        self.metodo_pago.procesar_pago(self.monto)"
   ]
  },
  {
   "cell_type": "code",
   "execution_count": 5,
   "metadata": {},
   "outputs": [
    {
     "name": "stdout",
     "output_type": "stream",
     "text": [
      "Procesando pago con tarjeta por un monto de $50.0\n"
     ]
    }
   ],
   "source": [
    "pago1 = Pago(metodo_pago=Tarjeta(), monto=50.0)\n",
    "pago1.procesar_pago()"
   ]
  },
  {
   "cell_type": "code",
   "execution_count": 6,
   "metadata": {},
   "outputs": [
    {
     "name": "stdout",
     "output_type": "stream",
     "text": [
      "Recibiendo pago en efectivo por un monto de $100.0\n"
     ]
    }
   ],
   "source": [
    "pago2 = Pago(metodo_pago=Efectivo(), monto=100.0)\n",
    "pago2.procesar_pago()"
   ]
  }
 ],
 "metadata": {
  "kernelspec": {
   "display_name": "base",
   "language": "python",
   "name": "python3"
  },
  "language_info": {
   "codemirror_mode": {
    "name": "ipython",
    "version": 3
   },
   "file_extension": ".py",
   "mimetype": "text/x-python",
   "name": "python",
   "nbconvert_exporter": "python",
   "pygments_lexer": "ipython3",
   "version": "3.7.1"
  }
 },
 "nbformat": 4,
 "nbformat_minor": 2
}
