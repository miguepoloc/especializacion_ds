{
 "cells": [
  {
   "cell_type": "markdown",
   "metadata": {},
   "source": [
    "# Principio de Segregación de Interfaces (Interface Segregation Principle)\n",
    "\n",
    "## Introducción\n",
    "El principio de segregación de interfaces (ISP) indica que los clientes no deben verse forzados a depender de interfaces que no utilizan. Es preferible tener varias interfaces específicas en lugar de una general.\n",
    "\n",
    "## Objetivos\n",
    "- Comprender el principio de segregación de interfaces y su aplicación en Python.\n",
    "- Identificar violaciones al ISP en jerarquías de clases.\n",
    "- Aplicar el ISP para crear sistemas más flexibles y desacoplados.\n",
    "\n",
    "## Ejemplo de la vida real\n",
    "En una cafetería, el menú para clientes y el menú para empleados son diferentes: cada uno ve solo lo que necesita, no todo el menú completo."
   ]
  },
  {
   "cell_type": "markdown",
   "metadata": {},
   "source": [
    "# Principio de Segregación de Interfaces (Interface Segregation Principle, ISP)\n",
    "\n",
    "## Introducción\n",
    "\n",
    "El Principio de Segregación de Interfaces (ISP) es uno de los cinco principios SOLID de diseño orientado a objetos. Fue introducido por Robert C. Martin y establece que los clientes no deberían verse obligados a depender de interfaces que no utilizan. En otras palabras, es mejor tener muchas interfaces específicas y pequeñas que una única interfaz general y grande."
   ]
  },
  {
   "cell_type": "markdown",
   "metadata": {},
   "source": [
    "## Explicación Detallada\n",
    "\n",
    "### Definición\n",
    "\n",
    "- **ISP**: Los clientes no deberían verse obligados a depender de interfaces que no utilizan.\n",
    "\n",
    "### Beneficios del ISP\n",
    "\n",
    "1. **Mantenibilidad**: Facilita la modificación del código sin afectar a los clientes que no utilizan ciertas funcionalidades.\n",
    "\n",
    "2. **Reusabilidad**: Promueve la creación de interfaces específicas y reutilizables.\n",
    "\n",
    "3. **Flexibilidad**: Permite a los clientes depender solo de las funcionalidades que realmente necesitan."
   ]
  },
  {
   "cell_type": "markdown",
   "metadata": {},
   "source": [
    "## Ejemplos Explicados\n",
    "\n",
    "### Ejemplo Correcto\n",
    "\n",
    "Supongamos que estamos desarrollando una aplicación para gestionar diferentes tipos de trabajadores. Aplicando el ISP, podríamos tener las siguientes interfaces y clases:\n"
   ]
  },
  {
   "cell_type": "code",
   "execution_count": 1,
   "metadata": {},
   "outputs": [],
   "source": [
    "from abc import ABC, abstractmethod\n",
    "\n",
    "class Worker(ABC):\n",
    "    @abstractmethod\n",
    "    def work(self) -> None:\n",
    "        pass\n",
    "\n",
    "class Eater(ABC):\n",
    "    @abstractmethod\n",
    "    def eat(self) -> None:\n",
    "        pass\n",
    "\n",
    "class Developer(Worker, Eater):\n",
    "    def work(self) -> None:\n",
    "        print(\"El desarrollador está trabajando.\")\n",
    "\n",
    "    def eat(self) -> None:\n",
    "        print(\"El desarrollador está comiendo.\")\n",
    "\n",
    "class Robot(Worker):\n",
    "    def work(self) -> None:\n",
    "        print(\"El robot está trabajando.\")"
   ]
  },
  {
   "cell_type": "code",
   "execution_count": 2,
   "metadata": {},
   "outputs": [
    {
     "name": "stdout",
     "output_type": "stream",
     "text": [
      "El desarrollador está trabajando.\n",
      "El desarrollador está comiendo.\n",
      "El robot está trabajando.\n"
     ]
    }
   ],
   "source": [
    "# Ejemplo de uso\n",
    "developer = Developer()\n",
    "robot = Robot()\n",
    "\n",
    "developer.work()\n",
    "developer.eat()\n",
    "robot.work()"
   ]
  },
  {
   "cell_type": "markdown",
   "metadata": {},
   "source": [
    "#### Análisis del Ejemplo Correcto\n",
    "\n",
    "- **Worker**: Define la interfaz para trabajar.\n",
    "\n",
    "- **Eater**: Define la interfaz para comer.\n",
    "\n",
    "- **Developer**: Implementa ambas interfaces, ya que un desarrollador puede trabajar y comer.\n",
    "\n",
    "- **Robot**: Implementa solo la interfaz `Worker`, ya que un robot solo puede trabajar.\n",
    "\n",
    "Este diseño permite que los clientes dependan solo de las interfaces que realmente necesitan. Por ejemplo, un cliente que necesita un trabajador solo necesita depender de la interfaz `Worker`."
   ]
  },
  {
   "cell_type": "markdown",
   "metadata": {},
   "source": [
    "### Ejemplo de Violación del ISP\n",
    "\n",
    "Veamos un ejemplo donde se viola el ISP:"
   ]
  },
  {
   "cell_type": "code",
   "execution_count": 3,
   "metadata": {},
   "outputs": [],
   "source": [
    "class Worker:\n",
    "    def work(self) -> None:\n",
    "        pass\n",
    "\n",
    "    def eat(self) -> None:\n",
    "        pass\n",
    "\n",
    "class Developer(Worker):\n",
    "    def work(self) -> None:\n",
    "        print(\"El desarrollador está trabajando.\")\n",
    "\n",
    "    def eat(self) -> None:\n",
    "        print(\"El desarrollador está comiendo.\")\n",
    "\n",
    "class Robot(Worker):\n",
    "    def work(self) -> None:\n",
    "        print(\"El robot está trabajando.\")\n",
    "\n",
    "    def eat(self) -> None:\n",
    "        # Los robots no comen, pero deben implementar este método\n",
    "        pass"
   ]
  },
  {
   "cell_type": "code",
   "execution_count": 4,
   "metadata": {},
   "outputs": [
    {
     "name": "stdout",
     "output_type": "stream",
     "text": [
      "El desarrollador está trabajando.\n",
      "El desarrollador está comiendo.\n",
      "El robot está trabajando.\n"
     ]
    }
   ],
   "source": [
    "# Ejemplo de uso\n",
    "developer = Developer()\n",
    "robot = Robot()\n",
    "\n",
    "developer.work()\n",
    "developer.eat()\n",
    "robot.work()\n",
    "robot.eat()  # Este método no tiene sentido para un robot"
   ]
  },
  {
   "cell_type": "markdown",
   "metadata": {},
   "source": [
    "#### Análisis del Ejemplo Incorrecto\n",
    "\n",
    "- **Worker**: Tiene métodos que no son relevantes para todos los clientes (por ejemplo, `eat` para un robot).\n",
    "\n",
    "- **Robot**: Se ve obligado a implementar el método `eat`, aunque no tiene sentido para un robot.\n",
    "\n",
    "Este diseño viola el ISP porque los clientes (en este caso, `Robot`) se ven obligados a depender de métodos que no utilizan."
   ]
  },
  {
   "cell_type": "markdown",
   "metadata": {},
   "source": [
    "## Conclusión\n",
    "\n",
    "1. **Reducción de Dependencias**: El ISP reduce las dependencias innecesarias entre los clientes y las interfaces.\n",
    "\n",
    "2. **Mantenibilidad**: Mejora la mantenibilidad del código al permitir cambios en las interfaces sin afectar a todos los clientes.\n",
    "\n",
    "3. **Reusabilidad**: Promueve la creación de interfaces específicas y reutilizables.\n",
    "\n",
    "4. **Flexibilidad**: Permite a los clientes depender solo de las funcionalidades que realmente necesitan.\n",
    "\n",
    "Aplicar el ISP puede requerir la creación de múltiples interfaces específicas, pero los beneficios en términos de flexibilidad y mantenibilidad del software son significativos."
   ]
  },
  {
   "cell_type": "markdown",
   "metadata": {},
   "source": [
    "## Ejercicios prácticos y preguntas de reflexión\n",
    "\n",
    "1. **Divide interfaces**: Observa una clase que implemente métodos que no utiliza. ¿Cómo podrías dividir la interfaz para que cada clase implemente solo lo necesario?\n",
    "2. **Refactoriza**: Crea varias interfaces pequeñas y haz que las clases implementen solo las que requieran.\n",
    "3. **Pregunta de reflexión**: ¿Qué problemas surgen cuando una clase depende de métodos que no usa?\n",
    "\n",
    "## Autoevaluación\n",
    "- ¿Mis clases implementan solo los métodos que realmente necesitan?\n",
    "- ¿Qué ventajas aporta el ISP en proyectos grandes y colaborativos?\n",
    "\n",
    "## Referencias y recursos\n",
    "- [Interface Segregation Principle – Wikipedia](https://en.wikipedia.org/wiki/Interface_segregation_principle)\n",
    "- [SOLID Principles en Python – Real Python](https://realpython.com/solid-principles-python/)\n",
    "- [Ejemplo didáctico de ISP – Refactoring Guru](https://refactoring.guru/es/design-patterns/interface-segregation-principle)"
   ]
  },
  {
   "cell_type": "code",
   "execution_count": null,
   "metadata": {},
   "outputs": [
    {
     "name": "stdout",
     "output_type": "stream",
     "text": [
      "Cargando el teléfono inteligente.\n",
      "Tomando fotos con el teléfono inteligente.\n",
      "Cargando la radio.\n",
      "Reproduciendo música en la radio.\n"
     ]
    }
   ],
   "source": [
    "# ejercicio 1 viola ISP\n",
    "class dispositivo_electronico:\n",
    "    def cargar(self) -> None:\n",
    "        pass\n",
    "    def reproducir_musica(self) -> None:\n",
    "        pass\n",
    "    def tomar_fotos(self) -> None:\n",
    "        pass\n",
    "\n",
    "class telefono_inteligente(dispositivo_electronico):\n",
    "    def cargar(self) -> None:\n",
    "        print(\"Cargando el teléfono inteligente.\")\n",
    "    def reproducir_musica(self) -> None:\n",
    "        print(\"Reproduciendo música en el teléfono inteligente.\")\n",
    "    def tomar_fotos(self) -> None:\n",
    "        print(\"Tomando fotos con el teléfono inteligente.\")\n",
    "\n",
    "class radio(dispositivo_electronico):\n",
    "    def cargar(self) -> None:\n",
    "        print(\"Cargando la radio.\")\n",
    "    def reproducir_musica(self) -> None:\n",
    "        print(\"Reproduciendo música en la radio.\")\n",
    "    def tomar_fotos(self) -> None:\n",
    "        pass\n",
    "\n",
    "telefono = telefono_inteligente()\n",
    "radio_portatil = radio()\n",
    "telefono.cargar()\n",
    "telefono.tomar_fotos()\n",
    "radio_portatil.cargar()\n",
    "radio_portatil.reproducir_musica()\n",
    "radio_portatil.tomar_fotos()  #la radio no puede tomar fotos"
   ]
  },
  {
   "attachments": {
    "image.png": {
     "image/png": "[encoded data removed]"
    }
   },
   "cell_type": "markdown",
   "metadata": {},
   "source": [
    "![image.png](attachment:image.png)"
   ]
  },
  {
   "cell_type": "markdown",
   "metadata": {},
   "source": [
    "@startuml\n",
    "class dispositivo_electronico {\n",
    "    + cargar() : void\n",
    "    + reproducir_musica() : void\n",
    "    + tomar_fotos() : void\n",
    "}\n",
    "\n",
    "class telefono_inteligente {\n",
    "    + cargar() : void\n",
    "    + reproducir_musica() : void\n",
    "    + tomar_fotos() : void\n",
    "}\n",
    "\n",
    "class radio {\n",
    "    + cargar() : void\n",
    "    + reproducir_musica() : void\n",
    "    + tomar_fotos() : void\n",
    "}\n",
    "\n",
    "dispositivo_electronico <|-- telefono_inteligente\n",
    "dispositivo_electronico <|-- radio\n",
    "@enduml"
   ]
  },
  {
   "cell_type": "code",
   "execution_count": null,
   "metadata": {},
   "outputs": [
    {
     "name": "stdout",
     "output_type": "stream",
     "text": [
      "Cargando el teléfono inteligente.\n",
      "Tomando fotos con el teléfono inteligente.\n",
      "Cargando la radio.\n",
      "Reproduciendo música en la radio.\n"
     ]
    }
   ],
   "source": [
    "# ejercicio 2 cumple ISP\n",
    "from abc import ABC, abstractmethod\n",
    "\n",
    "class Cargable(ABC):\n",
    "    @abstractmethod\n",
    "    def cargar(self) -> None:\n",
    "        pass\n",
    "\n",
    "class ReproductorMusica(ABC):\n",
    "    @abstractmethod\n",
    "    def reproducir_musica(self) -> None:\n",
    "        pass\n",
    "\n",
    "class Camara(ABC):\n",
    "    @abstractmethod\n",
    "    def tomar_fotos(self) -> None:\n",
    "        pass\n",
    "\n",
    "\n",
    "class TelefonoInteligente(Cargable, ReproductorMusica, Camara):\n",
    "    def cargar(self) -> None:\n",
    "        print(\"Cargando el teléfono inteligente.\")\n",
    "\n",
    "    def reproducir_musica(self) -> None:\n",
    "        print(\"Reproduciendo música en el teléfono inteligente.\")\n",
    "\n",
    "    def tomar_fotos(self) -> None:\n",
    "        print(\"Tomando fotos con el teléfono inteligente.\")\n",
    "\n",
    "class Radio(Cargable, ReproductorMusica):\n",
    "    def cargar(self) -> None:\n",
    "        print(\"Cargando la radio.\")\n",
    "\n",
    "    def reproducir_musica(self) -> None:\n",
    "        print(\"Reproduciendo música en la radio.\")\n",
    "\n",
    "\n",
    "telefono = TelefonoInteligente()\n",
    "radio_portatil = Radio()\n",
    "\n",
    "telefono.cargar()\n",
    "telefono.tomar_fotos()\n",
    "radio_portatil.cargar()\n",
    "radio_portatil.reproducir_musica()"
   ]
  },
  {
   "attachments": {
    "image.png": {
     "image/png": "[encoded data removed]"
    }
   },
   "cell_type": "markdown",
   "metadata": {},
   "source": [
    "![image.png](attachment:image.png)"
   ]
  },
  {
   "cell_type": "markdown",
   "metadata": {},
   "source": [
    "@startuml\n",
    "interface Cargable {\n",
    "    + cargar(): void\n",
    "}\n",
    "\n",
    "interface ReproductorMusica {\n",
    "    + reproducir_musica(): void\n",
    "}\n",
    "\n",
    "interface Camara {\n",
    "    + tomar_fotos(): void\n",
    "}\n",
    "\n",
    "class TelefonoInteligente {\n",
    "    + cargar(): void\n",
    "    + reproducir_musica(): void\n",
    "    + tomar_fotos(): void\n",
    "}\n",
    "\n",
    "class Radio {\n",
    "    + cargar(): void\n",
    "    + reproducir_musica(): void\n",
    "}\n",
    "\n",
    "Cargable <|-- TelefonoInteligente\n",
    "ReproductorMusica <|-- TelefonoInteligente\n",
    "Camara <|-- TelefonoInteligente\n",
    "\n",
    "Cargable <|-- Radio\n",
    "ReproductorMusica <|-- Radio\n",
    "@enduml"
   ]
  }
 ],
 "metadata": {
  "kernelspec": {
   "display_name": "Python 3",
   "language": "python",
   "name": "python3"
  },
  "language_info": {
   "codemirror_mode": {
    "name": "ipython",
    "version": 3
   },
   "file_extension": ".py",
   "mimetype": "text/x-python",
   "name": "python",
   "nbconvert_exporter": "python",
   "pygments_lexer": "ipython3",
   "version": "3.13.7"
  }
 },
 "nbformat": 4,
 "nbformat_minor": 2
}
