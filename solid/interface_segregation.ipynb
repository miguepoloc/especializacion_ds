{
 "cells": [
  {
   "cell_type": "markdown",
   "metadata": {},
   "source": [
    "# Principio de Segregación de Interfaces (Interface Segregation Principle)\n",
    "\n",
    "## Introducción\n",
    "El principio de segregación de interfaces (ISP) indica que los clientes no deben verse forzados a depender de interfaces que no utilizan. Es preferible tener varias interfaces específicas en lugar de una general.\n",
    "\n",
    "## Objetivos\n",
    "- Comprender el principio de segregación de interfaces y su aplicación en Python.\n",
    "- Identificar violaciones al ISP en jerarquías de clases.\n",
    "- Aplicar el ISP para crear sistemas más flexibles y desacoplados.\n",
    "\n",
    "## Ejemplo de la vida real\n",
    "En una cafetería, el menú para clientes y el menú para empleados son diferentes: cada uno ve solo lo que necesita, no todo el menú completo."
   ]
  },
  {
   "cell_type": "markdown",
   "metadata": {},
   "source": [
    "# Principio de Segregación de Interfaces (Interface Segregation Principle, ISP)\n",
    "\n",
    "## Introducción\n",
    "\n",
    "El Principio de Segregación de Interfaces (ISP) es uno de los cinco principios SOLID de diseño orientado a objetos. Fue introducido por Robert C. Martin y establece que los clientes no deberían verse obligados a depender de interfaces que no utilizan. En otras palabras, es mejor tener muchas interfaces específicas y pequeñas que una única interfaz general y grande."
   ]
  },
  {
   "cell_type": "markdown",
   "metadata": {},
   "source": [
    "## Explicación Detallada\n",
    "\n",
    "### Definición\n",
    "\n",
    "- **ISP**: Los clientes no deberían verse obligados a depender de interfaces que no utilizan.\n",
    "\n",
    "### Beneficios del ISP\n",
    "\n",
    "1. **Mantenibilidad**: Facilita la modificación del código sin afectar a los clientes que no utilizan ciertas funcionalidades.\n",
    "\n",
    "2. **Reusabilidad**: Promueve la creación de interfaces específicas y reutilizables.\n",
    "\n",
    "3. **Flexibilidad**: Permite a los clientes depender solo de las funcionalidades que realmente necesitan."
   ]
  },
  {
   "cell_type": "markdown",
   "metadata": {},
   "source": [
    "## Ejemplos Explicados\n",
    "\n",
    "### Ejemplo Correcto\n",
    "\n",
    "Supongamos que estamos desarrollando una aplicación para gestionar diferentes tipos de trabajadores. Aplicando el ISP, podríamos tener las siguientes interfaces y clases:\n"
   ]
  },
  {
   "cell_type": "code",
   "execution_count": 1,
   "metadata": {},
   "outputs": [],
   "source": [
    "from abc import ABC, abstractmethod\n",
    "\n",
    "class Worker(ABC):\n",
    "    @abstractmethod\n",
    "    def work(self) -> None:\n",
    "        pass\n",
    "\n",
    "class Eater(ABC):\n",
    "    @abstractmethod\n",
    "    def eat(self) -> None:\n",
    "        pass\n",
    "\n",
    "class Developer(Worker, Eater):\n",
    "    def work(self) -> None:\n",
    "        print(\"El desarrollador está trabajando.\")\n",
    "\n",
    "    def eat(self) -> None:\n",
    "        print(\"El desarrollador está comiendo.\")\n",
    "\n",
    "class Robot(Worker):\n",
    "    def work(self) -> None:\n",
    "        print(\"El robot está trabajando.\")"
   ]
  },
  {
   "cell_type": "code",
   "execution_count": 2,
   "metadata": {},
   "outputs": [
    {
     "name": "stdout",
     "output_type": "stream",
     "text": [
      "El desarrollador está trabajando.\n",
      "El desarrollador está comiendo.\n",
      "El robot está trabajando.\n"
     ]
    }
   ],
   "source": [
    "# Ejemplo de uso\n",
    "developer = Developer()\n",
    "robot = Robot()\n",
    "\n",
    "developer.work()\n",
    "developer.eat()\n",
    "robot.work()"
   ]
  },
  {
   "cell_type": "markdown",
   "metadata": {},
   "source": [
    "#### Análisis del Ejemplo Correcto\n",
    "\n",
    "- **Worker**: Define la interfaz para trabajar.\n",
    "\n",
    "- **Eater**: Define la interfaz para comer.\n",
    "\n",
    "- **Developer**: Implementa ambas interfaces, ya que un desarrollador puede trabajar y comer.\n",
    "\n",
    "- **Robot**: Implementa solo la interfaz `Worker`, ya que un robot solo puede trabajar.\n",
    "\n",
    "Este diseño permite que los clientes dependan solo de las interfaces que realmente necesitan. Por ejemplo, un cliente que necesita un trabajador solo necesita depender de la interfaz `Worker`."
   ]
  },
  {
   "cell_type": "markdown",
   "metadata": {},
   "source": [
    "### Ejemplo de Violación del ISP\n",
    "\n",
    "Veamos un ejemplo donde se viola el ISP:"
   ]
  },
  {
   "cell_type": "code",
   "execution_count": 3,
   "metadata": {},
   "outputs": [],
   "source": [
    "class Worker:\n",
    "    def work(self) -> None:\n",
    "        pass\n",
    "\n",
    "    def eat(self) -> None:\n",
    "        pass\n",
    "\n",
    "class Developer(Worker):\n",
    "    def work(self) -> None:\n",
    "        print(\"El desarrollador está trabajando.\")\n",
    "\n",
    "    def eat(self) -> None:\n",
    "        print(\"El desarrollador está comiendo.\")\n",
    "\n",
    "class Robot(Worker):\n",
    "    def work(self) -> None:\n",
    "        print(\"El robot está trabajando.\")\n",
    "\n",
    "    def eat(self) -> None:\n",
    "        # Los robots no comen, pero deben implementar este método\n",
    "        pass"
   ]
  },
  {
   "cell_type": "code",
   "execution_count": 4,
   "metadata": {},
   "outputs": [
    {
     "name": "stdout",
     "output_type": "stream",
     "text": [
      "El desarrollador está trabajando.\n",
      "El desarrollador está comiendo.\n",
      "El robot está trabajando.\n"
     ]
    }
   ],
   "source": [
    "# Ejemplo de uso\n",
    "developer = Developer()\n",
    "robot = Robot()\n",
    "\n",
    "developer.work()\n",
    "developer.eat()\n",
    "robot.work()\n",
    "robot.eat()  # Este método no tiene sentido para un robot"
   ]
  },
  {
   "cell_type": "markdown",
   "metadata": {},
   "source": [
    "#### Análisis del Ejemplo Incorrecto\n",
    "\n",
    "- **Worker**: Tiene métodos que no son relevantes para todos los clientes (por ejemplo, `eat` para un robot).\n",
    "\n",
    "- **Robot**: Se ve obligado a implementar el método `eat`, aunque no tiene sentido para un robot.\n",
    "\n",
    "Este diseño viola el ISP porque los clientes (en este caso, `Robot`) se ven obligados a depender de métodos que no utilizan."
   ]
  },
  {
   "cell_type": "markdown",
   "metadata": {},
   "source": [
    "## Conclusión\n",
    "\n",
    "1. **Reducción de Dependencias**: El ISP reduce las dependencias innecesarias entre los clientes y las interfaces.\n",
    "\n",
    "2. **Mantenibilidad**: Mejora la mantenibilidad del código al permitir cambios en las interfaces sin afectar a todos los clientes.\n",
    "\n",
    "3. **Reusabilidad**: Promueve la creación de interfaces específicas y reutilizables.\n",
    "\n",
    "4. **Flexibilidad**: Permite a los clientes depender solo de las funcionalidades que realmente necesitan.\n",
    "\n",
    "Aplicar el ISP puede requerir la creación de múltiples interfaces específicas, pero los beneficios en términos de flexibilidad y mantenibilidad del software son significativos."
   ]
  },
  {
   "cell_type": "markdown",
   "metadata": {},
   "source": [
    "## Ejercicios prácticos y preguntas de reflexión\n",
    "\n",
    "1. **Divide interfaces**: Observa una clase que implemente métodos que no utiliza. ¿Cómo podrías dividir la interfaz para que cada clase implemente solo lo necesario?"
   ]
  },
  {
   "cell_type": "code",
   "execution_count": null,
   "metadata": {},
   "outputs": [],
   "source": [
    "from abc import ABC, abstractmethod\n",
    "class MultiFunctionPrinter(ABC):\n",
    "\n",
    "    @abstractmethod\n",
    "    def print_document(self, document: str) -> None:\n",
    "      pass\n",
    "\n",
    "    @abstractmethod\n",
    "    def scan_document(self, document: str) -> None:\n",
    "      pass\n",
    "\n",
    "    @abstractmethod\n",
    "    def fax_document(self, document: str) -> None:\n",
    "      pass\n",
    "\n",
    "class SimplePrinter(MultiFunctionPrinter):\n",
    "    def print_document(self, document: str) -> None:\n",
    "        print(f\"Imprimiendo documento: {document}\")\n",
    "\n",
    "    #Esta clase se ve obligada a implementar métodos que no utiliza\n",
    "    def scan_document(self, document: str) -> None:\n",
    "      pass\n",
    "\n",
    "    def fax_document(self, document: str) -> None:\n",
    "      pass"
   ]
  },
  {
   "cell_type": "markdown",
   "metadata": {},
   "source": [
    "El ejemplo anterior no cumple con el principio de segregación de interfaz por locual dividimos en varias interfaces para solucionarlo"
   ]
  },
  {
   "cell_type": "code",
   "execution_count": 2,
   "metadata": {},
   "outputs": [],
   "source": [
    "class Printer(ABC):\n",
    "    @abstractmethod\n",
    "    def print_document(self, document: str) -> None:\n",
    "        pass\n",
    "\n",
    "class Scanner(ABC):\n",
    "    @abstractmethod\n",
    "    def scan_document(self, document: str) -> None:\n",
    "        pass\n",
    "\n",
    "class Fax(ABC):\n",
    "    @abstractmethod\n",
    "    def fax_document(self, document: str) -> None:\n",
    "        pass\n",
    "\n",
    "class SimplePrinter(Printer):\n",
    "    def print_document(self, document: str) -> None:\n",
    "        print(f\"Imprimiendo documento: {document}\")\n",
    "\n",
    "class AdvancedPrinter(Printer, Scanner, Fax):\n",
    "    def print_document(self, document: str) -> None:\n",
    "        print(f\"Imprimiendo documento: {document}\")\n",
    "\n",
    "    def scan_document(self, document: str) -> None:\n",
    "        print(f\"Escaneando documento: {document}\")\n",
    "\n",
    "    def fax_document(self, document: str) -> None:\n",
    "        print(f\"Enviando fax del documento: {document}\")"
   ]
  },
  {
   "cell_type": "code",
   "execution_count": 3,
   "metadata": {},
   "outputs": [
    {
     "name": "stdout",
     "output_type": "stream",
     "text": [
      "Imprimiendo documento: Informe anual\n",
      "Escaneando documento: Informe de ventas\n",
      "Enviando fax del documento: Factura de servicios\n"
     ]
    }
   ],
   "source": [
    "# Ejemplo de uso\n",
    "simple_printer = SimplePrinter()\n",
    "advanced_printer = AdvancedPrinter()\n",
    "\n",
    "simple_printer.print_document(\"Informe anual\")\n",
    "advanced_printer.scan_document(\"Informe de ventas\")\n",
    "advanced_printer.fax_document(\"Factura de servicios\")"
   ]
  },
  {
   "cell_type": "raw",
   "metadata": {
    "vscode": {
     "languageId": "raw"
    }
   },
   "source": [
    "@startuml\n",
    "  interface Printer {\n",
    "      +print_document(document: String): void\n",
    "  }\n",
    "\n",
    "  interface Scanner {\n",
    "      +scan_document(document: String): void\n",
    "  }\n",
    "\n",
    "  interface Fax {\n",
    "      +fax_document(document: String): void\n",
    "  }\n",
    "\n",
    "  class SimplePrinter {\n",
    "      +print_document(document: String): void\n",
    "  }\n",
    "\n",
    "  class AdvancedPrinter {\n",
    "      +print_document(document: String): void\n",
    "      +scan_document(document: String): void\n",
    "      +fax_document(document: String): void\n",
    "  }\n",
    "\n",
    "  Printer <|.. SimplePrinter\n",
    "  Scanner <|.. AdvancedPrinter\n",
    "  Fax <|.. AdvancedPrinter\n",
    "  Printer <|.. AdvancedPrinter\n",
    "@enduml"
   ]
  },
  {
   "attachments": {
    "image.png": {
     "image/png": "[encoded data removed]"
    }
   },
   "cell_type": "markdown",
   "metadata": {},
   "source": [
    "![image.png](attachment:image.png)"
   ]
  },
  {
   "cell_type": "markdown",
   "metadata": {},
   "source": [
    "2. **Refactoriza**: Crea varias interfaces pequeñas y haz que las clases implementen solo las que requieran."
   ]
  },
  {
   "cell_type": "code",
   "execution_count": 4,
   "metadata": {},
   "outputs": [],
   "source": [
    "from abc import ABC, abstractmethod\n",
    "\n",
    "class Animal(ABC):\n",
    "    @abstractmethod\n",
    "    def hacer_sonido(self) -> str:\n",
    "        pass\n",
    "\n",
    "class Canino(Animal):\n",
    "    @abstractmethod\n",
    "    def buscar(self) -> str:\n",
    "        pass\n",
    "\n",
    "class Felino(Animal):\n",
    "    @abstractmethod\n",
    "    def trepar(self) -> str:\n",
    "        pass\n",
    "\n",
    "class Perro(Canino):\n",
    "    def hacer_sonido(self) -> str:\n",
    "        return \"Guau\"\n",
    "\n",
    "    def buscar(self) -> str:\n",
    "        return \"Buscando la pelota!\"\n",
    "\n",
    "class Gato(Felino):\n",
    "    def hacer_sonido(self) -> str:\n",
    "        return \"Meow\"\n",
    "\n",
    "    def trepar(self) -> str:\n",
    "        return \"Trepar por el árbol!\""
   ]
  },
  {
   "cell_type": "code",
   "execution_count": 5,
   "metadata": {},
   "outputs": [
    {
     "name": "stdout",
     "output_type": "stream",
     "text": [
      "Guau\n",
      "Buscando la pelota!\n",
      "Meow\n",
      "Trepar por el árbol!\n"
     ]
    }
   ],
   "source": [
    "#ejemplo de uso\n",
    "perro = Perro()\n",
    "gato = Gato()\n",
    "\n",
    "print(perro.hacer_sonido())  # Output: Guau\n",
    "print(perro.buscar())       # Output: Buscando la pelota!\n",
    "\n",
    "print(gato.hacer_sonido())  # Output: Meow\n",
    "print(gato.trepar())       # Output: Trepar por el árbol!"
   ]
  },
  {
   "cell_type": "raw",
   "metadata": {
    "vscode": {
     "languageId": "raw"
    }
   },
   "source": [
    "@startuml\n",
    "  interface Animal {\n",
    "      +hacer_sonido(): str\n",
    "  }\n",
    "\n",
    "  interface Canino {\n",
    "      +buscar(): str\n",
    "  }\n",
    "\n",
    "  interface Felino {\n",
    "      +trepar(): str\n",
    "  }\n",
    "\n",
    "  class Perro {\n",
    "      +hacer_sonido(): str\n",
    "      +buscar(): str\n",
    "  }\n",
    "\n",
    "  class Gato {\n",
    "      +hacer_sonido(): str\n",
    "      +trepar(): str\n",
    "  }\n",
    "  Animal <|.. Canino\n",
    "  Animal <|.. Felino\n",
    "  Canino <|.. Perro\n",
    "  Felino <|.. Gato\n",
    "@enduml"
   ]
  },
  {
   "attachments": {
    "image.png": {
     "image/png": "[encoded data removed]"
    }
   },
   "cell_type": "markdown",
   "metadata": {},
   "source": [
    "![image.png](attachment:image.png)"
   ]
  },
  {
   "cell_type": "markdown",
   "metadata": {},
   "source": [
    "3. **Pregunta de reflexión**: ¿Qué problemas surgen cuando una clase depende de métodos que no usa?\n",
    "\n",
    "- Dificultad para mantener y entender el código.\n",
    "- Aumento del acoplamiento entre clases.\n",
    "- Violación del Principio de Segregación de Interfaces (ISP).\n",
    "- Mayor probabilidad de errores y bugs.\n",
    "- Reducción de la reutilización de código.\n",
    "- Problemas de rendimiento debido a la sobrecarga innecesaria."
   ]
  },
  {
   "cell_type": "markdown",
   "metadata": {},
   "source": [
    "## Autoevaluación\n",
    "1. ¿Mis clases implementan solo los métodos que realmente necesitan?\n",
    "\n",
    "- La clase Perro implementa los métodos hacer_sonido() y buscar(), que son relevantes para su comportamiento.\n",
    "- La clase Gato implementa los métodos hacer_sonido() y trepar(), que son relevantes para su comportamiento.\n",
    "- La clase SimplePrinter implementa solo el método print_document(), que es relevante para su funcionalidad.\n",
    "- La clase AdvancedPrinter implementa los métodos print_document(), scan_document() y fax_document(), que son relevantes para su funcionalidad.\n",
    "Sí, todas las clases implementan solo los métodos que realmente necesitan, cumpliendo con el principio de segregación de interfaces.\n",
    "\n",
    "2. ¿Qué ventajas aporta el ISP en proyectos grandes y colaborativos?\n",
    "\n",
    "- Facilita el mantenimiento y la evolución del código.\n",
    "- Reduce el acoplamiento entre componentes.\n",
    "- Mejora la claridad y comprensión del diseño.\n",
    "- Permite una mayor reutilización de código.\n",
    "- Facilita las pruebas unitarias y la integración.\n",
    "- Fomenta la colaboración entre equipos al definir contratos claros."
   ]
  },
  {
   "cell_type": "markdown",
   "metadata": {},
   "source": [
    "## Referencias y recursos\n",
    "- [Interface Segregation Principle – Wikipedia](https://en.wikipedia.org/wiki/Interface_segregation_principle)\n",
    "- [SOLID Principles en Python – Real Python](https://realpython.com/solid-principles-python/)\n",
    "- [Ejemplo didáctico de ISP – Refactoring Guru](https://refactoring.guru/es/design-patterns/interface-segregation-principle)"
   ]
  }
 ],
 "metadata": {
  "kernelspec": {
   "display_name": "venv",
   "language": "python",
   "name": "python3"
  },
  "language_info": {
   "codemirror_mode": {
    "name": "ipython",
    "version": 3
   },
   "file_extension": ".py",
   "mimetype": "text/x-python",
   "name": "python",
   "nbconvert_exporter": "python",
   "pygments_lexer": "ipython3",
   "version": "3.12.0"
  }
 },
 "nbformat": 4,
 "nbformat_minor": 2
}
