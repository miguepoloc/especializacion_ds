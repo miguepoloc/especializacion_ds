{
 "cells": [
  {
   "cell_type": "markdown",
   "metadata": {},
   "source": [
    "# SOLID Desarrollo"
   ]
  },
  {
   "cell_type": "markdown",
   "metadata": {},
   "source": [
    "# Solid\n",
    "\n",
    "https://editor.plantuml.com/bP71IWD138Rl2_CEeIT5wGFCGGgAlOltaiv43CnabYGZbEAxksiffQmANfFy__ybsPYZUgyb365uvqn0TVG3LAfxKfkhgQ0PF7OInsSMbCIa2CSm0Do1jBfNsZbxBwWHpFNKC2ovHNWh3JqCdnUdBPatVQ9NHJ5CYPkGdUqoZSruOhf9tu5n4NmFjOcVdMyZV3JE9x6Ii_vVUiKcqroUyLuc4lKB6TTHkRBkbAnNabzJhdr_tdQzVbXUDCAg6wvcpPBYRqKODYHvUkCN\n",
    "\n",
    "![S.png](https://img.plantuml.biz/plantuml/png/bP71IWD138Rl2_CEeIT5wGFCGGgAlOltaiv43CnabYGZbEAxksiffQmANfFy__ybsPYZUgyb365uvqn0TVG3LAfxKfkhgQ0PF7OInsSMbCIa2CSm0Do1jBfNsZbxBwWHpFNKC2ovHNWh3JqCdnUdBPatVQ9NHJ5CYPkGdUqoZSruOhf9tu5n4NmFjOcVdMyZV3JE9x6Ii_vVUiKcqroUyLuc4lKB6TTHkRBkbAnNabzJhdr_tdQzVbXUDCAg6wvcpPBYRqKODYHvUkCN)\n",
    "\n",
    "## Ejemplo correcto"
   ]
  },
  {
   "cell_type": "code",
   "execution_count": null,
   "metadata": {},
   "outputs": [],
   "source": [
    "class CuentaFinanciera:\n",
    "    def __init__(self, nombre_titular: str, saldo_inicial: float = 0.0):\n",
    "        self.nombre_titular = nombre_titular\n",
    "        self.saldo = saldo_inicial\n",
    "\n",
    "\n",
    "class GestorDeTransacciones:\n",
    "    def depositar(self, cuenta: CuentaFinanciera, monto: float):\n",
    "        if monto > 0:\n",
    "            cuenta.saldo += monto\n",
    "            print(f\"Ingreso: Se depositaron ${monto:,.2f}\")\n",
    "        else:\n",
    "            print(\"El monto del depósito debe ser positivo.\")\n",
    "\n",
    "    def retirar(self, cuenta: CuentaFinanciera, monto: float):\n",
    "        if 0 < monto <= cuenta.saldo:\n",
    "            cuenta.saldo -= monto\n",
    "            print(f\"Gasto: Se retiraron ${monto:,.2f}\")\n",
    "        else:\n",
    "            print(\"Monto de retiro inválido o fondos insuficientes.\")\n",
    "\n",
    "# 3. Clase para generar reportes\n",
    "class GeneradorDeReportes:\n",
    "    def imprimir_resumen(self, cuenta: CuentaFinanciera):\n",
    "        print(\"--- Reporte de Cuenta ---\")\n",
    "        print(f\"Titular: {cuenta.nombre_titular}\")\n",
    "        print(f\"Saldo Actual: ${cuenta.saldo:,.2f}\")\n",
    "        print(\"-------------------------\")"
   ]
  },
  {
   "cell_type": "code",
   "execution_count": 6,
   "metadata": {},
   "outputs": [
    {
     "name": "stdout",
     "output_type": "stream",
     "text": [
      "--- Reporte de Cuenta ---\n",
      "Titular: Cristian Avila\n",
      "Saldo Actual: $100.00\n",
      "-------------------------\n",
      "Ingreso: Se depositaron $500.00\n",
      "Gasto: Se retiraron $150.00\n",
      "--- Reporte de Cuenta ---\n",
      "Titular: Cristian Avila\n",
      "Saldo Actual: $450.00\n",
      "-------------------------\n"
     ]
    }
   ],
   "source": [
    "if __name__ == \"__main__\":\n",
    "    mi_cuenta = CuentaFinanciera(\"Cristian Avila\", 100.0)\n",
    "\n",
    "    gestor = GestorDeTransacciones()\n",
    "    reportero = GeneradorDeReportes()\n",
    "\n",
    "    reportero.imprimir_resumen(mi_cuenta)\n",
    "\n",
    "    gestor.depositar(mi_cuenta, 500.0)\n",
    "    gestor.retirar(mi_cuenta, 150.0)\n",
    "\n",
    "    reportero.imprimir_resumen(mi_cuenta)"
   ]
  },
  {
   "cell_type": "markdown",
   "metadata": {},
   "source": [
    "## Ejemplo mal aplicado"
   ]
  },
  {
   "cell_type": "code",
   "execution_count": 1,
   "metadata": {},
   "outputs": [],
   "source": [
    "class CuentaFinancieraMalAplicada:\n",
    "    def __init__(self, nombre_titular: str, saldo_inicial: float = 0.0):\n",
    "        self.nombre_titular = nombre_titular\n",
    "        self.saldo = saldo_inicial\n",
    "        print(f\"Cuenta de '{self.nombre_titular}' creada con saldo inicial de ${self.saldo:,.2f}\")\n",
    "\n",
    "    def depositar(self, monto: float):\n",
    "        if monto > 0:\n",
    "            self.saldo += monto\n",
    "            print(f\"Ingreso: Se depositaron ${monto:,.2f}. Nuevo saldo: ${self.saldo:,.2f}\")\n",
    "        else:\n",
    "            print(\"El monto del depósito debe ser positivo.\")\n",
    "\n",
    "    def retirar(self, monto: float):\n",
    "        if 0 < monto <= self.saldo:\n",
    "            self.saldo -= monto\n",
    "            print(f\"Gasto: Se retiraron ${monto:,.2f}. Nuevo saldo: ${self.saldo:,.2f}\")\n",
    "        else:\n",
    "            print(\"Monto de retiro inválido o fondos insuficientes.\")\n",
    "\n",
    "    def imprimir_resumen(self):\n",
    "        print(\"\\n--- Reporte de Cuenta (Mal Aplicado) ---\")\n",
    "        print(f\"Titular: {self.nombre_titular}\")\n",
    "        print(f\"Saldo Actual: ${self.saldo:,.2f}\")\n",
    "        print(\"---------------------------------------\")"
   ]
  },
  {
   "cell_type": "code",
   "execution_count": 2,
   "metadata": {},
   "outputs": [
    {
     "name": "stdout",
     "output_type": "stream",
     "text": [
      "Cuenta de 'Sofía García' creada con saldo inicial de $1,000.00\n",
      "\n",
      "--- Reporte de Cuenta (Mal Aplicado) ---\n",
      "Titular: Sofía García\n",
      "Saldo Actual: $1,000.00\n",
      "---------------------------------------\n",
      "Ingreso: Se depositaron $200.00. Nuevo saldo: $1,200.00\n",
      "Gasto: Se retiraron $50.00. Nuevo saldo: $1,150.00\n",
      "\n",
      "--- Reporte de Cuenta (Mal Aplicado) ---\n",
      "Titular: Sofía García\n",
      "Saldo Actual: $1,150.00\n",
      "---------------------------------------\n"
     ]
    }
   ],
   "source": [
    "# --- Cómo se usaría esta clase \"monolítica\" ---\n",
    "if __name__ == \"__main__\":\n",
    "    mi_cuenta_mala = CuentaFinancieraMalAplicada(\"Sofía García\", 1000.0)\n",
    "\n",
    "    mi_cuenta_mala.imprimir_resumen()\n",
    "\n",
    "    mi_cuenta_mala.depositar(200.0)\n",
    "    mi_cuenta_mala.retirar(50.0)\n",
    "\n",
    "    mi_cuenta_mala.imprimir_resumen()"
   ]
  },
  {
   "cell_type": "markdown",
   "metadata": {},
   "source": [
    "# sOlid\n",
    "\n",
    "## Ejemplo correcto\n",
    "\n",
    "https://editor.plantuml.com/bP112i9034NtXRb3behq0iL5rPMda3WTSI1c8CcugRsx7KgBkX3TVbx-IzAgeLY-aQjSXMSrGM_W2LNXa0CRxf4zIaJeNGMm0OkM2QM1aPqIHUfI0nTAQ5FIpqq3U2HV-5Da2n9qjLx8eJXVLRjh4aawc_uPFV8zYCR4lmv_7BTzrFNx5j-GnLQQsi3T-C0d\n",
    "\n",
    "![O.png](https://img.plantuml.biz/plantuml/png/bP112i9034NtXRb3behq0iL5rPMda3WTSI1c8CcugRsx7KgBkX3TVbx-IzAgeLY-aQjSXMSrGM_W2LNXa0CRxf4zIaJeNGMm0OkM2QM1aPqIHUfI0nTAQ5FIpqq3U2HV-5Da2n9qjLx8eJXVLRjh4aawc_uPFV8zYCR4lmv_7BTzrFNx5j-GnLQQsi3T-C0d)"
   ]
  },
  {
   "cell_type": "code",
   "execution_count": null,
   "metadata": {},
   "outputs": [],
   "source": [
    "from abc import ABC, abstractmethod\n",
    "\n",
    "class CuentaBancaria(ABC):\n",
    "\n",
    "    def __init__(self, titular: str, saldo: float):\n",
    "        self.titular = titular\n",
    "        self.saldo = saldo\n",
    "\n",
    "    @abstractmethod\n",
    "    def calcular_interes(self) -> float:\n",
    "        pass\n",
    "\n",
    "class CuentaAhorros(CuentaBancaria):\n",
    "\n",
    "    def calcular_interes(self) -> float:\n",
    "        tasa_interes_anual = 0.02 # 2% de interés\n",
    "        interes_generado = self.saldo * tasa_interes_anual\n",
    "        print(f\"[Ahorros] Interés para {self.titular}: ${interes_generado:,.2f}\")\n",
    "        return interes_generado\n",
    "\n",
    "class CuentaInversion(CuentaBancaria):\n",
    "\n",
    "    def calcular_interes(self) -> float:\n",
    "        tasa_interes_base = 0.05 # 5% de interés base\n",
    "        bono_rendimiento = 100.0 # Bono fijo\n",
    "        interes_generado = (self.saldo * tasa_interes_base) + bono_rendimiento\n",
    "        print(f\"[Inversión] Interés para {self.titular}: ${interes_generado:,.2f}\")\n",
    "        return interes_generado\n",
    "\n",
    "def procesar_cuentas(cuentas: list[CuentaBancaria]):\n",
    "\n",
    "    interes_total = 0\n",
    "    for cuenta in cuentas:\n",
    "        interes_total += cuenta.calcular_interes()\n",
    "    print(f\"\\nInterés total a pagar por el banco: ${interes_total:,.2f}\")\n"
   ]
  },
  {
   "cell_type": "code",
   "execution_count": 8,
   "metadata": {},
   "outputs": [
    {
     "name": "stdout",
     "output_type": "stream",
     "text": [
      "--- Procesando Intereses del Mes ---\n",
      "[Ahorros] Interés para Maria Isabel: $200.00\n",
      "[Inversión] Interés para Cristian Avila: $2,600.00\n",
      "\n",
      "Interés total a pagar por el banco: $2,800.00\n",
      "\n",
      "--- ¡Nuevo tipo de cuenta añadido sin cambiar el código! ---\n"
     ]
    }
   ],
   "source": [
    "if __name__ == \"__main__\":\n",
    "    cuenta1 = CuentaAhorros(\"Maria Isabel\", 10000.0)\n",
    "    cuenta2 = CuentaInversion(\"Cristian Avila\", 50000.0)\n",
    "\n",
    "    lista_cuentas = [cuenta1, cuenta2]\n",
    "\n",
    "    print(\"--- Procesando Intereses del Mes ---\")\n",
    "    procesar_cuentas(lista_cuentas)\n",
    "\n",
    "    print(\"\\n--- ¡Nuevo tipo de cuenta añadido sin cambiar el código! ---\")"
   ]
  },
  {
   "cell_type": "markdown",
   "metadata": {},
   "source": [
    "## Ejemplo Incorrecto"
   ]
  },
  {
   "cell_type": "code",
   "execution_count": null,
   "metadata": {},
   "outputs": [],
   "source": [
    "class CuentaBancaria:\n",
    "    def __init__(self, tipo_cuenta: str, saldo: float):\n",
    "        self.tipo_cuenta = tipo_cuenta\n",
    "        self.saldo = saldo\n",
    "\n",
    "class CalculadoraIntereses:\n",
    "    def calcular(self, cuenta: CuentaBancaria) -> float:\n",
    "        interes = 0.0\n",
    "        if cuenta.tipo_cuenta == \"ahorros\":\n",
    "            interes = cuenta.saldo * 0.02\n",
    "        elif cuenta.tipo_cuenta == \"inversion\":\n",
    "            interes = cuenta.saldo * 0.05\n",
    "        return interes"
   ]
  },
  {
   "cell_type": "code",
   "execution_count": 10,
   "metadata": {},
   "outputs": [
    {
     "name": "stdout",
     "output_type": "stream",
     "text": [
      "Interés Ahorros: $20.0\n",
      "Interés Inversión: $50.0\n"
     ]
    }
   ],
   "source": [
    "cuenta_ahorros = CuentaBancaria(tipo_cuenta=\"ahorros\", saldo=1000)\n",
    "cuenta_inversion = CuentaBancaria(tipo_cuenta=\"inversion\", saldo=1000)\n",
    "\n",
    "calculadora = CalculadoraIntereses()\n",
    "\n",
    "print(f\"Interés Ahorros: ${calculadora.calcular(cuenta_ahorros)}\")\n",
    "print(f\"Interés Inversión: ${calculadora.calcular(cuenta_inversion)}\")"
   ]
  },
  {
   "cell_type": "markdown",
   "metadata": {},
   "source": [
    "# soLid\n",
    "\n",
    "https://editor.plantuml.com/dP6nJiD044HxI_w7bIiYa3_0Yb14qgHpGOycvqrqaNqNxUrHOFplEIiOH9mKKE_isvdPLL28ngxDipopJbdsC4nR5rHYnqxzXciSFFLvHlH8FNPf0gC32QEr7v2tKve_T3vfAzgt7hgeA8doR1YXfaK8z0evic8jt5Zzflq9iOx93bxW3CJYNuXQlE60niibLPWeV6GJTQBOd_JLl8edkhhoxctpTMRUs_ApBA_ItvNzJZZoveRByld6ToegOa0nhgpODUcVPm00\n",
    "\n",
    "![L.png](https://img.plantuml.biz/plantuml/png/dP6nJiD044HxI_w7bIiYa3_0Yb14qgHpGOycvqrqaNqNxUrHOFplEIiOH9mKKE_isvdPLL28ngxDipopJbdsC4nR5rHYnqxzXciSFFLvHlH8FNPf0gC32QEr7v2tKve_T3vfAzgt7hgeA8doR1YXfaK8z0evic8jt5Zzflq9iOx93bxW3CJYNuXQlE60niibLPWeV6GJTQBOd_JLl8edkhhoxctpTMRUs_ApBA_ItvNzJZZoveRByld6ToegOa0nhgpODUcVPm00)\n",
    "\n",
    "## Ejemplo correcto"
   ]
  },
  {
   "cell_type": "code",
   "execution_count": null,
   "metadata": {},
   "outputs": [],
   "source": [
    "from abc import ABC, abstractmethod\n",
    "\n",
    "class InstrumentoDePago(ABC):\n",
    "    @abstractmethod\n",
    "    def realizar_pago(self, monto: float) -> str:\n",
    "        pass\n",
    "\n",
    "class TarjetaCredito(InstrumentoDePago):\n",
    "    def realizar_pago(self, monto: float) -> str:\n",
    "        print(f\"Validando tarjeta de crédito...\")\n",
    "        return f\"Pago de ${monto:,.2f} realizado con Tarjeta de Crédito.\"\n",
    "\n",
    "class CuentaBancaria(InstrumentoDePago):\n",
    "    def realizar_pago(self, monto: float) -> str:\n",
    "        print(f\"Conectando con el banco...\")\n",
    "        return f\"Pago de ${monto:,.2f} debitado de la Cuenta Bancaria.\"\n",
    "\n",
    "class ProcesadorDePagos:\n",
    "    def ejecutar_pago(self, instrumento: InstrumentoDePago, monto: float):\n",
    "        resultado = instrumento.realizar_pago(monto)\n",
    "        print(resultado)"
   ]
  },
  {
   "cell_type": "code",
   "execution_count": null,
   "metadata": {},
   "outputs": [],
   "source": [
    "# --- Ejemplo de uso ---\n",
    "tarjeta = TarjetaCredito()\n",
    "cuenta = CuentaBancaria()\n",
    "procesador = ProcesadorDePagos()\n",
    "\n",
    "print(\"Procesando con Tarjeta:\")\n",
    "procesador.ejecutar_pago(instrumento=tarjeta, monto=150.0)\n",
    "\n",
    "print(\"\\nProcesando con Cuenta Bancaria:\")\n",
    "procesador.ejecutar_pago(instrumento=cuenta, monto=300.0)"
   ]
  },
  {
   "cell_type": "markdown",
   "metadata": {},
   "source": [
    "## Ejemplo Incorrecto"
   ]
  },
  {
   "cell_type": "code",
   "execution_count": null,
   "metadata": {},
   "outputs": [
    {
     "ename": "NameError",
     "evalue": "name 'InstrumentoDePago' is not defined",
     "output_type": "error",
     "traceback": [
      "\u001b[31m---------------------------------------------------------------------------\u001b[39m",
      "\u001b[31mNameError\u001b[39m                                 Traceback (most recent call last)",
      "\u001b[36mCell\u001b[39m\u001b[36m \u001b[39m\u001b[32mIn[11]\u001b[39m\u001b[32m, line 4\u001b[39m\n\u001b[32m      1\u001b[39m \u001b[38;5;66;03m# (Asumimos que la clase padre 'InstrumentoDePago' ya existe)\u001b[39;00m\n\u001b[32m      2\u001b[39m \n\u001b[32m      3\u001b[39m \u001b[38;5;66;03m# --- Clase Hija que viola el contrato ---\u001b[39;00m\n\u001b[32m----> \u001b[39m\u001b[32m4\u001b[39m \u001b[38;5;28;01mclass\u001b[39;00m\u001b[38;5;250m \u001b[39m\u001b[34;01mCuentaDeAhorrosLimitada\u001b[39;00m(\u001b[43mInstrumentoDePago\u001b[49m):\n\u001b[32m      5\u001b[39m     \u001b[38;5;28;01mdef\u001b[39;00m\u001b[38;5;250m \u001b[39m\u001b[34m__init__\u001b[39m(\u001b[38;5;28mself\u001b[39m, saldo: \u001b[38;5;28mfloat\u001b[39m, limite_retiro: \u001b[38;5;28mfloat\u001b[39m):\n\u001b[32m      6\u001b[39m         \u001b[38;5;28mself\u001b[39m.saldo = saldo\n",
      "\u001b[31mNameError\u001b[39m: name 'InstrumentoDePago' is not defined"
     ]
    }
   ],
   "source": [
    "# (Asumimos que la clase padre 'InstrumentoDePago' ya existe)\n",
    "\n",
    "# --- Clase Hija que viola el contrato ---\n",
    "class CuentaDeAhorrosLimitada(InstrumentoDePago):\n",
    "    def __init__(self, saldo: float, limite_retiro: float):\n",
    "        self.saldo = saldo\n",
    "        self.limite_retiro = limite_retiro\n",
    "\n",
    "    def realizar_pago(self, monto: float):\n",
    "        if monto > self.limite_retiro:\n",
    "            print(\"Error: El monto supera el límite de retiro.\")\n",
    "            return None\n",
    "        else:\n",
    "            self.saldo -= monto\n",
    "            return f\"Pago exitoso. Saldo restante: ${self.saldo:,.2f}\"\n",
    "\n",
    "# --- Uso que viola LSP ---\n",
    "cuenta_limitada = CuentaDeAhorrosLimitada(saldo=5000, limite_retiro=1000)\n",
    "procesador = ProcesadorDePagos()\n",
    "resultado = procesador.ejecutar_pago(instrumento=cuenta_limitada, monto=2000)\n",
    "\n",
    "print(\"Confirmación:\", resultado.upper())"
   ]
  },
  {
   "cell_type": "markdown",
   "metadata": {},
   "source": [
    "# solId\n",
    "\n",
    "https://editor.plantuml.com/ZP513e9040Jlc-mVvgWnyG740qOUGFp104FSPDaniuCNvEyAqQW4bNDtgZlTQLGKRHjlZJKkA4cD9K56PuvEiV04dJK06-YmY2fOQW_LGvLLmq4vWTepwZg12xlAclwJTIHryeKae_QBKtgC4Guj1SMCzYSMuVWa_IaoM9Ocv1v3HZc5w3ZGqeGHy3xMxhhTJjjQyvfWNfzXJFeCdfH2TN_g1W00\n",
    "\n",
    "![I.png](https://img.plantuml.biz/plantuml/png/ZP513e9040Jlc-mVvgWnyG740qOUGFp104FSPDaniuCNvEyAqQW4bNDtgZlTQLGKRHjlZJKkA4cD9K56PuvEiV04dJK06-YmY2fOQW_LGvLLmq4vWTepwZg12xlAclwJTIHryeKae_QBKtgC4Guj1SMCzYSMuVWa_IaoM9Ocv1v3HZc5w3ZGqeGHy3xMxhhTJjjQyvfWNfzXJFeCdfH2TN_g1W00)\n",
    "\n",
    "## Ejemplo Correcto"
   ]
  },
  {
   "cell_type": "code",
   "execution_count": null,
   "metadata": {},
   "outputs": [],
   "source": [
    "from abc import ABC, abstractmethod\n",
    "\n",
    "class Depositable(ABC):\n",
    "    @abstractmethod\n",
    "    def depositar(self, monto: float) -> None:\n",
    "        pass\n",
    "\n",
    "class Retirable(ABC):\n",
    "    @abstractmethod\n",
    "    def retirar(self, monto: float) -> None:\n",
    "        pass\n",
    "\n",
    "\n",
    "class CuentaDeAhorros(Depositable, Retirable):\n",
    "    def depositar(self, monto: float) -> None:\n",
    "        print(f\"Depositando ${monto:,.2f} en la cuenta de ahorros.\")\n",
    "\n",
    "    def retirar(self, monto: float) -> None:\n",
    "        print(f\"Retirando ${monto:,.2f} de la cuenta de ahorros.\")\n",
    "\n",
    "class PlanDePensiones(Depositable):\n",
    "    def depositar(self, monto: float) -> None:\n",
    "        print(f\"Aportando ${monto:,.2f} al plan de pensiones.\")\n"
   ]
  },
  {
   "cell_type": "code",
   "execution_count": null,
   "metadata": {},
   "outputs": [
    {
     "name": "stdout",
     "output_type": "stream",
     "text": [
      "Depositando $500.00 en la cuenta de ahorros.\n",
      "Retirando $100.00 de la cuenta de ahorros.\n",
      "Aportando $300.00 al plan de pensiones.\n"
     ]
    }
   ],
   "source": [
    "# --- Ejemplo de uso ---\n",
    "cuenta = CuentaDeAhorros()\n",
    "pension = PlanDePensiones()\n",
    "\n",
    "cuenta.depositar(500)\n",
    "cuenta.retirar(100)\n",
    "\n",
    "pension.depositar(300)"
   ]
  },
  {
   "cell_type": "markdown",
   "metadata": {},
   "source": [
    "## Ejemplo Incorrecto"
   ]
  },
  {
   "cell_type": "code",
   "execution_count": null,
   "metadata": {},
   "outputs": [],
   "source": [
    "class IOperacionBancaria:\n",
    "    def depositar(self, monto: float) -> None:\n",
    "        pass\n",
    "\n",
    "    def retirar(self, monto: float) -> None:\n",
    "        pass\n",
    "\n",
    "class CuentaDeAhorros(IOperacionBancaria):\n",
    "    def depositar(self, monto: float) -> None:\n",
    "        print(f\"Depositando ${monto:,.2f} en la cuenta de ahorros.\")\n",
    "\n",
    "    def retirar(self, monto: float) -> None:\n",
    "        print(f\"Retirando ${monto:,.2f} de la cuenta de ahorros.\")\n",
    "\n",
    "class PlanDePensiones(IOperacionBancaria):\n",
    "    def depositar(self, monto: float) -> None:\n",
    "        print(f\"Aportando ${monto:,.2f} al plan de pensiones.\")\n",
    "\n",
    "    def retirar(self, monto: float) -> None:\n",
    "        print(\"Operación no permitida para un Plan de Pensiones.\")\n",
    "        pass"
   ]
  },
  {
   "cell_type": "code",
   "execution_count": 4,
   "metadata": {},
   "outputs": [
    {
     "name": "stdout",
     "output_type": "stream",
     "text": [
      "Depositando $500.00 en la cuenta de ahorros.\n",
      "Retirando $100.00 de la cuenta de ahorros.\n",
      "Aportando $300.00 al plan de pensiones.\n",
      "Operación no permitida para un Plan de Pensiones.\n"
     ]
    }
   ],
   "source": [
    "# --- Ejemplo de uso ---\n",
    "cuenta = CuentaDeAhorros()\n",
    "pension = PlanDePensiones()\n",
    "\n",
    "cuenta.depositar(500)\n",
    "cuenta.retirar(100)\n",
    "\n",
    "pension.depositar(300)\n",
    "pension.retirar(50)"
   ]
  },
  {
   "cell_type": "markdown",
   "metadata": {},
   "source": [
    "# soliD\n",
    "\n",
    "https://editor.plantuml.com/bP513e8m44NtJNg7MMeC782uG4Cqx8mN84Cx9YH8pNHmWznTAhWGNU1oClFV_xzDlI1BUwsrqgfgXFY2XY0_j3GC6MKepaEd5S06EYozC1hfmPL23N5XmtwrJg2kl6ZL1uofqNlu8EopD-DFuUwKBrSUmnwjuupET7CiD4MFuFA25fP6UJ9hE3eO9kI2HsbmkBlAJWwp5za-udXUSS7HK2V0VWLrKVGLIgkK6ZlypXC0\n",
    "\n",
    "![D.png](https://img.plantuml.biz/plantuml/png/bP513e8m44NtJNg7MMeC782uG4Cqx8mN84Cx9YH8pNHmWznTAhWGNU1oClFV_xzDlI1BUwsrqgfgXFY2XY0_j3GC6MKepaEd5S06EYozC1hfmPL23N5XmtwrJg2kl6ZL1uofqNlu8EopD-DFuUwKBrSUmnwjuupET7CiD4MFuFA25fP6UJ9hE3eO9kI2HsbmkBlAJWwp5za-udXUSS7HK2V0VWLrKVGLIgkK6ZlypXC0)\n",
    "\n",
    "## Ejemplo Correcto"
   ]
  },
  {
   "cell_type": "code",
   "execution_count": 11,
   "metadata": {},
   "outputs": [],
   "source": [
    "from abc import ABC, abstractmethod\n",
    "\n",
    "class IFuenteDeDatos(ABC):\n",
    "    @abstractmethod\n",
    "    def obtener_datos(self) -> list:\n",
    "        pass\n",
    "\n",
    "class FuenteDeDatosBD(IFuenteDeDatos):\n",
    "    def obtener_datos(self) -> list:\n",
    "        print(\"Obteniendo datos desde la Base de Datos...\")\n",
    "        return [\"DB: Venta 1\", \"DB: Venta 2\"]\n",
    "\n",
    "class FuenteDeDatosAPI(IFuenteDeDatos):\n",
    "    def obtener_datos(self) -> list:\n",
    "        print(\"Obteniendo datos desde una API externa...\")\n",
    "        return [\"API: Gasto 1\", \"API: Gasto 2\"]\n",
    "\n",
    "class GeneradorDeReportes:\n",
    "    # Asegúrate de que el parámetro 'fuente' esté aquí\n",
    "    def __init__(self, fuente: IFuenteDeDatos):\n",
    "        self.fuente_de_datos = fuente\n",
    "\n",
    "    def crear_reporte(self):\n",
    "        print(\"--- Creando Reporte Financiero ---\")\n",
    "        datos = self.fuente_de_datos.obtener_datos()\n",
    "        for linea in datos:\n",
    "            print(f\"- {linea}\")\n",
    "            from abc import ABC, abstractmethod"
   ]
  },
  {
   "cell_type": "code",
   "execution_count": 12,
   "metadata": {},
   "outputs": [
    {
     "name": "stdout",
     "output_type": "stream",
     "text": [
      "--- Creando Reporte Financiero ---\n",
      "Obteniendo datos desde la Base de Datos...\n",
      "- DB: Venta 1\n",
      "- DB: Venta 2\n",
      "\n",
      "\n",
      "--- Creando Reporte Financiero ---\n",
      "Obteniendo datos desde una API externa...\n",
      "- API: Gasto 1\n",
      "- API: Gasto 2\n"
     ]
    }
   ],
   "source": [
    "# --- Ejemplo de uso ---\n",
    "fuente_db = FuenteDeDatosBD()\n",
    "fuente_api = FuenteDeDatosAPI()\n",
    "\n",
    "reporte_con_db = GeneradorDeReportes(fuente=fuente_db)\n",
    "reporte_con_db.crear_reporte()\n",
    "\n",
    "print(\"\\n\")\n",
    "\n",
    "reporte_con_api = GeneradorDeReportes(fuente=fuente_api)\n",
    "reporte_con_api.crear_reporte()"
   ]
  },
  {
   "cell_type": "markdown",
   "metadata": {},
   "source": [
    "## Ejemplo Incorrecto"
   ]
  },
  {
   "cell_type": "code",
   "execution_count": 2,
   "metadata": {},
   "outputs": [],
   "source": [
    "class FuenteDeDatosBD:\n",
    "    def obtener_datos(self) -> list:\n",
    "        print(\"Obteniendo datos desde la Base de Datos...\")\n",
    "        return [\"DB: Venta 1\", \"DB: Venta 2\"]\n",
    "\n",
    "class GeneradorDeReportes:\n",
    "    def __init__(self):\n",
    "        self.fuente = FuenteDeDatosBD()\n",
    "\n",
    "    def crear_reporte(self):\n",
    "        print(\"--- Creando Reporte Financiero ---\")\n",
    "        datos = self.fuente.obtener_datos()\n",
    "        for linea in datos:\n",
    "            print(f\"- {linea}\")"
   ]
  },
  {
   "cell_type": "code",
   "execution_count": 3,
   "metadata": {},
   "outputs": [
    {
     "name": "stdout",
     "output_type": "stream",
     "text": [
      "--- Creando Reporte Financiero ---\n",
      "Obteniendo datos desde la Base de Datos...\n",
      "- DB: Venta 1\n",
      "- DB: Venta 2\n"
     ]
    }
   ],
   "source": [
    "# --- Ejemplo de uso ---\n",
    "reporte_malo = GeneradorDeReportes()\n",
    "reporte_malo.crear_reporte()"
   ]
  }
 ],
 "metadata": {
  "kernelspec": {
   "display_name": "venv",
   "language": "python",
   "name": "python3"
  },
  "language_info": {
   "codemirror_mode": {
    "name": "ipython",
    "version": 3
   },
   "file_extension": ".py",
   "mimetype": "text/x-python",
   "name": "python",
   "nbconvert_exporter": "python",
   "pygments_lexer": "ipython3",
   "version": "3.13.7"
  }
 },
 "nbformat": 4,
 "nbformat_minor": 2
}
