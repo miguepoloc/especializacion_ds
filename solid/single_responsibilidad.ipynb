{
 "cells": [
  {
   "cell_type": "markdown",
   "metadata": {},
   "source": [
    "# Principio de responsabilidad única"
   ]
  },
  {
   "cell_type": "markdown",
   "metadata": {},
   "source": [
    "### Antes"
   ]
  },
  {
   "cell_type": "code",
   "execution_count": 35,
   "metadata": {},
   "outputs": [],
   "source": [
    "class Estudiante:\n",
    "    def __init__(self, nombre: str, nota1:float, nota2:float, nota3:float, nota4:float) -> None:\n",
    "        self.nombre: str = nombre\n",
    "        self.nota1: float =nota1\n",
    "        self.nota2: float =nota2\n",
    "        self.nota3: float =nota3\n",
    "        self.nota4: float =nota4\n",
    "\n",
    "    def get_Nombre(self) -> str:\n",
    "        return self.nombre\n",
    "\n",
    "    def calcular_nota(self) -> str:\n",
    "        return (self.nota1 + self.nota2 + self.nota3 + self.nota4) / 4\n",
    "\n",
    "    def print_nota(self) -> None:\n",
    "        print(\"Reporte de notas\")\n",
    "        print(\"Nombre: \", self.get_Nombre())\n",
    "        print(\"Nota 1: \", self.nota1)\n",
    "        print(\"Nota 2: \", self.nota2)\n",
    "        print(\"Nota 3: \", self.nota3)\n",
    "        print(\"Nota 4: \", self.nota4)\n",
    "        print(\"El promedio de notas es: \", self.calcular_nota())"
   ]
  },
  {
   "cell_type": "code",
   "execution_count": 36,
   "metadata": {},
   "outputs": [
    {
     "name": "stdout",
     "output_type": "stream",
     "text": [
      "Reporte de notas\n",
      "Nombre:  Juan\n",
      "Nota 1:  1.5\n",
      "Nota 2:  3.0\n",
      "Nota 3:  4.5\n",
      "Nota 4:  5.0\n",
      "El promedio de notas es:  3.5\n"
     ]
    }
   ],
   "source": [
    "estudiante1 = Estudiante(\"Juan\", 1.5, 3.0, 4.5, 5.0)\n",
    "estudiante1.print_nota()"
   ]
  },
  {
   "cell_type": "markdown",
   "metadata": {},
   "source": [
    "### Despues"
   ]
  },
  {
   "cell_type": "code",
   "execution_count": 37,
   "metadata": {},
   "outputs": [
    {
     "name": "stdout",
     "output_type": "stream",
     "text": [
      "Reporte de notas\n",
      "Nombre:  Juan\n",
      "Nota 1:  1.5\n",
      "Nota 2:  3.0\n",
      "Nota 3:  4.5\n",
      "Nota 4:  5.0\n",
      "El promedio de notas es:  3.5\n"
     ]
    }
   ],
   "source": [
    "class Estudiante:\n",
    "    def __init__(self, nombre: str, nota1: float, nota2: float, nota3: float, nota4: float) -> None:\n",
    "        self.nombre: str = nombre\n",
    "        self.nota1: float = nota1\n",
    "        self.nota2: float = nota2\n",
    "        self.nota3: float = nota3\n",
    "        self.nota4: float = nota4\n",
    "\n",
    "    def get_nombre(self) -> str:\n",
    "        return self.nombre\n",
    "\n",
    "\n",
    "class Reporte:\n",
    "    def __init__(self, estudiante: Estudiante) -> None:\n",
    "        self.estudiante: Estudiante = estudiante\n",
    "\n",
    "    def calcular_promedio(self) -> float:\n",
    "        return (self.estudiante.nota1 + self.estudiante.nota2 + self.estudiante.nota3 + self.estudiante.nota4) / 4\n",
    "\n",
    "    def imprimir_reporte(self) -> None:\n",
    "        print(\"Reporte de notas\")\n",
    "        print(\"Nombre: \", self.estudiante.get_nombre())\n",
    "        print(\"Nota 1: \", self.estudiante.nota1)\n",
    "        print(\"Nota 2: \", self.estudiante.nota2)\n",
    "        print(\"Nota 3: \", self.estudiante.nota3)\n",
    "        print(\"Nota 4: \", self.estudiante.nota4)\n",
    "        print(\"El promedio de notas es: \", self.calcular_promedio())\n",
    "\n",
    "estudiante1 = Estudiante(\"Juan\", 1.5, 3.0, 4.5, 5.0)\n",
    "reporte_estudiante1 = Reporte(estudiante1)\n",
    "reporte_estudiante1.imprimir_reporte()\n"
   ]
  },
  {
   "cell_type": "code",
   "execution_count": 38,
   "metadata": {},
   "outputs": [
    {
     "name": "stdout",
     "output_type": "stream",
     "text": [
      "Reporte de notas\n",
      "Nombre:  Pedro\n",
      "Nota 1:  2.5\n",
      "Nota 2:  4.0\n",
      "Nota 3:  3.5\n",
      "Nota 4:  4.0\n",
      "El promedio de notas es:  3.5\n"
     ]
    }
   ],
   "source": [
    "estudiante2 = Estudiante(\"Pedro\", 2.5, 4.0, 3.5, 4.0)\n",
    "reporte_estudiante2 = Reporte(estudiante2)\n",
    "reporte_estudiante2.imprimir_reporte()"
   ]
  }
 ],
 "metadata": {
  "kernelspec": {
   "display_name": ".venv",
   "language": "python",
   "name": "python3"
  },
  "language_info": {
   "codemirror_mode": {
    "name": "ipython",
    "version": 3
   },
   "file_extension": ".py",
   "mimetype": "text/x-python",
   "name": "python",
   "nbconvert_exporter": "python",
   "pygments_lexer": "ipython3",
   "version": "3.7.1"
  }
 },
 "nbformat": 4,
 "nbformat_minor": 2
}
