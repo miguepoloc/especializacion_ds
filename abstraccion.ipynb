{
 "cells": [
  {
   "cell_type": "markdown",
   "metadata": {},
   "source": [
    "# Abstracción en Programación Orientada a Objetos\n",
    "\n",
    "Bienvenido/a. En esta lección aprenderás el concepto de abstracción, clave para modelar sistemas complejos de forma sencilla y efectiva en POO.\n",
    "\n",
    "## Objetivos\n",
    "- Comprender qué es la abstracción y su importancia en POO.\n",
    "- Identificar cómo aplicar la abstracción en el diseño de clases.\n",
    "- Relacionar la abstracción con ejemplos de la vida real.\n",
    "\n",
    "---\n",
    "\n",
    "**Ejemplo de la vida real:** Cuando conduces un coche, solo te interesa el volante, los pedales y el tablero. No necesitas saber cómo funciona el motor internamente: eso es abstracción."
   ]
  },
  {
   "cell_type": "markdown",
   "metadata": {},
   "source": [
    "# Abstracción en Programación Orientada a Objetos\n",
    "\n",
    "La abstracción es un concepto fundamental en la Programación Orientada a Objetos (POO) que permite simplificar sistemas complejos al modelar clases apropiadas para el problema en cuestión, centrándose en los detalles importantes y ocultando la complejidad innecesaria.\n",
    "\n",
    "## Explicación\n",
    "La abstracción permite:\n",
    "\n",
    "1. **Simplificar la realidad**: Representar objetos del mundo real de manera simplificada en el código.\n",
    "\n",
    "2. **Ocultar detalles de implementación**: Exponer sólo la interfaz necesaria y ocultar los detalles internos de la implementación.\n",
    "\n",
    "3. **Mejorar la mantenibilidad**: Facilitar cambios en la implementación sin afectar el código que usa la abstracción.\n",
    "\n",
    "4. **Promover la reutilización**: Crear componentes más genéricos y reutilizables."
   ]
  },
  {
   "cell_type": "markdown",
   "metadata": {},
   "source": [
    "## Ejemplos prácticos\n",
    "\n",
    "### Ejemplo 1: Simulación de vuelo\n",
    "\n",
    "En este ejemplo, la clase `AirPlane` es una abstracción de un avión real. Observemos cómo se aplica la abstracción:\n",
    "\n",
    "1. **Atributos relevantes**: Se han seleccionado solo los atributos más importantes para la simulación (velocidad, altitud, ángulos de rotación).\n",
    "\n",
    "2. **Método simplificado**: El método `fly()` es una representación simplificada del vuelo real.\n",
    "\n",
    "3. **Representación en cadena**: El método `__str__()` proporciona una representación concisa del estado del avión."
   ]
  },
  {
   "cell_type": "code",
   "execution_count": 9,
   "metadata": {},
   "outputs": [],
   "source": [
    "class AirPlane:\n",
    "    def __init__(self, speed: int, altitude: int, roll_angle: int, pitch_angle: int, yaw_angle: int) -> None:\n",
    "        self.speed: int = speed\n",
    "        self.altitude: int = altitude\n",
    "        self.roll_angle: int = roll_angle\n",
    "        self.pitch_angle: int = pitch_angle\n",
    "        self.yaw_angle: int = yaw_angle\n",
    "\n",
    "    def fly(self) -> None:\n",
    "        print(f\"Airplane is flying at {self.speed} km/h\")\n",
    "\n",
    "# si no deseamos ver la velocidad y lo demás se elimina la línea de código que viene abajo JC \n",
    "    def __str__(self) -> str:\n",
    "       return f\"{self.speed} km/h, {self.altitude} m, {self.roll_angle}°, {self.pitch_angle}°, {self.yaw_angle}°\""
   ]
  },
  {
   "cell_type": "code",
   "execution_count": 10,
   "metadata": {},
   "outputs": [
    {
     "name": "stdout",
     "output_type": "stream",
     "text": [
      "900 km/h, 10000 m, 0°, 0°, 0°\n",
      "Airplane is flying at 900 km/h\n"
     ]
    }
   ],
   "source": [
    "air_plane = AirPlane(speed=900, altitude=10000, roll_angle=0, pitch_angle=0, yaw_angle=0)\n",
    "print(air_plane)\n",
    "air_plane.fly()"
   ]
  },
  {
   "cell_type": "markdown",
   "metadata": {},
   "source": [
    "\n",
    "### Ejemplo 2: Reserva de vuelo\n",
    "\n",
    "En este segundo ejemplo, la clase `AirPlane` es una abstracción centrada en la reserva de asientos. Veamos cómo se aplica la abstracción:\n",
    "\n",
    "1. **Atributos simplificados**: Solo se consideran el número de asientos y si es VIP.\n",
    "\n",
    "2. **Métodos específicos**: Se incluyen métodos relevantes para la reserva (`reserve_seat`, `validate_seat`, `get_price`).\n",
    "\n",
    "3. **Encapsulación**: La validación de asientos está encapsulada en un método separado.\n",
    "\n",
    "4. **Lógica de precios simplificada**: Se usa una lógica simple para determinar el precio basado en el número de asiento."
   ]
  },
  {
   "cell_type": "code",
   "execution_count": 3,
   "metadata": {},
   "outputs": [],
   "source": [
    "class AirPlane:\n",
    "    def __init__(self, seats: int, is_vip: bool) -> None:\n",
    "        self.seats: int = seats\n",
    "        self.is_vip: bool = is_vip\n",
    "\n",
    "    def reserve_seat(self, seat_number: int) -> None:\n",
    "        if not self.validate_seat(seat_number):\n",
    "            print(f\"Seat number {seat_number} is not valid\")\n",
    "            return\n",
    "        print(f\"Seat number {seat_number} is reserved\")\n",
    "\n",
    "    def validate_seat(self, seat_number: int) -> bool:\n",
    "        return seat_number <= self.seats\n",
    "\n",
    "    def get_price(self, seat_number: int) -> float:\n",
    "        if 0 < seat_number <= self.seats // 2:\n",
    "            return 100.0\n",
    "        return 200.0\n",
    "\n",
    "    def __str__(self) -> str:\n",
    "        return f\"{self.seats} seats\""
   ]
  },
  {
   "cell_type": "code",
   "execution_count": 4,
   "metadata": {},
   "outputs": [
    {
     "name": "stdout",
     "output_type": "stream",
     "text": [
      "150 seats\n",
      "Seat number 10 is reserved\n",
      "200.0\n",
      "Seat number 200 is not valid\n"
     ]
    }
   ],
   "source": [
    "air_plane = AirPlane(seats=150, is_vip=False)\n",
    "print(air_plane)\n",
    "air_plane.reserve_seat(seat_number=10)\n",
    "print(air_plane.get_price(seat_number=120))\n",
    "air_plane.reserve_seat(seat_number=200)"
   ]
  },
  {
   "cell_type": "code",
   "execution_count": null,
   "metadata": {},
   "outputs": [],
   "source": []
  },
  {
   "cell_type": "markdown",
   "metadata": {},
   "source": [
    "## Ejercicios prácticos y preguntas de reflexión\n",
    "\n",
    "1. Piensa en otro objeto del mundo real (por ejemplo, un teléfono móvil). ¿Qué atributos y métodos incluirías en su clase para aplicar la abstracción?\n",
    "2. Modifica la clase `AirPlane` para agregar un método que simule el aterrizaje.\n",
    "3. ¿Por qué es útil ocultar detalles de implementación en una clase?\n",
    "\n",
    "### Autoevaluación\n",
    "- ¿Qué ventajas aporta la abstracción al desarrollo de software?\n",
    "- ¿Puedes dar un ejemplo de abstracción en tu vida diaria?"
   ]
  },
  {
   "cell_type": "code",
   "execution_count": null,
   "metadata": {},
   "outputs": [
    {
     "name": "stdout",
     "output_type": "stream",
     "text": [
      "El automóvil se está moviendo a una velocidad hasta 180 km/h.\n",
      "El avión se está moviendo a una velocidad hasta 900 km/h.\n"
     ]
    }
   ],
   "source": [
    "# Ejercicio 1A - Piensa en otro objeto del mundo real (por ejemplo, un teléfono móvil). ¿Qué atributos y métodos incluirías en su clase para aplicar la abstracción?\n",
    "\n",
    "class Transporte:\n",
    "    def __init__(self, tipo, velocidad_maxima):\n",
    "        self.tipo = tipo\n",
    "        self.velocidad_maxima = velocidad_maxima\n",
    "\n",
    "    def mover(self):\n",
    "        print(f\"El {self.tipo} se está moviendo a una velocidad hasta {self.velocidad_maxima} km/h.\")\n",
    "\n",
    "\n",
    "auto = Transporte(\"automóvil\", 180)\n",
    "auto.mover()\n",
    "\n",
    "avion = Transporte(\"avión\", 900)\n",
    "avion.mover()"
   ]
  },
  {
   "cell_type": "code",
   "execution_count": 15,
   "metadata": {},
   "outputs": [
    {
     "name": "stdout",
     "output_type": "stream",
     "text": [
      "Viajando por transporte terrestre desde Santa Marta hasta Bogotá.\n",
      "Viajando por transporte aéreo desde Cartagena hasta Medellín.\n"
     ]
    }
   ],
   "source": [
    "# Ejercicio 1B - Piensa en otro objeto del mundo real (por ejemplo, un teléfono móvil). ¿Qué atributos y métodos incluirías en su clase para aplicar la abstracción?\n",
    "\n",
    "class ServicioTransporte:\n",
    "    def __init__(self, origen, destino, tipo_servicio):\n",
    "        self.origen = origen\n",
    "        self.destino = destino\n",
    "        self.tipo_servicio = tipo_servicio\n",
    "\n",
    "    def enviar(self):\n",
    "        print(f\"Viajando por {self.tipo_servicio} desde {self.origen} hasta {self.destino}.\")\n",
    "\n",
    "\n",
    "envio = ServicioTransporte(\"Santa Marta\", \"Bogotá\", \"transporte terrestre\")\n",
    "envio.enviar()\n",
    "\n",
    "pasajero = ServicioTransporte(\"Cartagena\", \"Medellín\", \"transporte aéreo\")\n",
    "pasajero.enviar()"
   ]
  },
  {
   "cell_type": "code",
   "execution_count": 18,
   "metadata": {},
   "outputs": [
    {
     "name": "stdout",
     "output_type": "stream",
     "text": [
      "El avión Boeing 777 está volando a 10000 metros.\n",
      "El avión Boeing 777 está descendiendo para aterrizar...\n",
      "El avión Boeing 777 ha aterrizado con éxito.\n",
      "El avión Boeing 777 ya está en tierra.\n"
     ]
    }
   ],
   "source": [
    "# Ejercicio 2 - Modifica la clase `AirPlane` para agregar un método que simule el aterrizaje.\n",
    "\n",
    "class AirPlane:\n",
    "    def __init__(self, modelo, altitud_actual):\n",
    "        self.modelo = modelo\n",
    "        self.altitud_actual = altitud_actual  # en pies o metros\n",
    "\n",
    "    def volar(self):\n",
    "        print(f\"El avión {self.modelo} está volando a {self.altitud_actual} metros.\")\n",
    "\n",
    "    def aterrizar(self):\n",
    "        if self.altitud_actual > 0:\n",
    "            print(f\"El avión {self.modelo} está descendiendo para aterrizar...\")\n",
    "            self.altitud_actual = 0\n",
    "            print(f\"El avión {self.modelo} ha aterrizado con éxito.\")\n",
    "        else:\n",
    "            print(f\"El avión {self.modelo} ya está en tierra.\")\n",
    "\n",
    "\n",
    "\n",
    "avion1 = AirPlane(\"Boeing 777\", 10000)\n",
    "avion1.volar()\n",
    "avion1.aterrizar()\n",
    "avion1.aterrizar()  # Segunda vez para mostrar que ya está en tierra"
   ]
  },
  {
   "cell_type": "markdown",
   "metadata": {},
   "source": [
    "## Ejercicio 3 - ¿Por qué es útil ocultar detalles de implementación en una clase?\n",
    "\n",
    "1. Protege la integridad de los datos\n",
    "Evita que el usuario del objeto modifique directamente atributos internos de forma incorrecta o peligrosa.\n",
    "\n",
    "Ejemplo: Una clase CuentaBancaria puede tener un saldo que solo se modifica mediante métodos como depositar() o retirar(), evitando que alguien lo cambie directamente con cuenta.saldo = -1000.\n",
    "\n",
    "2. Reduce la complejidad\n",
    "El usuario de la clase no necesita saber cómo funciona internamente. Solo necesita conocer qué hace y cómo usarla.\n",
    "\n",
    "Ejemplo: Puedes usar el método enviar_email() sin preocuparte por cómo se conecta al servidor SMTP o cómo se formatea el mensaje.\n",
    "\n",
    "3. Facilita el mantenimiento y la evolución\n",
    "Puedes cambiar la implementación interna sin afectar el código que usa la clase, siempre que la interfaz pública se mantenga igual.\n",
    "\n",
    "Ejemplo: Si cambias la forma en que se calcula el impuesto en una clase Factura, no necesitas modificar el resto del sistema que llama a calcular_total().\n",
    "\n",
    "4. Promueve el diseño modular\n",
    "Cada clase se convierte en una \"caja negra\" con una responsabilidad clara, lo que mejora la organización del código.\n",
    "\n",
    "5. Permite validar y controlar el acceso\n",
    "Puedes usar métodos get y set para validar datos antes de asignarlos, evitando errores o inconsistencias.\n",
    "\n",
    "\n",
    "***********************************************\n",
    "En resumen, ocultar detalles de implementación protege, simplifica y fortalece tu código"
   ]
  },
  {
   "cell_type": "code",
   "execution_count": 26,
   "metadata": {},
   "outputs": [],
   "source": [
    "class Persona:\n",
    "    def __init__(self):\n",
    "        self._edad = -2\n",
    "\n",
    "    def set_edad(self, valor):\n",
    "        if valor >= 0:\n",
    "            self._edad = valor\n",
    "        else:\n",
    "            print(\"Edad inválida, edad\" )"
   ]
  },
  {
   "cell_type": "code",
   "execution_count": 28,
   "metadata": {},
   "outputs": [],
   "source": [
    "class CuentaBancaria:\n",
    "    def __init__(self, titular, saldo_inicial):\n",
    "        self.titular = titular\n",
    "        self.__saldo = saldo_inicial  # atributo privado\n",
    "\n",
    "    def depositar(self, monto):\n",
    "        if monto > 0:\n",
    "            self.__saldo += monto\n",
    "\n",
    "    def retirar(self, monto):\n",
    "        if 0 < monto <= self.__saldo:\n",
    "            self.__saldo -= monto\n",
    "        else:\n",
    "            print(\"Fondos insuficientes o monto inválido.\")\n",
    "\n",
    "    def consultar_saldo(self):\n",
    "        return self.__saldo"
   ]
  },
  {
   "cell_type": "markdown",
   "metadata": {},
   "source": [
    "### Autoevaluación - Punto 1\n",
    "\n",
    "1. Simplifica la complejidad\n",
    "Permite centrarse en lo esencial, ocultando los detalles técnicos innecesarios. El desarrollador trabaja con conceptos claros sin preocuparse por cómo están implementados internamente.\n",
    "\n",
    "Ejemplo: Puedes usar el método guardar() sin saber si los datos se almacenan en una base de datos, un archivo o en la nube.\n",
    "\n",
    "2. Facilita la reutilización\n",
    "Al definir estructuras genéricas y bien pensadas, puedes reutilizar clases y métodos en distintos contextos sin duplicar código.\n",
    "\n",
    "Ejemplo: Una clase Vehículo puede servir como base para Auto, Moto, Camión, etc.\n",
    "\n",
    "3. Mejora la mantenibilidad\n",
    "Los cambios internos en la implementación no afectan al resto del sistema si la interfaz pública se mantiene. Esto reduce el riesgo de errores al actualizar el código.\n",
    "\n",
    "Ejemplo: Si cambias cómo se calcula el total en una clase Factura, no necesitas modificar el código que llama a calcular_total().\n",
    "\n",
    "4. Promueve el diseño modular\n",
    "Cada componente del sistema tiene una responsabilidad clara, lo que facilita el trabajo en equipo, las pruebas unitarias y la integración continua.\n",
    "\n",
    "5. Aumenta la seguridad y el control\n",
    "Al ocultar detalles internos, puedes validar datos, restringir accesos y evitar que otros modifiquen el estado del objeto de forma indebida.\n",
    "\n",
    "6. Facilita la evolución del software\n",
    "Puedes extender o mejorar funcionalidades sin romper lo que ya funciona, gracias a una interfaz estable y bien definida.\n",
    "\n",
    "*****  En resumen, la abstracción reduce el ruido técnico, aumenta la claridad y fortalece la arquitectura de cualquier sistema.\n",
    "\n",
    "### Autoevaluación - Punto 2\n",
    "\n",
    "¿Qué es la abstracción aquí?\n",
    "Cuando usas una cafetera, simplemente:\n",
    "\n",
    "Llenas el depósito de agua\n",
    "\n",
    "Colocas café molido\n",
    "\n",
    "Presionas un botón\n",
    "\n",
    "No necesitas saber:\n",
    "\n",
    "Cómo se calienta el agua\n",
    "\n",
    "Cómo se regula la presión\n",
    "\n",
    "Cómo se filtra el café\n",
    "\n",
    "\n",
    "¿Por qué es útil?\n",
    "Porque te permite usar una herramienta compleja sin entender todos sus detalles internos. La interfaz (botón, depósito, filtro) te abstrae de la lógica interna.\n",
    "\n",
    "Comparación con programación\n",
    "En programación, una clase puede tener métodos como hacer_cafe() que ocultan procesos internos como calentar_agua(), filtrar() o servir()"
   ]
  },
  {
   "cell_type": "code",
   "execution_count": 30,
   "metadata": {},
   "outputs": [],
   "source": [
    "class Cafetera:\n",
    "    def hacer_cafe(self):\n",
    "        self._calentar_agua()\n",
    "        self._filtrar()\n",
    "        self._servir()\n",
    "\n",
    "    def _calentar_agua(self):\n",
    "        pass  # detalle oculto\n",
    "\n",
    "    def _filtrar(self):\n",
    "        pass  # detalle oculto\n",
    "\n",
    "    def _servir(self):\n",
    "        print(\"Tu café está listo ☕\")"
   ]
  },
  {
   "cell_type": "markdown",
   "metadata": {},
   "source": [
    "## Conclusión\n",
    "\n",
    "La abstracción en POO nos permite modelar sistemas complejos de manera más manejable. En los ejemplos de `AirPlane`, vemos cómo podemos representar diferentes aspectos de un avión (su vuelo y su sistema de reservas) de forma simplificada, centrándose en los detalles relevantes para cada caso de uso.\n",
    "\n",
    "Esta capacidad de abstraer conceptos complejos en modelos más simples y manejables es fundamental en el desarrollo de software. Permite a los desarrolladores crear sistemas más organizados, flexibles y fáciles de mantener. Además, facilita la comunicación entre diferentes partes del sistema y entre los miembros del equipo de desarrollo.\n",
    "\n",
    "En el mundo real del desarrollo de software, la abstracción nos ayuda a crear APIs limpias, frameworks flexibles y sistemas que pueden evolucionar con el tiempo sin necesidad de reescribir grandes porciones de código. Es una habilidad esencial para cualquier desarrollador de software que busque crear soluciones elegantes y duraderas."
   ]
  },
  {
   "cell_type": "markdown",
   "metadata": {},
   "source": [
    "## Referencias y recursos\n",
    "- [Documentación oficial de Python: clases y abstracción](https://docs.python.org/es/3/tutorial/classes.html)\n",
    "- [POO en Python - Abstracción (W3Schools)](https://www.w3schools.com/python/python_classes.asp)\n",
    "- [Visualizador de objetos Python Tutor](https://pythontutor.com/)"
   ]
  }
 ],
 "metadata": {
  "kernelspec": {
   "display_name": "Python 3",
   "language": "python",
   "name": "python3"
  },
  "language_info": {
   "codemirror_mode": {
    "name": "ipython",
    "version": 3
   },
   "file_extension": ".py",
   "mimetype": "text/x-python",
   "name": "python",
   "nbconvert_exporter": "python",
   "pygments_lexer": "ipython3",
   "version": "3.13.7"
  }
 },
 "nbformat": 4,
 "nbformat_minor": 2
}
