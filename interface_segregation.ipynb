{
 "cells": [
  {
   "cell_type": "markdown",
   "metadata": {},
   "source": [
    "# Principio de Segregación de Interfaces (Interface Segregation Principle)\n",
    "\n",
    "## Introducción\n",
    "El principio de segregación de interfaces (ISP) indica que los clientes no deben verse forzados a depender de interfaces que no utilizan. Es preferible tener varias interfaces específicas en lugar de una general.\n",
    "\n",
    "## Objetivos\n",
    "- Comprender el principio de segregación de interfaces y su aplicación en Python.\n",
    "- Identificar violaciones al ISP en jerarquías de clases.\n",
    "- Aplicar el ISP para crear sistemas más flexibles y desacoplados.\n",
    "\n",
    "## Ejemplo de la vida real\n",
    "En una cafetería, el menú para clientes y el menú para empleados son diferentes: cada uno ve solo lo que necesita, no todo el menú completo."
   ]
  },
  {
   "cell_type": "markdown",
   "metadata": {},
   "source": [
    "# Principio de Segregación de Interfaces (Interface Segregation Principle, ISP)\n",
    "\n",
    "## Introducción\n",
    "\n",
    "El Principio de Segregación de Interfaces (ISP) es uno de los cinco principios SOLID de diseño orientado a objetos. Fue introducido por Robert C. Martin y establece que los clientes no deberían verse obligados a depender de interfaces que no utilizan. En otras palabras, es mejor tener muchas interfaces específicas y pequeñas que una única interfaz general y grande."
   ]
  },
  {
   "cell_type": "markdown",
   "metadata": {},
   "source": [
    "## Explicación Detallada\n",
    "\n",
    "### Definición\n",
    "\n",
    "- **ISP**: Los clientes no deberían verse obligados a depender de interfaces que no utilizan.\n",
    "\n",
    "### Beneficios del ISP\n",
    "\n",
    "1. **Mantenibilidad**: Facilita la modificación del código sin afectar a los clientes que no utilizan ciertas funcionalidades.\n",
    "\n",
    "2. **Reusabilidad**: Promueve la creación de interfaces específicas y reutilizables.\n",
    "\n",
    "3. **Flexibilidad**: Permite a los clientes depender solo de las funcionalidades que realmente necesitan."
   ]
  },
  {
   "cell_type": "markdown",
   "metadata": {},
   "source": [
    "## Ejemplos Explicados\n",
    "\n",
    "### Ejemplo Correcto\n",
    "\n",
    "Supongamos que estamos desarrollando una aplicación para gestionar diferentes tipos de trabajadores. Aplicando el ISP, podríamos tener las siguientes interfaces y clases:\n"
   ]
  },
  {
   "cell_type": "code",
   "execution_count": 1,
   "metadata": {},
   "outputs": [],
   "source": [
    "from abc import ABC, abstractmethod\n",
    "\n",
    "class Worker(ABC):\n",
    "    @abstractmethod\n",
    "    def work(self) -> None:\n",
    "        pass\n",
    "\n",
    "class Eater(ABC):\n",
    "    @abstractmethod\n",
    "    def eat(self) -> None:\n",
    "        pass\n",
    "\n",
    "class Developer(Worker, Eater):\n",
    "    def work(self) -> None:\n",
    "        print(\"El desarrollador está trabajando.\")\n",
    "\n",
    "    def eat(self) -> None:\n",
    "        print(\"El desarrollador está comiendo.\")\n",
    "\n",
    "class Robot(Worker):\n",
    "    def work(self) -> None:\n",
    "        print(\"El robot está trabajando.\")"
   ]
  },
  {
   "cell_type": "code",
   "execution_count": 2,
   "metadata": {},
   "outputs": [
    {
     "name": "stdout",
     "output_type": "stream",
     "text": [
      "El desarrollador está trabajando.\n",
      "El desarrollador está comiendo.\n",
      "El robot está trabajando.\n"
     ]
    }
   ],
   "source": [
    "# Ejemplo de uso\n",
    "developer = Developer()\n",
    "robot = Robot()\n",
    "\n",
    "developer.work()\n",
    "developer.eat()\n",
    "robot.work()"
   ]
  },
  {
   "cell_type": "markdown",
   "metadata": {},
   "source": [
    "#### Análisis del Ejemplo Correcto\n",
    "\n",
    "- **Worker**: Define la interfaz para trabajar.\n",
    "\n",
    "- **Eater**: Define la interfaz para comer.\n",
    "\n",
    "- **Developer**: Implementa ambas interfaces, ya que un desarrollador puede trabajar y comer.\n",
    "\n",
    "- **Robot**: Implementa solo la interfaz `Worker`, ya que un robot solo puede trabajar.\n",
    "\n",
    "Este diseño permite que los clientes dependan solo de las interfaces que realmente necesitan. Por ejemplo, un cliente que necesita un trabajador solo necesita depender de la interfaz `Worker`."
   ]
  },
  {
   "cell_type": "markdown",
   "metadata": {},
   "source": [
    "### Ejemplo de Violación del ISP\n",
    "\n",
    "Veamos un ejemplo donde se viola el ISP:"
   ]
  },
  {
   "cell_type": "code",
   "execution_count": 3,
   "metadata": {},
   "outputs": [],
   "source": [
    "class Worker:\n",
    "    def work(self) -> None:\n",
    "        pass\n",
    "\n",
    "    def eat(self) -> None:\n",
    "        pass\n",
    "\n",
    "class Developer(Worker):\n",
    "    def work(self) -> None:\n",
    "        print(\"El desarrollador está trabajando.\")\n",
    "\n",
    "    def eat(self) -> None:\n",
    "        print(\"El desarrollador está comiendo.\")\n",
    "\n",
    "class Robot(Worker):\n",
    "    def work(self) -> None:\n",
    "        print(\"El robot está trabajando.\")\n",
    "\n",
    "    def eat(self) -> None:\n",
    "        # Los robots no comen, pero deben implementar este método\n",
    "        pass"
   ]
  },
  {
   "cell_type": "code",
   "execution_count": 4,
   "metadata": {},
   "outputs": [
    {
     "name": "stdout",
     "output_type": "stream",
     "text": [
      "El desarrollador está trabajando.\n",
      "El desarrollador está comiendo.\n",
      "El robot está trabajando.\n"
     ]
    }
   ],
   "source": [
    "# Ejemplo de uso\n",
    "developer = Developer()\n",
    "robot = Robot()\n",
    "\n",
    "developer.work()\n",
    "developer.eat()\n",
    "robot.work()\n",
    "robot.eat()  # Este método no tiene sentido para un robot"
   ]
  },
  {
   "cell_type": "markdown",
   "metadata": {},
   "source": [
    "#### Análisis del Ejemplo Incorrecto\n",
    "\n",
    "- **Worker**: Tiene métodos que no son relevantes para todos los clientes (por ejemplo, `eat` para un robot).\n",
    "\n",
    "- **Robot**: Se ve obligado a implementar el método `eat`, aunque no tiene sentido para un robot.\n",
    "\n",
    "Este diseño viola el ISP porque los clientes (en este caso, `Robot`) se ven obligados a depender de métodos que no utilizan."
   ]
  },
  {
   "cell_type": "markdown",
   "metadata": {},
   "source": [
    "## Conclusión\n",
    "\n",
    "1. **Reducción de Dependencias**: El ISP reduce las dependencias innecesarias entre los clientes y las interfaces.\n",
    "\n",
    "2. **Mantenibilidad**: Mejora la mantenibilidad del código al permitir cambios en las interfaces sin afectar a todos los clientes.\n",
    "\n",
    "3. **Reusabilidad**: Promueve la creación de interfaces específicas y reutilizables.\n",
    "\n",
    "4. **Flexibilidad**: Permite a los clientes depender solo de las funcionalidades que realmente necesitan.\n",
    "\n",
    "Aplicar el ISP puede requerir la creación de múltiples interfaces específicas, pero los beneficios en términos de flexibilidad y mantenibilidad del software son significativos."
   ]
  },
  {
   "cell_type": "markdown",
   "metadata": {},
   "source": [
    "## Ejercicios prácticos y preguntas de reflexión\n",
    "\n",
    "1. **Divide interfaces**: Observa una clase que implemente métodos que no utiliza. ¿Cómo podrías dividir la interfaz para que cada clase implemente solo lo necesario?\n",
    "2. **Refactoriza**: Crea varias interfaces pequeñas y haz que las clases implementen solo las que requieran.\n",
    "3. **Pregunta de reflexión**: ¿Qué problemas surgen cuando una clase depende de métodos que no usa?\n",
    "\n",
    "## Autoevaluación\n",
    "- ¿Mis clases implementan solo los métodos que realmente necesitan?\n",
    "- ¿Qué ventajas aporta el ISP en proyectos grandes y colaborativos?\n",
    "\n",
    "## Referencias y recursos\n",
    "- [Interface Segregation Principle – Wikipedia](https://en.wikipedia.org/wiki/Interface_segregation_principle)\n",
    "- [SOLID Principles en Python – Real Python](https://realpython.com/solid-principles-python/)\n",
    "- [Ejemplo didáctico de ISP – Refactoring Guru](https://refactoring.guru/es/design-patterns/interface-segregation-principle)"
   ]
  },
  {
   "cell_type": "markdown",
   "metadata": {},
   "source": [
    "### Violación del ISP: clase base general obliga a todas las cajas fuertes a implementar métodos que no siempre necesitan\n"
   ]
  },
  {
   "cell_type": "markdown",
   "metadata": {},
   "source": [
    "![Diagrama de cajas fuertes violacion de principio](https://www.plantuml.com/plantuml/png/pP9D2eCm48NtEONBIF46NLWAxG5w07d6GLAIZ9qaBlfpzohYehZerjcznpVmvgUE2PAoTyeun5YSSSSbaoIwKY21ArwgcEg0LgnemvtjkLmiGo8GlIhuraAQ1T4XqyZD3m-Jx3WHS12FjMyGxWL-zdFYrl4Z4sjlmwHYgJvga-nc_U1eXy5E8y8J7NOGRNl7uxkgDalypwqpgPf2D__95m00)\n"
   ]
  },
  {
   "cell_type": "code",
   "execution_count": 22,
   "metadata": {},
   "outputs": [],
   "source": [
    "class CajaFuerteGeneral:\n",
    "    def abrir(self, codigo):\n",
    "        print(\"Caja fuerte abierta.\")\n",
    "\n",
    "    def cerrar(self):\n",
    "        print(\"Caja fuerte cerrada.\")\n",
    "\n",
    "    def cambiar_codigo(self, nuevo_codigo):\n",
    "        print(\"Código cambiado.\")\n",
    "\n",
    "    def activar_alarma(self):\n",
    "        print(\"Alarma activada.\")\n",
    "\n",
    "    def programar_autobloqueo(self, minutos):\n",
    "        print(f\"Autobloqueo programado en {minutos} minutos.\")\n",
    "\n",
    "class CajaFuerteSimple(CajaFuerteGeneral):\n",
    "    def abrir(self, codigo):\n",
    "        print(\"Caja fuerte simple abierta.\")\n",
    "\n",
    "    def cerrar(self):\n",
    "        print(\"Caja fuerte simple cerrada.\")\n",
    "\n",
    "    def cambiar_codigo(self, nuevo_codigo):\n",
    "        print(\"Código de Caja fuerte simple cambiado.\")\n",
    "\n",
    "    def activar_alarma(self):\n",
    "        pass  # No soportado\n",
    "\n",
    "    def programar_autobloqueo(self, minutos):\n",
    "        pass  # No soportado\n",
    "\n",
    "class CajaFuerteAvanzada(CajaFuerteGeneral):\n",
    "    def abrir(self, codigo):\n",
    "        print(\"Caja fuerte avanzada abierta.\")\n",
    "\n",
    "    def cerrar(self):\n",
    "        print(\"Caja fuerte avanzada cerrada.\")\n",
    "\n",
    "    def cambiar_codigo(self, nuevo_codigo):\n",
    "        print(\"Código Caja fuerte avanzada cambiado.\")\n",
    "\n",
    "    def activar_alarma(self):\n",
    "        print(\"Alarma Caja fuerte avanzada activada.\")\n",
    "\n",
    "    def programar_autobloqueo(self, minutos):\n",
    "        print(f\"Autobloqueo de Caja fuerte avanzada en {minutos} minutos.\")"
   ]
  },
  {
   "cell_type": "code",
   "execution_count": 23,
   "metadata": {},
   "outputs": [
    {
     "name": "stdout",
     "output_type": "stream",
     "text": [
      "--- Probando la caja fuerte simple ---\n",
      "Caja fuerte simple abierta.\n",
      "Código de Caja fuerte simple cambiado.\n",
      "--- Probando la caja fuerte avanzada ---\n",
      "Caja fuerte avanzada abierta.\n",
      "Alarma Caja fuerte avanzada activada.\n"
     ]
    }
   ],
   "source": [
    "simple = CajaFuerteSimple()\n",
    "avanzada = CajaFuerteAvanzada()\n",
    "\n",
    "print(\"--- Probando la caja fuerte simple ---\")\n",
    "simple.abrir(\"1234\")\n",
    "simple.cambiar_codigo(\"5678\")\n",
    "simple.activar_alarma()  # No hace nada\n",
    "print(\"--- Probando la caja fuerte avanzada ---\")\n",
    "avanzada.abrir(\"9999\")\n",
    "avanzada.activar_alarma()"
   ]
  },
  {
   "cell_type": "markdown",
   "metadata": {},
   "source": [
    "### Cumplimiento del ISP: interfaces específicas para caja fuerte"
   ]
  },
  {
   "cell_type": "markdown",
   "metadata": {},
   "source": [
    "![Diagrama de cajas fuertes cumplimiento de principio](https://www.plantuml.com/plantuml/png/hL5BQiCm4Dth5Df5fP0JT94GA7JR7Y0yozEW8cdIaUH5FtUlcg1YN0HPs2lFl8-OztOfGt89NctqKymahx2Kb6k_UZ-86ppfJwNhTuywYh4ykXFVNLUMH22cJGY3Wnol51CBJNni_6yrT_QGWBctpMwgKbm0iwINp8Fdzq9ppLdu90Y_gZ-SJN2nJkdYiD47ZqH9MuvMA2CfMnT97_26nqAIwSM5yuedBktt4-87HgpoG2UgcyDu9W_hE59IhTg7h-tsNnezj1sZMdrzngAn7cr7SIp1gny0)"
   ]
  },
  {
   "cell_type": "code",
   "execution_count": 18,
   "metadata": {},
   "outputs": [],
   "source": [
    "\n",
    "from abc import ABC, abstractmethod\n",
    "\n",
    "class Abrible(ABC):\n",
    "    @abstractmethod\n",
    "    def abrir(self, codigo):\n",
    "        pass\n",
    "\n",
    "    @abstractmethod\n",
    "    def cerrar(self):\n",
    "        pass\n",
    "\n",
    "    @abstractmethod\n",
    "    def cambiar_codigo(self, nuevo_codigo):\n",
    "        pass\n",
    "\n",
    "\n",
    "class Alarmable(ABC):\n",
    "    @abstractmethod\n",
    "    def activar_alarma(self):\n",
    "        pass\n",
    "\n",
    "\n",
    "class Autobloqueable(ABC):\n",
    "    @abstractmethod\n",
    "    def programar_autobloqueo(self, minutos):\n",
    "        pass\n",
    "\n",
    "\n",
    "# Caja fuerte simple: solo implementa abrir, cerrar y cambiar código\n",
    "class CajaFuerteSimple(Abrible):\n",
    "    def abrir(self, codigo):\n",
    "        print(\"Caja fuerte simple abierta.\")\n",
    "\n",
    "    def cerrar(self):\n",
    "        print(\"Caja fuerte simple cerrada.\")\n",
    "\n",
    "    def cambiar_codigo(self, nuevo_codigo):\n",
    "        print(\"Código de Caja fuerte simple cambiado.\")\n",
    "\n",
    "\n",
    "# Caja fuerte avanzada: implementa todas las interfaces necesarias\n",
    "class CajaFuerteAvanzada(Abrible, Alarmable, Autobloqueable):\n",
    "    def abrir(self, codigo):\n",
    "        print(\"Caja fuerte avanzada abierta.\")\n",
    "\n",
    "    def cerrar(self):\n",
    "        print(\"Caja fuerte avanzada cerrada.\")\n",
    "\n",
    "    def cambiar_codigo(self, nuevo_codigo):\n",
    "        print(\"Código de Caja fuerte avanzada cambiado.\")\n",
    "\n",
    "    def activar_alarma(self):\n",
    "        print(\"Alarma avanzada activada.\")\n",
    "\n",
    "    def programar_autobloqueo(self, minutos):\n",
    "        print(f\"Autobloqueo de Caja fuerte avanzada en {minutos} minutos.\")\n"
   ]
  },
  {
   "cell_type": "code",
   "execution_count": 20,
   "metadata": {},
   "outputs": [
    {
     "name": "stdout",
     "output_type": "stream",
     "text": [
      "--- Probando la caja fuerte simple ---\n",
      "Caja fuerte simple abierta.\n",
      "Código de Caja fuerte simple cambiado.\n",
      "--- Probando la caja fuerte avanzada ---\n",
      "Caja fuerte avanzada abierta.\n",
      "Alarma avanzada activada.\n"
     ]
    }
   ],
   "source": [
    "simple = CajaFuerteSimple()\n",
    "avanzada = CajaFuerteAvanzada()\n",
    "\n",
    "print(\"--- Probando la caja fuerte simple ---\")\n",
    "simple.abrir(\"1234\")\n",
    "simple.cambiar_codigo(\"5678\")\n",
    "print(\"--- Probando la caja fuerte avanzada ---\")\n",
    "avanzada.abrir(\"9999\")\n",
    "avanzada.activar_alarma()"
   ]
  }
 ],
 "metadata": {
  "kernelspec": {
   "display_name": "Python 3",
   "language": "python",
   "name": "python3"
  },
  "language_info": {
   "codemirror_mode": {
    "name": "ipython",
    "version": 3
   },
   "file_extension": ".py",
   "mimetype": "text/x-python",
   "name": "python",
   "nbconvert_exporter": "python",
   "pygments_lexer": "ipython3",
   "version": "3.13.7"
  }
 },
 "nbformat": 4,
 "nbformat_minor": 2
}
