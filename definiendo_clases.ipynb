{
 "cells": [
  {
   "cell_type": "markdown",
   "metadata": {},
   "source": [
    "# Clases en Python: Métodos y Atributos\n",
    "\n",
    "Bienvenido/a. En esta lección aprenderás a definir y utilizar clases en Python, un pilar fundamental de la Programación Orientada a Objetos (POO).\n",
    "\n",
    "## Objetivos\n",
    "- Comprender qué es una clase y cómo se define en Python.\n",
    "- Diferenciar entre atributos de clase y de instancia.\n",
    "- Implementar métodos y atributos privados.\n",
    "- Aplicar estos conceptos en ejemplos de la vida real.\n",
    "\n",
    "---\n",
    "\n",
    "Las clases permiten crear objetos que encapsulan datos y comportamientos relacionados.\n",
    "\n",
    "**Ejemplo de la vida real:** Piensa en una clase como el plano de construcción de una casa. Cada casa construida a partir de ese plano es un objeto."
   ]
  },
  {
   "cell_type": "markdown",
   "metadata": {},
   "source": [
    "## Explicación\n",
    "\n",
    "En Python, las clases ofrecen:\n",
    "1. **Encapsulación**: Agrupan datos (atributos) y funciones (métodos) en una sola unidad.\n",
    "2. **Abstracción**: Permiten representar conceptos del mundo real.\n",
    "3. **Herencia**: Permite crear nuevas clases basadas en clases existentes, heredando sus atributos y métodos, facilitando la reutilización del código.\n",
    "4. **Polimorfismo**: Permite que objetos de diferentes clases puedan ser tratados de manera uniforme.\n",
    "\n",
    "## Definición de una clase\n",
    "Una clase se define usando la palabra clave `class`, seguida del nombre de la clase y un par de puntos."
   ]
  },
  {
   "cell_type": "markdown",
   "metadata": {},
   "source": [
    "## Ejemplo práctico\n",
    "\n",
    "Veamos un ejemplo que ilustra el uso de clases, métodos y diferentes tipos de atributos en Python:"
   ]
  },
  {
   "cell_type": "code",
   "execution_count": 75,
   "metadata": {},
   "outputs": [],
   "source": [
    "class Estudiante:\n",
    "    # Atributo de clase\n",
    "    escuela: str = \"Universidad del Magdalena\"\n",
    "\n",
    "    def __init__(self, nombre: str, edad: int) -> None:\n",
    "        # Atributos de instancia\n",
    "        self.nombre: str = nombre\n",
    "        self.edad: int = edad\n",
    "        self.__calificaciones: list[float] = []  # Atributo privado\n",
    "\n",
    "    # Método de instancia\n",
    "    def agregar_calificacion(self, calificacion: float) -> None:\n",
    "        if 0 <= calificacion <= 10:\n",
    "            self.__calificaciones.append(calificacion)\n",
    "        else:\n",
    "            print(\"Calificación inválida\")\n",
    "\n",
    "    # Método de instancia\n",
    "    def promedio(self) -> float:\n",
    "        if self.__calificaciones:\n",
    "            return sum(self.__calificaciones) / len(self.__calificaciones)\n",
    "        return 0.0\n",
    "\n",
    "    @property\n",
    "    def calificaciones(self) -> list[float]:\n",
    "        return self.__calificaciones.copy()\n",
    "\n",
    "    def es_mayor_de_edad(edad: int) -> bool:\n",
    "        return self.edad >= 18\n",
    "\n",
    "    # Método estático\n",
    "    @staticmethod\n",
    "    def es_mayor_de_edad(edad: int) -> bool:\n",
    "        return edad >= 18\n",
    "\n",
    "    # Método de clase\n",
    "    @classmethod\n",
    "    def cambiar_escuela(cls, nueva_escuela: str) -> None:\n",
    "        cls.escuela = nueva_escuela"
   ]
  },
  {
   "cell_type": "code",
   "execution_count": 76,
   "metadata": {},
   "outputs": [
    {
     "name": "stdout",
     "output_type": "stream",
     "text": [
      "Escuela: Universidad del Magdalena\n",
      "<__main__.Estudiante object at 0x0000020B6E4423C0>\n"
     ]
    }
   ],
   "source": [
    "estudiante1: Estudiante = Estudiante(nombre=\"Ana\", edad=20)\n",
    "estudiante2: Estudiante = Estudiante(nombre=\"Carlos\", edad=17)\n",
    "\n",
    "print(f\"Escuela: {Estudiante.escuela}\")\n",
    "print(estudiante1)"
   ]
  },
  {
   "cell_type": "code",
   "execution_count": 77,
   "metadata": {},
   "outputs": [
    {
     "name": "stdout",
     "output_type": "stream",
     "text": [
      "Promedio de Ana: 8.75\n"
     ]
    }
   ],
   "source": [
    "estudiante1.agregar_calificacion(calificacion=8.5)\n",
    "estudiante1.agregar_calificacion(calificacion=9.0)\n",
    "print(f\"Promedio de {estudiante1.nombre}: {estudiante1.promedio()}\")"
   ]
  },
  {
   "cell_type": "code",
   "execution_count": 78,
   "metadata": {},
   "outputs": [
    {
     "name": "stdout",
     "output_type": "stream",
     "text": [
      "¿Ana es mayor de edad? True\n",
      "¿Carlos es mayor de edad? False\n"
     ]
    }
   ],
   "source": [
    "print(f\"¿Ana es mayor de edad? {Estudiante.es_mayor_de_edad(edad=estudiante1.edad)}\")\n",
    "print(f\"¿Carlos es mayor de edad? {Estudiante.es_mayor_de_edad(edad=estudiante2.edad)}\")"
   ]
  },
  {
   "cell_type": "code",
   "execution_count": 79,
   "metadata": {},
   "outputs": [
    {
     "name": "stdout",
     "output_type": "stream",
     "text": [
      "Escuela Ana: Universidad del Magdalena\n"
     ]
    }
   ],
   "source": [
    "print(f\"Escuela Ana: {estudiante1.escuela}\")"
   ]
  },
  {
   "cell_type": "code",
   "execution_count": 80,
   "metadata": {},
   "outputs": [
    {
     "name": "stdout",
     "output_type": "stream",
     "text": [
      "Nueva escuela: Universidad Tecnológica\n"
     ]
    }
   ],
   "source": [
    "Estudiante.cambiar_escuela(nueva_escuela=\"Universidad Tecnológica\")\n",
    "print(f\"Nueva escuela: {estudiante1.escuela}\")"
   ]
  },
  {
   "cell_type": "markdown",
   "metadata": {},
   "source": [
    "## Ejercicios prácticos y preguntas de reflexión\n",
    "\n",
    "1. Crea una clase `Libro` con atributos `titulo`, `autor` y un método `leer()`.\n",
    "2. Modifica la clase `Estudiante` para agregar un método que calcule el promedio de sus calificaciones.\n",
    "3. ¿Cuál es la diferencia entre un atributo de clase y uno de instancia? Da un ejemplo.\n",
    "4. Piensa en un ejemplo de la vida real donde usarías una clase en Python.\n",
    "\n",
    "### Autoevaluación\n",
    "- ¿Qué ventajas tiene usar clases en tus programas?\n",
    "- ¿Por qué es útil la encapsulación?"
   ]
  },
  {
   "cell_type": "markdown",
   "metadata": {},
   "source": [
    "## 1"
   ]
  },
  {
   "cell_type": "code",
   "execution_count": null,
   "metadata": {},
   "outputs": [],
   "source": [
    "class Libro:\n",
    "    def __init__(self, titulo: str, autor: str) -> None:\n",
    "        self.titulo: str = titulo\n",
    "        self.autor: str = autor\n",
    "\n",
    "    def leer(self) -> str:\n",
    "       return f\"el libro '{self.titulo}' de {self.autor}.\"\n"
   ]
  },
  {
   "cell_type": "code",
   "execution_count": 89,
   "metadata": {},
   "outputs": [
    {
     "name": "stdout",
     "output_type": "stream",
     "text": [
      "Esta leyendo el libro 'Cien años de soledad' de Gabriel García Márquez.\n"
     ]
    }
   ],
   "source": [
    "libro1: Libro = Libro(titulo=\"Cien años de soledad\", autor=\"Gabriel García Márquez\")\n",
    "\n",
    "print(f\"Esta leyendo {libro1.leer()}\")"
   ]
  },
  {
   "cell_type": "markdown",
   "metadata": {},
   "source": [
    "## 2"
   ]
  },
  {
   "cell_type": "code",
   "execution_count": 92,
   "metadata": {},
   "outputs": [],
   "source": [
    "class Libro:\n",
    "    def __init__(self, titulo: str, autor: str, paginas_totales: int) -> None:\n",
    "        self.titulo: str = titulo\n",
    "        self.autor: str = autor\n",
    "        self.paginas_totales: int = paginas_totales\n",
    "        self.paginas_leidas: int = 0\n",
    "\n",
    "    def leido(self, paginas: int)-> None:\n",
    "        self.paginas_leidas+=paginas\n",
    "        if self.paginas_leidas > self.paginas_totales:\n",
    "            self.paginas_leidas=self.paginas_totales\n",
    "\n",
    "    def paginas_restantes(self)->int:\n",
    "        return self.paginas_totales - self.paginas_leidas"
   ]
  },
  {
   "cell_type": "code",
   "execution_count": 107,
   "metadata": {},
   "outputs": [],
   "source": [
    "libro1 = Libro(\"Cien años de soledad\",\"Gabriel García Márquez\",500)\n"
   ]
  },
  {
   "cell_type": "code",
   "execution_count": 108,
   "metadata": {},
   "outputs": [
    {
     "name": "stdout",
     "output_type": "stream",
     "text": [
      "Faltan 443 páginas por leer\n"
     ]
    }
   ],
   "source": [
    "libro1.leido(57)\n",
    "\n",
    "print(f\"Faltan {libro1.paginas_restantes()} páginas por leer\")"
   ]
  },
  {
   "cell_type": "markdown",
   "metadata": {},
   "source": [
    "## Explicación detallada\n",
    "\n",
    "1. **Atributos de clase**:\n",
    "\n",
    "   - Compartidos por todas las instancias de la clase.\n",
    "\n",
    "   - Definidos fuera de cualquier método en la clase.\n",
    "\n",
    "   - Accesibles a través de la clase o cualquier instancia.\n",
    "\n",
    "2. **Atributos de instancia**:\n",
    "\n",
    "   - Únicos para cada instancia de la clase.\n",
    "\n",
    "   - Pertenecen a la instancia de la clase o al objeto.\n",
    "\n",
    "   - Son atributos particulares de cada instancia, en nuestro caso de cada perro.\n",
    "\n",
    "   - Generalmente definidos en el método `__init__`.\n",
    "\n",
    "   - Accesibles a través de la instancia.\n",
    "\n",
    "3. **Métodos de instancia**:\n",
    "\n",
    "   - Operan en una instancia específica de la clase.\n",
    "\n",
    "   - Reciben `self` como primer parámetro.\n",
    "\n",
    "   - Definidos dentro de la clase.\n",
    "\n",
    "   - Pueden acceder a los atributos de instancia y de clase.\n",
    "\n",
    "\n",
    "4. **Métodos estáticos**:\n",
    "\n",
    "   - No operan en una instancia específica.\n",
    "\n",
    "   - No dependen del estado de la clase o instancia.\n",
    "\n",
    "   - No reciben `self` o `cls` como parámetro.\n",
    "\n",
    "   - Se definen con el decorador `@staticmethod`.\n",
    "\n",
    "5. **Métodos de clase**:\n",
    "\n",
    "   - Operan en la clase en lugar de en instancias específicas.\n",
    "\n",
    "   - Reciben `cls` como primer parámetro.\n",
    "\n",
    "   - Pueden acceder a los atributos de clase.\n",
    "\n",
    "   - Se definen con el decorador `@classmethod`."
   ]
  },
  {
   "cell_type": "markdown",
   "metadata": {},
   "source": [
    "## Beneficios de esta estructura\n",
    "\n",
    "1. **Organización**: Las clases permiten agrupar datos y comportamientos relacionados.\n",
    "\n",
    "2. **Reutilización**: Los métodos de clase y estáticos permiten funcionalidades sin necesidad de instanciar.\n",
    "\n",
    "3. **Encapsulación**: Los atributos privados (como `__calificaciones`) protegen los datos.\n",
    "\n",
    "4. **Flexibilidad**: Diferentes tipos de métodos permiten diversas formas de interactuar con la clase y sus instancias."
   ]
  },
  {
   "cell_type": "markdown",
   "metadata": {},
   "source": [
    "## Conclusión\n",
    "\n",
    "El manejo de clases en Python ofrece una forma poderosa y flexible de estructurar código:\n",
    "\n",
    "- Los atributos de clase proporcionan datos compartidos entre todas las instancias.\n",
    "\n",
    "- Los atributos de instancia permiten que cada objeto tenga su propio estado.\n",
    "\n",
    "- Los métodos de instancia operan en objetos individuales.\n",
    "\n",
    "- Los métodos estáticos y de clase ofrecen funcionalidades relacionadas con la clase sin necesidad de instanciación.\n",
    "\n",
    "Esta estructura permite crear código más organizado, reutilizable y fácil de mantener. Es fundamental para cualquier desarrollador Python comprender estos conceptos para aprovechar al máximo la programación orientada a objetos y crear sistemas robustos y escalables."
   ]
  },
  {
   "cell_type": "markdown",
   "metadata": {},
   "source": [
    "## Referencias y recursos\n",
    "- [Documentación oficial de Python: clases](https://docs.python.org/es/3/tutorial/classes.html)\n",
    "- [POO en Python - W3Schools](https://www.w3schools.com/python/python_classes.asp)\n",
    "- [Visualizador de objetos Python Tutor](https://pythontutor.com/)"
   ]
  }
 ],
 "metadata": {
  "kernelspec": {
   "display_name": "Python 3",
   "language": "python",
   "name": "python3"
  },
  "language_info": {
   "codemirror_mode": {
    "name": "ipython",
    "version": 3
   },
   "file_extension": ".py",
   "mimetype": "text/x-python",
   "name": "python",
   "nbconvert_exporter": "python",
   "pygments_lexer": "ipython3",
   "version": "3.13.7"
  }
 },
 "nbformat": 4,
 "nbformat_minor": 2
}
