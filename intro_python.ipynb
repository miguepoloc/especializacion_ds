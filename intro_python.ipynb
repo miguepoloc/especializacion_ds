{
 "cells": [
  {
   "cell_type": "markdown",
   "id": "9104c4ed",
   "metadata": {},
   "source": [
    "# Clase 1: Introducción a Python\n",
    "\n",
    "Bienvenido/a a la primera clase de la Especialización en Desarrollo de Software.\n",
    "\n",
    "## Objetivos de la clase\n",
    "- Comprender la sintaxis básica de Python.\n",
    "- Identificar y utilizar los tipos de datos fundamentales.\n",
    "- Aplicar estructuras de control y funciones.\n",
    "- Introducir el concepto de clases y objetos.\n",
    "\n",
    "Al finalizar, podrás escribir scripts sencillos y sentarás las bases para Programación Orientada a Objetos (POO), principios SOLID y patrones de diseño."
   ]
  },
  {
   "cell_type": "markdown",
   "id": "5be57ff1",
   "metadata": {},
   "source": [
    "## 1. Variables y Tipos de Datos\n",
    "\n",
    "En Python no es necesario declarar el tipo de variable, pero se puede usar tipado opcional.\n",
    "\n",
    "**Ejemplo de la vida real:** Piensa en una variable como una caja donde puedes guardar información, como la edad de una persona o el precio de un producto."
   ]
  },
  {
   "cell_type": "code",
   "execution_count": 1,
   "id": "c1655ff9",
   "metadata": {},
   "outputs": [
    {
     "name": "stdout",
     "output_type": "stream",
     "text": [
      "<class 'int'> <class 'str'> <class 'float'> <class 'bool'> <class 'list'> <class 'dict'>\n"
     ]
    }
   ],
   "source": [
    "# Variables y tipos básicos\n",
    "edad = 30\n",
    "nombre = 'Ana'\n",
    "precio = 19.99\n",
    "es_estudiante = True\n",
    "lista = [1, 2, 3]\n",
    "diccionario = {'clave': 'valor'}\n",
    "print(type(edad), type(nombre), type(precio), type(es_estudiante), type(lista), type(diccionario))"
   ]
  },
  {
   "cell_type": "code",
   "execution_count": 3,
   "id": "13e42a07",
   "metadata": {},
   "outputs": [
    {
     "name": "stdout",
     "output_type": "stream",
     "text": [
      "<class 'int'>\n"
     ]
    }
   ],
   "source": [
    "print(type(edad))"
   ]
  },
  {
   "cell_type": "markdown",
   "id": "cd250514",
   "metadata": {},
   "source": [
    "### Ejercicio práctico\n",
    "- Crea una variable llamada `ciudad` y asígnale el nombre de tu ciudad.\n",
    "- Crea una lista con los nombres de tres amigos.\n",
    "\n",
    "### Pregunta de reflexión\n",
    "- ¿Por qué crees que Python permite cambiar el tipo de una variable en cualquier momento?"
   ]
  },
  {
   "cell_type": "code",
   "execution_count": 17,
   "id": "f2dc1149",
   "metadata": {},
   "outputs": [],
   "source": [
    "ciudad='Santa Marta'\n",
    "amigos=['Adrian','Julian','Gabriela']"
   ]
  },
  {
   "cell_type": "code",
   "execution_count": 24,
   "id": "4261ad86",
   "metadata": {},
   "outputs": [
    {
     "name": "stdout",
     "output_type": "stream",
     "text": [
      "Santa Marta\n",
      "<class 'str'>\n",
      "['Adrian', 'Julian', 'Gabriela']\n",
      "<class 'list'>\n"
     ]
    }
   ],
   "source": [
    "print(ciudad);\n",
    "print(type(ciudad));\n",
    "print(amigos);\n",
    "print(type(amigos));"
   ]
  },
  {
   "cell_type": "markdown",
   "id": "4b125567",
   "metadata": {},
   "source": []
  },
  {
   "cell_type": "markdown",
   "id": "bfa4cd89",
   "metadata": {},
   "source": [
    "### Tipado opcional (type hints)\n",
    "\n",
    "Puedes indicar el tipo de variable para mayor claridad y ayuda de herramientas."
   ]
  },
  {
   "cell_type": "markdown",
   "id": "0a32385e",
   "metadata": {},
   "source": [
    "## Referencias y recursos\n",
    "- [Documentación oficial de Python](https://docs.python.org/es/3/)\n",
    "- [W3Schools Python](https://www.w3schools.com/python/)\n",
    "- [Python Tutor (visualizador de código)](https://pythontutor.com/)"
   ]
  },
  {
   "cell_type": "markdown",
   "id": "4f2fc3e2",
   "metadata": {},
   "source": [
    "## Autoevaluación\n",
    "Responde en una celda de texto:\n",
    "- ¿Qué tipo de dato usarías para almacenar la edad de una persona? ¿Y para una lista de calificaciones?\n",
    "- Escribe un ejemplo de variable con tipado opcional."
   ]
  },
  {
   "cell_type": "code",
   "execution_count": 26,
   "id": "d1ba34cf",
   "metadata": {},
   "outputs": [],
   "source": [
    "edad: int = 15\n",
    "nombre: str = 'Ana'"
   ]
  },
  {
   "cell_type": "code",
   "execution_count": 5,
   "id": "290b7bf7",
   "metadata": {},
   "outputs": [
    {
     "data": {
      "text/plain": [
       "'Ana'"
      ]
     },
     "execution_count": 5,
     "metadata": {},
     "output_type": "execute_result"
    }
   ],
   "source": [
    "nombre"
   ]
  },
  {
   "cell_type": "markdown",
   "id": "fbf77826",
   "metadata": {},
   "source": [
    "## 2. Operadores y Expresiones"
   ]
  },
  {
   "cell_type": "code",
   "execution_count": 3,
   "id": "94ecbcc1",
   "metadata": {},
   "outputs": [
    {
     "name": "stdout",
     "output_type": "stream",
     "text": [
      "Suma: 15\n",
      "Comparación: True\n",
      "Lógico: True\n"
     ]
    }
   ],
   "source": [
    "a = 10\n",
    "b = 5\n",
    "print('Suma:', a + b)\n",
    "print('Comparación:', a > b)\n",
    "print('Lógico:', (a > 0) and (b < 10))"
   ]
  },
  {
   "cell_type": "markdown",
   "id": "71d45771",
   "metadata": {},
   "source": [
    "## 3. Estructuras de Control\n",
    "### Condicionales"
   ]
  },
  {
   "cell_type": "code",
   "execution_count": 27,
   "id": "4a398c60",
   "metadata": {},
   "outputs": [
    {
     "name": "stdout",
     "output_type": "stream",
     "text": [
      "Menor de edad\n"
     ]
    }
   ],
   "source": [
    "if edad >= 18:\n",
    "    print('Mayor de edad')\n",
    "else:\n",
    "    print('Menor de edad')"
   ]
  },
  {
   "cell_type": "markdown",
   "id": "97ea126a",
   "metadata": {},
   "source": [
    "### Bucles: for y while"
   ]
  },
  {
   "cell_type": "code",
   "execution_count": 28,
   "id": "5a337852",
   "metadata": {},
   "outputs": [
    {
     "name": "stdout",
     "output_type": "stream",
     "text": [
      "0\n",
      "1\n",
      "2\n",
      "3\n",
      "4\n",
      "Contador: 0\n",
      "Contador: 1\n",
      "Contador: 2\n",
      "Contador: 3\n"
     ]
    }
   ],
   "source": [
    "for i in range(5):\n",
    "    print(i)\n",
    "\n",
    "contador = 0\n",
    "while contador < 4:\n",
    "    print('Contador:', contador)\n",
    "    contador += 1"
   ]
  },
  {
   "cell_type": "markdown",
   "id": "1ae71218",
   "metadata": {},
   "source": [
    "## 4. Funciones"
   ]
  },
  {
   "cell_type": "code",
   "execution_count": 6,
   "id": "5ad4d654",
   "metadata": {},
   "outputs": [
    {
     "name": "stdout",
     "output_type": "stream",
     "text": [
      "Hola, Ana\n",
      "Suma: 7\n"
     ]
    }
   ],
   "source": [
    "def saludar(nombre: str) -> None:\n",
    "    print(f'Hola, {nombre}')\n",
    "\n",
    "saludar('Ana')\n",
    "\n",
    "def sumar(a: int, b: int) -> int:\n",
    "    return a + b\n",
    "\n",
    "print('Suma:', sumar(3, 4))"
   ]
  },
  {
   "cell_type": "markdown",
   "id": "4fddb99b",
   "metadata": {},
   "source": [
    "## 5. Clases y Objetos"
   ]
  },
  {
   "cell_type": "code",
   "execution_count": 32,
   "id": "1c83431b",
   "metadata": {},
   "outputs": [
    {
     "name": "stdout",
     "output_type": "stream",
     "text": [
      "Hola, soy Ana y tengo 30 años.\n"
     ]
    }
   ],
   "source": [
    "class Persona:\n",
    "    def __init__(self, nombre: str, edad: int):\n",
    "        self.nombre = nombre\n",
    "        self.edad = edad\n",
    "    def saludar(self):\n",
    "        print(f'Hola, soy {self.nombre} y tengo {self.edad} años.')\n",
    "\n",
    "persona1 = Persona('Ana', 30)\n",
    "persona1.saludar()"
   ]
  },
  {
   "cell_type": "markdown",
   "id": "9c430060",
   "metadata": {},
   "source": [
    "## 6. Ejercicios Prácticos\n",
    "\n",
    "1. Crear variables de diferentes tipos y mostrar sus valores.\n",
    "2. Escribir una función que reciba dos números y devuelva el mayor.\n",
    "3. Crear una clase `Coche` con atributos `marca`, `modelo` y un método `acelerar`.\n",
    "4. Hacer un pequeño programa que use condicionales y bucles."
   ]
  },
  {
   "cell_type": "code",
   "execution_count": 8,
   "id": "4c5d5018",
   "metadata": {},
   "outputs": [
    {
     "name": "stdout",
     "output_type": "stream",
     "text": [
      "5 texto [1, 2, 3]\n",
      "Mayor: 20\n",
      "El Toyota Corolla está acelerando.\n",
      "1 es impar\n",
      "2 es par\n",
      "3 es impar\n",
      "4 es par\n",
      "5 es impar\n"
     ]
    }
   ],
   "source": [
    "# 1. Variables\n",
    "x = 5\n",
    "y = 'texto'\n",
    "z = [1, 2, 3]\n",
    "print(x, y, z)\n",
    "\n",
    "# 2. Función mayor\n",
    "def mayor(a: int, b: int) -> int:\n",
    "    return a if a > b else b\n",
    "print('Mayor:', mayor(10, 20))\n",
    "\n",
    "# 3. Clase Coche\n",
    "class Coche:\n",
    "    def __init__(self, marca: str, modelo: str):\n",
    "        self.marca = marca\n",
    "        self.modelo = modelo\n",
    "    def acelerar(self):\n",
    "        print(f'El {self.marca} {self.modelo} está acelerando.')\n",
    "\n",
    "mi_coche = Coche('Toyota', 'Corolla')\n",
    "mi_coche.acelerar()\n",
    "\n",
    "# 4. Programa con condicionales y bucles\n",
    "for i in range(1, 6):\n",
    "    if i % 2 == 0:\n",
    "        print(f'{i} es par')\n",
    "    else:\n",
    "        print(f'{i} es impar')"
   ]
  }
 ],
 "metadata": {
  "kernelspec": {
   "display_name": "Python 3",
   "language": "python",
   "name": "python3"
  },
  "language_info": {
   "codemirror_mode": {
    "name": "ipython",
    "version": 3
   },
   "file_extension": ".py",
   "mimetype": "text/x-python",
   "name": "python",
   "nbconvert_exporter": "python",
   "pygments_lexer": "ipython3",
   "version": "3.13.7"
  }
 },
 "nbformat": 4,
 "nbformat_minor": 5
}
